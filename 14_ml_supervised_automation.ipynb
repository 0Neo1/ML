{
 "cells": [
  {
   "cell_type": "code",
   "execution_count": null,
   "metadata": {
    "colab": {
     "base_uri": "https://localhost:8080/"
    },
    "executionInfo": {
     "elapsed": 7,
     "status": "ok",
     "timestamp": 1679392930181,
     "user": {
      "displayName": "Clash Clans",
      "userId": "00562530571182710236"
     },
     "user_tz": -330
    },
    "id": "GtyUExv_VXoL",
    "outputId": "cd52e22a-607f-4aa7-debc-e638f8cef8be"
   },
   "outputs": [
    {
     "name": "stdout",
     "output_type": "stream",
     "text": [
      "Writing automatedMLRegressor.py\n"
     ]
    }
   ],
   "source": [
    "%%file automatedMLRegressor.py\n",
    "import inspect                                                                  # load inspect module\n",
    "import warnings                                                                 # load warning module\n",
    "import numpy as np                                                              # load numerical python\n",
    "import pandas as pd                                                             # load pandas\n",
    "from sklearn.preprocessing import Normalizer,normalize,StandardScaler,MinMaxScaler# load all preprocessing modules\n",
    "from sklearn.linear_model import LinearRegression                               #  linear model - Linear Regression (for regression)\n",
    "from sklearn.linear_model import LogisticRegression                             #  linear model - Logistic Regression (for classification)\n",
    "from sklearn.tree import DecisionTreeRegressor                                  # Decision Tree Regression (for regression)\n",
    "from sklearn.tree import DecisionTreeClassifier                                 # Decision Tree Classifier (for classification)\n",
    "from sklearn.neighbors import KNeighborsRegressor                               # k-Nearest Neighbors Regressor (for regression)\n",
    "from sklearn.neighbors import KNeighborsClassifier                              # k-Nearest Neighbors Classifier (for classification)\n",
    "from sklearn.svm import SVR                                                     # Support Vector Machines - Regressor (for regression)\n",
    "from sklearn.svm import SVC                                                     # Support Vector Machines - Classifier (for classification)\n",
    "from sklearn.naive_bayes import GaussianNB                                      # Gaussian Naive Bayes - Classifier (for classification)\n",
    "\n",
    "\n",
    "class CustomNormalizer(Normalizer):                                             # make normalizer custom class\n",
    "\n",
    "  ''' norm ('l1','l2' or 'max'): default='l2'. The norm to use to normalize each non\n",
    "          zero sample (or each non-zero feature if axis is 0).\n",
    "        axis (0 or 1), default=1. Define axis used to normalize the data along. If 1,\n",
    "          independently normalize each sample, otherwise (if 0) normalize each feature.\n",
    "        copybool, default=True. Set to False to perform inplace row normalization and\n",
    "          avoid a copy (if the input is already a numpy array or a scipy.sparse CSR\n",
    "          matrix and if axis is 1).\n",
    "  '''\n",
    "\n",
    "  def __init__(self,norm:str='l2',axis:int=1,copy:bool=True)->Normalizer:       # make constructor (CustomNormalizer)\n",
    "\n",
    "    ''' norm ('l1','l2' or 'max'): default='l2'. The norm to use to normalize each non\n",
    "          zero sample (or each non-zero feature if axis is 0).\n",
    "        axis (0 or 1), default=1. Define axis used to normalize the data along. If 1,\n",
    "          independently normalize each sample, otherwise (if 0) normalize each feature.\n",
    "        copybool, default=True. Set to False to perform inplace row normalization and\n",
    "          avoid a copy (if the input is already a numpy array or a scipy.sparse CSR\n",
    "          matrix and if axis is 1).\n",
    "    '''\n",
    "\n",
    "    super().__init__(norm=norm,copy=copy)                                       # call parent constructor\n",
    "    self.norm=norm                                                              # normalize type - 'l1', 'l2' or 'max'\n",
    "    self.axis=axis                                                              # axis, 0 - feature-wise and 1 - sample wise\n",
    "    self.copy=copy                                                              # copy - make copy of data or not\n",
    "\n",
    "\n",
    "  def fit(self,X,y=None)->None:                                                 # define fit method\n",
    "\n",
    "    ''' Only validates estimator’s parameters. This method allows to:\n",
    "          (i) validate the estimator’s parameters and\n",
    "          (ii) be consistent with the scikit-learn transformer API.\n",
    "    '''\n",
    "\n",
    "    warnings.warn('Only work feature wise!')                                    # make warn\n",
    "    return super().fit(X,y)                                                     # call parent fit method\n",
    "\n",
    "\n",
    "  def transform(self,X,copy=None)->np.array:                                    # define transform\n",
    "\n",
    "    ''' Scale each non zero row of X to unit norm. '''\n",
    "\n",
    "    warnings.warn('Only work feature wise!')                                    # make warn\n",
    "    return super().transform(X,copy)                                            # call parent transform method\n",
    "\n",
    "\n",
    "  def fit_transform(self,X,y=None,return_norm:bool=False)->np.array:            # define fit transform\n",
    "\n",
    "      ''' Fit to data, then transform it. Fits transformer to X and y with optional\n",
    "          parameters fit_params and returns a transformed version of X.\n",
    "      '''\n",
    "\n",
    "      return normalize(X,norm=self.norm,axis=self.axis,copy=self.copy,return_norm=return_norm)# define axis wise normalization\n",
    "\n",
    "\n",
    "class AutoMLRegressor(object):                                                  # make auto ML class for Regression\n",
    "\n",
    "  ''' Dictionary of regression algorithm as key (string) and value as None.\n",
    "      Available algorithm are -\n",
    "        LinearRegression\n",
    "        DecisionTreeRegressor\n",
    "        KNeighborsRegressor\n",
    "        SupportVectorMachineRegressor\n",
    "      Auto ML class for regression\n",
    "  '''\n",
    "\n",
    "  def __init__(self,**kwargs)->object:                                          # define constructor\n",
    "\n",
    "    ''' Dictionary of regression algorithm as key (string) and value as None.\n",
    "        Available algorithm are -\n",
    "          LinearRegression\n",
    "          DecisionTreeRegressor\n",
    "          KNeighborsRegressor\n",
    "          SupportVectorMachineRegressor\n",
    "        Auto ML class for regression\n",
    "    '''\n",
    "\n",
    "    self.algos=dict()                                                           # setup algorithm dictionary\n",
    "    self.preprocessors={StandardScaler:dict(kwargs=[dict(copy=True,with_mean=True,with_std=True)]),# set preprocessors methods\n",
    "                        MinMaxScaler:dict(kwargs=[dict(feature_range=(0,1),copy=True,clip=False,)]),\n",
    "                        CustomNormalizer:dict(kwargs=[dict(norm='l2',axis=1,copy=True),dict(norm='l2',axis=0,copy=True),\n",
    "                                                      dict(norm='l1',axis=1,copy=True),dict(norm='l1',axis=0,copy=True),\n",
    "                                                      dict(norm='max',axis=1,copy=True),dict(norm='max',axis=0,copy=True)])}\n",
    "\n",
    "    for key in kwargs:                                                          # check for each parameter (keyword argument given)\n",
    "      if isinstance(key,str) and len(key)>=4:                                   # input must be string of length 4 or more\n",
    "        if (key.casefold() in 'Regressor'.casefold()):                          # if input is \"regressor\", i.e. all regression methods\n",
    "          self.algos[LinearRegression()]=dict(hyperparameter=dict(fit_intercept=[True,False]))# setup for linear regression\n",
    "          self.algos[DecisionTreeRegressor()]=dict(hyperparameter=dict(         # setup for decision tree regressor\n",
    "              criterion=['squared_error','friedman_mse','absolute_error','poisson'],\n",
    "              splitter=['best','random'],max_depth=[None,5,7,10,15,30],))\n",
    "          self.algos[KNeighborsRegressor()]=dict(hyperparameter=dict(n_neighbors=list(range(2,15)),# setup for K-neighbors regressor\n",
    "              weights=['uniform','distance'],algorithm=['auto','ball_tree','kd_tree','brute'],leaf_size=[7,15,30,60],p=[1,2],))\n",
    "          self.algos[SVR()]=dict(hyperparameter=dict(kernel=['linear','poly','rbf','sigmoid']))# setup for support vector machines - regressor\n",
    "        elif (key.casefold() in 'LinearRegression'.casefold()) or (key.casefold() in 'Linear'.casefold()):# if input is \"linear regression\"\n",
    "          self.algos[LinearRegression()]=dict(hyperparameter=dict(fit_intercept=[True,False]))# setup for linear regression\n",
    "        elif key.casefold() in 'DecisionTreeRegressor'.casefold():              # if input is \"decision tree regressor\"\n",
    "          self.algos[DecisionTreeRegressor()]=dict(hyperparameter=dict(         # setup for decision tree regressor\n",
    "               criterion=['squared_error','friedman_mse','absolute_error','poisson'],\n",
    "                splitter=['best','random'],max_depth=[None,5,7,10,15,30],))\n",
    "        elif key.casefold() in 'KNeighborsRegressor'.casefold():                # if input is \"K-Neighbors Regressor\"\n",
    "          self.algos[KNeighborsRegressor()]=dict(hyperparameter=dict(           # setup for \"K-Neighbors Regressor\"\n",
    "              n_neighbors=list(range(2,15)),weights=['uniform','distance'],\n",
    "              algorithm=['auto','ball_tree','kd_tree','brute'],leaf_size=[7,15,30,60],p=[1,2],))\n",
    "        elif (key.casefold() in 'SupportVectorMachineRegressor'.casefold()) or (key.casefold() in 'SupportVectorMachine'.casefold()) \\\n",
    "          or (key.casefold() in 'SupportVectorRegressor'.casefold()):           # if input is \"Support Vector Regressor\"\n",
    "          self.algos[SVR()]=dict(hyperparameter=dict(kernel=['linear','poly','rbf','sigmoid'],))# setup for \"Support Vector Regressor\"\n",
    "        else:                                                                   # if input is invalid, warn user\n",
    "          warnings.warn(f'NotImplemented: Method not implemented warning! Given method - {key} not implimented or invalid.',category=UserWarning)\n",
    "      else: raise ValueError(f'Invalid key - {key}. Given arguments must be string of length four or more.')# if key is invalid, warn user\n",
    "\n",
    "\n",
    "  def __repr__(self)->str:                                                      # object value\n",
    "\n",
    "    ''' Return the canonical string representation of the object '''\n",
    "\n",
    "    return '< Automated Machine Learning Regressor >'\n",
    "\n",
    "\n",
    "  def __str__(self)->str:                                                       # return string\n",
    "\n",
    "    ''' Return the canonical string representation of the object '''\n",
    "\n",
    "    return self.__repr__()\n",
    "\n",
    "\n",
    "  def get_params(self)->dict:                                                   # method to get class parameters\n",
    "\n",
    "    ''' Method to get class parameters as dictionary. '''\n",
    "\n",
    "    return self.__dict__                                                        # return dictionary of parameters\n",
    "\n",
    "\n",
    "  def set_params(self,**kwargs)->None:                                          # method to set class parameters\n",
    "\n",
    "    ''' Method to get class parameters from dictionary.\n",
    "        kwargs (dict) : dictionary of parameters.\n",
    "    '''\n",
    "\n",
    "    for key,value in kwargs.items(): setattr(self,key,value)                    # set attribute form dictionary\n",
    "\n",
    "\n",
    "  def get_info(self,algorithm:str,level:str='__doc__')->None:                   # method to get info on given algorithm\n",
    "\n",
    "    ''' Method to get info on given algorithm by its name.\n",
    "          algorithm (string): name of algorithm.\n",
    "            LinearRegression\n",
    "            DecisionTreeRegressor\n",
    "            KNeighborsRegressor\n",
    "            SupportVectorMachineRegressor\n",
    "            StandardScaler\n",
    "            MinMaxScaler\n",
    "            Normalizer\n",
    "          level (string): '__doc__' or 'all', default 'all'. '__doc__' if want only doc\n",
    "            string, 'all' if want all full info\n",
    "    '''\n",
    "\n",
    "    all_algos={'LinearRegression'.casefold():LinearRegression,'DecisionTreeRegressor'.casefold():DecisionTreeRegressor,# all algorithms\n",
    "               'KNeighborsRegressor'.casefold():KNeighborsRegressor,'SupportVectorMachineRegressor'.casefold():SVR,\n",
    "               'StandardScaler'.casefold():StandardScaler,'MinMaxScaler'.casefold():Normalizer}\n",
    "    if not (isinstance(level,str) or level.casefold()=='__doc__'.casefold() or level.casefold()=='all'.casefold()):# check level argument\n",
    "      raise ValueError(f'`level` must be one of \"__doc__\" or \"all\". But got level -> {level}.')# raise value error\n",
    "    if isinstance(algorithm,str) and algorithm.casefold() in all_algos:         # check algorithm is present or not\n",
    "      if level.casefold()=='__doc__': print(all_algos[algorithm.casefold()].__dict__['__doc__'])# if only docs string have to be printed\n",
    "      else:                                                                     # print all info\n",
    "        for key,value in all_algos[algorithm.casefold()].__dict__.items():      # get each key and value in doc\n",
    "          print(key,':\\n\\t',value)\n",
    "    else:                                                                       # raise value error if algorithm not found\n",
    "      warnings.warn(f'Invalid algorithm -> {algorithm}. It must be one of - \\n\\tLinearRegression\\n\\tDecisionTreeRegressor\\n\\tKNeighborsRegressor'\\\n",
    "                    '\\n\\tSupportVectorMachineRegressor\\n\\tSupportVectorMachineRegressor\\n\\tSupportVectorMachineRegressor\\n\\t'\\\n",
    "                    'SupportVectorMachineRegressor\\n\\tSupportVectorMachineRegressor\\n\\tStandardScaler\\n\\tMinMaxScaler\\n\\tNormalizer')\n",
    "\n",
    "\n",
    "  def set_hyperparmeter(self,algorithm,hyperparameters:dict,update:bool=True)->None:# method to set regression algorithm hyperparameters\n",
    "\n",
    "    ''' Method to set regression algorithm hyperparameters.\n",
    "        algorithm (class | string) : algorithm name (string) or class.\n",
    "        hyperparameters (dict) : dictionary of hyper-parameters of that class\n",
    "        update (bool): True | False, default True. To update hyperparameters\n",
    "          dictionary or change.\n",
    "    '''\n",
    "\n",
    "    if not (isinstance(algorithm,str) or inspect.isclass(algorithm)):           # if algorithm is (name as) string or not class\n",
    "      raise ValueError(f'Invalid value of algorithm! algorithm must be instance of string or scikit-learn regression class, but got -> {type(algorithm)}')\n",
    "    if not isinstance(hyperparameters,dict):                                    # if hyperparameters is not dictionary\n",
    "      raise ValueError(f'Invalid value of hyperparameters! hyperparameters must be instance of dictionary, but got -> {type(hyperparameters)}')\n",
    "    if not isinstance(update,bool):                                             # if update is not bool type\n",
    "      raise ValueError(f'Invalid value of update! hyperparameters must be instance of bool, but got -> {type(update)}')\n",
    "    for preprocessor in self.preprocessors:                                     # take a preprocessors\n",
    "      if algorithm==str(algo) or (inspect.isclass(algorithm) and isinstance(algo,algorithm)):# if algorithm is that which has to update or change\n",
    "        if update: self.algos[algo]['hyperparameter'].update(hyperparameters)   # update hyperparameters (if stated)\n",
    "        else: self.algos[algo]['hyperparameter']=hyperparameters                # change hyperparameters (if stated)\n",
    "        break                                                                   # make loop break\n",
    "    else:                                                                       # raise error if algorithm name is invalid\n",
    "      raise ValueError(f'In value algorithim give. Got -> {algorithm} but it must be one of {self.algos.keys()}, string or class.')\n",
    "\n",
    "\n",
    "  def set_preprocessing_kwargs(self,preprocessing,kwargs,append:bool=True)->None:# method to update / change kwargs\n",
    "\n",
    "    ''' Method to update / change kwargs -\n",
    "         preprocessing : preprocessing class name (string) or class\n",
    "         kwargs : list of dictionary (kwargs) for preprocessing or dictionary of kwargs.\n",
    "          dictionary of kwargs if append is True, else list of dictionary (kwargs) for\n",
    "          preprocessing.\n",
    "         append (bool): True | False. Default True.\n",
    "    '''\n",
    "\n",
    "    if not (isinstance(preprocessing,str) or inspect.isclass(preprocessing)):   # if preprocessing is (name as) string or not class\n",
    "      raise ValueError(f'Invalid value of preprocessing! preprocessing must be instance of string or sklear.prepocessing class, but got -> {type(preprocessing)}')\n",
    "    if not isinstance(append,bool):                                             # if append is not bool type\n",
    "      raise ValueError(f'Invalid value of append! hyperparameters must be instance of bool, but got -> {type(append)}')\n",
    "    if (append==True) and (not isinstance(kwargs,dict)):                        # if kwargs is not dictionary, when append true\n",
    "      raise ValueError(f'Invalid value of kwargs! kwargs must be instance of dictionary, but got -> {type(kwargs)}, when append=True.')\n",
    "    elif (append==False) and (not isinstance(kwargs,list)):                     # if kwargs is not list, when append false\n",
    "      raise ValueError(f'Invalid value of kwargs! kwargs must be list of dictionary, but got -> {type(kwargs)}, when append=False.')\n",
    "\n",
    "    for preprocessor in self.preprocessors:                                     # take a algorithm\n",
    "      if preprocessing==str(preprocessor) or (inspect.isclass(preprocessing) and isinstance(preprocessor,preprocessing)):# if preprocessor is that which has to update or change\n",
    "        if append: self.preprocessors[preprocessor]['hyperparameter'].append(kwargs)# apppend hyperparameters (if stated)\n",
    "        else: self.preprocessors[preprocessor]['hyperparameter']=kwargs         # change hyperparameters (if stated)\n",
    "        break                                                                   # make loop break\n",
    "    else:                                                                       # raise error if algorithm name is invalid\n",
    "      raise ValueError(f'In value algorithim give. Got -> {preprocessing} but it must be one of {self.preprocessors.keys()}, string or class.')\n",
    "\n",
    "\n",
    "  def fit(self,X,y,gridSearchCV_parms:dict=dict(scoring=None,cv=None))->dict:   # define fit method\n",
    "\n",
    "    ''' Exhaustive search over specified parameter values for an estimator. The parameters\n",
    "        of the estimator used to apply these methods are optimized by cross-validated\n",
    "        grid-search over a parameter grid. Run fit with all sets of parameters.\n",
    "        X (pandas.DataFrame | numpy.ndarray) : X (inputs), must be 2-dimensional.\n",
    "        y (numpy.ndarray) : y (outputs).\n",
    "        gridSearchCV_parms (dict) : GridSearchCV parameters. Default dict(scoring = None,\n",
    "          cv = None).\n",
    "    '''\n",
    "\n",
    "    if not (isinstance(X,pd.core.frame.DataFrame) or isinstance(X,np.ndarray)): # check `X` must be numpy.ndarray or pandas.DataFrame object\n",
    "      raise ValueError(f'`X` must be instance of numpy.ndarray or pandas.DataFrame, but given `{type(X)}`')\n",
    "    elif not (X.ndim==2):                                                       # check for dimensionality of `X`, must be 2\n",
    "      raise ValueError(f'`X` must be 2-dimensional, but got -> `{X.ndim}`. Try to reshape it using X.reshape(-1,1) or X.reshape(1,-1).')\n",
    "    if not (isinstance(y,pd.core.frame.DataFrame) or isinstance(y,np.ndarray) or isinstance(y,pd.core.frame.Series)):# check `y` must be numpy.ndarray or pandas.DataFrame object\n",
    "      raise ValueError(f'`y` must be instance of numpy.ndarray or pandas.Series, but given `{type(y)}`')\n",
    "    elif not (y.ndim==1 or y.ndim==2):                                          # check for dimensionality of `y`, must be 2 or 1\n",
    "      raise ValueError(f'`y` must be 2-dimensional or 1-dimensional, but got -> `{y.ndim}`. Try to reshape it using reshape method.')\n",
    "\n",
    "    for algo,algo_data in self.algos.items():                                   # get algorithm one by one, from dictionary and its result\n",
    "      algo_data['results'],algo_data['best_score'],algo_data['best_estimator'],algo_data['preprocessor'],algo_data['preprocessor_kwarg']=list(),list(),list(),list(),list()\n",
    "      for preprocessor,kwargs_dict in self.preprocessors.items():               # get preprocessors (class) and its list of arguments (dictionary)\n",
    "        for kwarg in kwargs_dict['kwargs']:                                     # get argument (dictionary) for list of arguments\n",
    "          model=GridSearchCV(algo,algo_data['hyperparameter'],**gridSearchCV_parms)# make \"GridSearchCV\" model with given hyperparameter (model)\n",
    "          model.fit(preprocessor(**kwarg).fit_transform(X),y)                   # make model train with given preprocessing\n",
    "          algo_data['results'].append(model.cv_results_)                        # store cv results\n",
    "          algo_data['best_score'].append(model.best_score_)                     # store best score\n",
    "          algo_data['best_estimator'].append(model.best_estimator_)             # store best estimator\n",
    "          algo_data['preprocessor'].append(preprocessor.__name__)               # store preprocessing name\n",
    "          algo_data['preprocessor_kwarg'].append(kwarg)                         # store preprocessing hyperparameters\n",
    "\n",
    "    return self.algos                                                           # make return all"
   ]
  },
  {
   "cell_type": "code",
   "execution_count": null,
   "metadata": {
    "id": "eB_pt5ZFSGKO"
   },
   "outputs": [],
   "source": [
    "from automatedMLRegressor import AutoMLRegressor\n",
    "autoRegressor=AutoMLRegressor(linear=None)\n"
   ]
  },
  {
   "cell_type": "markdown",
   "metadata": {
    "id": "Jyd91MiP0zhp"
   },
   "source": [
    "# Questions (Problem Set 1) ----"
   ]
  },
  {
   "cell_type": "markdown",
   "metadata": {
    "id": "pgYmpRtd5BJy"
   },
   "source": [
    "Q.1. Write a python code to read below created file (integers.txt), and find the mean of all numbers in file **without using (import) any module**.\n",
    "\n",
    "```python\n",
    "%%file integers.txt\n",
    "[5, 6, 8, 7, 8, 9, 2, 3,\n",
    " 1, 9, 2, 7, 3, 2, 4, 6, 2]\n",
    "```\n",
    "\n",
    "Q.2. Write a python code to find / replica standard deviation for a given numpy array **(without using numpy.std)**.\n",
    "\n",
    "Q.3. Write a python code to randomly generate numpy array of 3 rows and 4 columns from standard normal probability distribution. Find the difference between its mean and mean of the transpose of generated array.\n",
    "\n",
    "Q.4. Write a python function to return mean of all odd and even number for a given array of integers as tuple **(the faster the code is, more it is appreciated)**.  \n",
    "\n",
    "\n"
   ]
  },
  {
   "cell_type": "code",
   "execution_count": null,
   "metadata": {
    "id": "KfW8FniH-o8Q"
   },
   "outputs": [],
   "source": [
    "# Timer ------------------------------------------------------------------------\n",
    "from time import time,sleep\n",
    "for second in range(60*60,0,-1): print('\\r',end='');print(f'Minutes left:{round(second/60,2)} or Seconds left:{second}',end='');sleep(1)"
   ]
  },
  {
   "cell_type": "code",
   "execution_count": null,
   "metadata": {
    "id": "YsHbL9S5SoM0"
   },
   "outputs": [],
   "source": [
    "# Question 1\n",
    "with open('integers.txt',mode='r') as file_object:\n",
    "  numbers=[float(value) for value in file_object.read().replace('[','').replace(']','').replace('\\n','').split(',')]\n",
    "print('Mean:',sum(numbers)/len(numbers))"
   ]
  },
  {
   "cell_type": "code",
   "execution_count": null,
   "metadata": {
    "id": "BJ_qDN5MT6Gq"
   },
   "outputs": [],
   "source": [
    "# Question 2\n",
    "import numpy as np\n",
    "def std(array:np.ndarray)->float:\n",
    "  #return np.sqrt(np.sum(np.square(array-array.mean()))/(array.size-1))\n",
    "  return np.sqrt(np.mean(np.square(array-array.mean())))"
   ]
  },
  {
   "cell_type": "code",
   "execution_count": null,
   "metadata": {
    "id": "S0f1rhjnVcFI"
   },
   "outputs": [],
   "source": [
    "# Question 3\n",
    "import numpy as np\n",
    "random_array=np.random.normal(loc=0.0,scale=1.0,size=(3,4))\n",
    "random_array.T.mean()-random_array.mean()"
   ]
  },
  {
   "cell_type": "code",
   "execution_count": null,
   "metadata": {
    "id": "DliAmhKrW_Ip"
   },
   "outputs": [],
   "source": [
    "# Question 4\n",
    "import numpy as np\n",
    "def customMean(array:np.ndarray,round2:int=3)->tuple:\n",
    "  return round(array[array%2==0].mean(),round2),round(array[array%2==1].mean(),round2)"
   ]
  },
  {
   "cell_type": "markdown",
   "metadata": {
    "id": "oVLqCg9-NMfe"
   },
   "source": [
    "# Questions (Problem Set 2) ----"
   ]
  },
  {
   "cell_type": "markdown",
   "metadata": {
    "id": "vA5Sbka5NOWE"
   },
   "source": [
    "Q.1 Write a python code to load to excute following tasks -\n",
    "1. Generate a random numpy array of shape 100 rows and 2 columns from nornal probability distribution of mean 1 and standard deviation 0.5.\n",
    "2. Make a pandas DataFrame from randomly generated array in step 1. Make print the stats (mean, standard deviation, minimum, maximum, median, first quartile and third quartile) of the data (all as one single DataFrame).\n",
    "3. Make plot the box and whisker plot for all columns.\n",
    "4. Are both columns are statistically similar? Give reason in support of your answer.\n",
    "\n",
    "Q.2 Write a python code to load to excute following tasks -\n",
    "1. Generate sorted 100 random number between 0 and 1 (as 1-dimesional numpy array).\n",
    "2. Using the linear equation of line `y = mx + c`, calculate the value of y for slope 32° and interept at 2.3. Add random noise to data of 100 value randomly generated from normal distribution of mean 0 and standard deviation 0.05\n",
    "3. Make a regression model using scikit-learn's linear regression model (sklearn.linear_model.LinearRegression). Find the difference between the actual coefficient (slope) and calculated coefficient (by your linear model). Do same for intercept also.\n",
    "\n",
    "Q.3. Write a python code to load to excute following tasks -\n",
    "\n",
    "1. Using scikit-learn's toy datasets load breast cancer dataset. Make explain the stats and features importance (as best as you can).\n",
    "2. Make a machine learning model (from sklearn.linear_model), as best you can. Evaluate the model on 33% test size on sklearn.metrics (error or accuracy) (Hint: One can use any preprocessing method if need, to achieve best results).\n",
    "\n",
    "For your help data info is given below -\n",
    "\n",
    "```\n",
    "Load and return the breast cancer wisconsin dataset (classification).\n",
    "\n",
    "The breast cancer dataset is a classic and very easy binary classification dataset.\n",
    "```\n",
    "![image.png](data:image/png;base64,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)"
   ]
  },
  {
   "cell_type": "code",
   "execution_count": null,
   "metadata": {
    "colab": {
     "base_uri": "https://localhost:8080/"
    },
    "executionInfo": {
     "elapsed": 3605140,
     "status": "ok",
     "timestamp": 1676438415632,
     "user": {
      "displayName": "Clash Clans",
      "userId": "00562530571182710236"
     },
     "user_tz": -330
    },
    "id": "MaSNhvcFNMPL",
    "outputId": "00a411eb-ef1d-4f99-c4be-83cccbb1e0c3"
   },
   "outputs": [
    {
     "name": "stdout",
     "output_type": "stream",
     "text": [
      "Minutes left:0.02 or Seconds left:1"
     ]
    }
   ],
   "source": [
    "# Timer ------------------------------------------------------------------------\n",
    "from time import time,sleep\n",
    "for second in range(60*60,0,-1): print('\\r',end='');print(f'Minutes left:{round(second/60,2)} or Seconds left:{second}',end='');sleep(1)"
   ]
  }
 ],
 "metadata": {
  "colab": {
   "authorship_tag": "ABX9TyMYYvoKR8YUCtaQTpdULVmV",
   "mount_file_id": "1vDhoYECdrY0xwlgUWL0XtdnVspcI9h-n",
   "provenance": []
  },
  "kernelspec": {
   "display_name": "Python 3",
   "name": "python3"
  },
  "language_info": {
   "name": "python"
  }
 },
 "nbformat": 4,
 "nbformat_minor": 0
}
