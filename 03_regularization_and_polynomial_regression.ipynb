{
 "cells": [
  {
   "cell_type": "code",
   "execution_count": 1,
   "metadata": {
    "colab": {
     "base_uri": "https://localhost:8080/"
    },
    "executionInfo": {
     "elapsed": 2055,
     "status": "ok",
     "timestamp": 1670448483092,
     "user": {
      "displayName": "Clash Clans",
      "userId": "00562530571182710236"
     },
     "user_tz": -330
    },
    "id": "4X7_Mh6StoR1",
    "outputId": "ae30718d-04a8-43ab-e33b-603b63063b31"
   },
   "outputs": [
    {
     "name": "stdout",
     "output_type": "stream",
     "text": [
      "Python 3.8.15\n",
      "numpy version: 1.21.6\n",
      "pandas version:  1.3.5\n",
      "seaborn version: 0.11.2\n",
      "pyplot:  <module 'matplotlib.pyplot' from '/usr/local/lib/python3.8/dist-packages/matplotlib/pyplot.py'>\n"
     ]
    }
   ],
   "source": [
    "!python --version   # Python version\n",
    "\n",
    "# About python:  https://www.python.org/\n",
    "#                Python is powerful... and fast; plays well with others; runs everywhere; is friendly & easy to learn; \n",
    "#                is Open –> https://www.python.org/about/.\n",
    "#     Python docs: https://docs.python.org/3/ (all documentation); \n",
    "#                  https://docs.python.org/3.7/ (Recommended version – 3.7). \n",
    "# The Python Tutorial (python3.7): https://docs.python.org/3.7/tutorial/index.html \n",
    "\n",
    "# Load Module ---\n",
    "import numpy as np, pandas as pd, matplotlib.pyplot as plt, seaborn as sns \n",
    "# NumPy : The fundamental package for scientific computing with Python. NumPy is the fundamental package for scientific \n",
    "#         computing in Python. It is a Python library that provides a multidimensional array object, various derived \n",
    "#         objects (such as masked arrays and matrices), and an assortment of routines for fast operations on arrays, \n",
    "#         including mathematical, logical, shape manipulation, sorting, selecting, I/O, discrete Fourier transforms,\n",
    "#         basic linear algebra, basic statistical operations, random simulation and much more.\n",
    "#     About: https://numpy.org/\n",
    "#     Docs: https://numpy.org/doc/stable/\n",
    "#     NumPy quickstart: https://numpy.org/doc/stable/user/quickstart.html\n",
    "\n",
    "# Pandas: pandas is a fast, powerful, flexible and easy to use open source data analysis and manipulation tool, \n",
    "#         built on top of the Python programming language.\n",
    "#     About: https://pandas.pydata.org/ \n",
    "#     Docs: https://pandas.pydata.org/docs/ \n",
    "#     Getting started: https://pandas.pydata.org/docs/getting_started/index.html \n",
    "#     User Guide: https://pandas.pydata.org/docs/user_guide/index.html#user-guide \n",
    "\n",
    "# Seaborn: Seaborn is a Python data visualization library based on matplotlib. It provides a \n",
    "#          high-level interface for drawing attractive and informative statistical graphics.\n",
    "#   About: https://seaborn.pydata.org/\n",
    "\n",
    "print('numpy version:',np.__version__)\n",
    "print('pandas version: ',pd.__version__)\n",
    "print('seaborn version:',sns.__version__)\n",
    "print('pyplot: ',plt)"
   ]
  },
  {
   "cell_type": "markdown",
   "metadata": {
    "id": "TxziFxYFoAbN"
   },
   "source": [
    "# Toy dataset - [Boston House Price Dataset](https://scikit-learn.org/stable/modules/generated/sklearn.datasets.load_boston.html) - using sklearn.datasets.load_boston\n",
    "\n",
    "**DEPRECATED**: load_boston is deprecated in 1.0 and will be removed in 1.2.\n",
    "\n",
    "The Boston housing prices dataset has an ethical problem. You can refer to the documentation of this function for further details. The scikit-learn maintainers therefore strongly discourage the use of this dataset unless the purpose of the code is to study and educate about ethical issues in data science and machine learning.\n",
    "\n",
    "Alternative - **[sklearn.datasets.fetch_california_housing](https://scikit-learn.org/stable/modules/generated/sklearn.datasets.fetch_california_housing.html)**\n",
    "\n",
    "Load the California housing dataset (regression)."
   ]
  },
  {
   "cell_type": "markdown",
   "metadata": {
    "id": "VLkPVuHmpes7"
   },
   "source": [
    "### load dataset - California Housing Dataset"
   ]
  },
  {
   "cell_type": "code",
   "execution_count": 2,
   "metadata": {
    "colab": {
     "base_uri": "https://localhost:8080/"
    },
    "executionInfo": {
     "elapsed": 1968,
     "status": "ok",
     "timestamp": 1670448485055,
     "user": {
      "displayName": "Clash Clans",
      "userId": "00562530571182710236"
     },
     "user_tz": -330
    },
    "id": "KlPeDtox7Ibm",
    "outputId": "bd3a38c3-1b40-493e-b61d-889dd30f376e"
   },
   "outputs": [
    {
     "name": "stdout",
     "output_type": "stream",
     "text": [
      ".. _california_housing_dataset:\n",
      "\n",
      "California Housing dataset\n",
      "--------------------------\n",
      "\n",
      "**Data Set Characteristics:**\n",
      "\n",
      "    :Number of Instances: 20640\n",
      "\n",
      "    :Number of Attributes: 8 numeric, predictive attributes and the target\n",
      "\n",
      "    :Attribute Information:\n",
      "        - MedInc        median income in block group\n",
      "        - HouseAge      median house age in block group\n",
      "        - AveRooms      average number of rooms per household\n",
      "        - AveBedrms     average number of bedrooms per household\n",
      "        - Population    block group population\n",
      "        - AveOccup      average number of household members\n",
      "        - Latitude      block group latitude\n",
      "        - Longitude     block group longitude\n",
      "\n",
      "    :Missing Attribute Values: None\n",
      "\n",
      "This dataset was obtained from the StatLib repository.\n",
      "https://www.dcc.fc.up.pt/~ltorgo/Regression/cal_housing.html\n",
      "\n",
      "The target variable is the median house value for California districts,\n",
      "expressed in hundreds of thousands of dollars ($100,000).\n",
      "\n",
      "This dataset was derived from the 1990 U.S. census, using one row per census\n",
      "block group. A block group is the smallest geographical unit for which the U.S.\n",
      "Census Bureau publishes sample data (a block group typically has a population\n",
      "of 600 to 3,000 people).\n",
      "\n",
      "An household is a group of people residing within a home. Since the average\n",
      "number of rooms and bedrooms in this dataset are provided per household, these\n",
      "columns may take surpinsingly large values for block groups with few households\n",
      "and many empty houses, such as vacation resorts.\n",
      "\n",
      "It can be downloaded/loaded using the\n",
      ":func:`sklearn.datasets.fetch_california_housing` function.\n",
      "\n",
      ".. topic:: References\n",
      "\n",
      "    - Pace, R. Kelley and Ronald Barry, Sparse Spatial Autoregressions,\n",
      "      Statistics and Probability Letters, 33 (1997) 291-297\n",
      "\n"
     ]
    }
   ],
   "source": [
    "# load dataset loader - hiousing dataset \n",
    "from sklearn.datasets import fetch_california_housing\n",
    "\n",
    "# load data \n",
    "housing_dataset=fetch_california_housing()\n",
    "\n",
    "# print data info \n",
    "print(housing_dataset.DESCR)"
   ]
  },
  {
   "cell_type": "code",
   "execution_count": 3,
   "metadata": {
    "colab": {
     "base_uri": "https://localhost:8080/"
    },
    "executionInfo": {
     "elapsed": 22,
     "status": "ok",
     "timestamp": 1670448485056,
     "user": {
      "displayName": "Clash Clans",
      "userId": "00562530571182710236"
     },
     "user_tz": -330
    },
    "id": "MpAaX_4-_oX3",
    "outputId": "65a5939a-df43-499e-9309-70d31d495179"
   },
   "outputs": [
    {
     "name": "stdout",
     "output_type": "stream",
     "text": [
      "Shape of data: (20640, 8)\n",
      "Feature names: ['MedInc', 'HouseAge', 'AveRooms', 'AveBedrms', 'Population', 'AveOccup', 'Latitude', 'Longitude']\n",
      "Target shape: (20640,)\n",
      "Label names: ['MedHouseVal']\n"
     ]
    }
   ],
   "source": [
    "# see shape of the data (inputs / X / independent)\n",
    "print('Shape of data:',housing_dataset.data.shape)\n",
    "# rows / Instances / samples - 150, columns / features / Attributes - 4\n",
    "# columns name \n",
    "print('Feature names:',housing_dataset.feature_names)\n",
    "# see target shape \n",
    "print('Target shape:',housing_dataset.target.shape) \n",
    "# see labels names \n",
    "print('Label names:',housing_dataset.target_names) "
   ]
  },
  {
   "cell_type": "markdown",
   "metadata": {
    "id": "fJzeDM9gpbag"
   },
   "source": [
    "### convert to pandas dataframe "
   ]
  },
  {
   "cell_type": "code",
   "execution_count": 4,
   "metadata": {
    "colab": {
     "base_uri": "https://localhost:8080/",
     "height": 0
    },
    "executionInfo": {
     "elapsed": 21,
     "status": "ok",
     "timestamp": 1670448485057,
     "user": {
      "displayName": "Clash Clans",
      "userId": "00562530571182710236"
     },
     "user_tz": -330
    },
    "id": "lvyQH9Ez_N4L",
    "outputId": "82051b9a-7b6e-478a-df71-c9b8af906a02"
   },
   "outputs": [
    {
     "data": {
      "text/html": [
       "\n",
       "  <div id=\"df-fe79b91a-23aa-4bde-9379-daee719efb16\">\n",
       "    <div class=\"colab-df-container\">\n",
       "      <div>\n",
       "<style scoped>\n",
       "    .dataframe tbody tr th:only-of-type {\n",
       "        vertical-align: middle;\n",
       "    }\n",
       "\n",
       "    .dataframe tbody tr th {\n",
       "        vertical-align: top;\n",
       "    }\n",
       "\n",
       "    .dataframe thead th {\n",
       "        text-align: right;\n",
       "    }\n",
       "</style>\n",
       "<table border=\"1\" class=\"dataframe\">\n",
       "  <thead>\n",
       "    <tr style=\"text-align: right;\">\n",
       "      <th></th>\n",
       "      <th>MedInc</th>\n",
       "      <th>HouseAge</th>\n",
       "      <th>AveRooms</th>\n",
       "      <th>AveBedrms</th>\n",
       "      <th>Population</th>\n",
       "      <th>AveOccup</th>\n",
       "      <th>Latitude</th>\n",
       "      <th>Longitude</th>\n",
       "      <th>targets</th>\n",
       "    </tr>\n",
       "  </thead>\n",
       "  <tbody>\n",
       "    <tr>\n",
       "      <th>0</th>\n",
       "      <td>8.3252</td>\n",
       "      <td>41.0</td>\n",
       "      <td>6.984127</td>\n",
       "      <td>1.023810</td>\n",
       "      <td>322.0</td>\n",
       "      <td>2.555556</td>\n",
       "      <td>37.88</td>\n",
       "      <td>-122.23</td>\n",
       "      <td>4.526</td>\n",
       "    </tr>\n",
       "    <tr>\n",
       "      <th>1</th>\n",
       "      <td>8.3014</td>\n",
       "      <td>21.0</td>\n",
       "      <td>6.238137</td>\n",
       "      <td>0.971880</td>\n",
       "      <td>2401.0</td>\n",
       "      <td>2.109842</td>\n",
       "      <td>37.86</td>\n",
       "      <td>-122.22</td>\n",
       "      <td>3.585</td>\n",
       "    </tr>\n",
       "    <tr>\n",
       "      <th>2</th>\n",
       "      <td>7.2574</td>\n",
       "      <td>52.0</td>\n",
       "      <td>8.288136</td>\n",
       "      <td>1.073446</td>\n",
       "      <td>496.0</td>\n",
       "      <td>2.802260</td>\n",
       "      <td>37.85</td>\n",
       "      <td>-122.24</td>\n",
       "      <td>3.521</td>\n",
       "    </tr>\n",
       "    <tr>\n",
       "      <th>3</th>\n",
       "      <td>5.6431</td>\n",
       "      <td>52.0</td>\n",
       "      <td>5.817352</td>\n",
       "      <td>1.073059</td>\n",
       "      <td>558.0</td>\n",
       "      <td>2.547945</td>\n",
       "      <td>37.85</td>\n",
       "      <td>-122.25</td>\n",
       "      <td>3.413</td>\n",
       "    </tr>\n",
       "    <tr>\n",
       "      <th>4</th>\n",
       "      <td>3.8462</td>\n",
       "      <td>52.0</td>\n",
       "      <td>6.281853</td>\n",
       "      <td>1.081081</td>\n",
       "      <td>565.0</td>\n",
       "      <td>2.181467</td>\n",
       "      <td>37.85</td>\n",
       "      <td>-122.25</td>\n",
       "      <td>3.422</td>\n",
       "    </tr>\n",
       "  </tbody>\n",
       "</table>\n",
       "</div>\n",
       "      <button class=\"colab-df-convert\" onclick=\"convertToInteractive('df-fe79b91a-23aa-4bde-9379-daee719efb16')\"\n",
       "              title=\"Convert this dataframe to an interactive table.\"\n",
       "              style=\"display:none;\">\n",
       "        \n",
       "  <svg xmlns=\"http://www.w3.org/2000/svg\" height=\"24px\"viewBox=\"0 0 24 24\"\n",
       "       width=\"24px\">\n",
       "    <path d=\"M0 0h24v24H0V0z\" fill=\"none\"/>\n",
       "    <path d=\"M18.56 5.44l.94 2.06.94-2.06 2.06-.94-2.06-.94-.94-2.06-.94 2.06-2.06.94zm-11 1L8.5 8.5l.94-2.06 2.06-.94-2.06-.94L8.5 2.5l-.94 2.06-2.06.94zm10 10l.94 2.06.94-2.06 2.06-.94-2.06-.94-.94-2.06-.94 2.06-2.06.94z\"/><path d=\"M17.41 7.96l-1.37-1.37c-.4-.4-.92-.59-1.43-.59-.52 0-1.04.2-1.43.59L10.3 9.45l-7.72 7.72c-.78.78-.78 2.05 0 2.83L4 21.41c.39.39.9.59 1.41.59.51 0 1.02-.2 1.41-.59l7.78-7.78 2.81-2.81c.8-.78.8-2.07 0-2.86zM5.41 20L4 18.59l7.72-7.72 1.47 1.35L5.41 20z\"/>\n",
       "  </svg>\n",
       "      </button>\n",
       "      \n",
       "  <style>\n",
       "    .colab-df-container {\n",
       "      display:flex;\n",
       "      flex-wrap:wrap;\n",
       "      gap: 12px;\n",
       "    }\n",
       "\n",
       "    .colab-df-convert {\n",
       "      background-color: #E8F0FE;\n",
       "      border: none;\n",
       "      border-radius: 50%;\n",
       "      cursor: pointer;\n",
       "      display: none;\n",
       "      fill: #1967D2;\n",
       "      height: 32px;\n",
       "      padding: 0 0 0 0;\n",
       "      width: 32px;\n",
       "    }\n",
       "\n",
       "    .colab-df-convert:hover {\n",
       "      background-color: #E2EBFA;\n",
       "      box-shadow: 0px 1px 2px rgba(60, 64, 67, 0.3), 0px 1px 3px 1px rgba(60, 64, 67, 0.15);\n",
       "      fill: #174EA6;\n",
       "    }\n",
       "\n",
       "    [theme=dark] .colab-df-convert {\n",
       "      background-color: #3B4455;\n",
       "      fill: #D2E3FC;\n",
       "    }\n",
       "\n",
       "    [theme=dark] .colab-df-convert:hover {\n",
       "      background-color: #434B5C;\n",
       "      box-shadow: 0px 1px 3px 1px rgba(0, 0, 0, 0.15);\n",
       "      filter: drop-shadow(0px 1px 2px rgba(0, 0, 0, 0.3));\n",
       "      fill: #FFFFFF;\n",
       "    }\n",
       "  </style>\n",
       "\n",
       "      <script>\n",
       "        const buttonEl =\n",
       "          document.querySelector('#df-fe79b91a-23aa-4bde-9379-daee719efb16 button.colab-df-convert');\n",
       "        buttonEl.style.display =\n",
       "          google.colab.kernel.accessAllowed ? 'block' : 'none';\n",
       "\n",
       "        async function convertToInteractive(key) {\n",
       "          const element = document.querySelector('#df-fe79b91a-23aa-4bde-9379-daee719efb16');\n",
       "          const dataTable =\n",
       "            await google.colab.kernel.invokeFunction('convertToInteractive',\n",
       "                                                     [key], {});\n",
       "          if (!dataTable) return;\n",
       "\n",
       "          const docLinkHtml = 'Like what you see? Visit the ' +\n",
       "            '<a target=\"_blank\" href=https://colab.research.google.com/notebooks/data_table.ipynb>data table notebook</a>'\n",
       "            + ' to learn more about interactive tables.';\n",
       "          element.innerHTML = '';\n",
       "          dataTable['output_type'] = 'display_data';\n",
       "          await google.colab.output.renderOutput(dataTable, element);\n",
       "          const docLink = document.createElement('div');\n",
       "          docLink.innerHTML = docLinkHtml;\n",
       "          element.appendChild(docLink);\n",
       "        }\n",
       "      </script>\n",
       "    </div>\n",
       "  </div>\n",
       "  "
      ],
      "text/plain": [
       "   MedInc  HouseAge  AveRooms  AveBedrms  Population  AveOccup  Latitude  \\\n",
       "0  8.3252      41.0  6.984127   1.023810       322.0  2.555556     37.88   \n",
       "1  8.3014      21.0  6.238137   0.971880      2401.0  2.109842     37.86   \n",
       "2  7.2574      52.0  8.288136   1.073446       496.0  2.802260     37.85   \n",
       "3  5.6431      52.0  5.817352   1.073059       558.0  2.547945     37.85   \n",
       "4  3.8462      52.0  6.281853   1.081081       565.0  2.181467     37.85   \n",
       "\n",
       "   Longitude  targets  \n",
       "0    -122.23    4.526  \n",
       "1    -122.22    3.585  \n",
       "2    -122.24    3.521  \n",
       "3    -122.25    3.413  \n",
       "4    -122.25    3.422  "
      ]
     },
     "execution_count": 4,
     "metadata": {},
     "output_type": "execute_result"
    }
   ],
   "source": [
    "# convert data to pandas dataframe \n",
    "housing_df=pd.DataFrame(data=housing_dataset.data,\n",
    "                        columns=housing_dataset.feature_names)\n",
    "# add targets (column)\n",
    "housing_df['targets']=housing_dataset.target\n",
    "# see head \n",
    "housing_df.head()"
   ]
  },
  {
   "cell_type": "code",
   "execution_count": 5,
   "metadata": {
    "colab": {
     "base_uri": "https://localhost:8080/",
     "height": 0
    },
    "executionInfo": {
     "elapsed": 20,
     "status": "ok",
     "timestamp": 1670448485058,
     "user": {
      "displayName": "Clash Clans",
      "userId": "00562530571182710236"
     },
     "user_tz": -330
    },
    "id": "eJL-u1bwkFnY",
    "outputId": "9ec5e536-c5d5-4723-a03a-61e6ac41d56a"
   },
   "outputs": [
    {
     "data": {
      "text/html": [
       "\n",
       "  <div id=\"df-ea24d1e0-09a1-4003-bdf7-f65ad0b0f70d\">\n",
       "    <div class=\"colab-df-container\">\n",
       "      <div>\n",
       "<style scoped>\n",
       "    .dataframe tbody tr th:only-of-type {\n",
       "        vertical-align: middle;\n",
       "    }\n",
       "\n",
       "    .dataframe tbody tr th {\n",
       "        vertical-align: top;\n",
       "    }\n",
       "\n",
       "    .dataframe thead th {\n",
       "        text-align: right;\n",
       "    }\n",
       "</style>\n",
       "<table border=\"1\" class=\"dataframe\">\n",
       "  <thead>\n",
       "    <tr style=\"text-align: right;\">\n",
       "      <th></th>\n",
       "      <th>MedInc</th>\n",
       "      <th>HouseAge</th>\n",
       "      <th>AveRooms</th>\n",
       "      <th>AveBedrms</th>\n",
       "      <th>Population</th>\n",
       "      <th>AveOccup</th>\n",
       "      <th>Latitude</th>\n",
       "      <th>Longitude</th>\n",
       "      <th>targets</th>\n",
       "    </tr>\n",
       "  </thead>\n",
       "  <tbody>\n",
       "    <tr>\n",
       "      <th>20635</th>\n",
       "      <td>1.5603</td>\n",
       "      <td>25.0</td>\n",
       "      <td>5.045455</td>\n",
       "      <td>1.133333</td>\n",
       "      <td>845.0</td>\n",
       "      <td>2.560606</td>\n",
       "      <td>39.48</td>\n",
       "      <td>-121.09</td>\n",
       "      <td>0.781</td>\n",
       "    </tr>\n",
       "    <tr>\n",
       "      <th>20636</th>\n",
       "      <td>2.5568</td>\n",
       "      <td>18.0</td>\n",
       "      <td>6.114035</td>\n",
       "      <td>1.315789</td>\n",
       "      <td>356.0</td>\n",
       "      <td>3.122807</td>\n",
       "      <td>39.49</td>\n",
       "      <td>-121.21</td>\n",
       "      <td>0.771</td>\n",
       "    </tr>\n",
       "    <tr>\n",
       "      <th>20637</th>\n",
       "      <td>1.7000</td>\n",
       "      <td>17.0</td>\n",
       "      <td>5.205543</td>\n",
       "      <td>1.120092</td>\n",
       "      <td>1007.0</td>\n",
       "      <td>2.325635</td>\n",
       "      <td>39.43</td>\n",
       "      <td>-121.22</td>\n",
       "      <td>0.923</td>\n",
       "    </tr>\n",
       "    <tr>\n",
       "      <th>20638</th>\n",
       "      <td>1.8672</td>\n",
       "      <td>18.0</td>\n",
       "      <td>5.329513</td>\n",
       "      <td>1.171920</td>\n",
       "      <td>741.0</td>\n",
       "      <td>2.123209</td>\n",
       "      <td>39.43</td>\n",
       "      <td>-121.32</td>\n",
       "      <td>0.847</td>\n",
       "    </tr>\n",
       "    <tr>\n",
       "      <th>20639</th>\n",
       "      <td>2.3886</td>\n",
       "      <td>16.0</td>\n",
       "      <td>5.254717</td>\n",
       "      <td>1.162264</td>\n",
       "      <td>1387.0</td>\n",
       "      <td>2.616981</td>\n",
       "      <td>39.37</td>\n",
       "      <td>-121.24</td>\n",
       "      <td>0.894</td>\n",
       "    </tr>\n",
       "  </tbody>\n",
       "</table>\n",
       "</div>\n",
       "      <button class=\"colab-df-convert\" onclick=\"convertToInteractive('df-ea24d1e0-09a1-4003-bdf7-f65ad0b0f70d')\"\n",
       "              title=\"Convert this dataframe to an interactive table.\"\n",
       "              style=\"display:none;\">\n",
       "        \n",
       "  <svg xmlns=\"http://www.w3.org/2000/svg\" height=\"24px\"viewBox=\"0 0 24 24\"\n",
       "       width=\"24px\">\n",
       "    <path d=\"M0 0h24v24H0V0z\" fill=\"none\"/>\n",
       "    <path d=\"M18.56 5.44l.94 2.06.94-2.06 2.06-.94-2.06-.94-.94-2.06-.94 2.06-2.06.94zm-11 1L8.5 8.5l.94-2.06 2.06-.94-2.06-.94L8.5 2.5l-.94 2.06-2.06.94zm10 10l.94 2.06.94-2.06 2.06-.94-2.06-.94-.94-2.06-.94 2.06-2.06.94z\"/><path d=\"M17.41 7.96l-1.37-1.37c-.4-.4-.92-.59-1.43-.59-.52 0-1.04.2-1.43.59L10.3 9.45l-7.72 7.72c-.78.78-.78 2.05 0 2.83L4 21.41c.39.39.9.59 1.41.59.51 0 1.02-.2 1.41-.59l7.78-7.78 2.81-2.81c.8-.78.8-2.07 0-2.86zM5.41 20L4 18.59l7.72-7.72 1.47 1.35L5.41 20z\"/>\n",
       "  </svg>\n",
       "      </button>\n",
       "      \n",
       "  <style>\n",
       "    .colab-df-container {\n",
       "      display:flex;\n",
       "      flex-wrap:wrap;\n",
       "      gap: 12px;\n",
       "    }\n",
       "\n",
       "    .colab-df-convert {\n",
       "      background-color: #E8F0FE;\n",
       "      border: none;\n",
       "      border-radius: 50%;\n",
       "      cursor: pointer;\n",
       "      display: none;\n",
       "      fill: #1967D2;\n",
       "      height: 32px;\n",
       "      padding: 0 0 0 0;\n",
       "      width: 32px;\n",
       "    }\n",
       "\n",
       "    .colab-df-convert:hover {\n",
       "      background-color: #E2EBFA;\n",
       "      box-shadow: 0px 1px 2px rgba(60, 64, 67, 0.3), 0px 1px 3px 1px rgba(60, 64, 67, 0.15);\n",
       "      fill: #174EA6;\n",
       "    }\n",
       "\n",
       "    [theme=dark] .colab-df-convert {\n",
       "      background-color: #3B4455;\n",
       "      fill: #D2E3FC;\n",
       "    }\n",
       "\n",
       "    [theme=dark] .colab-df-convert:hover {\n",
       "      background-color: #434B5C;\n",
       "      box-shadow: 0px 1px 3px 1px rgba(0, 0, 0, 0.15);\n",
       "      filter: drop-shadow(0px 1px 2px rgba(0, 0, 0, 0.3));\n",
       "      fill: #FFFFFF;\n",
       "    }\n",
       "  </style>\n",
       "\n",
       "      <script>\n",
       "        const buttonEl =\n",
       "          document.querySelector('#df-ea24d1e0-09a1-4003-bdf7-f65ad0b0f70d button.colab-df-convert');\n",
       "        buttonEl.style.display =\n",
       "          google.colab.kernel.accessAllowed ? 'block' : 'none';\n",
       "\n",
       "        async function convertToInteractive(key) {\n",
       "          const element = document.querySelector('#df-ea24d1e0-09a1-4003-bdf7-f65ad0b0f70d');\n",
       "          const dataTable =\n",
       "            await google.colab.kernel.invokeFunction('convertToInteractive',\n",
       "                                                     [key], {});\n",
       "          if (!dataTable) return;\n",
       "\n",
       "          const docLinkHtml = 'Like what you see? Visit the ' +\n",
       "            '<a target=\"_blank\" href=https://colab.research.google.com/notebooks/data_table.ipynb>data table notebook</a>'\n",
       "            + ' to learn more about interactive tables.';\n",
       "          element.innerHTML = '';\n",
       "          dataTable['output_type'] = 'display_data';\n",
       "          await google.colab.output.renderOutput(dataTable, element);\n",
       "          const docLink = document.createElement('div');\n",
       "          docLink.innerHTML = docLinkHtml;\n",
       "          element.appendChild(docLink);\n",
       "        }\n",
       "      </script>\n",
       "    </div>\n",
       "  </div>\n",
       "  "
      ],
      "text/plain": [
       "       MedInc  HouseAge  AveRooms  AveBedrms  Population  AveOccup  Latitude  \\\n",
       "20635  1.5603      25.0  5.045455   1.133333       845.0  2.560606     39.48   \n",
       "20636  2.5568      18.0  6.114035   1.315789       356.0  3.122807     39.49   \n",
       "20637  1.7000      17.0  5.205543   1.120092      1007.0  2.325635     39.43   \n",
       "20638  1.8672      18.0  5.329513   1.171920       741.0  2.123209     39.43   \n",
       "20639  2.3886      16.0  5.254717   1.162264      1387.0  2.616981     39.37   \n",
       "\n",
       "       Longitude  targets  \n",
       "20635    -121.09    0.781  \n",
       "20636    -121.21    0.771  \n",
       "20637    -121.22    0.923  \n",
       "20638    -121.32    0.847  \n",
       "20639    -121.24    0.894  "
      ]
     },
     "execution_count": 5,
     "metadata": {},
     "output_type": "execute_result"
    }
   ],
   "source": [
    "# see tail \n",
    "housing_df.tail()"
   ]
  },
  {
   "cell_type": "code",
   "execution_count": 6,
   "metadata": {
    "colab": {
     "base_uri": "https://localhost:8080/"
    },
    "executionInfo": {
     "elapsed": 20,
     "status": "ok",
     "timestamp": 1670448485059,
     "user": {
      "displayName": "Clash Clans",
      "userId": "00562530571182710236"
     },
     "user_tz": -330
    },
    "id": "oKoW8TYul5lz",
    "outputId": "1f58e0b7-1c67-42dd-e917-ba48e8c4795b"
   },
   "outputs": [
    {
     "name": "stdout",
     "output_type": "stream",
     "text": [
      "<class 'pandas.core.frame.DataFrame'>\n",
      "RangeIndex: 20640 entries, 0 to 20639\n",
      "Data columns (total 9 columns):\n",
      " #   Column      Non-Null Count  Dtype  \n",
      "---  ------      --------------  -----  \n",
      " 0   MedInc      20640 non-null  float64\n",
      " 1   HouseAge    20640 non-null  float64\n",
      " 2   AveRooms    20640 non-null  float64\n",
      " 3   AveBedrms   20640 non-null  float64\n",
      " 4   Population  20640 non-null  float64\n",
      " 5   AveOccup    20640 non-null  float64\n",
      " 6   Latitude    20640 non-null  float64\n",
      " 7   Longitude   20640 non-null  float64\n",
      " 8   targets     20640 non-null  float64\n",
      "dtypes: float64(9)\n",
      "memory usage: 1.4 MB\n"
     ]
    }
   ],
   "source": [
    "# see info \n",
    "housing_df.info()"
   ]
  },
  {
   "cell_type": "code",
   "execution_count": 7,
   "metadata": {
    "colab": {
     "base_uri": "https://localhost:8080/",
     "height": 0
    },
    "executionInfo": {
     "elapsed": 20,
     "status": "ok",
     "timestamp": 1670448485060,
     "user": {
      "displayName": "Clash Clans",
      "userId": "00562530571182710236"
     },
     "user_tz": -330
    },
    "id": "RWzFvnv0l9Tc",
    "outputId": "21650cc5-a749-444b-f949-c2351fe5e614"
   },
   "outputs": [
    {
     "data": {
      "text/html": [
       "\n",
       "  <div id=\"df-436f88d1-28c8-4820-b55b-a8fca17e1bfc\">\n",
       "    <div class=\"colab-df-container\">\n",
       "      <div>\n",
       "<style scoped>\n",
       "    .dataframe tbody tr th:only-of-type {\n",
       "        vertical-align: middle;\n",
       "    }\n",
       "\n",
       "    .dataframe tbody tr th {\n",
       "        vertical-align: top;\n",
       "    }\n",
       "\n",
       "    .dataframe thead th {\n",
       "        text-align: right;\n",
       "    }\n",
       "</style>\n",
       "<table border=\"1\" class=\"dataframe\">\n",
       "  <thead>\n",
       "    <tr style=\"text-align: right;\">\n",
       "      <th></th>\n",
       "      <th>MedInc</th>\n",
       "      <th>HouseAge</th>\n",
       "      <th>AveRooms</th>\n",
       "      <th>AveBedrms</th>\n",
       "      <th>Population</th>\n",
       "      <th>AveOccup</th>\n",
       "      <th>Latitude</th>\n",
       "      <th>Longitude</th>\n",
       "      <th>targets</th>\n",
       "    </tr>\n",
       "  </thead>\n",
       "  <tbody>\n",
       "    <tr>\n",
       "      <th>count</th>\n",
       "      <td>20640.000000</td>\n",
       "      <td>20640.000000</td>\n",
       "      <td>20640.000000</td>\n",
       "      <td>20640.000000</td>\n",
       "      <td>20640.000000</td>\n",
       "      <td>20640.000000</td>\n",
       "      <td>20640.000000</td>\n",
       "      <td>20640.000000</td>\n",
       "      <td>20640.000000</td>\n",
       "    </tr>\n",
       "    <tr>\n",
       "      <th>mean</th>\n",
       "      <td>3.870671</td>\n",
       "      <td>28.639486</td>\n",
       "      <td>5.429000</td>\n",
       "      <td>1.096675</td>\n",
       "      <td>1425.476744</td>\n",
       "      <td>3.070655</td>\n",
       "      <td>35.631861</td>\n",
       "      <td>-119.569704</td>\n",
       "      <td>2.068558</td>\n",
       "    </tr>\n",
       "    <tr>\n",
       "      <th>std</th>\n",
       "      <td>1.899822</td>\n",
       "      <td>12.585558</td>\n",
       "      <td>2.474173</td>\n",
       "      <td>0.473911</td>\n",
       "      <td>1132.462122</td>\n",
       "      <td>10.386050</td>\n",
       "      <td>2.135952</td>\n",
       "      <td>2.003532</td>\n",
       "      <td>1.153956</td>\n",
       "    </tr>\n",
       "    <tr>\n",
       "      <th>min</th>\n",
       "      <td>0.499900</td>\n",
       "      <td>1.000000</td>\n",
       "      <td>0.846154</td>\n",
       "      <td>0.333333</td>\n",
       "      <td>3.000000</td>\n",
       "      <td>0.692308</td>\n",
       "      <td>32.540000</td>\n",
       "      <td>-124.350000</td>\n",
       "      <td>0.149990</td>\n",
       "    </tr>\n",
       "    <tr>\n",
       "      <th>25%</th>\n",
       "      <td>2.563400</td>\n",
       "      <td>18.000000</td>\n",
       "      <td>4.440716</td>\n",
       "      <td>1.006079</td>\n",
       "      <td>787.000000</td>\n",
       "      <td>2.429741</td>\n",
       "      <td>33.930000</td>\n",
       "      <td>-121.800000</td>\n",
       "      <td>1.196000</td>\n",
       "    </tr>\n",
       "    <tr>\n",
       "      <th>50%</th>\n",
       "      <td>3.534800</td>\n",
       "      <td>29.000000</td>\n",
       "      <td>5.229129</td>\n",
       "      <td>1.048780</td>\n",
       "      <td>1166.000000</td>\n",
       "      <td>2.818116</td>\n",
       "      <td>34.260000</td>\n",
       "      <td>-118.490000</td>\n",
       "      <td>1.797000</td>\n",
       "    </tr>\n",
       "    <tr>\n",
       "      <th>75%</th>\n",
       "      <td>4.743250</td>\n",
       "      <td>37.000000</td>\n",
       "      <td>6.052381</td>\n",
       "      <td>1.099526</td>\n",
       "      <td>1725.000000</td>\n",
       "      <td>3.282261</td>\n",
       "      <td>37.710000</td>\n",
       "      <td>-118.010000</td>\n",
       "      <td>2.647250</td>\n",
       "    </tr>\n",
       "    <tr>\n",
       "      <th>max</th>\n",
       "      <td>15.000100</td>\n",
       "      <td>52.000000</td>\n",
       "      <td>141.909091</td>\n",
       "      <td>34.066667</td>\n",
       "      <td>35682.000000</td>\n",
       "      <td>1243.333333</td>\n",
       "      <td>41.950000</td>\n",
       "      <td>-114.310000</td>\n",
       "      <td>5.000010</td>\n",
       "    </tr>\n",
       "  </tbody>\n",
       "</table>\n",
       "</div>\n",
       "      <button class=\"colab-df-convert\" onclick=\"convertToInteractive('df-436f88d1-28c8-4820-b55b-a8fca17e1bfc')\"\n",
       "              title=\"Convert this dataframe to an interactive table.\"\n",
       "              style=\"display:none;\">\n",
       "        \n",
       "  <svg xmlns=\"http://www.w3.org/2000/svg\" height=\"24px\"viewBox=\"0 0 24 24\"\n",
       "       width=\"24px\">\n",
       "    <path d=\"M0 0h24v24H0V0z\" fill=\"none\"/>\n",
       "    <path d=\"M18.56 5.44l.94 2.06.94-2.06 2.06-.94-2.06-.94-.94-2.06-.94 2.06-2.06.94zm-11 1L8.5 8.5l.94-2.06 2.06-.94-2.06-.94L8.5 2.5l-.94 2.06-2.06.94zm10 10l.94 2.06.94-2.06 2.06-.94-2.06-.94-.94-2.06-.94 2.06-2.06.94z\"/><path d=\"M17.41 7.96l-1.37-1.37c-.4-.4-.92-.59-1.43-.59-.52 0-1.04.2-1.43.59L10.3 9.45l-7.72 7.72c-.78.78-.78 2.05 0 2.83L4 21.41c.39.39.9.59 1.41.59.51 0 1.02-.2 1.41-.59l7.78-7.78 2.81-2.81c.8-.78.8-2.07 0-2.86zM5.41 20L4 18.59l7.72-7.72 1.47 1.35L5.41 20z\"/>\n",
       "  </svg>\n",
       "      </button>\n",
       "      \n",
       "  <style>\n",
       "    .colab-df-container {\n",
       "      display:flex;\n",
       "      flex-wrap:wrap;\n",
       "      gap: 12px;\n",
       "    }\n",
       "\n",
       "    .colab-df-convert {\n",
       "      background-color: #E8F0FE;\n",
       "      border: none;\n",
       "      border-radius: 50%;\n",
       "      cursor: pointer;\n",
       "      display: none;\n",
       "      fill: #1967D2;\n",
       "      height: 32px;\n",
       "      padding: 0 0 0 0;\n",
       "      width: 32px;\n",
       "    }\n",
       "\n",
       "    .colab-df-convert:hover {\n",
       "      background-color: #E2EBFA;\n",
       "      box-shadow: 0px 1px 2px rgba(60, 64, 67, 0.3), 0px 1px 3px 1px rgba(60, 64, 67, 0.15);\n",
       "      fill: #174EA6;\n",
       "    }\n",
       "\n",
       "    [theme=dark] .colab-df-convert {\n",
       "      background-color: #3B4455;\n",
       "      fill: #D2E3FC;\n",
       "    }\n",
       "\n",
       "    [theme=dark] .colab-df-convert:hover {\n",
       "      background-color: #434B5C;\n",
       "      box-shadow: 0px 1px 3px 1px rgba(0, 0, 0, 0.15);\n",
       "      filter: drop-shadow(0px 1px 2px rgba(0, 0, 0, 0.3));\n",
       "      fill: #FFFFFF;\n",
       "    }\n",
       "  </style>\n",
       "\n",
       "      <script>\n",
       "        const buttonEl =\n",
       "          document.querySelector('#df-436f88d1-28c8-4820-b55b-a8fca17e1bfc button.colab-df-convert');\n",
       "        buttonEl.style.display =\n",
       "          google.colab.kernel.accessAllowed ? 'block' : 'none';\n",
       "\n",
       "        async function convertToInteractive(key) {\n",
       "          const element = document.querySelector('#df-436f88d1-28c8-4820-b55b-a8fca17e1bfc');\n",
       "          const dataTable =\n",
       "            await google.colab.kernel.invokeFunction('convertToInteractive',\n",
       "                                                     [key], {});\n",
       "          if (!dataTable) return;\n",
       "\n",
       "          const docLinkHtml = 'Like what you see? Visit the ' +\n",
       "            '<a target=\"_blank\" href=https://colab.research.google.com/notebooks/data_table.ipynb>data table notebook</a>'\n",
       "            + ' to learn more about interactive tables.';\n",
       "          element.innerHTML = '';\n",
       "          dataTable['output_type'] = 'display_data';\n",
       "          await google.colab.output.renderOutput(dataTable, element);\n",
       "          const docLink = document.createElement('div');\n",
       "          docLink.innerHTML = docLinkHtml;\n",
       "          element.appendChild(docLink);\n",
       "        }\n",
       "      </script>\n",
       "    </div>\n",
       "  </div>\n",
       "  "
      ],
      "text/plain": [
       "             MedInc      HouseAge      AveRooms     AveBedrms    Population  \\\n",
       "count  20640.000000  20640.000000  20640.000000  20640.000000  20640.000000   \n",
       "mean       3.870671     28.639486      5.429000      1.096675   1425.476744   \n",
       "std        1.899822     12.585558      2.474173      0.473911   1132.462122   \n",
       "min        0.499900      1.000000      0.846154      0.333333      3.000000   \n",
       "25%        2.563400     18.000000      4.440716      1.006079    787.000000   \n",
       "50%        3.534800     29.000000      5.229129      1.048780   1166.000000   \n",
       "75%        4.743250     37.000000      6.052381      1.099526   1725.000000   \n",
       "max       15.000100     52.000000    141.909091     34.066667  35682.000000   \n",
       "\n",
       "           AveOccup      Latitude     Longitude       targets  \n",
       "count  20640.000000  20640.000000  20640.000000  20640.000000  \n",
       "mean       3.070655     35.631861   -119.569704      2.068558  \n",
       "std       10.386050      2.135952      2.003532      1.153956  \n",
       "min        0.692308     32.540000   -124.350000      0.149990  \n",
       "25%        2.429741     33.930000   -121.800000      1.196000  \n",
       "50%        2.818116     34.260000   -118.490000      1.797000  \n",
       "75%        3.282261     37.710000   -118.010000      2.647250  \n",
       "max     1243.333333     41.950000   -114.310000      5.000010  "
      ]
     },
     "execution_count": 7,
     "metadata": {},
     "output_type": "execute_result"
    }
   ],
   "source": [
    "# see stats \n",
    "housing_df.describe()"
   ]
  },
  {
   "cell_type": "markdown",
   "metadata": {
    "id": "xuthmnDaplyM"
   },
   "source": [
    "### split dataset using [sklearn.model_selection.train_test_split](https://scikit-learn.org/stable/modules/generated/sklearn.model_selection.train_test_split.html)"
   ]
  },
  {
   "cell_type": "code",
   "execution_count": 8,
   "metadata": {
    "colab": {
     "base_uri": "https://localhost:8080/"
    },
    "executionInfo": {
     "elapsed": 621,
     "status": "ok",
     "timestamp": 1670448485663,
     "user": {
      "displayName": "Clash Clans",
      "userId": "00562530571182710236"
     },
     "user_tz": -330
    },
    "id": "7teyy3wZnLQg",
    "outputId": "7d747235-277a-4c66-b444-8d298b86e78a"
   },
   "outputs": [
    {
     "data": {
      "text/plain": [
       "((13828, 8), (13828,), (6812, 8), (6812,))"
      ]
     },
     "execution_count": 8,
     "metadata": {},
     "output_type": "execute_result"
    }
   ],
   "source": [
    "# split dataset loader \n",
    "from sklearn.model_selection import train_test_split \n",
    "\n",
    "# make split daatset \n",
    "Xtrain,Xtest,ytrain,ytest=train_test_split(housing_df.drop(columns='targets'),\n",
    "                                           housing_df['targets'],\n",
    "                                           test_size=0.33)\n",
    "\n",
    "# see shape of outputs \n",
    "Xtrain.shape,ytrain.shape,Xtest.shape,ytest.shape"
   ]
  },
  {
   "cell_type": "markdown",
   "metadata": {
    "id": "nbdb2GJ3prcR"
   },
   "source": [
    "### Regression using Linear Regression ([sklearn.linear_model.LinearRegression](https://scikit-learn.org/stable/modules/generated/sklearn.linear_model.LinearRegression.html))\n",
    "\n",
    "Ordinary Least Squares - \n",
    "\n"
   ]
  },
  {
   "cell_type": "markdown",
   "metadata": {
    "id": "P9Me0x5EazcO"
   },
   "source": [
    "![image.png](data:image/png;base64,iVBORw0KGgoAAAANSUhEUgAAALcAAABPCAYAAACpr1TrAAAABHNCSVQICAgIfAhkiAAAABl0RVh0U29mdHdhcmUAZ25vbWUtc2NyZWVuc2hvdO8Dvz4AAAAzdEVYdENyZWF0aW9uIFRpbWUAVGh1cnNkYXkgMDggRGVjZW1iZXIgMjAyMiAwMjozNzo1NyBBTW3REMAAAApYSURBVHic7dx/TNT3HcfxZwfz27hwBuI5F6GtgNaDZnLoBDRDbXbWpvgjvc5FWhboj4nRQDemViqjRqLsOqg0pWo0o5FgJ4GtrHQVXLBeokCKQNoBKQXSyZkYjtR4RMO3k3z3xwGeChUF7o5v349/8D7fL997f7/f1/fu8/18P/iIpmkaQujQj3xdgBDTRcItdEvCLXRLwi10S8ItdEvCLXRLwi10S8ItdEvCLXRLwi10S8ItdEvCLXRLwi10S8ItdEvCLXRLwi10S8ItdEvCLXRLwi10S8ItdEvCLXRLwi10K9DXBQidcDZy4sRZupwOur5xEflCDtnJJgw+LOkR+X9LxOQNUPOHVD5aVcQRayh0HmODtYzoorPkP634rKofdLfE1ePAdXfj1R56b/qiGj811vFQHXRdVT0bUFUnzY0d7uMZEUNscD/1TT3eq3MMMyvc13po7uyfoo0NcKbgbT6768R1Vdsobpqit9CBMY9Hx4ccLPMM7lw2FttptFnc3ZBvHfS6goiKCvVeoWOYOX3uoR4KUpIo7gzl1Q9ryV42Xe8z/qL6Q0m8Xu3EdeO74ZZZzHs6h4rCJIxXK3l5Ux71KiiBsyBAYZ4lh4/zLPjui3kKjHU8vucYgUpzSQlt8bupeDZomoqamJnzyR1gYNHiuSjzTUTOnaJtfu9JulfC3moaL/ybw6tnod5UCUv7gPOFSRgB5ls5kmfBYIgh5cCH2C/aqZ3pwX4Izrq3KbiSTFmRlbAA39Yyc8LNXDYW2umwF7HlcV/WEcSarRsIA7o+raVt5AK5Us2e4ypZpSVkPRuOwccn1hfUjhIK7DHkFyYTSQc1dVPVhXw4Myjc/kP5hZWNi4GeSso/V+Gandw/VrLoTzYfX3g+dPUsuUVXiF0firO1kfrKU5zr9+33lpf63P2Upz/PwS8B1cCWwjwiL5zi3H+ddLdfwZC4jfycdahVRzne4MDZ2YEjJJHsQ/t4ZgGASs1eC3vsoKiwttBOfiK0HUvm5b86AJXI146xM6Ca060OHF/14PqZhexDu1gzfxp2J8DEFmsMxYdaqfrgXRS1BWXnMXY8NdbJVGkrz+NgRQtONYqd79vYuMC9xGUvYs9HRrLeTiZSbaTgpQzKw3KoLhru6kwbla5TObxR0Y5ryMzO9w+M1sTVs+QeaGRZzj42TvjY9VO+dzflF1TK604Nt80l5eSBqS/9QWhedP30Nm3JohVa4sYM7Xj7oKZpmjbYYtMsS2I0y69TtfSybm1Q0zTtRoO255cmbWlGrXbd8/c/ztCWLFqh7Tnv0dh9VEtaYtKWrtmqZVb0Dq94XstcadKW7jrv3t6YXNrpbRla1Y07W78+mnrn9sfTV6GlLTVpCxet0NJO94672mCTTUvLPa9dv1GrpS81aUlHu2+//ysx2sLnDmtf39I07dtaLX2lSVu45oB26dYE3n8SBptsWtqbtbdrOn67/svHn9cWLknVTva5X495PJpsWvJf2qe3yCng1W6JIdgADKAkpvOqyf0ppyw2ERGo0qXGk/WbcPcN2OwoYiPA1d5Kr8dNn8FguPcGLXguRsBltJBlHR56MoSz7DFwtbfQNe5NozregokJMbMsHGAA143xVhqg5mQ3K19LRPmikWY1iNAFw5/JagsXv1QxxpiJDACCLfx5lwVDsHGa++sD1JR1s/I1C4aRmubPGV1W39ADj8cQGzKdNXiHd/vcAQAKEVHhd7WB4UmT+yR7tt+6K4IBjDv6YIyKImz01aPwY/fvT48B6gv2cS4kDiPQXFl5+8byDrNIyNxHygKV5upanD+JZ3Pi8PBYRyMtLoXo5ebRtQ1PhBIZZfLYj+kwi4Sd+0h5XKX+jLumZ0dqUlu42KpiMJvvPBczlNfHuRVACVTuamE05KMCH/BmJMBbNy8qbSW7KHClceRYKCc3WSnu/ITyz9PZH393DQrG8FAYauSMvR/DqiQShidb9H7ZQi8mUsy3x4Kd7Q6My9PHvYDbSjPJ/ZdzYmWGWNj/bhrR94TUo6a6fpRVFtaMTADpaKTlhkLscrMuhjBnzkOc+3jUS+/T+9FuclstvFNowRgAWzbHUGxrparcTla8ZeyJQt0N1DsVYlfFDy9XaW/qgPlWYkcf4g1Q3wRr947/4CM6pYiKlCnakc4G6p0QGxc/WnNvSwu9hLPF/BAPX/xw4pR3uyVDk+7p+pSzLo/fV8Ww33b7AUXYJitrZoOrrpIz432ofjvAdYKYt2AkNE56+1QwLsA48snqrOVTLKyd3mGS25z99DGXyCdHnogN0NLUAUYzCQ88nDlAzSEblxankl94lIr81bQd2sbBOt+eba+GW73l3llV9djpIXX05x2H4pZ6T5uqul8P3lLvWE8FBj23ySDq/4Ch76bmYhrqp7k8hxf3drPpUBrRnt/ZxnVsXqXATTulfx9notAT4UQG9tPV4V6u/qeSqg7AeQWHCtDPZ8V2Il+2TPMQoIfQUMJQ6esbAMBZZ+O9OhXFHDdGV+Z+/HPilPfGuTOTKWhwggKfvWVhdXU6+1fZyT3aQh8K1O4j8YuzZGVHUHWgjDangjJUyfa1Dazf/R6xZ39HQYMTVYGavRY2bHmXd+YU8UpJO32BClRnENe0mjezIziZW0bXNQVlqILta8+z/q1K9j/M1MuhVgq2ZlDa2Y9reILVwYwSEsrTiBxefnDTNko73ZdQ22ErcX9bQELmBxze7DFHYH4y+bYr5B7N4AW7EWbHkFVeQluRjVxrMsb5RqKtu8gec5x8moSnkp/dzRtFqbxYbkDBRd8QxMY9TH/bPXFq48hLP5k45dVxbv/inNw49ww36OjWLnvsu3t8e6t2/Js713vwce5B7dKfn9NWbKvQLk/zeP39yOP3HyD1Qh7rfpXES0Wt7oabjZw43YFxQ9qkpw/IxCnhU+qVbvoMMWxZFwFDDv75Vg5Vs9M4vHec0Z6JbtfPJk7pZihQTJxhfSY7LxRx8cguLt5wofx8G2WlVqInk+yRiVOpZpytjTi+quZc4G6embKqH9wPONxBhJljUO766pzzWDzRXhuy8BFDDDuKStgxgVXHPB7B4ayM8BwL98+JU/IHwkK3/LPPfbOVUlse27emc6LT3dRVmskblf3grGb72mSKO3xbovB/fhnutlNnmfPbZJ662T78V9Y91PyjgUFDEITEsDLCRd91X1cp/J1fhjvSms4z1z6m6tpq1scp4Gzh4mUzK5crEBBKrHk1y570dZXC3/lluJXgIHrr7FyPt5CggNraSFt4HAnBAA6ab4UP/1uI8flluAFcrgHm/NSIAvR2dqMajcwD1Euf0Bux2ntzMMSM5b+jJZ2VvG6zM8cUihJoQG1t4Xp4KHNCEtm5I1HCLe7Lf8MtxCT5bbdEiMmScAvdknAL3ZJwC92ScAvdknAL3ZJwC92ScAvdknAL3ZJwC92ScAvdknAL3ZJwC92ScAvdknAL3ZJwC92ScAvdknAL3ZJwC92ScAvdknAL3ZJwC92ScAvdknAL3ZJwC92ScAvd+j8eBpOd47vaqAAAAABJRU5ErkJggg==)"
   ]
  },
  {
   "cell_type": "markdown",
   "metadata": {
    "id": "2J1C80DGp0cD"
   },
   "source": [
    "**make model**"
   ]
  },
  {
   "cell_type": "code",
   "execution_count": 9,
   "metadata": {
    "colab": {
     "base_uri": "https://localhost:8080/"
    },
    "executionInfo": {
     "elapsed": 11,
     "status": "ok",
     "timestamp": 1670448485664,
     "user": {
      "displayName": "Clash Clans",
      "userId": "00562530571182710236"
     },
     "user_tz": -330
    },
    "id": "7C_lSWE1oU_5",
    "outputId": "975f8897-7ab7-43a2-c06e-cb8146324e69"
   },
   "outputs": [
    {
     "name": "stdout",
     "output_type": "stream",
     "text": [
      "R2 score (Training): 0.6035587864884757\n",
      "R2 score (Testing): 0.611191430186514\n"
     ]
    }
   ],
   "source": [
    "# load linear regression model \n",
    "from sklearn.linear_model import LinearRegression \n",
    "\n",
    "# make linear regression model \n",
    "lReg=LinearRegression()\n",
    "# make data fit \n",
    "lReg.fit(Xtrain,ytrain)\n",
    "\n",
    "# see R2 score \n",
    "print('R2 score (Training):',lReg.score(Xtrain,ytrain))\n",
    "print('R2 score (Testing):',lReg.score(Xtest,ytest))"
   ]
  },
  {
   "cell_type": "markdown",
   "metadata": {
    "id": "RJMvbRrVp2xV"
   },
   "source": [
    "**evaluate model**"
   ]
  },
  {
   "cell_type": "code",
   "execution_count": 10,
   "metadata": {
    "colab": {
     "base_uri": "https://localhost:8080/"
    },
    "executionInfo": {
     "elapsed": 13,
     "status": "ok",
     "timestamp": 1670448485667,
     "user": {
      "displayName": "Clash Clans",
      "userId": "00562530571182710236"
     },
     "user_tz": -330
    },
    "id": "APzfomMzq5Is",
    "outputId": "2907436d-ccf3-441d-e53a-56389377e0fb"
   },
   "outputs": [
    {
     "name": "stdout",
     "output_type": "stream",
     "text": [
      "Mean Absolute Error [MEA]: 0.5273088154123143\n",
      "Mean Squared Error [MSA]: 0.5055598634699968\n"
     ]
    }
   ],
   "source": [
    "# load error metrics\n",
    "from sklearn.metrics import mean_absolute_error,mean_squared_error\n",
    "\n",
    "# make preditictions \n",
    "y_predict=lReg.predict(Xtest)\n",
    "\n",
    "# calculate errors \n",
    "print('Mean Absolute Error [MEA]:',mean_absolute_error(ytest,y_predict))\n",
    "print('Mean Squared Error [MSA]:',mean_squared_error(ytest,y_predict))"
   ]
  },
  {
   "cell_type": "markdown",
   "metadata": {
    "id": "6soQU3pYp8TL"
   },
   "source": [
    "### Regression using Linear Regression with l1 Regularizer (using [sklearn.linear_model.Lasso](https://scikit-learn.org/stable/modules/generated/sklearn.linear_model.Lasso.html))\n",
    "\n",
    "Linear Model trained with L1 prior as regularizer (aka the Lasso).\n",
    "\n",
    "The optimization objective for Lasso is:\n",
    "\n",
    "```\n",
    "(1 / (2 * n_samples)) * ||y - Xw||^2_2 + alpha * ||w||_1\n",
    "```\n",
    "\n",
    "Technically the Lasso model is optimizing the same objective function as the Elastic Net with l1_ratio=1.0 (no L2 penalty)."
   ]
  },
  {
   "cell_type": "code",
   "execution_count": 11,
   "metadata": {
    "colab": {
     "base_uri": "https://localhost:8080/"
    },
    "executionInfo": {
     "elapsed": 504,
     "status": "ok",
     "timestamp": 1670446631435,
     "user": {
      "displayName": "Clash Clans",
      "userId": "00562530571182710236"
     },
     "user_tz": -330
    },
    "id": "dm-IZR33rIgy",
    "outputId": "b000430c-09b6-499c-d290-9c477842f70d"
   },
   "outputs": [
    {
     "name": "stdout",
     "output_type": "stream",
     "text": [
      "for alpha=0.1 R2 is 0.5430214534589797\n",
      "for alpha=0.2 R2 is 0.5062910567485329\n",
      "for alpha=0.30000000000000004 R2 is 0.49261995151886995\n",
      "for alpha=0.4 R2 is 0.47646751162599144\n",
      "for alpha=0.5 R2 is 0.45556170377708094\n",
      "for alpha=0.6 R2 is 0.4303415134535843\n",
      "for alpha=0.7000000000000001 R2 is 0.40045215162388936\n",
      "for alpha=0.8 R2 is 0.3659570226575066\n",
      "for alpha=0.9 R2 is 0.32669759811117915\n",
      "for alpha=1.0 R2 is 0.28274703672265367\n"
     ]
    }
   ],
   "source": [
    "# load linear regression with l1 \n",
    "from sklearn.linear_model import Lasso\n",
    "# inear Model trained with L1 prior as regularizer (aka the Lasso).\n",
    "# Linear Model trained with L1 prior as regularizer (aka the Lasso).\n",
    "# The optimization objective for Lasso is:\n",
    "#           (1 / (2 * n_samples)) * ||y - Xw||^2_2 + alpha * ||w||_1\n",
    "# Technically the Lasso model is optimizing the same objective function as\n",
    "# the Elastic Net with l1_ratio=1.0\n",
    "\n",
    "# make a loop to find best alpha value \n",
    "for alpha in np.arange(0.1,1.1,0.1):\n",
    "  # make model - linear regression with l1 \n",
    "  lRegl1=Lasso(alpha=alpha,max_iter=1000,tol=0.005)\n",
    "  # make model train \n",
    "  lRegl1.fit(Xtrain,ytrain)\n",
    "  # print R2 for each value of alpha \n",
    "  print(f'for alpha={alpha} R2 is {lRegl1.score(Xtest,ytest)}')"
   ]
  },
  {
   "cell_type": "markdown",
   "metadata": {
    "id": "tBGq7bNOyfh9"
   },
   "source": [
    "**[Cross-validation: evaluating estimator performance](https://scikit-learn.org/stable/modules/cross_validation.html)**"
   ]
  },
  {
   "cell_type": "markdown",
   "metadata": {
    "id": "5agiba4TybpH"
   },
   "source": [
    "![png](https://scikit-learn.org/stable/_images/grid_search_cross_validation.png)"
   ]
  },
  {
   "cell_type": "markdown",
   "metadata": {
    "id": "90CD1IIeqDED"
   },
   "source": [
    "### Regression using Linear Regression with l2 Regularizer (using [sklearn.linear_model.Ridge.](https://scikit-learn.org/stable/modules/generated/sklearn.linear_model.Ridge.html) and [cross validation](https://scikit-learn.org/stable/modules/cross_validation.html))\n",
    "\n",
    "Linear least squares with l2 regularization.\n",
    "\n",
    "Minimizes the objective function:\n",
    "\n",
    "```\n",
    "||y - Xw||^2_2 + alpha * ||w||^2_2\n",
    "```\n",
    "\n",
    "This model solves a regression model where the loss function is the linear least squares function and regularization is given by the l2-norm. Also known as Ridge Regression or Tikhonov regularization. This estimator has built-in support for multi-variate regression (i.e., when y is a 2d-array of shape (n_samples, n_targets))."
   ]
  },
  {
   "cell_type": "code",
   "execution_count": null,
   "metadata": {
    "colab": {
     "base_uri": "https://localhost:8080/"
    },
    "executionInfo": {
     "elapsed": 1460,
     "status": "ok",
     "timestamp": 1670431928978,
     "user": {
      "displayName": "Clash Clans",
      "userId": "00562530571182710236"
     },
     "user_tz": -330
    },
    "id": "ecifxsPXtD1k",
    "outputId": "9e0b358e-a695-48b7-e5d0-9878607fdb8a"
   },
   "outputs": [
    {
     "name": "stdout",
     "output_type": "stream",
     "text": [
      "Best training score: 0.6677290335534787\n",
      "Alpha (best): 0.1\n",
      "R2 score: 0.5984985784364689\n"
     ]
    }
   ],
   "source": [
    "# load linear regression with l2\n",
    "from sklearn.linear_model import RidgeCV\n",
    "# cross validation: https://scikit-learn.org/stable/modules/cross_validation.html\n",
    "\n",
    "# LLinear least squares with l2 regularization.\n",
    "# Minimizes the objective function:\n",
    "#         ||y - Xw||^2_2 + alpha * ||w||^2_2\n",
    "# This model solves a regression model where the loss function is\n",
    "# the linear least squares function and regularization is given by\n",
    "# the l2-norm.\n",
    "\n",
    "# make Ridge Regression with 5 cross folds \n",
    "lRegl2=RidgeCV(alphas=np.linspace(0.1,1000,25),cv=None,store_cv_values=True)\n",
    "# make model train \n",
    "lRegl2.fit(Xtrain,ytrain)\n",
    "\n",
    "# make print all scores \n",
    "print('Best training score:',abs(lRegl2.best_score_))# negative (used as loss)\n",
    "# print best alpha value \n",
    "print('Alpha (best):',lRegl2.alpha_)\n",
    "# make calculate score \n",
    "print('R2 score:',lRegl2.score(Xtest,ytest))"
   ]
  },
  {
   "cell_type": "markdown",
   "metadata": {
    "id": "TR_7fWmmw4TI"
   },
   "source": [
    "### Regression using Linear Regression with combined l1 and l2 (using [sklearn.linear_model.ElasticNet](https://scikit-learn.org/stable/modules/generated/sklearn.linear_model.ElasticNet.html) and [Grid Search Cross Validation](https://scikit-learn.org/stable/modules/generated/sklearn.model_selection.GridSearchCV.html))\n",
    "\n",
    "Linear regression with combined L1 and L2 priors as regularizer.\n",
    "\n",
    "Minimizes the objective function:\n",
    "\n",
    "```\n",
    "1 / (2 * n_samples) * ||y - Xw||^2_2 + alpha * l1_ratio * ||w||_1 + 0.5 * alpha * (1 - l1_ratio) * ||w||^2_2\n",
    "```\n",
    "\n",
    "If you are interested in controlling the L1 and L2 penalty separately, keep in mind that this is equivalent to:\n",
    "\n",
    "```\n",
    "a * ||w||_1 + 0.5 * b * ||w||_2^2\n",
    "```\n",
    "\n",
    "where:\n",
    "\n",
    "alpha = a + b and l1_ratio = a / (a + b)\n",
    "The parameter l1_ratio corresponds to alpha in the glmnet R package while alpha corresponds to the lambda parameter in glmnet. Specifically, l1_ratio = 1 is the lasso penalty. Currently, l1_ratio <= 0.01 is not reliable, unless you supply your own sequence of alpha."
   ]
  },
  {
   "cell_type": "code",
   "execution_count": 12,
   "metadata": {
    "colab": {
     "base_uri": "https://localhost:8080/"
    },
    "executionInfo": {
     "elapsed": 882307,
     "status": "ok",
     "timestamp": 1670447513736,
     "user": {
      "displayName": "Clash Clans",
      "userId": "00562530571182710236"
     },
     "user_tz": -330
    },
    "id": "-Lgxzdoc0ZgE",
    "outputId": "de9d8cef-bb32-4a63-a0a2-f471af55ce3e"
   },
   "outputs": [
    {
     "name": "stdout",
     "output_type": "stream",
     "text": [
      "Fitting 5 folds for each of 2000 candidates, totalling 10000 fits\n"
     ]
    }
   ],
   "source": [
    "# load Grid Search Cross Validation\n",
    "from sklearn.model_selection import GridSearchCV \n",
    "# load Elastic Net \n",
    "from sklearn.linear_model import ElasticNet\n",
    "# load warnings \n",
    "import warnings \n",
    "# load Convergence Warning\n",
    "from sklearn.exceptions import ConvergenceWarning\n",
    "\n",
    "# hyper-parameter dictionary \n",
    "hyperparameters={'alpha':np.linspace(0.1,1000,100),'l1_ratio':np.linspace(0,1,20)}\n",
    "\n",
    "# make base model \n",
    "lReg_base=ElasticNet(max_iter=10_000)\n",
    "# make serach model (default cv = None, i.e 5 folds; verbose = 0, i.e. )\n",
    "lRegGCV=GridSearchCV(lReg_base,hyperparameters,cv=None,verbose=1,scoring='r2')\n",
    "# Socring (default : None):\n",
    "#   Model evaluation: https://scikit-learn.org/stable/modules/model_evaluation.html#scoring-parameter\n",
    "#   Specifying multiple metrics for evaluation: https://scikit-learn.org/stable/modules/grid_search.html#multimetric-grid-search \n",
    "\n",
    "# make Convergence Warning ignore \n",
    "with warnings.catch_warnings():\n",
    "  # make warning suppress\n",
    "  warnings.filterwarnings(\"ignore\",category=ConvergenceWarning)\n",
    "  # make model train \n",
    "  lRegGCV.fit(Xtrain,ytrain)"
   ]
  },
  {
   "cell_type": "code",
   "execution_count": 13,
   "metadata": {
    "colab": {
     "base_uri": "https://localhost:8080/",
     "height": 261
    },
    "executionInfo": {
     "elapsed": 23,
     "status": "ok",
     "timestamp": 1670447513737,
     "user": {
      "displayName": "Clash Clans",
      "userId": "00562530571182710236"
     },
     "user_tz": -330
    },
    "id": "NQc4ziPi5ivA",
    "outputId": "06dbb008-322c-4d39-807a-431afa121906"
   },
   "outputs": [
    {
     "name": "stdout",
     "output_type": "stream",
     "text": [
      "Best R2 score: 0.5964183005624537\n",
      "Best estimater: ElasticNet(alpha=0.1, l1_ratio=0.0, max_iter=10000)\n",
      "Best hyperparmeters: {'alpha': 0.1, 'l1_ratio': 0.0}\n"
     ]
    },
    {
     "data": {
      "text/html": [
       "\n",
       "  <div id=\"df-5a487804-a719-4a9f-8cc0-abdb42033bb5\">\n",
       "    <div class=\"colab-df-container\">\n",
       "      <div>\n",
       "<style scoped>\n",
       "    .dataframe tbody tr th:only-of-type {\n",
       "        vertical-align: middle;\n",
       "    }\n",
       "\n",
       "    .dataframe tbody tr th {\n",
       "        vertical-align: top;\n",
       "    }\n",
       "\n",
       "    .dataframe thead th {\n",
       "        text-align: right;\n",
       "    }\n",
       "</style>\n",
       "<table border=\"1\" class=\"dataframe\">\n",
       "  <thead>\n",
       "    <tr style=\"text-align: right;\">\n",
       "      <th></th>\n",
       "      <th>param_alpha</th>\n",
       "      <th>param_l1_ratio</th>\n",
       "      <th>mean_test_score</th>\n",
       "      <th>rank_test_score</th>\n",
       "    </tr>\n",
       "  </thead>\n",
       "  <tbody>\n",
       "    <tr>\n",
       "      <th>0</th>\n",
       "      <td>0.1</td>\n",
       "      <td>0.0</td>\n",
       "      <td>0.596418</td>\n",
       "      <td>1</td>\n",
       "    </tr>\n",
       "    <tr>\n",
       "      <th>1</th>\n",
       "      <td>0.1</td>\n",
       "      <td>0.052632</td>\n",
       "      <td>0.594297</td>\n",
       "      <td>2</td>\n",
       "    </tr>\n",
       "    <tr>\n",
       "      <th>2</th>\n",
       "      <td>0.1</td>\n",
       "      <td>0.105263</td>\n",
       "      <td>0.592027</td>\n",
       "      <td>3</td>\n",
       "    </tr>\n",
       "    <tr>\n",
       "      <th>3</th>\n",
       "      <td>0.1</td>\n",
       "      <td>0.157895</td>\n",
       "      <td>0.590126</td>\n",
       "      <td>4</td>\n",
       "    </tr>\n",
       "    <tr>\n",
       "      <th>4</th>\n",
       "      <td>0.1</td>\n",
       "      <td>0.210526</td>\n",
       "      <td>0.587689</td>\n",
       "      <td>5</td>\n",
       "    </tr>\n",
       "  </tbody>\n",
       "</table>\n",
       "</div>\n",
       "      <button class=\"colab-df-convert\" onclick=\"convertToInteractive('df-5a487804-a719-4a9f-8cc0-abdb42033bb5')\"\n",
       "              title=\"Convert this dataframe to an interactive table.\"\n",
       "              style=\"display:none;\">\n",
       "        \n",
       "  <svg xmlns=\"http://www.w3.org/2000/svg\" height=\"24px\"viewBox=\"0 0 24 24\"\n",
       "       width=\"24px\">\n",
       "    <path d=\"M0 0h24v24H0V0z\" fill=\"none\"/>\n",
       "    <path d=\"M18.56 5.44l.94 2.06.94-2.06 2.06-.94-2.06-.94-.94-2.06-.94 2.06-2.06.94zm-11 1L8.5 8.5l.94-2.06 2.06-.94-2.06-.94L8.5 2.5l-.94 2.06-2.06.94zm10 10l.94 2.06.94-2.06 2.06-.94-2.06-.94-.94-2.06-.94 2.06-2.06.94z\"/><path d=\"M17.41 7.96l-1.37-1.37c-.4-.4-.92-.59-1.43-.59-.52 0-1.04.2-1.43.59L10.3 9.45l-7.72 7.72c-.78.78-.78 2.05 0 2.83L4 21.41c.39.39.9.59 1.41.59.51 0 1.02-.2 1.41-.59l7.78-7.78 2.81-2.81c.8-.78.8-2.07 0-2.86zM5.41 20L4 18.59l7.72-7.72 1.47 1.35L5.41 20z\"/>\n",
       "  </svg>\n",
       "      </button>\n",
       "      \n",
       "  <style>\n",
       "    .colab-df-container {\n",
       "      display:flex;\n",
       "      flex-wrap:wrap;\n",
       "      gap: 12px;\n",
       "    }\n",
       "\n",
       "    .colab-df-convert {\n",
       "      background-color: #E8F0FE;\n",
       "      border: none;\n",
       "      border-radius: 50%;\n",
       "      cursor: pointer;\n",
       "      display: none;\n",
       "      fill: #1967D2;\n",
       "      height: 32px;\n",
       "      padding: 0 0 0 0;\n",
       "      width: 32px;\n",
       "    }\n",
       "\n",
       "    .colab-df-convert:hover {\n",
       "      background-color: #E2EBFA;\n",
       "      box-shadow: 0px 1px 2px rgba(60, 64, 67, 0.3), 0px 1px 3px 1px rgba(60, 64, 67, 0.15);\n",
       "      fill: #174EA6;\n",
       "    }\n",
       "\n",
       "    [theme=dark] .colab-df-convert {\n",
       "      background-color: #3B4455;\n",
       "      fill: #D2E3FC;\n",
       "    }\n",
       "\n",
       "    [theme=dark] .colab-df-convert:hover {\n",
       "      background-color: #434B5C;\n",
       "      box-shadow: 0px 1px 3px 1px rgba(0, 0, 0, 0.15);\n",
       "      filter: drop-shadow(0px 1px 2px rgba(0, 0, 0, 0.3));\n",
       "      fill: #FFFFFF;\n",
       "    }\n",
       "  </style>\n",
       "\n",
       "      <script>\n",
       "        const buttonEl =\n",
       "          document.querySelector('#df-5a487804-a719-4a9f-8cc0-abdb42033bb5 button.colab-df-convert');\n",
       "        buttonEl.style.display =\n",
       "          google.colab.kernel.accessAllowed ? 'block' : 'none';\n",
       "\n",
       "        async function convertToInteractive(key) {\n",
       "          const element = document.querySelector('#df-5a487804-a719-4a9f-8cc0-abdb42033bb5');\n",
       "          const dataTable =\n",
       "            await google.colab.kernel.invokeFunction('convertToInteractive',\n",
       "                                                     [key], {});\n",
       "          if (!dataTable) return;\n",
       "\n",
       "          const docLinkHtml = 'Like what you see? Visit the ' +\n",
       "            '<a target=\"_blank\" href=https://colab.research.google.com/notebooks/data_table.ipynb>data table notebook</a>'\n",
       "            + ' to learn more about interactive tables.';\n",
       "          element.innerHTML = '';\n",
       "          dataTable['output_type'] = 'display_data';\n",
       "          await google.colab.output.renderOutput(dataTable, element);\n",
       "          const docLink = document.createElement('div');\n",
       "          docLink.innerHTML = docLinkHtml;\n",
       "          element.appendChild(docLink);\n",
       "        }\n",
       "      </script>\n",
       "    </div>\n",
       "  </div>\n",
       "  "
      ],
      "text/plain": [
       "  param_alpha param_l1_ratio  mean_test_score  rank_test_score\n",
       "0         0.1            0.0         0.596418                1\n",
       "1         0.1       0.052632         0.594297                2\n",
       "2         0.1       0.105263         0.592027                3\n",
       "3         0.1       0.157895         0.590126                4\n",
       "4         0.1       0.210526         0.587689                5"
      ]
     },
     "execution_count": 13,
     "metadata": {},
     "output_type": "execute_result"
    }
   ],
   "source": [
    "# make print best score \n",
    "print('Best R2 score:',lRegGCV.best_score_)\n",
    "# see best model \n",
    "print('Best estimater:',lRegGCV.best_estimator_)\n",
    "# see best hyperparameter \n",
    "print('Best hyperparmeters:',lRegGCV.best_params_)\n",
    "\n",
    "# convert Grid Search CV results to pandas dataframe (from lRegGCV.cv_results_ (dictionary))\n",
    "lRegGCV_results_df_full=pd.DataFrame(data=lRegGCV.cv_results_)\n",
    "# select only required columns \n",
    "lRegGCV_results_df=lRegGCV_results_df_full[['param_alpha','param_l1_ratio','mean_test_score',\n",
    "                                            'rank_test_score']]\n",
    "# make sort results by \"test score\"\n",
    "lRegGCV_results_df=lRegGCV_results_df.sort_values('rank_test_score',inplace=False)# warning at inplace=True\n",
    "# see head\n",
    "lRegGCV_results_df.head()"
   ]
  },
  {
   "cell_type": "markdown",
   "metadata": {
    "id": "Ii-I9tDyYNRw"
   },
   "source": [
    "### Linear Regression with Polynomial Features using [sklearn.preprocessing.PolynomialFeatures](https://scikit-learn.org/stable/modules/generated/sklearn.preprocessing.PolynomialFeatures.html) and [Grid Search Cross Validation](https://scikit-learn.org/stable/modules/generated/sklearn.model_selection.GridSearchCV.html))\n",
    "\n",
    "Generate polynomial and interaction features.\n",
    "\n",
    "Generate a new feature matrix consisting of all polynomial combinations of the features with degree less than or equal to the specified degree. For example, if an input sample is two dimensional and of the form [a, b], the degree-2 polynomial features are [1, a, b, a^2, ab, b^2].\n",
    "\n",
    "\n"
   ]
  },
  {
   "cell_type": "code",
   "execution_count": 12,
   "metadata": {
    "colab": {
     "base_uri": "https://localhost:8080/"
    },
    "executionInfo": {
     "elapsed": 3204086,
     "status": "ok",
     "timestamp": 1670451709391,
     "user": {
      "displayName": "Clash Clans",
      "userId": "00562530571182710236"
     },
     "user_tz": -330
    },
    "id": "E9yfX2FBYNmu",
    "outputId": "0f74a1a9-772f-4790-af42-b8e3015c632a"
   },
   "outputs": [
    {
     "name": "stdout",
     "output_type": "stream",
     "text": [
      "Score: -0.5171324345751362 for degree=2\n",
      "Score: -178550.07294995448 for degree=3\n",
      "Score: -13744043252.662092 for degree=4\n",
      "Score: -17216920475.494347 for degree=5\n",
      "Score: -194521307116.45663 for degree=6\n",
      "Score: -33699333360.714878 for degree=7\n",
      "Score: -28291887.240955323 for degree=8\n",
      "Score: -84133640.97481042 for degree=9\n"
     ]
    }
   ],
   "source": [
    "# load polynomial features maker \n",
    "from sklearn.preprocessing import PolynomialFeatures\n",
    "# load linear regression model \n",
    "from sklearn.linear_model import LinearRegression \n",
    "# load model pipeline \n",
    "from sklearn.pipeline import Pipeline# Pipeline of transforms with a final estimator.\n",
    "\n",
    "# make polynomial features base \n",
    "#polynomial_features=PolynomialFeatures()\n",
    "# make linear regression model \n",
    "#lReg_base=LinearRegression()\n",
    "# make base model pipeline \n",
    "#base_pipe=Pipeline([('Polynomial Features',polynomial_features),('Linear Regression',lReg_base)],verbose=True)\n",
    "\n",
    "# make search for best degree results \n",
    "for degree in range(2,10):\n",
    "  # make base model pipeline \n",
    "  base_pipe=Pipeline([('Polynomial Features',PolynomialFeatures(degree=degree)),\n",
    "                      ('Linear Regression',LinearRegression())],verbose=False)\n",
    "  # make model fit (train)\n",
    "  base_pipe.fit(Xtrain,ytrain)\n",
    "  # make print model socre (on test data)\n",
    "  print('Score:',base_pipe.score(Xtest,ytest),f'for degree={degree}')"
   ]
  },
  {
   "cell_type": "markdown",
   "metadata": {
    "id": "fqXZoZ-2Z5xr"
   },
   "source": [
    "# References / Further reading\n",
    "\n",
    "* https://scikit-learn.org/stable/modules/generated/sklearn.model_selection.train_test_split.html\n",
    "* [Cross Validation](https://scikit-learn.org/stable/modules/cross_validation.html)\n",
    "* [Grid Search Cross Validation](https://scikit-learn.org/stable/modules/generated/sklearn.model_selection.GridSearchCV.html)\n",
    "* https://scikit-learn.org/stable/modules/generated/sklearn.linear_model.LinearRegression.html\n",
    "* https://scikit-learn.org/stable/modules/generated/sklearn.linear_model.Ridge.html\n",
    "* https://scikit-learn.org/stable/modules/generated/sklearn.linear_model.ElasticNet.html\n",
    "* [Underfitting vs. Overfitting](https://scikit-learn.org/stable/auto_examples/model_selection/plot_underfitting_overfitting.html)\n"
   ]
  }
 ],
 "metadata": {
  "colab": {
   "authorship_tag": "ABX9TyM6WlAadngBTeHlyYLmNk2L",
   "collapsed_sections": [
    "BDR-6t_fBzbY",
    "VLkPVuHmpes7",
    "fJzeDM9gpbag",
    "xuthmnDaplyM",
    "nbdb2GJ3prcR",
    "6soQU3pYp8TL",
    "90CD1IIeqDED",
    "TR_7fWmmw4TI"
   ],
   "provenance": []
  },
  "kernelspec": {
   "display_name": "Python 3",
   "name": "python3"
  },
  "language_info": {
   "name": "python"
  }
 },
 "nbformat": 4,
 "nbformat_minor": 0
}
