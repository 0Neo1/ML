{
 "cells": [
  {
   "cell_type": "code",
   "execution_count": 2,
   "metadata": {
    "colab": {
     "base_uri": "https://localhost:8080/"
    },
    "executionInfo": {
     "elapsed": 2252,
     "status": "ok",
     "timestamp": 1698334490483,
     "user": {
      "displayName": "Clash Clans",
      "userId": "00562530571182710236"
     },
     "user_tz": -330
    },
    "id": "4X7_Mh6StoR1",
    "outputId": "339d04f2-1383-48fe-c066-a4ec2dc9d31a"
   },
   "outputs": [
    {
     "name": "stdout",
     "output_type": "stream",
     "text": [
      "Python 3.10.12\n",
      "numpy version: 1.23.5\n",
      "pandas version:  1.5.3\n",
      "seaborn version: 0.12.2\n",
      "pyplot:  <module 'matplotlib.pyplot' from '/usr/local/lib/python3.10/dist-packages/matplotlib/pyplot.py'>\n"
     ]
    }
   ],
   "source": [
    "!python --version   # Python version\n",
    "\n",
    "# About python:  https://www.python.org/\n",
    "#                Python is powerful... and fast; plays well with others; runs everywhere; is friendly & easy to learn;\n",
    "#                is Open –> https://www.python.org/about/.\n",
    "#     Python docs: https://docs.python.org/3/ (all documentation);\n",
    "#                  https://docs.python.org/3.10/ (Recommended version – 3.10).\n",
    "# The Python Tutorial (python3.10): https://docs.python.org/3.10//tutorial/index.html\n",
    "\n",
    "# Load Modules ---\n",
    "import numpy as np, pandas as pd, matplotlib.pyplot as plt, seaborn as sns\n",
    "# NumPy : The fundamental package for scientific computing with Python. NumPy is the fundamental package for scientific\n",
    "#         computing in Python. It is a Python library that provides a multidimensional array object, various derived\n",
    "#         objects (such as masked arrays and matrices), and an assortment of routines for fast operations on arrays,\n",
    "#         including mathematical, logical, shape manipulation, sorting, selecting, I/O, discrete Fourier transforms,\n",
    "#         basic linear algebra, basic statistical operations, random simulation and much more.\n",
    "#     About: https://numpy.org/\n",
    "#     Docs: https://numpy.org/doc/stable/\n",
    "#     NumPy quickstart: https://numpy.org/doc/stable/user/quickstart.html\n",
    "\n",
    "# Pandas: pandas is a fast, powerful, flexible and easy to use open source data analysis and manipulation tool,\n",
    "#         built on top of the Python programming language.\n",
    "#     About: https://pandas.pydata.org/\n",
    "#     Docs: https://pandas.pydata.org/docs/\n",
    "#     Getting started: https://pandas.pydata.org/docs/getting_started/index.html\n",
    "#     User Guide: https://pandas.pydata.org/docs/user_guide/index.html#user-guide\n",
    "\n",
    "# Matplotlib : Matplotlib is a comprehensive library for creating static, animated, and interactive visualizations.\n",
    "#       About: https://matplotlib.org/\n",
    "#       Using Matplotlib (user guide): https://matplotlib.org/stable/users/index\n",
    "#       Plot types: https://matplotlib.org/stable/plot_types/index\n",
    "#       Tutorials: https://matplotlib.org/stable/tutorials/index\n",
    "#       Examples: https://matplotlib.org/stable/gallery/index\n",
    "#       API Reference: https://matplotlib.org/stable/api/index\n",
    "\n",
    "# Seaborn: Seaborn is a Python data visualization library based on matplotlib. It provides a\n",
    "#          high-level interface for drawing attractive and informative statistical graphics.\n",
    "#   About: https://seaborn.pydata.org/\n",
    "\n",
    "print('numpy version:',np.__version__)\n",
    "print('pandas version: ',pd.__version__)\n",
    "print('seaborn version:',sns.__version__)\n",
    "print('pyplot: ',plt)"
   ]
  },
  {
   "cell_type": "markdown",
   "metadata": {
    "id": "mMIS4L4ouDTk"
   },
   "source": [
    "# [Linear Regression](https://scikit-learn.org/stable/modules/linear_model.html) - [Ordinary Least Squares (OLS) Method](https://scikit-learn.org/stable/modules/linear_model.html#ordinary-least-squares)\n",
    "\n",
    "Equation of line -\n",
    "`y = mx + c`"
   ]
  },
  {
   "cell_type": "markdown",
   "metadata": {
    "id": "vxYcMbEt1kdh"
   },
   "source": [
    "![mass-luminosity.gif](https://www.astronomynotes.com/starprop/mass-luminosity.gif)\n",
    "\n",
    "Source: https://www.astronomynotes.com/starsun/s8.htm"
   ]
  },
  {
   "cell_type": "markdown",
   "metadata": {
    "id": "MpQ2KpD9ktOQ"
   },
   "source": [
    "## On sample dataset (Salary-Prediciton-based-on-Years-of-Experience)"
   ]
  },
  {
   "cell_type": "markdown",
   "metadata": {
    "id": "Zmiz1s_Nn38O"
   },
   "source": [
    "### load and analysis dataset\n",
    "\n",
    "source: https://docs.google.com/spreadsheets/d/1RL6e_ajdGaM9tL5UQz8vdBrYpKtlswZE/edit?usp=drive_link&ouid=113243900180498872880&rtpof=true&sd=true"
   ]
  },
  {
   "cell_type": "code",
   "execution_count": 1,
   "metadata": {
    "colab": {
     "base_uri": "https://localhost:8080/"
    },
    "executionInfo": {
     "elapsed": 1847,
     "status": "ok",
     "timestamp": 1698334488236,
     "user": {
      "displayName": "Clash Clans",
      "userId": "00562530571182710236"
     },
     "user_tz": -330
    },
    "id": "FzF_BrwYnvjV",
    "outputId": "a4633e75-cbac-40a7-84b2-4e9515772bc9"
   },
   "outputs": [
    {
     "name": "stdout",
     "output_type": "stream",
     "text": [
      "Downloading...\n",
      "From: https://drive.google.com/uc?id=1RL6e_ajdGaM9tL5UQz8vdBrYpKtlswZE\n",
      "To: /content/salary_data4regression.xlsx\n",
      "\r  0% 0.00/30.2k [00:00<?, ?B/s]\r100% 30.2k/30.2k [00:00<00:00, 64.7MB/s]\n"
     ]
    }
   ],
   "source": [
    "# Source: https://docs.google.com/spreadsheets/d/1RL6e_ajdGaM9tL5UQz8vdBrYpKtlswZE/edit?usp=drive_link&ouid=113243900180498872880&rtpof=true&sd=true\n",
    "!gdown \"1RL6e_ajdGaM9tL5UQz8vdBrYpKtlswZE\""
   ]
  },
  {
   "cell_type": "code",
   "execution_count": 7,
   "metadata": {
    "colab": {
     "base_uri": "https://localhost:8080/",
     "height": 206
    },
    "executionInfo": {
     "elapsed": 489,
     "status": "ok",
     "timestamp": 1698335035754,
     "user": {
      "displayName": "Clash Clans",
      "userId": "00562530571182710236"
     },
     "user_tz": -330
    },
    "id": "7p3iCC56pwt4",
    "outputId": "cce210fc-24b2-4928-a0a7-a4f45039deb3"
   },
   "outputs": [
    {
     "data": {
      "text/html": [
       "\n",
       "  <div id=\"df-864782a1-68bf-4780-bcfd-65b5415cd6c6\" class=\"colab-df-container\">\n",
       "    <div>\n",
       "<style scoped>\n",
       "    .dataframe tbody tr th:only-of-type {\n",
       "        vertical-align: middle;\n",
       "    }\n",
       "\n",
       "    .dataframe tbody tr th {\n",
       "        vertical-align: top;\n",
       "    }\n",
       "\n",
       "    .dataframe thead th {\n",
       "        text-align: right;\n",
       "    }\n",
       "</style>\n",
       "<table border=\"1\" class=\"dataframe\">\n",
       "  <thead>\n",
       "    <tr style=\"text-align: right;\">\n",
       "      <th></th>\n",
       "      <th>experience (x)</th>\n",
       "      <th>salary (y)</th>\n",
       "    </tr>\n",
       "  </thead>\n",
       "  <tbody>\n",
       "    <tr>\n",
       "      <th>0</th>\n",
       "      <td>1</td>\n",
       "      <td>32472</td>\n",
       "    </tr>\n",
       "    <tr>\n",
       "      <th>1</th>\n",
       "      <td>2</td>\n",
       "      <td>39700</td>\n",
       "    </tr>\n",
       "    <tr>\n",
       "      <th>2</th>\n",
       "      <td>3</td>\n",
       "      <td>55597</td>\n",
       "    </tr>\n",
       "    <tr>\n",
       "      <th>3</th>\n",
       "      <td>4</td>\n",
       "      <td>61001</td>\n",
       "    </tr>\n",
       "    <tr>\n",
       "      <th>4</th>\n",
       "      <td>5</td>\n",
       "      <td>69000</td>\n",
       "    </tr>\n",
       "  </tbody>\n",
       "</table>\n",
       "</div>\n",
       "    <div class=\"colab-df-buttons\">\n",
       "\n",
       "  <div class=\"colab-df-container\">\n",
       "    <button class=\"colab-df-convert\" onclick=\"convertToInteractive('df-864782a1-68bf-4780-bcfd-65b5415cd6c6')\"\n",
       "            title=\"Convert this dataframe to an interactive table.\"\n",
       "            style=\"display:none;\">\n",
       "\n",
       "  <svg xmlns=\"http://www.w3.org/2000/svg\" height=\"24px\" viewBox=\"0 -960 960 960\">\n",
       "    <path d=\"M120-120v-720h720v720H120Zm60-500h600v-160H180v160Zm220 220h160v-160H400v160Zm0 220h160v-160H400v160ZM180-400h160v-160H180v160Zm440 0h160v-160H620v160ZM180-180h160v-160H180v160Zm440 0h160v-160H620v160Z\"/>\n",
       "  </svg>\n",
       "    </button>\n",
       "\n",
       "  <style>\n",
       "    .colab-df-container {\n",
       "      display:flex;\n",
       "      gap: 12px;\n",
       "    }\n",
       "\n",
       "    .colab-df-convert {\n",
       "      background-color: #E8F0FE;\n",
       "      border: none;\n",
       "      border-radius: 50%;\n",
       "      cursor: pointer;\n",
       "      display: none;\n",
       "      fill: #1967D2;\n",
       "      height: 32px;\n",
       "      padding: 0 0 0 0;\n",
       "      width: 32px;\n",
       "    }\n",
       "\n",
       "    .colab-df-convert:hover {\n",
       "      background-color: #E2EBFA;\n",
       "      box-shadow: 0px 1px 2px rgba(60, 64, 67, 0.3), 0px 1px 3px 1px rgba(60, 64, 67, 0.15);\n",
       "      fill: #174EA6;\n",
       "    }\n",
       "\n",
       "    .colab-df-buttons div {\n",
       "      margin-bottom: 4px;\n",
       "    }\n",
       "\n",
       "    [theme=dark] .colab-df-convert {\n",
       "      background-color: #3B4455;\n",
       "      fill: #D2E3FC;\n",
       "    }\n",
       "\n",
       "    [theme=dark] .colab-df-convert:hover {\n",
       "      background-color: #434B5C;\n",
       "      box-shadow: 0px 1px 3px 1px rgba(0, 0, 0, 0.15);\n",
       "      filter: drop-shadow(0px 1px 2px rgba(0, 0, 0, 0.3));\n",
       "      fill: #FFFFFF;\n",
       "    }\n",
       "  </style>\n",
       "\n",
       "    <script>\n",
       "      const buttonEl =\n",
       "        document.querySelector('#df-864782a1-68bf-4780-bcfd-65b5415cd6c6 button.colab-df-convert');\n",
       "      buttonEl.style.display =\n",
       "        google.colab.kernel.accessAllowed ? 'block' : 'none';\n",
       "\n",
       "      async function convertToInteractive(key) {\n",
       "        const element = document.querySelector('#df-864782a1-68bf-4780-bcfd-65b5415cd6c6');\n",
       "        const dataTable =\n",
       "          await google.colab.kernel.invokeFunction('convertToInteractive',\n",
       "                                                    [key], {});\n",
       "        if (!dataTable) return;\n",
       "\n",
       "        const docLinkHtml = 'Like what you see? Visit the ' +\n",
       "          '<a target=\"_blank\" href=https://colab.research.google.com/notebooks/data_table.ipynb>data table notebook</a>'\n",
       "          + ' to learn more about interactive tables.';\n",
       "        element.innerHTML = '';\n",
       "        dataTable['output_type'] = 'display_data';\n",
       "        await google.colab.output.renderOutput(dataTable, element);\n",
       "        const docLink = document.createElement('div');\n",
       "        docLink.innerHTML = docLinkHtml;\n",
       "        element.appendChild(docLink);\n",
       "      }\n",
       "    </script>\n",
       "  </div>\n",
       "\n",
       "\n",
       "<div id=\"df-306f6812-45cf-4a47-b6b2-8b1ad61891b4\">\n",
       "  <button class=\"colab-df-quickchart\" onclick=\"quickchart('df-306f6812-45cf-4a47-b6b2-8b1ad61891b4')\"\n",
       "            title=\"Suggest charts.\"\n",
       "            style=\"display:none;\">\n",
       "\n",
       "<svg xmlns=\"http://www.w3.org/2000/svg\" height=\"24px\"viewBox=\"0 0 24 24\"\n",
       "     width=\"24px\">\n",
       "    <g>\n",
       "        <path d=\"M19 3H5c-1.1 0-2 .9-2 2v14c0 1.1.9 2 2 2h14c1.1 0 2-.9 2-2V5c0-1.1-.9-2-2-2zM9 17H7v-7h2v7zm4 0h-2V7h2v10zm4 0h-2v-4h2v4z\"/>\n",
       "    </g>\n",
       "</svg>\n",
       "  </button>\n",
       "\n",
       "<style>\n",
       "  .colab-df-quickchart {\n",
       "      --bg-color: #E8F0FE;\n",
       "      --fill-color: #1967D2;\n",
       "      --hover-bg-color: #E2EBFA;\n",
       "      --hover-fill-color: #174EA6;\n",
       "      --disabled-fill-color: #AAA;\n",
       "      --disabled-bg-color: #DDD;\n",
       "  }\n",
       "\n",
       "  [theme=dark] .colab-df-quickchart {\n",
       "      --bg-color: #3B4455;\n",
       "      --fill-color: #D2E3FC;\n",
       "      --hover-bg-color: #434B5C;\n",
       "      --hover-fill-color: #FFFFFF;\n",
       "      --disabled-bg-color: #3B4455;\n",
       "      --disabled-fill-color: #666;\n",
       "  }\n",
       "\n",
       "  .colab-df-quickchart {\n",
       "    background-color: var(--bg-color);\n",
       "    border: none;\n",
       "    border-radius: 50%;\n",
       "    cursor: pointer;\n",
       "    display: none;\n",
       "    fill: var(--fill-color);\n",
       "    height: 32px;\n",
       "    padding: 0;\n",
       "    width: 32px;\n",
       "  }\n",
       "\n",
       "  .colab-df-quickchart:hover {\n",
       "    background-color: var(--hover-bg-color);\n",
       "    box-shadow: 0 1px 2px rgba(60, 64, 67, 0.3), 0 1px 3px 1px rgba(60, 64, 67, 0.15);\n",
       "    fill: var(--button-hover-fill-color);\n",
       "  }\n",
       "\n",
       "  .colab-df-quickchart-complete:disabled,\n",
       "  .colab-df-quickchart-complete:disabled:hover {\n",
       "    background-color: var(--disabled-bg-color);\n",
       "    fill: var(--disabled-fill-color);\n",
       "    box-shadow: none;\n",
       "  }\n",
       "\n",
       "  .colab-df-spinner {\n",
       "    border: 2px solid var(--fill-color);\n",
       "    border-color: transparent;\n",
       "    border-bottom-color: var(--fill-color);\n",
       "    animation:\n",
       "      spin 1s steps(1) infinite;\n",
       "  }\n",
       "\n",
       "  @keyframes spin {\n",
       "    0% {\n",
       "      border-color: transparent;\n",
       "      border-bottom-color: var(--fill-color);\n",
       "      border-left-color: var(--fill-color);\n",
       "    }\n",
       "    20% {\n",
       "      border-color: transparent;\n",
       "      border-left-color: var(--fill-color);\n",
       "      border-top-color: var(--fill-color);\n",
       "    }\n",
       "    30% {\n",
       "      border-color: transparent;\n",
       "      border-left-color: var(--fill-color);\n",
       "      border-top-color: var(--fill-color);\n",
       "      border-right-color: var(--fill-color);\n",
       "    }\n",
       "    40% {\n",
       "      border-color: transparent;\n",
       "      border-right-color: var(--fill-color);\n",
       "      border-top-color: var(--fill-color);\n",
       "    }\n",
       "    60% {\n",
       "      border-color: transparent;\n",
       "      border-right-color: var(--fill-color);\n",
       "    }\n",
       "    80% {\n",
       "      border-color: transparent;\n",
       "      border-right-color: var(--fill-color);\n",
       "      border-bottom-color: var(--fill-color);\n",
       "    }\n",
       "    90% {\n",
       "      border-color: transparent;\n",
       "      border-bottom-color: var(--fill-color);\n",
       "    }\n",
       "  }\n",
       "</style>\n",
       "\n",
       "  <script>\n",
       "    async function quickchart(key) {\n",
       "      const quickchartButtonEl =\n",
       "        document.querySelector('#' + key + ' button');\n",
       "      quickchartButtonEl.disabled = true;  // To prevent multiple clicks.\n",
       "      quickchartButtonEl.classList.add('colab-df-spinner');\n",
       "      try {\n",
       "        const charts = await google.colab.kernel.invokeFunction(\n",
       "            'suggestCharts', [key], {});\n",
       "      } catch (error) {\n",
       "        console.error('Error during call to suggestCharts:', error);\n",
       "      }\n",
       "      quickchartButtonEl.classList.remove('colab-df-spinner');\n",
       "      quickchartButtonEl.classList.add('colab-df-quickchart-complete');\n",
       "    }\n",
       "    (() => {\n",
       "      let quickchartButtonEl =\n",
       "        document.querySelector('#df-306f6812-45cf-4a47-b6b2-8b1ad61891b4 button');\n",
       "      quickchartButtonEl.style.display =\n",
       "        google.colab.kernel.accessAllowed ? 'block' : 'none';\n",
       "    })();\n",
       "  </script>\n",
       "</div>\n",
       "\n",
       "    </div>\n",
       "  </div>\n"
      ],
      "text/plain": [
       "   experience (x)  salary (y)\n",
       "0               1       32472\n",
       "1               2       39700\n",
       "2               3       55597\n",
       "3               4       61001\n",
       "4               5       69000"
      ]
     },
     "execution_count": 7,
     "metadata": {},
     "output_type": "execute_result"
    }
   ],
   "source": [
    "data=pd.read_excel('salary_data4regression.xlsx')                               # load data\n",
    "data.head()                                                                     # head of data"
   ]
  },
  {
   "cell_type": "code",
   "execution_count": 8,
   "metadata": {
    "colab": {
     "base_uri": "https://localhost:8080/",
     "height": 206
    },
    "executionInfo": {
     "elapsed": 7,
     "status": "ok",
     "timestamp": 1698335039642,
     "user": {
      "displayName": "Clash Clans",
      "userId": "00562530571182710236"
     },
     "user_tz": -330
    },
    "id": "FtD2Q16HoDAH",
    "outputId": "3cb16578-a9cd-49fc-905b-35af6db53f51"
   },
   "outputs": [
    {
     "data": {
      "text/html": [
       "\n",
       "  <div id=\"df-844e4119-7963-4ee5-aef1-18d14483a8da\" class=\"colab-df-container\">\n",
       "    <div>\n",
       "<style scoped>\n",
       "    .dataframe tbody tr th:only-of-type {\n",
       "        vertical-align: middle;\n",
       "    }\n",
       "\n",
       "    .dataframe tbody tr th {\n",
       "        vertical-align: top;\n",
       "    }\n",
       "\n",
       "    .dataframe thead th {\n",
       "        text-align: right;\n",
       "    }\n",
       "</style>\n",
       "<table border=\"1\" class=\"dataframe\">\n",
       "  <thead>\n",
       "    <tr style=\"text-align: right;\">\n",
       "      <th></th>\n",
       "      <th>experience (x)</th>\n",
       "      <th>salary (y)</th>\n",
       "    </tr>\n",
       "  </thead>\n",
       "  <tbody>\n",
       "    <tr>\n",
       "      <th>5</th>\n",
       "      <td>6</td>\n",
       "      <td>78345</td>\n",
       "    </tr>\n",
       "    <tr>\n",
       "      <th>6</th>\n",
       "      <td>7</td>\n",
       "      <td>86001</td>\n",
       "    </tr>\n",
       "    <tr>\n",
       "      <th>7</th>\n",
       "      <td>8</td>\n",
       "      <td>96123</td>\n",
       "    </tr>\n",
       "    <tr>\n",
       "      <th>8</th>\n",
       "      <td>9</td>\n",
       "      <td>101700</td>\n",
       "    </tr>\n",
       "    <tr>\n",
       "      <th>9</th>\n",
       "      <td>10</td>\n",
       "      <td>120000</td>\n",
       "    </tr>\n",
       "  </tbody>\n",
       "</table>\n",
       "</div>\n",
       "    <div class=\"colab-df-buttons\">\n",
       "\n",
       "  <div class=\"colab-df-container\">\n",
       "    <button class=\"colab-df-convert\" onclick=\"convertToInteractive('df-844e4119-7963-4ee5-aef1-18d14483a8da')\"\n",
       "            title=\"Convert this dataframe to an interactive table.\"\n",
       "            style=\"display:none;\">\n",
       "\n",
       "  <svg xmlns=\"http://www.w3.org/2000/svg\" height=\"24px\" viewBox=\"0 -960 960 960\">\n",
       "    <path d=\"M120-120v-720h720v720H120Zm60-500h600v-160H180v160Zm220 220h160v-160H400v160Zm0 220h160v-160H400v160ZM180-400h160v-160H180v160Zm440 0h160v-160H620v160ZM180-180h160v-160H180v160Zm440 0h160v-160H620v160Z\"/>\n",
       "  </svg>\n",
       "    </button>\n",
       "\n",
       "  <style>\n",
       "    .colab-df-container {\n",
       "      display:flex;\n",
       "      gap: 12px;\n",
       "    }\n",
       "\n",
       "    .colab-df-convert {\n",
       "      background-color: #E8F0FE;\n",
       "      border: none;\n",
       "      border-radius: 50%;\n",
       "      cursor: pointer;\n",
       "      display: none;\n",
       "      fill: #1967D2;\n",
       "      height: 32px;\n",
       "      padding: 0 0 0 0;\n",
       "      width: 32px;\n",
       "    }\n",
       "\n",
       "    .colab-df-convert:hover {\n",
       "      background-color: #E2EBFA;\n",
       "      box-shadow: 0px 1px 2px rgba(60, 64, 67, 0.3), 0px 1px 3px 1px rgba(60, 64, 67, 0.15);\n",
       "      fill: #174EA6;\n",
       "    }\n",
       "\n",
       "    .colab-df-buttons div {\n",
       "      margin-bottom: 4px;\n",
       "    }\n",
       "\n",
       "    [theme=dark] .colab-df-convert {\n",
       "      background-color: #3B4455;\n",
       "      fill: #D2E3FC;\n",
       "    }\n",
       "\n",
       "    [theme=dark] .colab-df-convert:hover {\n",
       "      background-color: #434B5C;\n",
       "      box-shadow: 0px 1px 3px 1px rgba(0, 0, 0, 0.15);\n",
       "      filter: drop-shadow(0px 1px 2px rgba(0, 0, 0, 0.3));\n",
       "      fill: #FFFFFF;\n",
       "    }\n",
       "  </style>\n",
       "\n",
       "    <script>\n",
       "      const buttonEl =\n",
       "        document.querySelector('#df-844e4119-7963-4ee5-aef1-18d14483a8da button.colab-df-convert');\n",
       "      buttonEl.style.display =\n",
       "        google.colab.kernel.accessAllowed ? 'block' : 'none';\n",
       "\n",
       "      async function convertToInteractive(key) {\n",
       "        const element = document.querySelector('#df-844e4119-7963-4ee5-aef1-18d14483a8da');\n",
       "        const dataTable =\n",
       "          await google.colab.kernel.invokeFunction('convertToInteractive',\n",
       "                                                    [key], {});\n",
       "        if (!dataTable) return;\n",
       "\n",
       "        const docLinkHtml = 'Like what you see? Visit the ' +\n",
       "          '<a target=\"_blank\" href=https://colab.research.google.com/notebooks/data_table.ipynb>data table notebook</a>'\n",
       "          + ' to learn more about interactive tables.';\n",
       "        element.innerHTML = '';\n",
       "        dataTable['output_type'] = 'display_data';\n",
       "        await google.colab.output.renderOutput(dataTable, element);\n",
       "        const docLink = document.createElement('div');\n",
       "        docLink.innerHTML = docLinkHtml;\n",
       "        element.appendChild(docLink);\n",
       "      }\n",
       "    </script>\n",
       "  </div>\n",
       "\n",
       "\n",
       "<div id=\"df-9c55d704-6b2f-4cc3-8209-e2e25914fbf3\">\n",
       "  <button class=\"colab-df-quickchart\" onclick=\"quickchart('df-9c55d704-6b2f-4cc3-8209-e2e25914fbf3')\"\n",
       "            title=\"Suggest charts.\"\n",
       "            style=\"display:none;\">\n",
       "\n",
       "<svg xmlns=\"http://www.w3.org/2000/svg\" height=\"24px\"viewBox=\"0 0 24 24\"\n",
       "     width=\"24px\">\n",
       "    <g>\n",
       "        <path d=\"M19 3H5c-1.1 0-2 .9-2 2v14c0 1.1.9 2 2 2h14c1.1 0 2-.9 2-2V5c0-1.1-.9-2-2-2zM9 17H7v-7h2v7zm4 0h-2V7h2v10zm4 0h-2v-4h2v4z\"/>\n",
       "    </g>\n",
       "</svg>\n",
       "  </button>\n",
       "\n",
       "<style>\n",
       "  .colab-df-quickchart {\n",
       "      --bg-color: #E8F0FE;\n",
       "      --fill-color: #1967D2;\n",
       "      --hover-bg-color: #E2EBFA;\n",
       "      --hover-fill-color: #174EA6;\n",
       "      --disabled-fill-color: #AAA;\n",
       "      --disabled-bg-color: #DDD;\n",
       "  }\n",
       "\n",
       "  [theme=dark] .colab-df-quickchart {\n",
       "      --bg-color: #3B4455;\n",
       "      --fill-color: #D2E3FC;\n",
       "      --hover-bg-color: #434B5C;\n",
       "      --hover-fill-color: #FFFFFF;\n",
       "      --disabled-bg-color: #3B4455;\n",
       "      --disabled-fill-color: #666;\n",
       "  }\n",
       "\n",
       "  .colab-df-quickchart {\n",
       "    background-color: var(--bg-color);\n",
       "    border: none;\n",
       "    border-radius: 50%;\n",
       "    cursor: pointer;\n",
       "    display: none;\n",
       "    fill: var(--fill-color);\n",
       "    height: 32px;\n",
       "    padding: 0;\n",
       "    width: 32px;\n",
       "  }\n",
       "\n",
       "  .colab-df-quickchart:hover {\n",
       "    background-color: var(--hover-bg-color);\n",
       "    box-shadow: 0 1px 2px rgba(60, 64, 67, 0.3), 0 1px 3px 1px rgba(60, 64, 67, 0.15);\n",
       "    fill: var(--button-hover-fill-color);\n",
       "  }\n",
       "\n",
       "  .colab-df-quickchart-complete:disabled,\n",
       "  .colab-df-quickchart-complete:disabled:hover {\n",
       "    background-color: var(--disabled-bg-color);\n",
       "    fill: var(--disabled-fill-color);\n",
       "    box-shadow: none;\n",
       "  }\n",
       "\n",
       "  .colab-df-spinner {\n",
       "    border: 2px solid var(--fill-color);\n",
       "    border-color: transparent;\n",
       "    border-bottom-color: var(--fill-color);\n",
       "    animation:\n",
       "      spin 1s steps(1) infinite;\n",
       "  }\n",
       "\n",
       "  @keyframes spin {\n",
       "    0% {\n",
       "      border-color: transparent;\n",
       "      border-bottom-color: var(--fill-color);\n",
       "      border-left-color: var(--fill-color);\n",
       "    }\n",
       "    20% {\n",
       "      border-color: transparent;\n",
       "      border-left-color: var(--fill-color);\n",
       "      border-top-color: var(--fill-color);\n",
       "    }\n",
       "    30% {\n",
       "      border-color: transparent;\n",
       "      border-left-color: var(--fill-color);\n",
       "      border-top-color: var(--fill-color);\n",
       "      border-right-color: var(--fill-color);\n",
       "    }\n",
       "    40% {\n",
       "      border-color: transparent;\n",
       "      border-right-color: var(--fill-color);\n",
       "      border-top-color: var(--fill-color);\n",
       "    }\n",
       "    60% {\n",
       "      border-color: transparent;\n",
       "      border-right-color: var(--fill-color);\n",
       "    }\n",
       "    80% {\n",
       "      border-color: transparent;\n",
       "      border-right-color: var(--fill-color);\n",
       "      border-bottom-color: var(--fill-color);\n",
       "    }\n",
       "    90% {\n",
       "      border-color: transparent;\n",
       "      border-bottom-color: var(--fill-color);\n",
       "    }\n",
       "  }\n",
       "</style>\n",
       "\n",
       "  <script>\n",
       "    async function quickchart(key) {\n",
       "      const quickchartButtonEl =\n",
       "        document.querySelector('#' + key + ' button');\n",
       "      quickchartButtonEl.disabled = true;  // To prevent multiple clicks.\n",
       "      quickchartButtonEl.classList.add('colab-df-spinner');\n",
       "      try {\n",
       "        const charts = await google.colab.kernel.invokeFunction(\n",
       "            'suggestCharts', [key], {});\n",
       "      } catch (error) {\n",
       "        console.error('Error during call to suggestCharts:', error);\n",
       "      }\n",
       "      quickchartButtonEl.classList.remove('colab-df-spinner');\n",
       "      quickchartButtonEl.classList.add('colab-df-quickchart-complete');\n",
       "    }\n",
       "    (() => {\n",
       "      let quickchartButtonEl =\n",
       "        document.querySelector('#df-9c55d704-6b2f-4cc3-8209-e2e25914fbf3 button');\n",
       "      quickchartButtonEl.style.display =\n",
       "        google.colab.kernel.accessAllowed ? 'block' : 'none';\n",
       "    })();\n",
       "  </script>\n",
       "</div>\n",
       "\n",
       "    </div>\n",
       "  </div>\n"
      ],
      "text/plain": [
       "   experience (x)  salary (y)\n",
       "5               6       78345\n",
       "6               7       86001\n",
       "7               8       96123\n",
       "8               9      101700\n",
       "9              10      120000"
      ]
     },
     "execution_count": 8,
     "metadata": {},
     "output_type": "execute_result"
    }
   ],
   "source": [
    "data.tail()                                                                     # tail of data"
   ]
  },
  {
   "cell_type": "code",
   "execution_count": 12,
   "metadata": {
    "colab": {
     "base_uri": "https://localhost:8080/"
    },
    "executionInfo": {
     "elapsed": 516,
     "status": "ok",
     "timestamp": 1698335063811,
     "user": {
      "displayName": "Clash Clans",
      "userId": "00562530571182710236"
     },
     "user_tz": -330
    },
    "id": "HYQLsEeknHMT",
    "outputId": "b9afd2dd-5ef0-4042-9718-c2af882f01f9"
   },
   "outputs": [
    {
     "data": {
      "text/plain": [
       "(10, 2)"
      ]
     },
     "execution_count": 12,
     "metadata": {},
     "output_type": "execute_result"
    }
   ],
   "source": [
    "data.shape                                                                      # see shape of data"
   ]
  },
  {
   "cell_type": "code",
   "execution_count": 13,
   "metadata": {
    "colab": {
     "base_uri": "https://localhost:8080/"
    },
    "executionInfo": {
     "elapsed": 480,
     "status": "ok",
     "timestamp": 1698335074351,
     "user": {
      "displayName": "Clash Clans",
      "userId": "00562530571182710236"
     },
     "user_tz": -330
    },
    "id": "Le2pWN3An-SO",
    "outputId": "a06cc923-42b5-4ab7-b74c-67898f1a409b"
   },
   "outputs": [
    {
     "data": {
      "text/plain": [
       "Index(['experience (x)', 'salary (y)'], dtype='object')"
      ]
     },
     "execution_count": 13,
     "metadata": {},
     "output_type": "execute_result"
    }
   ],
   "source": [
    "data.columns                                                                    # see column names"
   ]
  },
  {
   "cell_type": "code",
   "execution_count": 11,
   "metadata": {
    "colab": {
     "base_uri": "https://localhost:8080/"
    },
    "executionInfo": {
     "elapsed": 6,
     "status": "ok",
     "timestamp": 1698335046191,
     "user": {
      "displayName": "Clash Clans",
      "userId": "00562530571182710236"
     },
     "user_tz": -330
    },
    "id": "dwxDL25knMCc",
    "outputId": "72371897-e12f-4edb-a40d-69d9114e9f92"
   },
   "outputs": [
    {
     "name": "stdout",
     "output_type": "stream",
     "text": [
      "<class 'pandas.core.frame.DataFrame'>\n",
      "RangeIndex: 10 entries, 0 to 9\n",
      "Data columns (total 2 columns):\n",
      " #   Column          Non-Null Count  Dtype\n",
      "---  ------          --------------  -----\n",
      " 0   experience (x)  10 non-null     int64\n",
      " 1   salary (y)      10 non-null     int64\n",
      "dtypes: int64(2)\n",
      "memory usage: 288.0 bytes\n"
     ]
    }
   ],
   "source": [
    "data.info()                                                                     # see data info"
   ]
  },
  {
   "cell_type": "code",
   "execution_count": 15,
   "metadata": {
    "colab": {
     "base_uri": "https://localhost:8080/"
    },
    "executionInfo": {
     "elapsed": 429,
     "status": "ok",
     "timestamp": 1698335117616,
     "user": {
      "displayName": "Clash Clans",
      "userId": "00562530571182710236"
     },
     "user_tz": -330
    },
    "id": "_SRSjVslnS_t",
    "outputId": "db4da73c-41d7-4090-9172-99ca1e6de092"
   },
   "outputs": [
    {
     "data": {
      "text/plain": [
       "experience (x)    0\n",
       "salary (y)        0\n",
       "dtype: int64"
      ]
     },
     "execution_count": 15,
     "metadata": {},
     "output_type": "execute_result"
    }
   ],
   "source": [
    "data.isna().sum()                                                               # see null value counts (numerical)"
   ]
  },
  {
   "cell_type": "markdown",
   "metadata": {
    "id": "UsUu4d2poj3T"
   },
   "source": [
    "### plot data"
   ]
  },
  {
   "cell_type": "code",
   "execution_count": 16,
   "metadata": {
    "colab": {
     "base_uri": "https://localhost:8080/",
     "height": 472
    },
    "executionInfo": {
     "elapsed": 889,
     "status": "ok",
     "timestamp": 1698335134411,
     "user": {
      "displayName": "Clash Clans",
      "userId": "00562530571182710236"
     },
     "user_tz": -330
    },
    "id": "xliFxuuOnQmP",
    "outputId": "cd6dbcd1-e9e0-4aef-b934-6cd9833a1fe8"
   },
   "outputs": [
    {
     "data": {
      "image/png": "[encoded data removed]",
      "text/plain": [
       "<Figure size 640x480 with 1 Axes>"
      ]
     },
     "metadata": {},
     "output_type": "display_data"
    }
   ],
   "source": [
    "data.plot.scatter(x='experience (x)',y='salary (y)',marker='x',color='r')       # or, plot using pandas\n",
    "#plt.scatter(data['YearsExperience'],data['Salary'],marker='x',color='r')       # plot using pyplot\n",
    "plt.grid(),plt.xlabel('Experience (Years)'),plt.ylabel('Salary')                # add grid and axis labels\n",
    "plt.title('Experience vs Salary')                                               # add plot title\n",
    "plt.show()                                                                      # make show plot"
   ]
  },
  {
   "cell_type": "markdown",
   "metadata": {
    "id": "qmA87_4ZpcQB"
   },
   "source": [
    "### make apply Linear Regression Manually"
   ]
  },
  {
   "cell_type": "code",
   "execution_count": 17,
   "metadata": {
    "executionInfo": {
     "elapsed": 4,
     "status": "ok",
     "timestamp": 1698335921785,
     "user": {
      "displayName": "Clash Clans",
      "userId": "00562530571182710236"
     },
     "user_tz": -330
    },
    "id": "lci2Pcghp528"
   },
   "outputs": [],
   "source": [
    "# As, linear regression equation -> y = m * X + c ; where , y -> salary (y), x -> experience (x), m -> slope (coef_), c -> intercept\n",
    "# So, salary (y) = m *  experience (x) + c\n",
    "# m = covariance / variances ; where , variances = (X - x_mean)^2 , and covariance = (X - x_mean) * (y - y_mean)\n",
    "# c = y_mean - m * x_mean\n",
    "# make calculate variances for inputs - X\n",
    "data['experience (x) variances']=np.square(data['experience (x)']-data['experience (x)'].mean())# calculate variances - (X - x_mean)^2\n",
    "# covariance = (X - x_mean) * (y - y_mean)\n",
    "data['covariance']=np.multiply(data['experience (x)']-data['experience (x)'].mean(),data['salary (y)']-data['salary (y)'].mean())# calculate covariance\n",
    "coefficient=np.sum(data['covariance'])/np.sum(data['experience (x) variances']) # calculate slope (m) / coefficient\n",
    "intercept=data['salary (y)'].mean()-coefficient*data['experience (x)'].mean()   # calculate intercept\n",
    "# make manual prediction - y_predicted = m * YearsExperience + c\n",
    "data['y_predicted_manually']=coefficient*data['experience (x)']+intercept       # make manual prediction"
   ]
  },
  {
   "cell_type": "code",
   "execution_count": 18,
   "metadata": {
    "colab": {
     "base_uri": "https://localhost:8080/",
     "height": 472
    },
    "executionInfo": {
     "elapsed": 10,
     "status": "ok",
     "timestamp": 1698335965887,
     "user": {
      "displayName": "Clash Clans",
      "userId": "00562530571182710236"
     },
     "user_tz": -330
    },
    "id": "PUiqghBn0EHG",
    "outputId": "f249f580-7be4-4462-abf1-8b3d92644ec0"
   },
   "outputs": [
    {
     "data": {
      "image/png": "[encoded data removed]",
      "text/plain": [
       "<Figure size 640x480 with 1 Axes>"
      ]
     },
     "metadata": {},
     "output_type": "display_data"
    }
   ],
   "source": [
    "# make plot results\n",
    "ax=data.plot.scatter(x='experience (x)',y='salary (y)',marker='x',color='r')    # make plot true value\n",
    "data.plot(x='experience (x)',y='y_predicted_manually',marker='.',color='g',ax=ax)# make plot predicted values\n",
    "plt.grid(),plt.xlabel('Experience (Years)'),plt.ylabel('Salary')                # add grid and axis labels\n",
    "plt.title('Experience vs Salary'),plt.legend(['True Salary','Manually Predicted'])# add plot title and legend\n",
    "plt.show()                                                                      # make plot show"
   ]
  },
  {
   "cell_type": "markdown",
   "metadata": {
    "id": "VYwLeU-FpjZu"
   },
   "source": [
    "### make apply Linear Regression using [sklearn.linear_model.LinearRegression](https://scikit-learn.org/stable/modules/generated/sklearn.linear_model.LinearRegression.html)"
   ]
  },
  {
   "cell_type": "code",
   "execution_count": 19,
   "metadata": {
    "colab": {
     "base_uri": "https://localhost:8080/"
    },
    "executionInfo": {
     "elapsed": 971,
     "status": "ok",
     "timestamp": 1698336102669,
     "user": {
      "displayName": "Clash Clans",
      "userId": "00562530571182710236"
     },
     "user_tz": -330
    },
    "id": "5XhAHcBap_HC",
    "outputId": "59bd7b42-9146-4224-b28a-19576f2870b6"
   },
   "outputs": [
    {
     "name": "stdout",
     "output_type": "stream",
     "text": [
      "Slope: [9143.8]\n",
      "Intercept: 23702.999999999985\n"
     ]
    }
   ],
   "source": [
    "from sklearn.linear_model import LinearRegression                               # load LinearRegression class\n",
    "\n",
    "lReg=LinearRegression()                                                         # make model (object) of linear regression class\n",
    "# As, linear regression equation -> y = m * X + c ; where , y -> salary (y), x -> experience (x), m -> slope (coef_), c -> intercept\n",
    "# So, salary (y) = m * experience (x) + c\n",
    "# make model train (calaculate features) - find value of m and c\n",
    "#lReg.fit(data['experience (x)'].values.reshape(-1,1),data['salary (y)'])       # make fit data - Xtrain and ytrain # or\n",
    "lReg.fit(data[['experience (x)']],data['salary (y)'])                           # make fit data\n",
    "# print m and c\n",
    "print('Slope:',lReg.coef_)                                                      # predicted slope / coefficient\n",
    "print('Intercept:',lReg.intercept_)                                             # predicted intercept"
   ]
  },
  {
   "cell_type": "code",
   "execution_count": 20,
   "metadata": {
    "colab": {
     "base_uri": "https://localhost:8080/"
    },
    "executionInfo": {
     "elapsed": 4,
     "status": "ok",
     "timestamp": 1698336109791,
     "user": {
      "displayName": "Clash Clans",
      "userId": "00562530571182710236"
     },
     "user_tz": -330
    },
    "id": "A_vq8jG41uEZ",
    "outputId": "1e245585-d722-4432-822e-f77f1a4ce5e2"
   },
   "outputs": [
    {
     "name": "stdout",
     "output_type": "stream",
     "text": [
      "Slope (by sklearn.linear_model.LinearRegression)    : [9143.8]\n",
      "Intercept (by sklearn.linear_model.LinearRegression): 23702.999999999985\n",
      "Slope (manually)                                    : 9143.8\n",
      "Intercept (manually)                                : 23703.0\n",
      "Difference (in slope)                               : 1.8189894035458565e-12\n",
      "Difference (in intercept)                           : -1.4551915228366852e-11\n"
     ]
    }
   ],
   "source": [
    "# compair slope / coefficient and intercept (by sklearn.linear_model.LinearRegression) with manually predicted slope / coefficient and intercept\n",
    "print('Slope (by sklearn.linear_model.LinearRegression)    :',lReg.coef_)       # predicted slope / coefficient (by by sklearn.linear_model.LinearRegression)\n",
    "print('Intercept (by sklearn.linear_model.LinearRegression):',lReg.intercept_)  # predicted intercept (by by sklearn.linear_model.LinearRegression)\n",
    "print('Slope (manually)                                    :',coefficient)      # predicted slope / coefficient (by by sklearn.linear_model.LinearRegression)\n",
    "print('Intercept (manually)                                :',intercept)        # predicted intercept (by by sklearn.linear_model.LinearRegression)\n",
    "print('Difference (in slope)                               :',lReg.coef_[0]-coefficient)# difference between coefficients\n",
    "print('Difference (in intercept)                           :',lReg.intercept_-intercept)# difference between intercepts"
   ]
  },
  {
   "cell_type": "code",
   "execution_count": 21,
   "metadata": {
    "colab": {
     "base_uri": "https://localhost:8080/"
    },
    "executionInfo": {
     "elapsed": 6,
     "status": "ok",
     "timestamp": 1698336135714,
     "user": {
      "displayName": "Clash Clans",
      "userId": "00562530571182710236"
     },
     "user_tz": -330
    },
    "id": "C8crHk3m4r_-",
    "outputId": "7d0e3930-e3c8-4e2f-918b-bebaeb27b3ae"
   },
   "outputs": [
    {
     "name": "stdout",
     "output_type": "stream",
     "text": [
      "All same: True\n"
     ]
    }
   ],
   "source": [
    "# make prediction for y (y-predict) by built-in method\n",
    "data['y_predicted']=lReg.predict(data[['experience (x)']])                      # make prediction - by built-in method\n",
    "# as `lReg.predict` do nothing new , just -> Salary = m * YearsExperience + c ; to prove this calculate manually y_predicted\n",
    "y_predicted_manually=lReg.coef_*data['experience (x)']+lReg.intercept_          # manually predict y\n",
    "# so, as `lReg.predict` uses y = m * X + c ; thus, `y_predicted` must be equal to `y_predicted_manually` , make check\n",
    "print('All same:',np.allclose(y_predicted_manually,data['y_predicted']))        # np.allclose -> Returns True if two arrays are element-wise\n",
    "# equal within a tolerance. The tolerance values are positive, typically very small numbers."
   ]
  },
  {
   "cell_type": "code",
   "execution_count": 22,
   "metadata": {
    "colab": {
     "base_uri": "https://localhost:8080/"
    },
    "executionInfo": {
     "elapsed": 429,
     "status": "ok",
     "timestamp": 1698336147785,
     "user": {
      "displayName": "Clash Clans",
      "userId": "00562530571182710236"
     },
     "user_tz": -330
    },
    "id": "kpdrKb_M64WN",
    "outputId": "d4939bc3-3ba2-40e7-a51f-9ece9b985c70"
   },
   "outputs": [
    {
     "name": "stdout",
     "output_type": "stream",
     "text": [
      "All same: True\n"
     ]
    }
   ],
   "source": [
    "# Is prediction by sklearn.linear_model.LinearRegression and by manual (total) calculation\n",
    "print('All same:',np.allclose(data['y_predicted_manually'],data['y_predicted']))# np.allclose -> Returns True if two arrays are element-wise\n",
    "# equal within a tolerance. The tolerance values are positive, typically very small numbers."
   ]
  },
  {
   "cell_type": "code",
   "execution_count": 23,
   "metadata": {
    "colab": {
     "base_uri": "https://localhost:8080/",
     "height": 472
    },
    "executionInfo": {
     "elapsed": 1149,
     "status": "ok",
     "timestamp": 1698336201448,
     "user": {
      "displayName": "Clash Clans",
      "userId": "00562530571182710236"
     },
     "user_tz": -330
    },
    "id": "r0bMFrB17eGZ",
    "outputId": "b71acd02-4ede-4973-c79c-df6f0ebbc6f5"
   },
   "outputs": [
    {
     "data": {
      "image/png": "[encoded data removed]",
      "text/plain": [
       "<Figure size 640x480 with 1 Axes>"
      ]
     },
     "metadata": {},
     "output_type": "display_data"
    }
   ],
   "source": [
    "# make plot results\n",
    "ax=data.plot.scatter(x='experience (x)',y='salary (y)',marker='x',color='r')    # make plot true value\n",
    "data.plot(x='experience (x)',y='y_predicted',marker='.',color='g',ax=ax)        # make plot predicted values\n",
    "plt.grid(),plt.xlabel('Experience (Years)'),plt.ylabel('Salary')                # add grid and axis labels\n",
    "plt.title('Experience vs Salary'),plt.legend(['True Salary','Predicted'])       # add plot title and legend\n",
    "plt.show()                                                                      # make plot show"
   ]
  },
  {
   "cell_type": "markdown",
   "metadata": {
    "id": "8I_7lqXg7vMe"
   },
   "source": [
    "### Evaluate model results\n"
   ]
  },
  {
   "cell_type": "markdown",
   "metadata": {
    "id": "3mDMt4rD92RQ"
   },
   "source": [
    "* [Mean Absolute Error](https://en.wikipedia.org/wiki/Mean_absolute_error)"
   ]
  },
  {
   "cell_type": "markdown",
   "metadata": {
    "id": "mZtwhRoU-J_Y"
   },
   "source": [
    "![image.png](data:image/png;base64,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)"
   ]
  },
  {
   "cell_type": "markdown",
   "metadata": {
    "id": "gPxiEiO7-JbB"
   },
   "source": [
    "It is thus an arithmetic average of the absolute errors |`e`<sub>i</sub>| = |y<sub>i</sub> - x<sub>i</sub>| is the prediction and the true value."
   ]
  },
  {
   "cell_type": "markdown",
   "metadata": {
    "id": "cgxtFJjs-qkn"
   },
   "source": [
    "* [Mean Squared Error](https://en.wikipedia.org/wiki/Mean_squared_error)"
   ]
  },
  {
   "cell_type": "markdown",
   "metadata": {
    "id": "PUkN6EY1-w5c"
   },
   "source": [
    "![image.png](data:image/png;base64,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)"
   ]
  },
  {
   "cell_type": "markdown",
   "metadata": {
    "id": "2x8um0TI-zJe"
   },
   "source": [
    "In other words, the MSE is the mean ![image.png](data:image/png;base64,iVBORw0KGgoAAAANSUhEUgAAAEcAAAAZCAYAAABjNDOYAAAD5klEQVRYCe2YWehXRRTHP6ZWbpl77mvk8uBCaKSFFpoL7ihtghsqLiCGC4K5ZIYSIREEiYiFWW64gPqmIgqKoCg+iYr1oIgiiNJDZvK1M3+Gu8y99/f7/9QfdGC4Z+Ysc+bcmTnnDPwPFfHAQKBeRTRXgdIuwCsJds4FvgbuAc0S6NU0VB/oVNTgN4GtwKspgnWAf4EWKfRKDb8F1LXWP2Bf3vkbAvuBjnkFtBsuAu0CAkWco7+ztsQ2zrPhY+A74DCwHJgGXPLopaLdgfNA0zwKNgOrMhiLOEeqtCDttPXAMK8NNdx9pwI/AH8a/w3gJbNlpjlEugRazC3Dy/18D2zMUqJ75gHQPIPROadlBp8jvwHcAW7m0C2Zl4HFwENguFMCbAGmW187aadHKwftDNwFGoWUrAYOhhiMVtQ5Eptou+FADv2OZSSgv+pAx72bdX4DPgE+dMQyv6eA+SEdp4EvQgxGK8U5Et1mDlqZYw7H8qkhOkZ/uEHgODAJGO+NlYNuAI6kKXgdeAx8lMZg47ofvjXjfgRGZ/D7ZG3b6+agIT4hB66LvZfH1wEY5PXLRScD9y0SxnQNNqMVLisJ79k8clLjSk5UUPfbZpfu3RgobCqiZF3GMcESBr6xuXTBvijQ1WxS5h8DRQE5p0GMAjpyM3K0tKQxqlLh+ZjNNzZKfE59RVStP9EelQUi6mxHQed7V472WlQw0FfU+QtYFuB5liSdGK1fKUIMlHGKmCtTjEkXH9AZ/6m4GIp0AwrKqUBWAhpamzaA1u/nVTXTaFBEl0fUECqAtAdOAk1K0K2Q26OA3BxgHfAPEEpa+9n69Y2BDJZz3o9RandAxd7RSFiu3RmStT0CWieTno4qIP2dcueixE7p/ayAgtog/QzoSOUFlwT2BrYD+zxB2ZzWPLanaJZzVMyeiQr5/R1W+PljPj4C2AssBJZYlfy5z5CBf2kpfwZbDVmOUVYt2AT0AS5YX9ElVO07pxo7ck4b10n4HrLkNoH035CyY1XCejNJAl1q8wCVGeJRwZb32eCzPJWvTaqIucjuCf0QB7o7lrpOwW/IObr7FDn7Zuk8lxbOTPBXy3fUVYT7JUshoKz4MvCB1/ynC4VPVeHaHbu9J4vbkafYq4B2zLu2C0I7Rz/Dh5BzNLcevTLhHeBK4JXtGtDWtOwBpuTw+O/ACa+paHR94WlthWetnjPP2vtP0Zqqle3Cnp4+h+rOktP1spgLvrLzHGWWU+Q4B6qS9WI42w1U8KtFKIsfVXAORd811rTTxkTktdYFkbFgV4YoY46WAyrK/KdLvdHoTUX81Qi6oCdUo+HP3eYnO7C4q59BoGwAAAAASUVORK5CYII=) of the squares of the errors ![image.png](data:image/png;base64,iVBORw0KGgoAAAANSUhEUgAAAFEAAAAmCAYAAAC8qHdPAAAEpElEQVRoBe2aV6gsRRCGP3POGRUz5hwxYMCrb4qYQBDEAGLCAAYMGDEn9EERH8QACopZMYCooA9GFB/MillMGB4UA99ae5kz9Mz0nN2dc3bvKVhmpvvvruqequqqmoU5mtuBDndgEeAI4ARgxQ75ThSrS4F1gGOA74D1Jmp1HSxmA+BfYPvg9SxwdQd8J4rFYsC5wBKxqmeAq9qs8CzgoDYDxgi7NnATsGgLmbcAvm1jztcAJ7dgMI7Q/QE1a+EM4VcHnge2y8D2IAcAD+eCxxi3EHAhcHbDGjTpG4GNA3d8A54lgU+ATZqAs7j/kAhHckTUnN8HNqoA2/84cAtwCXAtcE4Fdn7zBcDd85/G7+Yo4CngpdCynBWcDtxfAdSM3bzib6sKbK95WeAnYPc60Czu03p0Q0sBKwCvAxtmyCv2L2CzDGwj5BTgS0BfsSCR630OuH0Yi34RuK1ioh2B1YClgU2BLUu4NTJPudKwaT8uDuwALAesHPIYGBdJmXIVQgX6pWXIU+TVu181InOdcpnWBV4AvgjMB+EjijgDUCP7f4C3OziY9gmZdD/yfSvSsqJMHgj2/RnYZYqdpfttA7tXqb3V48ExSZ0POTowKbXfOpx53fhWAmWCTcHcqNMS+MOAB4FVEn3lJqMS5zm/3NHm2dNH52rFooo05V+BHwHNqU+a09PASv2GDq+bx+JfLfHU3TzUwjw1ey1soPj4PuDTDB9yVwhtaUhy0xW2aw0M9r3LayGTGyr5Up+MEzqasi6PAe9kIStAvsny20xB9wuBnwCM5O+ZBSGRpqwpXhmm+0ib/LawSA/VPwrPrW5V5Y/DJJsGmmd+HqZ/M5A6iJrmGHa/AbGuyEzLl5qd35YE6R+OxpmtyU305H00c+R18ebPrMCbW15f0Vdslm/Orzim6l6frDbOqwDcABxX0ddvvizmmLZv/yZ8W3/Cuqt+8e/IDFI4QyK1o44OBKwYN/2MCHJIv6g1+VJSZDZSF+I45qLYRMO91iRjNzFXEz8D3qzgYgpVDnoroENrNuBWCzXlFFnaz9mYK2Keps1O8ei1fRW1tUpAdJitKPCtCaDxmKGSG9xlFejQkOnEhExmWmYjrq+pAKuPd21V2pyYfmrTK8AbU5umPPm29wUuD0b6vF2nIP4/ZIwl/Zgzbb9SmrPucc2Q6d6Q6VSgXGE5HFg/Dp26uexTk78eZBPvjApO1VvQJIrlIO9PSkjlaf1Aon0UTWpZWSazlDJZ3svJRIwRXy4PbvOsyqvKy7cZlMAasFoZPzLRNxNNhmQWXVWCOpn0gx6WqZQ2W25N003cO3tEGmjxwe+zu6W7O2/1K92HgP6y7sDbM9Z/7CASmr79kKn2dXzWArapA8xAn99Gqsr/fXHOiE30K+BAdMegPmEg7jM72MPp3WGIsFO8DYPlBYn8f83PwMXDWrRl8vOGNdmYzGPW9HtmQJ61pJ2Bjzou9WcJNiKQWvgb4L89hkrGjAOdUkOVZrSTWbnxq2DOvyBaSWL++x5gyX+SySLJ96NMUXcBrIxYeJ1U8lOAaeFIyXL7HiPlMHOTm09bC5ijuR2YgB34D/SJwWjopp7pAAAAAElFTkSuQmCC) . This is an easily computable quantity for a particular sample (and hence is sample-dependent)."
   ]
  },
  {
   "cell_type": "code",
   "execution_count": 24,
   "metadata": {
    "colab": {
     "base_uri": "https://localhost:8080/",
     "height": 206
    },
    "executionInfo": {
     "elapsed": 519,
     "status": "ok",
     "timestamp": 1698336221615,
     "user": {
      "displayName": "Clash Clans",
      "userId": "00562530571182710236"
     },
     "user_tz": -330
    },
    "id": "UyfOGkFn73hs",
    "outputId": "a24d28da-3d12-46bd-b0e0-95249f5d2907"
   },
   "outputs": [
    {
     "data": {
      "text/html": [
       "\n",
       "  <div id=\"df-acb9c69d-552d-4a50-ae0b-4d1310cfbbbe\" class=\"colab-df-container\">\n",
       "    <div>\n",
       "<style scoped>\n",
       "    .dataframe tbody tr th:only-of-type {\n",
       "        vertical-align: middle;\n",
       "    }\n",
       "\n",
       "    .dataframe tbody tr th {\n",
       "        vertical-align: top;\n",
       "    }\n",
       "\n",
       "    .dataframe thead th {\n",
       "        text-align: right;\n",
       "    }\n",
       "</style>\n",
       "<table border=\"1\" class=\"dataframe\">\n",
       "  <thead>\n",
       "    <tr style=\"text-align: right;\">\n",
       "      <th></th>\n",
       "      <th>experience (x)</th>\n",
       "      <th>salary (y)</th>\n",
       "      <th>experience (x) variances</th>\n",
       "      <th>covariance</th>\n",
       "      <th>y_predicted_manually</th>\n",
       "      <th>y_predicted</th>\n",
       "    </tr>\n",
       "  </thead>\n",
       "  <tbody>\n",
       "    <tr>\n",
       "      <th>0</th>\n",
       "      <td>1</td>\n",
       "      <td>32472</td>\n",
       "      <td>20.25</td>\n",
       "      <td>186848.55</td>\n",
       "      <td>32846.8</td>\n",
       "      <td>32846.8</td>\n",
       "    </tr>\n",
       "    <tr>\n",
       "      <th>1</th>\n",
       "      <td>2</td>\n",
       "      <td>39700</td>\n",
       "      <td>12.25</td>\n",
       "      <td>120028.65</td>\n",
       "      <td>41990.6</td>\n",
       "      <td>41990.6</td>\n",
       "    </tr>\n",
       "    <tr>\n",
       "      <th>2</th>\n",
       "      <td>3</td>\n",
       "      <td>55597</td>\n",
       "      <td>6.25</td>\n",
       "      <td>45992.25</td>\n",
       "      <td>51134.4</td>\n",
       "      <td>51134.4</td>\n",
       "    </tr>\n",
       "    <tr>\n",
       "      <th>3</th>\n",
       "      <td>4</td>\n",
       "      <td>61001</td>\n",
       "      <td>2.25</td>\n",
       "      <td>19489.35</td>\n",
       "      <td>60278.2</td>\n",
       "      <td>60278.2</td>\n",
       "    </tr>\n",
       "    <tr>\n",
       "      <th>4</th>\n",
       "      <td>5</td>\n",
       "      <td>69000</td>\n",
       "      <td>0.25</td>\n",
       "      <td>2496.95</td>\n",
       "      <td>69422.0</td>\n",
       "      <td>69422.0</td>\n",
       "    </tr>\n",
       "  </tbody>\n",
       "</table>\n",
       "</div>\n",
       "    <div class=\"colab-df-buttons\">\n",
       "\n",
       "  <div class=\"colab-df-container\">\n",
       "    <button class=\"colab-df-convert\" onclick=\"convertToInteractive('df-acb9c69d-552d-4a50-ae0b-4d1310cfbbbe')\"\n",
       "            title=\"Convert this dataframe to an interactive table.\"\n",
       "            style=\"display:none;\">\n",
       "\n",
       "  <svg xmlns=\"http://www.w3.org/2000/svg\" height=\"24px\" viewBox=\"0 -960 960 960\">\n",
       "    <path d=\"M120-120v-720h720v720H120Zm60-500h600v-160H180v160Zm220 220h160v-160H400v160Zm0 220h160v-160H400v160ZM180-400h160v-160H180v160Zm440 0h160v-160H620v160ZM180-180h160v-160H180v160Zm440 0h160v-160H620v160Z\"/>\n",
       "  </svg>\n",
       "    </button>\n",
       "\n",
       "  <style>\n",
       "    .colab-df-container {\n",
       "      display:flex;\n",
       "      gap: 12px;\n",
       "    }\n",
       "\n",
       "    .colab-df-convert {\n",
       "      background-color: #E8F0FE;\n",
       "      border: none;\n",
       "      border-radius: 50%;\n",
       "      cursor: pointer;\n",
       "      display: none;\n",
       "      fill: #1967D2;\n",
       "      height: 32px;\n",
       "      padding: 0 0 0 0;\n",
       "      width: 32px;\n",
       "    }\n",
       "\n",
       "    .colab-df-convert:hover {\n",
       "      background-color: #E2EBFA;\n",
       "      box-shadow: 0px 1px 2px rgba(60, 64, 67, 0.3), 0px 1px 3px 1px rgba(60, 64, 67, 0.15);\n",
       "      fill: #174EA6;\n",
       "    }\n",
       "\n",
       "    .colab-df-buttons div {\n",
       "      margin-bottom: 4px;\n",
       "    }\n",
       "\n",
       "    [theme=dark] .colab-df-convert {\n",
       "      background-color: #3B4455;\n",
       "      fill: #D2E3FC;\n",
       "    }\n",
       "\n",
       "    [theme=dark] .colab-df-convert:hover {\n",
       "      background-color: #434B5C;\n",
       "      box-shadow: 0px 1px 3px 1px rgba(0, 0, 0, 0.15);\n",
       "      filter: drop-shadow(0px 1px 2px rgba(0, 0, 0, 0.3));\n",
       "      fill: #FFFFFF;\n",
       "    }\n",
       "  </style>\n",
       "\n",
       "    <script>\n",
       "      const buttonEl =\n",
       "        document.querySelector('#df-acb9c69d-552d-4a50-ae0b-4d1310cfbbbe button.colab-df-convert');\n",
       "      buttonEl.style.display =\n",
       "        google.colab.kernel.accessAllowed ? 'block' : 'none';\n",
       "\n",
       "      async function convertToInteractive(key) {\n",
       "        const element = document.querySelector('#df-acb9c69d-552d-4a50-ae0b-4d1310cfbbbe');\n",
       "        const dataTable =\n",
       "          await google.colab.kernel.invokeFunction('convertToInteractive',\n",
       "                                                    [key], {});\n",
       "        if (!dataTable) return;\n",
       "\n",
       "        const docLinkHtml = 'Like what you see? Visit the ' +\n",
       "          '<a target=\"_blank\" href=https://colab.research.google.com/notebooks/data_table.ipynb>data table notebook</a>'\n",
       "          + ' to learn more about interactive tables.';\n",
       "        element.innerHTML = '';\n",
       "        dataTable['output_type'] = 'display_data';\n",
       "        await google.colab.output.renderOutput(dataTable, element);\n",
       "        const docLink = document.createElement('div');\n",
       "        docLink.innerHTML = docLinkHtml;\n",
       "        element.appendChild(docLink);\n",
       "      }\n",
       "    </script>\n",
       "  </div>\n",
       "\n",
       "\n",
       "<div id=\"df-de9d9b35-90fb-4533-b733-d64bb49e3f6e\">\n",
       "  <button class=\"colab-df-quickchart\" onclick=\"quickchart('df-de9d9b35-90fb-4533-b733-d64bb49e3f6e')\"\n",
       "            title=\"Suggest charts.\"\n",
       "            style=\"display:none;\">\n",
       "\n",
       "<svg xmlns=\"http://www.w3.org/2000/svg\" height=\"24px\"viewBox=\"0 0 24 24\"\n",
       "     width=\"24px\">\n",
       "    <g>\n",
       "        <path d=\"M19 3H5c-1.1 0-2 .9-2 2v14c0 1.1.9 2 2 2h14c1.1 0 2-.9 2-2V5c0-1.1-.9-2-2-2zM9 17H7v-7h2v7zm4 0h-2V7h2v10zm4 0h-2v-4h2v4z\"/>\n",
       "    </g>\n",
       "</svg>\n",
       "  </button>\n",
       "\n",
       "<style>\n",
       "  .colab-df-quickchart {\n",
       "      --bg-color: #E8F0FE;\n",
       "      --fill-color: #1967D2;\n",
       "      --hover-bg-color: #E2EBFA;\n",
       "      --hover-fill-color: #174EA6;\n",
       "      --disabled-fill-color: #AAA;\n",
       "      --disabled-bg-color: #DDD;\n",
       "  }\n",
       "\n",
       "  [theme=dark] .colab-df-quickchart {\n",
       "      --bg-color: #3B4455;\n",
       "      --fill-color: #D2E3FC;\n",
       "      --hover-bg-color: #434B5C;\n",
       "      --hover-fill-color: #FFFFFF;\n",
       "      --disabled-bg-color: #3B4455;\n",
       "      --disabled-fill-color: #666;\n",
       "  }\n",
       "\n",
       "  .colab-df-quickchart {\n",
       "    background-color: var(--bg-color);\n",
       "    border: none;\n",
       "    border-radius: 50%;\n",
       "    cursor: pointer;\n",
       "    display: none;\n",
       "    fill: var(--fill-color);\n",
       "    height: 32px;\n",
       "    padding: 0;\n",
       "    width: 32px;\n",
       "  }\n",
       "\n",
       "  .colab-df-quickchart:hover {\n",
       "    background-color: var(--hover-bg-color);\n",
       "    box-shadow: 0 1px 2px rgba(60, 64, 67, 0.3), 0 1px 3px 1px rgba(60, 64, 67, 0.15);\n",
       "    fill: var(--button-hover-fill-color);\n",
       "  }\n",
       "\n",
       "  .colab-df-quickchart-complete:disabled,\n",
       "  .colab-df-quickchart-complete:disabled:hover {\n",
       "    background-color: var(--disabled-bg-color);\n",
       "    fill: var(--disabled-fill-color);\n",
       "    box-shadow: none;\n",
       "  }\n",
       "\n",
       "  .colab-df-spinner {\n",
       "    border: 2px solid var(--fill-color);\n",
       "    border-color: transparent;\n",
       "    border-bottom-color: var(--fill-color);\n",
       "    animation:\n",
       "      spin 1s steps(1) infinite;\n",
       "  }\n",
       "\n",
       "  @keyframes spin {\n",
       "    0% {\n",
       "      border-color: transparent;\n",
       "      border-bottom-color: var(--fill-color);\n",
       "      border-left-color: var(--fill-color);\n",
       "    }\n",
       "    20% {\n",
       "      border-color: transparent;\n",
       "      border-left-color: var(--fill-color);\n",
       "      border-top-color: var(--fill-color);\n",
       "    }\n",
       "    30% {\n",
       "      border-color: transparent;\n",
       "      border-left-color: var(--fill-color);\n",
       "      border-top-color: var(--fill-color);\n",
       "      border-right-color: var(--fill-color);\n",
       "    }\n",
       "    40% {\n",
       "      border-color: transparent;\n",
       "      border-right-color: var(--fill-color);\n",
       "      border-top-color: var(--fill-color);\n",
       "    }\n",
       "    60% {\n",
       "      border-color: transparent;\n",
       "      border-right-color: var(--fill-color);\n",
       "    }\n",
       "    80% {\n",
       "      border-color: transparent;\n",
       "      border-right-color: var(--fill-color);\n",
       "      border-bottom-color: var(--fill-color);\n",
       "    }\n",
       "    90% {\n",
       "      border-color: transparent;\n",
       "      border-bottom-color: var(--fill-color);\n",
       "    }\n",
       "  }\n",
       "</style>\n",
       "\n",
       "  <script>\n",
       "    async function quickchart(key) {\n",
       "      const quickchartButtonEl =\n",
       "        document.querySelector('#' + key + ' button');\n",
       "      quickchartButtonEl.disabled = true;  // To prevent multiple clicks.\n",
       "      quickchartButtonEl.classList.add('colab-df-spinner');\n",
       "      try {\n",
       "        const charts = await google.colab.kernel.invokeFunction(\n",
       "            'suggestCharts', [key], {});\n",
       "      } catch (error) {\n",
       "        console.error('Error during call to suggestCharts:', error);\n",
       "      }\n",
       "      quickchartButtonEl.classList.remove('colab-df-spinner');\n",
       "      quickchartButtonEl.classList.add('colab-df-quickchart-complete');\n",
       "    }\n",
       "    (() => {\n",
       "      let quickchartButtonEl =\n",
       "        document.querySelector('#df-de9d9b35-90fb-4533-b733-d64bb49e3f6e button');\n",
       "      quickchartButtonEl.style.display =\n",
       "        google.colab.kernel.accessAllowed ? 'block' : 'none';\n",
       "    })();\n",
       "  </script>\n",
       "</div>\n",
       "\n",
       "    </div>\n",
       "  </div>\n"
      ],
      "text/plain": [
       "   experience (x)  salary (y)  experience (x) variances  covariance  \\\n",
       "0               1       32472                     20.25   186848.55   \n",
       "1               2       39700                     12.25   120028.65   \n",
       "2               3       55597                      6.25    45992.25   \n",
       "3               4       61001                      2.25    19489.35   \n",
       "4               5       69000                      0.25     2496.95   \n",
       "\n",
       "   y_predicted_manually  y_predicted  \n",
       "0               32846.8      32846.8  \n",
       "1               41990.6      41990.6  \n",
       "2               51134.4      51134.4  \n",
       "3               60278.2      60278.2  \n",
       "4               69422.0      69422.0  "
      ]
     },
     "execution_count": 24,
     "metadata": {},
     "output_type": "execute_result"
    }
   ],
   "source": [
    "data.head()                                                                     # see final results"
   ]
  },
  {
   "cell_type": "code",
   "execution_count": 25,
   "metadata": {
    "colab": {
     "base_uri": "https://localhost:8080/",
     "height": 206
    },
    "executionInfo": {
     "elapsed": 9,
     "status": "ok",
     "timestamp": 1698336225430,
     "user": {
      "displayName": "Clash Clans",
      "userId": "00562530571182710236"
     },
     "user_tz": -330
    },
    "id": "nr8ZaqVE8EJC",
    "outputId": "e23f77a0-7f6a-46a9-fbe2-a0a080583eb3"
   },
   "outputs": [
    {
     "data": {
      "text/html": [
       "\n",
       "  <div id=\"df-b33e73a8-ca0f-4ad9-a740-fe8c796de1ae\" class=\"colab-df-container\">\n",
       "    <div>\n",
       "<style scoped>\n",
       "    .dataframe tbody tr th:only-of-type {\n",
       "        vertical-align: middle;\n",
       "    }\n",
       "\n",
       "    .dataframe tbody tr th {\n",
       "        vertical-align: top;\n",
       "    }\n",
       "\n",
       "    .dataframe thead th {\n",
       "        text-align: right;\n",
       "    }\n",
       "</style>\n",
       "<table border=\"1\" class=\"dataframe\">\n",
       "  <thead>\n",
       "    <tr style=\"text-align: right;\">\n",
       "      <th></th>\n",
       "      <th>experience (x)</th>\n",
       "      <th>salary (y)</th>\n",
       "      <th>experience (x) variances</th>\n",
       "      <th>covariance</th>\n",
       "      <th>y_predicted_manually</th>\n",
       "      <th>y_predicted</th>\n",
       "    </tr>\n",
       "  </thead>\n",
       "  <tbody>\n",
       "    <tr>\n",
       "      <th>5</th>\n",
       "      <td>6</td>\n",
       "      <td>78345</td>\n",
       "      <td>0.25</td>\n",
       "      <td>2175.55</td>\n",
       "      <td>78565.8</td>\n",
       "      <td>78565.8</td>\n",
       "    </tr>\n",
       "    <tr>\n",
       "      <th>6</th>\n",
       "      <td>7</td>\n",
       "      <td>86001</td>\n",
       "      <td>2.25</td>\n",
       "      <td>18010.65</td>\n",
       "      <td>87709.6</td>\n",
       "      <td>87709.6</td>\n",
       "    </tr>\n",
       "    <tr>\n",
       "      <th>7</th>\n",
       "      <td>8</td>\n",
       "      <td>96123</td>\n",
       "      <td>6.25</td>\n",
       "      <td>55322.75</td>\n",
       "      <td>96853.4</td>\n",
       "      <td>96853.4</td>\n",
       "    </tr>\n",
       "    <tr>\n",
       "      <th>8</th>\n",
       "      <td>9</td>\n",
       "      <td>101700</td>\n",
       "      <td>12.25</td>\n",
       "      <td>96971.35</td>\n",
       "      <td>105997.2</td>\n",
       "      <td>105997.2</td>\n",
       "    </tr>\n",
       "    <tr>\n",
       "      <th>9</th>\n",
       "      <td>10</td>\n",
       "      <td>120000</td>\n",
       "      <td>20.25</td>\n",
       "      <td>207027.45</td>\n",
       "      <td>115141.0</td>\n",
       "      <td>115141.0</td>\n",
       "    </tr>\n",
       "  </tbody>\n",
       "</table>\n",
       "</div>\n",
       "    <div class=\"colab-df-buttons\">\n",
       "\n",
       "  <div class=\"colab-df-container\">\n",
       "    <button class=\"colab-df-convert\" onclick=\"convertToInteractive('df-b33e73a8-ca0f-4ad9-a740-fe8c796de1ae')\"\n",
       "            title=\"Convert this dataframe to an interactive table.\"\n",
       "            style=\"display:none;\">\n",
       "\n",
       "  <svg xmlns=\"http://www.w3.org/2000/svg\" height=\"24px\" viewBox=\"0 -960 960 960\">\n",
       "    <path d=\"M120-120v-720h720v720H120Zm60-500h600v-160H180v160Zm220 220h160v-160H400v160Zm0 220h160v-160H400v160ZM180-400h160v-160H180v160Zm440 0h160v-160H620v160ZM180-180h160v-160H180v160Zm440 0h160v-160H620v160Z\"/>\n",
       "  </svg>\n",
       "    </button>\n",
       "\n",
       "  <style>\n",
       "    .colab-df-container {\n",
       "      display:flex;\n",
       "      gap: 12px;\n",
       "    }\n",
       "\n",
       "    .colab-df-convert {\n",
       "      background-color: #E8F0FE;\n",
       "      border: none;\n",
       "      border-radius: 50%;\n",
       "      cursor: pointer;\n",
       "      display: none;\n",
       "      fill: #1967D2;\n",
       "      height: 32px;\n",
       "      padding: 0 0 0 0;\n",
       "      width: 32px;\n",
       "    }\n",
       "\n",
       "    .colab-df-convert:hover {\n",
       "      background-color: #E2EBFA;\n",
       "      box-shadow: 0px 1px 2px rgba(60, 64, 67, 0.3), 0px 1px 3px 1px rgba(60, 64, 67, 0.15);\n",
       "      fill: #174EA6;\n",
       "    }\n",
       "\n",
       "    .colab-df-buttons div {\n",
       "      margin-bottom: 4px;\n",
       "    }\n",
       "\n",
       "    [theme=dark] .colab-df-convert {\n",
       "      background-color: #3B4455;\n",
       "      fill: #D2E3FC;\n",
       "    }\n",
       "\n",
       "    [theme=dark] .colab-df-convert:hover {\n",
       "      background-color: #434B5C;\n",
       "      box-shadow: 0px 1px 3px 1px rgba(0, 0, 0, 0.15);\n",
       "      filter: drop-shadow(0px 1px 2px rgba(0, 0, 0, 0.3));\n",
       "      fill: #FFFFFF;\n",
       "    }\n",
       "  </style>\n",
       "\n",
       "    <script>\n",
       "      const buttonEl =\n",
       "        document.querySelector('#df-b33e73a8-ca0f-4ad9-a740-fe8c796de1ae button.colab-df-convert');\n",
       "      buttonEl.style.display =\n",
       "        google.colab.kernel.accessAllowed ? 'block' : 'none';\n",
       "\n",
       "      async function convertToInteractive(key) {\n",
       "        const element = document.querySelector('#df-b33e73a8-ca0f-4ad9-a740-fe8c796de1ae');\n",
       "        const dataTable =\n",
       "          await google.colab.kernel.invokeFunction('convertToInteractive',\n",
       "                                                    [key], {});\n",
       "        if (!dataTable) return;\n",
       "\n",
       "        const docLinkHtml = 'Like what you see? Visit the ' +\n",
       "          '<a target=\"_blank\" href=https://colab.research.google.com/notebooks/data_table.ipynb>data table notebook</a>'\n",
       "          + ' to learn more about interactive tables.';\n",
       "        element.innerHTML = '';\n",
       "        dataTable['output_type'] = 'display_data';\n",
       "        await google.colab.output.renderOutput(dataTable, element);\n",
       "        const docLink = document.createElement('div');\n",
       "        docLink.innerHTML = docLinkHtml;\n",
       "        element.appendChild(docLink);\n",
       "      }\n",
       "    </script>\n",
       "  </div>\n",
       "\n",
       "\n",
       "<div id=\"df-d2c6955a-d3a4-4173-8331-505c0cf0cecb\">\n",
       "  <button class=\"colab-df-quickchart\" onclick=\"quickchart('df-d2c6955a-d3a4-4173-8331-505c0cf0cecb')\"\n",
       "            title=\"Suggest charts.\"\n",
       "            style=\"display:none;\">\n",
       "\n",
       "<svg xmlns=\"http://www.w3.org/2000/svg\" height=\"24px\"viewBox=\"0 0 24 24\"\n",
       "     width=\"24px\">\n",
       "    <g>\n",
       "        <path d=\"M19 3H5c-1.1 0-2 .9-2 2v14c0 1.1.9 2 2 2h14c1.1 0 2-.9 2-2V5c0-1.1-.9-2-2-2zM9 17H7v-7h2v7zm4 0h-2V7h2v10zm4 0h-2v-4h2v4z\"/>\n",
       "    </g>\n",
       "</svg>\n",
       "  </button>\n",
       "\n",
       "<style>\n",
       "  .colab-df-quickchart {\n",
       "      --bg-color: #E8F0FE;\n",
       "      --fill-color: #1967D2;\n",
       "      --hover-bg-color: #E2EBFA;\n",
       "      --hover-fill-color: #174EA6;\n",
       "      --disabled-fill-color: #AAA;\n",
       "      --disabled-bg-color: #DDD;\n",
       "  }\n",
       "\n",
       "  [theme=dark] .colab-df-quickchart {\n",
       "      --bg-color: #3B4455;\n",
       "      --fill-color: #D2E3FC;\n",
       "      --hover-bg-color: #434B5C;\n",
       "      --hover-fill-color: #FFFFFF;\n",
       "      --disabled-bg-color: #3B4455;\n",
       "      --disabled-fill-color: #666;\n",
       "  }\n",
       "\n",
       "  .colab-df-quickchart {\n",
       "    background-color: var(--bg-color);\n",
       "    border: none;\n",
       "    border-radius: 50%;\n",
       "    cursor: pointer;\n",
       "    display: none;\n",
       "    fill: var(--fill-color);\n",
       "    height: 32px;\n",
       "    padding: 0;\n",
       "    width: 32px;\n",
       "  }\n",
       "\n",
       "  .colab-df-quickchart:hover {\n",
       "    background-color: var(--hover-bg-color);\n",
       "    box-shadow: 0 1px 2px rgba(60, 64, 67, 0.3), 0 1px 3px 1px rgba(60, 64, 67, 0.15);\n",
       "    fill: var(--button-hover-fill-color);\n",
       "  }\n",
       "\n",
       "  .colab-df-quickchart-complete:disabled,\n",
       "  .colab-df-quickchart-complete:disabled:hover {\n",
       "    background-color: var(--disabled-bg-color);\n",
       "    fill: var(--disabled-fill-color);\n",
       "    box-shadow: none;\n",
       "  }\n",
       "\n",
       "  .colab-df-spinner {\n",
       "    border: 2px solid var(--fill-color);\n",
       "    border-color: transparent;\n",
       "    border-bottom-color: var(--fill-color);\n",
       "    animation:\n",
       "      spin 1s steps(1) infinite;\n",
       "  }\n",
       "\n",
       "  @keyframes spin {\n",
       "    0% {\n",
       "      border-color: transparent;\n",
       "      border-bottom-color: var(--fill-color);\n",
       "      border-left-color: var(--fill-color);\n",
       "    }\n",
       "    20% {\n",
       "      border-color: transparent;\n",
       "      border-left-color: var(--fill-color);\n",
       "      border-top-color: var(--fill-color);\n",
       "    }\n",
       "    30% {\n",
       "      border-color: transparent;\n",
       "      border-left-color: var(--fill-color);\n",
       "      border-top-color: var(--fill-color);\n",
       "      border-right-color: var(--fill-color);\n",
       "    }\n",
       "    40% {\n",
       "      border-color: transparent;\n",
       "      border-right-color: var(--fill-color);\n",
       "      border-top-color: var(--fill-color);\n",
       "    }\n",
       "    60% {\n",
       "      border-color: transparent;\n",
       "      border-right-color: var(--fill-color);\n",
       "    }\n",
       "    80% {\n",
       "      border-color: transparent;\n",
       "      border-right-color: var(--fill-color);\n",
       "      border-bottom-color: var(--fill-color);\n",
       "    }\n",
       "    90% {\n",
       "      border-color: transparent;\n",
       "      border-bottom-color: var(--fill-color);\n",
       "    }\n",
       "  }\n",
       "</style>\n",
       "\n",
       "  <script>\n",
       "    async function quickchart(key) {\n",
       "      const quickchartButtonEl =\n",
       "        document.querySelector('#' + key + ' button');\n",
       "      quickchartButtonEl.disabled = true;  // To prevent multiple clicks.\n",
       "      quickchartButtonEl.classList.add('colab-df-spinner');\n",
       "      try {\n",
       "        const charts = await google.colab.kernel.invokeFunction(\n",
       "            'suggestCharts', [key], {});\n",
       "      } catch (error) {\n",
       "        console.error('Error during call to suggestCharts:', error);\n",
       "      }\n",
       "      quickchartButtonEl.classList.remove('colab-df-spinner');\n",
       "      quickchartButtonEl.classList.add('colab-df-quickchart-complete');\n",
       "    }\n",
       "    (() => {\n",
       "      let quickchartButtonEl =\n",
       "        document.querySelector('#df-d2c6955a-d3a4-4173-8331-505c0cf0cecb button');\n",
       "      quickchartButtonEl.style.display =\n",
       "        google.colab.kernel.accessAllowed ? 'block' : 'none';\n",
       "    })();\n",
       "  </script>\n",
       "</div>\n",
       "\n",
       "    </div>\n",
       "  </div>\n"
      ],
      "text/plain": [
       "   experience (x)  salary (y)  experience (x) variances  covariance  \\\n",
       "5               6       78345                      0.25     2175.55   \n",
       "6               7       86001                      2.25    18010.65   \n",
       "7               8       96123                      6.25    55322.75   \n",
       "8               9      101700                     12.25    96971.35   \n",
       "9              10      120000                     20.25   207027.45   \n",
       "\n",
       "   y_predicted_manually  y_predicted  \n",
       "5               78565.8      78565.8  \n",
       "6               87709.6      87709.6  \n",
       "7               96853.4      96853.4  \n",
       "8              105997.2     105997.2  \n",
       "9              115141.0     115141.0  "
      ]
     },
     "execution_count": 25,
     "metadata": {},
     "output_type": "execute_result"
    }
   ],
   "source": [
    "data.tail()                                                                     # see tail of data"
   ]
  },
  {
   "cell_type": "code",
   "execution_count": 26,
   "metadata": {
    "colab": {
     "base_uri": "https://localhost:8080/"
    },
    "executionInfo": {
     "elapsed": 444,
     "status": "ok",
     "timestamp": 1698336247278,
     "user": {
      "displayName": "Clash Clans",
      "userId": "00562530571182710236"
     },
     "user_tz": -330
    },
    "id": "iD8IeKy_s1t6",
    "outputId": "df78470d-df53-4c29-a639-7aecde9d9574"
   },
   "outputs": [
    {
     "name": "stdout",
     "output_type": "stream",
     "text": [
      "Mean Absolute Error (MAE): 2008.8799999999974\n",
      "Mean Squared Error (MAE): 7158000.5600000005\n"
     ]
    }
   ],
   "source": [
    "# calculate absolute error (difference)\n",
    "data['absolute_error']=np.abs(data['salary (y)']-data['y_predicted'])           # absolute error = |y_true - y_predicted|\n",
    "# calculate squared error (difference)\n",
    "data['squared_error']=np.square(data['salary (y)']-data['y_predicted'])         # squared error = (y_true - y_predicted)^2\n",
    "# make calculate and print mean absolute error and mean squared error\n",
    "print('Mean Absolute Error (MAE):',data['absolute_error'].mean())               # print mean absolute error\n",
    "print('Mean Squared Error (MAE):',data['squared_error'].mean())                 # print mean squared error"
   ]
  },
  {
   "cell_type": "code",
   "execution_count": 27,
   "metadata": {
    "colab": {
     "base_uri": "https://localhost:8080/",
     "height": 486
    },
    "executionInfo": {
     "elapsed": 18,
     "status": "ok",
     "timestamp": 1698336256405,
     "user": {
      "displayName": "Clash Clans",
      "userId": "00562530571182710236"
     },
     "user_tz": -330
    },
    "id": "c8uREA0-Al7X",
    "outputId": "ef818d84-9527-4cfd-f054-e6fe1b4b13d2"
   },
   "outputs": [
    {
     "data": {
      "image/png": "[encoded data removed]",
      "text/plain": [
       "<Figure size 1500x500 with 2 Axes>"
      ]
     },
     "metadata": {},
     "output_type": "display_data"
    }
   ],
   "source": [
    "plt.figure(figsize=(15,5))                                                      # make plot figure and set figure size - 15 inches along x axis and 5 along y axis\n",
    "plt.subplot(1,2,1)                                                              # make subplot - 1 row, 2 columns and index -> 1\n",
    "sns.barplot(data=data,x=data.index,y='absolute_error')                          # make plot absolute error sample wise\n",
    "plt.grid(),plt.xlabel('Sample Index'),plt.ylabel('Absolute Error')              # add grid and axis labels\n",
    "plt.title('Absolute Error')                                                     # add title to plot\n",
    "plt.subplot(1,2,2)                                                              # make subplot - 1 row, 2 columns and index -> 2\n",
    "sns.barplot(data=data,x=data.index,y='squared_error')                           # make plot squared error sample wise\n",
    "plt.grid(),plt.xlabel('Sample Index'),plt.ylabel('Squared Error')               # add grid and axis labels\n",
    "plt.title('Squared Error')                                                      # add title to plot\n",
    "plt.show()                                                                      # make plot show"
   ]
  },
  {
   "cell_type": "markdown",
   "metadata": {
    "id": "jXH6CkGkkTpf"
   },
   "source": [
    "# What More ?\n",
    "\n",
    "* [Underfitting vs. Overfitting ?](https://scikit-learn.org/stable/auto_examples/model_selection/plot_underfitting_overfitting.html)\n",
    "* More on [Linear Models](https://scikit-learn.org/stable/modules/linear_model.html) - Regularization (penalty) - [Ridge Regression and Classification](https://scikit-learn.org/stable/modules/linear_model.html#ridge-regression-and-classification), and [Lasso Regression](https://scikit-learn.org/stable/modules/linear_model.html#lasso)"
   ]
  },
  {
   "cell_type": "markdown",
   "metadata": {
    "id": "XI81ScrmnGf9"
   },
   "source": [
    "# References\n",
    "\n",
    "* [The Python Tutorial](https://docs.python.org/3.10/tutorial/index.html)\n",
    "* [NumPy quickstart](https://numpy.org/doc/stable/user/quickstart.html)\n",
    "* [Matplotlib's Quick start guide](https://matplotlib.org/stable/users/explain/quick_start.html)\n",
    "* [Pyplot tutorial](https://matplotlib.org/stable/tutorials/pyplot.html#sphx-glr-tutorials-pyplot-py)\n",
    "* [Pyplot - image tutorial](https://matplotlib.org/stable/tutorials/images.html#sphx-glr-tutorials-images-py)\n",
    "* [Matplotlib - All Tutorials](https://matplotlib.org/stable/tutorials/index.html)\n",
    "* [User guide and tutorial](https://seaborn.pydata.org/tutorial.html)\n",
    "* [An introduction to seaborn](https://seaborn.pydata.org/tutorial/introduction.html)\n",
    "* [10 Minutes to Pandas (Pandas, official tutorial)](https://pandas.pydata.org/docs/user_guide/10min.html)\n",
    "* [Mean Absolute Error](https://en.wikipedia.org/wiki/Mean_absolute_error)\n",
    "* [Mean Squared Error](https://en.wikipedia.org/wiki/Mean_squared_error)"
   ]
  }
 ],
 "metadata": {
  "colab": {
   "authorship_tag": "ABX9TyP4FtFgOfSSoqgaK0u5Oinr",
   "collapsed_sections": [
    "BDR-6t_fBzbY",
    "mMIS4L4ouDTk",
    "KqauM_DADjpm",
    "kanqnZm3dura",
    "Sj49eLnl33Dq",
    "-6FujKDAd2rV",
    "lO4-EG6Xd8H0",
    "MpQ2KpD9ktOQ",
    "HpVINUbvioKj",
    "iFbJgMjqKgWB",
    "LKzhTLYnKkZW",
    "ogE3XJ2VLgf5",
    "MZsMya7lLt32",
    "CyCtnxEsL7U_",
    "Xffn34yUMAE5",
    "fE3p2wKZOGB9",
    "v9pOrV2vPXK3",
    "jXH6CkGkkTpf"
   ],
   "provenance": []
  },
  "kernelspec": {
   "display_name": "Python 3",
   "name": "python3"
  },
  "language_info": {
   "name": "python"
  }
 },
 "nbformat": 4,
 "nbformat_minor": 0
}
