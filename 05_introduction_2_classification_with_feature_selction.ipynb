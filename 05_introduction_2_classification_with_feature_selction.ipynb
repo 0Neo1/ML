{
 "cells": [
  {
   "cell_type": "code",
   "execution_count": 1,
   "metadata": {
    "colab": {
     "base_uri": "https://localhost:8080/"
    },
    "executionInfo": {
     "elapsed": 7222,
     "status": "ok",
     "timestamp": 1732715374386,
     "user": {
      "displayName": "Clash Clans",
      "userId": "00562530571182710236"
     },
     "user_tz": -330
    },
    "id": "4X7_Mh6StoR1",
    "outputId": "a51d9cd7-4f2d-4164-af2a-be06cd8b8823"
   },
   "outputs": [
    {
     "name": "stdout",
     "output_type": "stream",
     "text": [
      "Python 3.10.12\n",
      "numpy version: 1.26.4\n",
      "pandas version:  2.2.2\n",
      "seaborn version: 0.13.2\n",
      "pyplot:  <module 'matplotlib.pyplot' from '/usr/local/lib/python3.10/dist-packages/matplotlib/pyplot.py'>\n"
     ]
    }
   ],
   "source": [
    "!python --version   # Python version\n",
    "\n",
    "# About python:  https://www.python.org/\n",
    "#                Python is powerful... and fast; plays well with others; runs everywhere; is friendly & easy to learn;\n",
    "#                is Open –> https://www.python.org/about/.\n",
    "#     Python docs: https://docs.python.org/3/ (all documentation);\n",
    "#                  https://docs.python.org/3.7/ (Recommended version – 3.7).\n",
    "# The Python Tutorial (python3.7): https://docs.python.org/3.7/tutorial/index.html\n",
    "\n",
    "# Load Module ---\n",
    "import numpy as np, pandas as pd, matplotlib.pyplot as plt, seaborn as sns\n",
    "# NumPy : The fundamental package for scientific computing with Python. NumPy is the fundamental package for scientific\n",
    "#         computing in Python. It is a Python library that provides a multidimensional array object, various derived\n",
    "#         objects (such as masked arrays and matrices), and an assortment of routines for fast operations on arrays,\n",
    "#         including mathematical, logical, shape manipulation, sorting, selecting, I/O, discrete Fourier transforms,\n",
    "#         basic linear algebra, basic statistical operations, random simulation and much more.\n",
    "#     About: https://numpy.org/\n",
    "#     Docs: https://numpy.org/doc/stable/\n",
    "#     NumPy quickstart: https://numpy.org/doc/stable/user/quickstart.html\n",
    "\n",
    "# Pandas: pandas is a fast, powerful, flexible and easy to use open source data analysis and manipulation tool,\n",
    "#         built on top of the Python programming language.\n",
    "#     About: https://pandas.pydata.org/\n",
    "#     Docs: https://pandas.pydata.org/docs/\n",
    "#     Getting started: https://pandas.pydata.org/docs/getting_started/index.html\n",
    "#     User Guide: https://pandas.pydata.org/docs/user_guide/index.html#user-guide\n",
    "\n",
    "# Seaborn: Seaborn is a Python data visualization library based on matplotlib. It provides a\n",
    "#          high-level interface for drawing attractive and informative statistical graphics.\n",
    "#   About: https://seaborn.pydata.org/\n",
    "\n",
    "print('numpy version:',np.__version__)\n",
    "print('pandas version: ',pd.__version__)\n",
    "print('seaborn version:',sns.__version__)\n",
    "print('pyplot: ',plt)"
   ]
  },
  {
   "cell_type": "markdown",
   "metadata": {
    "id": "bDCvKiX65Hy5"
   },
   "source": [
    "# Classification with [Logistic Regression](https://scikit-learn.org/stable/modules/generated/sklearn.linear_model.LogisticRegression.html)\n"
   ]
  },
  {
   "cell_type": "markdown",
   "metadata": {
    "id": "PvvQBOT05paL"
   },
   "source": [
    "## classification on fruit with colours dataset"
   ]
  },
  {
   "cell_type": "markdown",
   "metadata": {
    "id": "CHa0OSIAjbsA"
   },
   "source": [
    "### download and load dataset\n",
    "\n",
    "Source (Github): https://raw.githubusercontent.com/rocksaint/fruit-data-with-colours/master/fruit_data_with_colours.csv"
   ]
  },
  {
   "cell_type": "code",
   "execution_count": null,
   "metadata": {
    "id": "LNLcWb1C6mLF"
   },
   "outputs": [],
   "source": [
    "# download sample file\n",
    "#!wget https://raw.githubusercontent.com/rocksaint/fruit-data-with-colours/master/fruit_data_with_colours.csv"
   ]
  },
  {
   "cell_type": "code",
   "execution_count": null,
   "metadata": {
    "colab": {
     "base_uri": "https://localhost:8080/"
    },
    "executionInfo": {
     "elapsed": 17,
     "status": "ok",
     "timestamp": 1670449637365,
     "user": {
      "displayName": "Clash Clans",
      "userId": "00562530571182710236"
     },
     "user_tz": -330
    },
    "id": "_kE3wsK25x-u",
    "outputId": "eb1dc201-1461-486f-91fe-5f443d56472f"
   },
   "outputs": [
    {
     "data": {
      "text/html": [
       "\n",
       "  <div id=\"df-843dfb11-caf7-4c22-bc5a-a4b2b34f9e2e\">\n",
       "    <div class=\"colab-df-container\">\n",
       "      <div>\n",
       "<style scoped>\n",
       "    .dataframe tbody tr th:only-of-type {\n",
       "        vertical-align: middle;\n",
       "    }\n",
       "\n",
       "    .dataframe tbody tr th {\n",
       "        vertical-align: top;\n",
       "    }\n",
       "\n",
       "    .dataframe thead th {\n",
       "        text-align: right;\n",
       "    }\n",
       "</style>\n",
       "<table border=\"1\" class=\"dataframe\">\n",
       "  <thead>\n",
       "    <tr style=\"text-align: right;\">\n",
       "      <th></th>\n",
       "      <th>fruit_label</th>\n",
       "      <th>fruit_name</th>\n",
       "      <th>fruit_subtype</th>\n",
       "      <th>mass</th>\n",
       "      <th>width</th>\n",
       "      <th>height</th>\n",
       "      <th>color_score</th>\n",
       "    </tr>\n",
       "  </thead>\n",
       "  <tbody>\n",
       "    <tr>\n",
       "      <th>0</th>\n",
       "      <td>1</td>\n",
       "      <td>apple</td>\n",
       "      <td>granny_smith</td>\n",
       "      <td>192</td>\n",
       "      <td>8.4</td>\n",
       "      <td>7.3</td>\n",
       "      <td>0.55</td>\n",
       "    </tr>\n",
       "    <tr>\n",
       "      <th>1</th>\n",
       "      <td>1</td>\n",
       "      <td>apple</td>\n",
       "      <td>granny_smith</td>\n",
       "      <td>180</td>\n",
       "      <td>8.0</td>\n",
       "      <td>6.8</td>\n",
       "      <td>0.59</td>\n",
       "    </tr>\n",
       "    <tr>\n",
       "      <th>2</th>\n",
       "      <td>1</td>\n",
       "      <td>apple</td>\n",
       "      <td>granny_smith</td>\n",
       "      <td>176</td>\n",
       "      <td>7.4</td>\n",
       "      <td>7.2</td>\n",
       "      <td>0.60</td>\n",
       "    </tr>\n",
       "    <tr>\n",
       "      <th>3</th>\n",
       "      <td>2</td>\n",
       "      <td>mandarin</td>\n",
       "      <td>mandarin</td>\n",
       "      <td>86</td>\n",
       "      <td>6.2</td>\n",
       "      <td>4.7</td>\n",
       "      <td>0.80</td>\n",
       "    </tr>\n",
       "    <tr>\n",
       "      <th>4</th>\n",
       "      <td>2</td>\n",
       "      <td>mandarin</td>\n",
       "      <td>mandarin</td>\n",
       "      <td>84</td>\n",
       "      <td>6.0</td>\n",
       "      <td>4.6</td>\n",
       "      <td>0.79</td>\n",
       "    </tr>\n",
       "  </tbody>\n",
       "</table>\n",
       "</div>\n",
       "      <button class=\"colab-df-convert\" onclick=\"convertToInteractive('df-843dfb11-caf7-4c22-bc5a-a4b2b34f9e2e')\"\n",
       "              title=\"Convert this dataframe to an interactive table.\"\n",
       "              style=\"display:none;\">\n",
       "        \n",
       "  <svg xmlns=\"http://www.w3.org/2000/svg\" height=\"24px\"viewBox=\"0 0 24 24\"\n",
       "       width=\"24px\">\n",
       "    <path d=\"M0 0h24v24H0V0z\" fill=\"none\"/>\n",
       "    <path d=\"M18.56 5.44l.94 2.06.94-2.06 2.06-.94-2.06-.94-.94-2.06-.94 2.06-2.06.94zm-11 1L8.5 8.5l.94-2.06 2.06-.94-2.06-.94L8.5 2.5l-.94 2.06-2.06.94zm10 10l.94 2.06.94-2.06 2.06-.94-2.06-.94-.94-2.06-.94 2.06-2.06.94z\"/><path d=\"M17.41 7.96l-1.37-1.37c-.4-.4-.92-.59-1.43-.59-.52 0-1.04.2-1.43.59L10.3 9.45l-7.72 7.72c-.78.78-.78 2.05 0 2.83L4 21.41c.39.39.9.59 1.41.59.51 0 1.02-.2 1.41-.59l7.78-7.78 2.81-2.81c.8-.78.8-2.07 0-2.86zM5.41 20L4 18.59l7.72-7.72 1.47 1.35L5.41 20z\"/>\n",
       "  </svg>\n",
       "      </button>\n",
       "      \n",
       "  <style>\n",
       "    .colab-df-container {\n",
       "      display:flex;\n",
       "      flex-wrap:wrap;\n",
       "      gap: 12px;\n",
       "    }\n",
       "\n",
       "    .colab-df-convert {\n",
       "      background-color: #E8F0FE;\n",
       "      border: none;\n",
       "      border-radius: 50%;\n",
       "      cursor: pointer;\n",
       "      display: none;\n",
       "      fill: #1967D2;\n",
       "      height: 32px;\n",
       "      padding: 0 0 0 0;\n",
       "      width: 32px;\n",
       "    }\n",
       "\n",
       "    .colab-df-convert:hover {\n",
       "      background-color: #E2EBFA;\n",
       "      box-shadow: 0px 1px 2px rgba(60, 64, 67, 0.3), 0px 1px 3px 1px rgba(60, 64, 67, 0.15);\n",
       "      fill: #174EA6;\n",
       "    }\n",
       "\n",
       "    [theme=dark] .colab-df-convert {\n",
       "      background-color: #3B4455;\n",
       "      fill: #D2E3FC;\n",
       "    }\n",
       "\n",
       "    [theme=dark] .colab-df-convert:hover {\n",
       "      background-color: #434B5C;\n",
       "      box-shadow: 0px 1px 3px 1px rgba(0, 0, 0, 0.15);\n",
       "      filter: drop-shadow(0px 1px 2px rgba(0, 0, 0, 0.3));\n",
       "      fill: #FFFFFF;\n",
       "    }\n",
       "  </style>\n",
       "\n",
       "      <script>\n",
       "        const buttonEl =\n",
       "          document.querySelector('#df-843dfb11-caf7-4c22-bc5a-a4b2b34f9e2e button.colab-df-convert');\n",
       "        buttonEl.style.display =\n",
       "          google.colab.kernel.accessAllowed ? 'block' : 'none';\n",
       "\n",
       "        async function convertToInteractive(key) {\n",
       "          const element = document.querySelector('#df-843dfb11-caf7-4c22-bc5a-a4b2b34f9e2e');\n",
       "          const dataTable =\n",
       "            await google.colab.kernel.invokeFunction('convertToInteractive',\n",
       "                                                     [key], {});\n",
       "          if (!dataTable) return;\n",
       "\n",
       "          const docLinkHtml = 'Like what you see? Visit the ' +\n",
       "            '<a target=\"_blank\" href=https://colab.research.google.com/notebooks/data_table.ipynb>data table notebook</a>'\n",
       "            + ' to learn more about interactive tables.';\n",
       "          element.innerHTML = '';\n",
       "          dataTable['output_type'] = 'display_data';\n",
       "          await google.colab.output.renderOutput(dataTable, element);\n",
       "          const docLink = document.createElement('div');\n",
       "          docLink.innerHTML = docLinkHtml;\n",
       "          element.appendChild(docLink);\n",
       "        }\n",
       "      </script>\n",
       "    </div>\n",
       "  </div>\n",
       "  "
      ],
      "text/plain": [
       "   fruit_label fruit_name fruit_subtype  mass  width  height  color_score\n",
       "0            1      apple  granny_smith   192    8.4     7.3         0.55\n",
       "1            1      apple  granny_smith   180    8.0     6.8         0.59\n",
       "2            1      apple  granny_smith   176    7.4     7.2         0.60\n",
       "3            2   mandarin      mandarin    86    6.2     4.7         0.80\n",
       "4            2   mandarin      mandarin    84    6.0     4.6         0.79"
      ]
     },
     "execution_count": 3,
     "metadata": {},
     "output_type": "execute_result"
    }
   ],
   "source": [
    "# load data\n",
    "fruits_data=pd.read_csv('https://raw.githubusercontent.com/rocksaint/fruit-data-with-colours/master/fruit_data_with_colours.csv',\n",
    "                        sep=',')\n",
    "# see head\n",
    "fruits_data.head()"
   ]
  },
  {
   "cell_type": "code",
   "execution_count": null,
   "metadata": {
    "colab": {
     "base_uri": "https://localhost:8080/"
    },
    "executionInfo": {
     "elapsed": 15,
     "status": "ok",
     "timestamp": 1670449637366,
     "user": {
      "displayName": "Clash Clans",
      "userId": "00562530571182710236"
     },
     "user_tz": -330
    },
    "id": "HyktKNyy5x6l",
    "outputId": "df909ee1-6044-451e-a5ab-c53dd02a4b78"
   },
   "outputs": [
    {
     "data": {
      "text/html": [
       "\n",
       "  <div id=\"df-0887eeac-deb8-4318-8257-77ff5e3c376e\">\n",
       "    <div class=\"colab-df-container\">\n",
       "      <div>\n",
       "<style scoped>\n",
       "    .dataframe tbody tr th:only-of-type {\n",
       "        vertical-align: middle;\n",
       "    }\n",
       "\n",
       "    .dataframe tbody tr th {\n",
       "        vertical-align: top;\n",
       "    }\n",
       "\n",
       "    .dataframe thead th {\n",
       "        text-align: right;\n",
       "    }\n",
       "</style>\n",
       "<table border=\"1\" class=\"dataframe\">\n",
       "  <thead>\n",
       "    <tr style=\"text-align: right;\">\n",
       "      <th></th>\n",
       "      <th>fruit_label</th>\n",
       "      <th>fruit_name</th>\n",
       "      <th>fruit_subtype</th>\n",
       "      <th>mass</th>\n",
       "      <th>width</th>\n",
       "      <th>height</th>\n",
       "      <th>color_score</th>\n",
       "    </tr>\n",
       "  </thead>\n",
       "  <tbody>\n",
       "    <tr>\n",
       "      <th>54</th>\n",
       "      <td>4</td>\n",
       "      <td>lemon</td>\n",
       "      <td>unknown</td>\n",
       "      <td>116</td>\n",
       "      <td>6.1</td>\n",
       "      <td>8.5</td>\n",
       "      <td>0.71</td>\n",
       "    </tr>\n",
       "    <tr>\n",
       "      <th>55</th>\n",
       "      <td>4</td>\n",
       "      <td>lemon</td>\n",
       "      <td>unknown</td>\n",
       "      <td>116</td>\n",
       "      <td>6.3</td>\n",
       "      <td>7.7</td>\n",
       "      <td>0.72</td>\n",
       "    </tr>\n",
       "    <tr>\n",
       "      <th>56</th>\n",
       "      <td>4</td>\n",
       "      <td>lemon</td>\n",
       "      <td>unknown</td>\n",
       "      <td>116</td>\n",
       "      <td>5.9</td>\n",
       "      <td>8.1</td>\n",
       "      <td>0.73</td>\n",
       "    </tr>\n",
       "    <tr>\n",
       "      <th>57</th>\n",
       "      <td>4</td>\n",
       "      <td>lemon</td>\n",
       "      <td>unknown</td>\n",
       "      <td>152</td>\n",
       "      <td>6.5</td>\n",
       "      <td>8.5</td>\n",
       "      <td>0.72</td>\n",
       "    </tr>\n",
       "    <tr>\n",
       "      <th>58</th>\n",
       "      <td>4</td>\n",
       "      <td>lemon</td>\n",
       "      <td>unknown</td>\n",
       "      <td>118</td>\n",
       "      <td>6.1</td>\n",
       "      <td>8.1</td>\n",
       "      <td>0.70</td>\n",
       "    </tr>\n",
       "  </tbody>\n",
       "</table>\n",
       "</div>\n",
       "      <button class=\"colab-df-convert\" onclick=\"convertToInteractive('df-0887eeac-deb8-4318-8257-77ff5e3c376e')\"\n",
       "              title=\"Convert this dataframe to an interactive table.\"\n",
       "              style=\"display:none;\">\n",
       "        \n",
       "  <svg xmlns=\"http://www.w3.org/2000/svg\" height=\"24px\"viewBox=\"0 0 24 24\"\n",
       "       width=\"24px\">\n",
       "    <path d=\"M0 0h24v24H0V0z\" fill=\"none\"/>\n",
       "    <path d=\"M18.56 5.44l.94 2.06.94-2.06 2.06-.94-2.06-.94-.94-2.06-.94 2.06-2.06.94zm-11 1L8.5 8.5l.94-2.06 2.06-.94-2.06-.94L8.5 2.5l-.94 2.06-2.06.94zm10 10l.94 2.06.94-2.06 2.06-.94-2.06-.94-.94-2.06-.94 2.06-2.06.94z\"/><path d=\"M17.41 7.96l-1.37-1.37c-.4-.4-.92-.59-1.43-.59-.52 0-1.04.2-1.43.59L10.3 9.45l-7.72 7.72c-.78.78-.78 2.05 0 2.83L4 21.41c.39.39.9.59 1.41.59.51 0 1.02-.2 1.41-.59l7.78-7.78 2.81-2.81c.8-.78.8-2.07 0-2.86zM5.41 20L4 18.59l7.72-7.72 1.47 1.35L5.41 20z\"/>\n",
       "  </svg>\n",
       "      </button>\n",
       "      \n",
       "  <style>\n",
       "    .colab-df-container {\n",
       "      display:flex;\n",
       "      flex-wrap:wrap;\n",
       "      gap: 12px;\n",
       "    }\n",
       "\n",
       "    .colab-df-convert {\n",
       "      background-color: #E8F0FE;\n",
       "      border: none;\n",
       "      border-radius: 50%;\n",
       "      cursor: pointer;\n",
       "      display: none;\n",
       "      fill: #1967D2;\n",
       "      height: 32px;\n",
       "      padding: 0 0 0 0;\n",
       "      width: 32px;\n",
       "    }\n",
       "\n",
       "    .colab-df-convert:hover {\n",
       "      background-color: #E2EBFA;\n",
       "      box-shadow: 0px 1px 2px rgba(60, 64, 67, 0.3), 0px 1px 3px 1px rgba(60, 64, 67, 0.15);\n",
       "      fill: #174EA6;\n",
       "    }\n",
       "\n",
       "    [theme=dark] .colab-df-convert {\n",
       "      background-color: #3B4455;\n",
       "      fill: #D2E3FC;\n",
       "    }\n",
       "\n",
       "    [theme=dark] .colab-df-convert:hover {\n",
       "      background-color: #434B5C;\n",
       "      box-shadow: 0px 1px 3px 1px rgba(0, 0, 0, 0.15);\n",
       "      filter: drop-shadow(0px 1px 2px rgba(0, 0, 0, 0.3));\n",
       "      fill: #FFFFFF;\n",
       "    }\n",
       "  </style>\n",
       "\n",
       "      <script>\n",
       "        const buttonEl =\n",
       "          document.querySelector('#df-0887eeac-deb8-4318-8257-77ff5e3c376e button.colab-df-convert');\n",
       "        buttonEl.style.display =\n",
       "          google.colab.kernel.accessAllowed ? 'block' : 'none';\n",
       "\n",
       "        async function convertToInteractive(key) {\n",
       "          const element = document.querySelector('#df-0887eeac-deb8-4318-8257-77ff5e3c376e');\n",
       "          const dataTable =\n",
       "            await google.colab.kernel.invokeFunction('convertToInteractive',\n",
       "                                                     [key], {});\n",
       "          if (!dataTable) return;\n",
       "\n",
       "          const docLinkHtml = 'Like what you see? Visit the ' +\n",
       "            '<a target=\"_blank\" href=https://colab.research.google.com/notebooks/data_table.ipynb>data table notebook</a>'\n",
       "            + ' to learn more about interactive tables.';\n",
       "          element.innerHTML = '';\n",
       "          dataTable['output_type'] = 'display_data';\n",
       "          await google.colab.output.renderOutput(dataTable, element);\n",
       "          const docLink = document.createElement('div');\n",
       "          docLink.innerHTML = docLinkHtml;\n",
       "          element.appendChild(docLink);\n",
       "        }\n",
       "      </script>\n",
       "    </div>\n",
       "  </div>\n",
       "  "
      ],
      "text/plain": [
       "    fruit_label fruit_name fruit_subtype  mass  width  height  color_score\n",
       "54            4      lemon       unknown   116    6.1     8.5         0.71\n",
       "55            4      lemon       unknown   116    6.3     7.7         0.72\n",
       "56            4      lemon       unknown   116    5.9     8.1         0.73\n",
       "57            4      lemon       unknown   152    6.5     8.5         0.72\n",
       "58            4      lemon       unknown   118    6.1     8.1         0.70"
      ]
     },
     "execution_count": 4,
     "metadata": {},
     "output_type": "execute_result"
    }
   ],
   "source": [
    "# see tail\n",
    "fruits_data.tail()"
   ]
  },
  {
   "cell_type": "code",
   "execution_count": null,
   "metadata": {
    "colab": {
     "base_uri": "https://localhost:8080/"
    },
    "executionInfo": {
     "elapsed": 13,
     "status": "ok",
     "timestamp": 1670449637366,
     "user": {
      "displayName": "Clash Clans",
      "userId": "00562530571182710236"
     },
     "user_tz": -330
    },
    "id": "dv_FNKtI6Yrt",
    "outputId": "44be0d5b-aa47-41e9-ff22-25e83a4e0663"
   },
   "outputs": [
    {
     "data": {
      "text/plain": [
       "(59, 7)"
      ]
     },
     "execution_count": 5,
     "metadata": {},
     "output_type": "execute_result"
    }
   ],
   "source": [
    "# shape of data\n",
    "fruits_data.shape# row, columns"
   ]
  },
  {
   "cell_type": "code",
   "execution_count": null,
   "metadata": {
    "colab": {
     "base_uri": "https://localhost:8080/"
    },
    "executionInfo": {
     "elapsed": 1596,
     "status": "ok",
     "timestamp": 1670449638950,
     "user": {
      "displayName": "Clash Clans",
      "userId": "00562530571182710236"
     },
     "user_tz": -330
    },
    "id": "B1BR4bQo5x00",
    "outputId": "0477cb4c-9463-446e-973f-513b0f0f4c46"
   },
   "outputs": [
    {
     "data": {
      "text/plain": [
       "Index(['fruit_label', 'fruit_name', 'fruit_subtype', 'mass', 'width', 'height',\n",
       "       'color_score'],\n",
       "      dtype='object')"
      ]
     },
     "execution_count": 6,
     "metadata": {},
     "output_type": "execute_result"
    }
   ],
   "source": [
    "# see column names\n",
    "fruits_data.columns"
   ]
  },
  {
   "cell_type": "markdown",
   "metadata": {
    "id": "OCEc-0kcjmMT"
   },
   "source": [
    "### dataset info and stats"
   ]
  },
  {
   "cell_type": "code",
   "execution_count": null,
   "metadata": {
    "colab": {
     "base_uri": "https://localhost:8080/"
    },
    "executionInfo": {
     "elapsed": 11,
     "status": "ok",
     "timestamp": 1670449759698,
     "user": {
      "displayName": "Clash Clans",
      "userId": "00562530571182710236"
     },
     "user_tz": -330
    },
    "id": "cnxKiDBM7oGF",
    "outputId": "ea36bd88-e054-4e24-ba29-41af041d4cf3"
   },
   "outputs": [
    {
     "name": "stdout",
     "output_type": "stream",
     "text": [
      "<class 'pandas.core.frame.DataFrame'>\n",
      "RangeIndex: 59 entries, 0 to 58\n",
      "Data columns (total 7 columns):\n",
      " #   Column         Non-Null Count  Dtype  \n",
      "---  ------         --------------  -----  \n",
      " 0   fruit_label    59 non-null     int64  \n",
      " 1   fruit_name     59 non-null     object \n",
      " 2   fruit_subtype  59 non-null     object \n",
      " 3   mass           59 non-null     int64  \n",
      " 4   width          59 non-null     float64\n",
      " 5   height         59 non-null     float64\n",
      " 6   color_score    59 non-null     float64\n",
      "dtypes: float64(3), int64(2), object(2)\n",
      "memory usage: 3.4+ KB\n"
     ]
    }
   ],
   "source": [
    "# see data info\n",
    "fruits_data.info()"
   ]
  },
  {
   "cell_type": "code",
   "execution_count": null,
   "metadata": {
    "colab": {
     "base_uri": "https://localhost:8080/"
    },
    "executionInfo": {
     "elapsed": 10,
     "status": "ok",
     "timestamp": 1670449759699,
     "user": {
      "displayName": "Clash Clans",
      "userId": "00562530571182710236"
     },
     "user_tz": -330
    },
    "id": "5wntLQ_VjsnM",
    "outputId": "57b926f2-98f4-48ae-aa07-7760d9dfffb1"
   },
   "outputs": [
    {
     "data": {
      "text/plain": [
       "fruit_label        int64\n",
       "fruit_name        object\n",
       "fruit_subtype     object\n",
       "mass               int64\n",
       "width            float64\n",
       "height           float64\n",
       "color_score      float64\n",
       "dtype: object"
      ]
     },
     "execution_count": 14,
     "metadata": {},
     "output_type": "execute_result"
    }
   ],
   "source": [
    "# see column types only\n",
    "fruits_data.dtypes"
   ]
  },
  {
   "cell_type": "code",
   "execution_count": null,
   "metadata": {
    "colab": {
     "base_uri": "https://localhost:8080/"
    },
    "executionInfo": {
     "elapsed": 10,
     "status": "ok",
     "timestamp": 1670449759700,
     "user": {
      "displayName": "Clash Clans",
      "userId": "00562530571182710236"
     },
     "user_tz": -330
    },
    "id": "c6NiLtwkvLbd",
    "outputId": "ace4e0db-4ef9-4190-f0e5-e492244d68b2"
   },
   "outputs": [
    {
     "data": {
      "text/html": [
       "\n",
       "  <div id=\"df-7d5fdf2c-9c97-4173-be16-7845cb59222c\">\n",
       "    <div class=\"colab-df-container\">\n",
       "      <div>\n",
       "<style scoped>\n",
       "    .dataframe tbody tr th:only-of-type {\n",
       "        vertical-align: middle;\n",
       "    }\n",
       "\n",
       "    .dataframe tbody tr th {\n",
       "        vertical-align: top;\n",
       "    }\n",
       "\n",
       "    .dataframe thead th {\n",
       "        text-align: right;\n",
       "    }\n",
       "</style>\n",
       "<table border=\"1\" class=\"dataframe\">\n",
       "  <thead>\n",
       "    <tr style=\"text-align: right;\">\n",
       "      <th></th>\n",
       "      <th>fruit_label</th>\n",
       "      <th>mass</th>\n",
       "      <th>width</th>\n",
       "      <th>height</th>\n",
       "      <th>color_score</th>\n",
       "    </tr>\n",
       "  </thead>\n",
       "  <tbody>\n",
       "    <tr>\n",
       "      <th>count</th>\n",
       "      <td>59.000000</td>\n",
       "      <td>59.000000</td>\n",
       "      <td>59.000000</td>\n",
       "      <td>59.000000</td>\n",
       "      <td>59.000000</td>\n",
       "    </tr>\n",
       "    <tr>\n",
       "      <th>mean</th>\n",
       "      <td>2.542373</td>\n",
       "      <td>163.118644</td>\n",
       "      <td>7.105085</td>\n",
       "      <td>7.693220</td>\n",
       "      <td>0.762881</td>\n",
       "    </tr>\n",
       "    <tr>\n",
       "      <th>std</th>\n",
       "      <td>1.208048</td>\n",
       "      <td>55.018832</td>\n",
       "      <td>0.816938</td>\n",
       "      <td>1.361017</td>\n",
       "      <td>0.076857</td>\n",
       "    </tr>\n",
       "    <tr>\n",
       "      <th>min</th>\n",
       "      <td>1.000000</td>\n",
       "      <td>76.000000</td>\n",
       "      <td>5.800000</td>\n",
       "      <td>4.000000</td>\n",
       "      <td>0.550000</td>\n",
       "    </tr>\n",
       "    <tr>\n",
       "      <th>25%</th>\n",
       "      <td>1.000000</td>\n",
       "      <td>140.000000</td>\n",
       "      <td>6.600000</td>\n",
       "      <td>7.200000</td>\n",
       "      <td>0.720000</td>\n",
       "    </tr>\n",
       "    <tr>\n",
       "      <th>50%</th>\n",
       "      <td>3.000000</td>\n",
       "      <td>158.000000</td>\n",
       "      <td>7.200000</td>\n",
       "      <td>7.600000</td>\n",
       "      <td>0.750000</td>\n",
       "    </tr>\n",
       "    <tr>\n",
       "      <th>75%</th>\n",
       "      <td>4.000000</td>\n",
       "      <td>177.000000</td>\n",
       "      <td>7.500000</td>\n",
       "      <td>8.200000</td>\n",
       "      <td>0.810000</td>\n",
       "    </tr>\n",
       "    <tr>\n",
       "      <th>max</th>\n",
       "      <td>4.000000</td>\n",
       "      <td>362.000000</td>\n",
       "      <td>9.600000</td>\n",
       "      <td>10.500000</td>\n",
       "      <td>0.930000</td>\n",
       "    </tr>\n",
       "  </tbody>\n",
       "</table>\n",
       "</div>\n",
       "      <button class=\"colab-df-convert\" onclick=\"convertToInteractive('df-7d5fdf2c-9c97-4173-be16-7845cb59222c')\"\n",
       "              title=\"Convert this dataframe to an interactive table.\"\n",
       "              style=\"display:none;\">\n",
       "        \n",
       "  <svg xmlns=\"http://www.w3.org/2000/svg\" height=\"24px\"viewBox=\"0 0 24 24\"\n",
       "       width=\"24px\">\n",
       "    <path d=\"M0 0h24v24H0V0z\" fill=\"none\"/>\n",
       "    <path d=\"M18.56 5.44l.94 2.06.94-2.06 2.06-.94-2.06-.94-.94-2.06-.94 2.06-2.06.94zm-11 1L8.5 8.5l.94-2.06 2.06-.94-2.06-.94L8.5 2.5l-.94 2.06-2.06.94zm10 10l.94 2.06.94-2.06 2.06-.94-2.06-.94-.94-2.06-.94 2.06-2.06.94z\"/><path d=\"M17.41 7.96l-1.37-1.37c-.4-.4-.92-.59-1.43-.59-.52 0-1.04.2-1.43.59L10.3 9.45l-7.72 7.72c-.78.78-.78 2.05 0 2.83L4 21.41c.39.39.9.59 1.41.59.51 0 1.02-.2 1.41-.59l7.78-7.78 2.81-2.81c.8-.78.8-2.07 0-2.86zM5.41 20L4 18.59l7.72-7.72 1.47 1.35L5.41 20z\"/>\n",
       "  </svg>\n",
       "      </button>\n",
       "      \n",
       "  <style>\n",
       "    .colab-df-container {\n",
       "      display:flex;\n",
       "      flex-wrap:wrap;\n",
       "      gap: 12px;\n",
       "    }\n",
       "\n",
       "    .colab-df-convert {\n",
       "      background-color: #E8F0FE;\n",
       "      border: none;\n",
       "      border-radius: 50%;\n",
       "      cursor: pointer;\n",
       "      display: none;\n",
       "      fill: #1967D2;\n",
       "      height: 32px;\n",
       "      padding: 0 0 0 0;\n",
       "      width: 32px;\n",
       "    }\n",
       "\n",
       "    .colab-df-convert:hover {\n",
       "      background-color: #E2EBFA;\n",
       "      box-shadow: 0px 1px 2px rgba(60, 64, 67, 0.3), 0px 1px 3px 1px rgba(60, 64, 67, 0.15);\n",
       "      fill: #174EA6;\n",
       "    }\n",
       "\n",
       "    [theme=dark] .colab-df-convert {\n",
       "      background-color: #3B4455;\n",
       "      fill: #D2E3FC;\n",
       "    }\n",
       "\n",
       "    [theme=dark] .colab-df-convert:hover {\n",
       "      background-color: #434B5C;\n",
       "      box-shadow: 0px 1px 3px 1px rgba(0, 0, 0, 0.15);\n",
       "      filter: drop-shadow(0px 1px 2px rgba(0, 0, 0, 0.3));\n",
       "      fill: #FFFFFF;\n",
       "    }\n",
       "  </style>\n",
       "\n",
       "      <script>\n",
       "        const buttonEl =\n",
       "          document.querySelector('#df-7d5fdf2c-9c97-4173-be16-7845cb59222c button.colab-df-convert');\n",
       "        buttonEl.style.display =\n",
       "          google.colab.kernel.accessAllowed ? 'block' : 'none';\n",
       "\n",
       "        async function convertToInteractive(key) {\n",
       "          const element = document.querySelector('#df-7d5fdf2c-9c97-4173-be16-7845cb59222c');\n",
       "          const dataTable =\n",
       "            await google.colab.kernel.invokeFunction('convertToInteractive',\n",
       "                                                     [key], {});\n",
       "          if (!dataTable) return;\n",
       "\n",
       "          const docLinkHtml = 'Like what you see? Visit the ' +\n",
       "            '<a target=\"_blank\" href=https://colab.research.google.com/notebooks/data_table.ipynb>data table notebook</a>'\n",
       "            + ' to learn more about interactive tables.';\n",
       "          element.innerHTML = '';\n",
       "          dataTable['output_type'] = 'display_data';\n",
       "          await google.colab.output.renderOutput(dataTable, element);\n",
       "          const docLink = document.createElement('div');\n",
       "          docLink.innerHTML = docLinkHtml;\n",
       "          element.appendChild(docLink);\n",
       "        }\n",
       "      </script>\n",
       "    </div>\n",
       "  </div>\n",
       "  "
      ],
      "text/plain": [
       "       fruit_label        mass      width     height  color_score\n",
       "count    59.000000   59.000000  59.000000  59.000000    59.000000\n",
       "mean      2.542373  163.118644   7.105085   7.693220     0.762881\n",
       "std       1.208048   55.018832   0.816938   1.361017     0.076857\n",
       "min       1.000000   76.000000   5.800000   4.000000     0.550000\n",
       "25%       1.000000  140.000000   6.600000   7.200000     0.720000\n",
       "50%       3.000000  158.000000   7.200000   7.600000     0.750000\n",
       "75%       4.000000  177.000000   7.500000   8.200000     0.810000\n",
       "max       4.000000  362.000000   9.600000  10.500000     0.930000"
      ]
     },
     "execution_count": 15,
     "metadata": {},
     "output_type": "execute_result"
    }
   ],
   "source": [
    "# stats of data\n",
    "fruits_data.describe()# only for numerical columns"
   ]
  },
  {
   "cell_type": "code",
   "execution_count": null,
   "metadata": {
    "colab": {
     "base_uri": "https://localhost:8080/"
    },
    "executionInfo": {
     "elapsed": 10,
     "status": "ok",
     "timestamp": 1670449759701,
     "user": {
      "displayName": "Clash Clans",
      "userId": "00562530571182710236"
     },
     "user_tz": -330
    },
    "id": "HbenST0s8aVw",
    "outputId": "5ea4d906-cb44-448c-f7f9-86cd564fff57"
   },
   "outputs": [
    {
     "data": {
      "text/html": [
       "\n",
       "  <div id=\"df-0694c608-ef6b-4ade-b8a1-993c1dc42a06\">\n",
       "    <div class=\"colab-df-container\">\n",
       "      <div>\n",
       "<style scoped>\n",
       "    .dataframe tbody tr th:only-of-type {\n",
       "        vertical-align: middle;\n",
       "    }\n",
       "\n",
       "    .dataframe tbody tr th {\n",
       "        vertical-align: top;\n",
       "    }\n",
       "\n",
       "    .dataframe thead th {\n",
       "        text-align: right;\n",
       "    }\n",
       "</style>\n",
       "<table border=\"1\" class=\"dataframe\">\n",
       "  <thead>\n",
       "    <tr style=\"text-align: right;\">\n",
       "      <th></th>\n",
       "      <th>fruit_name</th>\n",
       "      <th>fruit_subtype</th>\n",
       "    </tr>\n",
       "  </thead>\n",
       "  <tbody>\n",
       "    <tr>\n",
       "      <th>count</th>\n",
       "      <td>59</td>\n",
       "      <td>59</td>\n",
       "    </tr>\n",
       "    <tr>\n",
       "      <th>unique</th>\n",
       "      <td>4</td>\n",
       "      <td>10</td>\n",
       "    </tr>\n",
       "    <tr>\n",
       "      <th>top</th>\n",
       "      <td>apple</td>\n",
       "      <td>turkey_navel</td>\n",
       "    </tr>\n",
       "    <tr>\n",
       "      <th>freq</th>\n",
       "      <td>19</td>\n",
       "      <td>10</td>\n",
       "    </tr>\n",
       "  </tbody>\n",
       "</table>\n",
       "</div>\n",
       "      <button class=\"colab-df-convert\" onclick=\"convertToInteractive('df-0694c608-ef6b-4ade-b8a1-993c1dc42a06')\"\n",
       "              title=\"Convert this dataframe to an interactive table.\"\n",
       "              style=\"display:none;\">\n",
       "        \n",
       "  <svg xmlns=\"http://www.w3.org/2000/svg\" height=\"24px\"viewBox=\"0 0 24 24\"\n",
       "       width=\"24px\">\n",
       "    <path d=\"M0 0h24v24H0V0z\" fill=\"none\"/>\n",
       "    <path d=\"M18.56 5.44l.94 2.06.94-2.06 2.06-.94-2.06-.94-.94-2.06-.94 2.06-2.06.94zm-11 1L8.5 8.5l.94-2.06 2.06-.94-2.06-.94L8.5 2.5l-.94 2.06-2.06.94zm10 10l.94 2.06.94-2.06 2.06-.94-2.06-.94-.94-2.06-.94 2.06-2.06.94z\"/><path d=\"M17.41 7.96l-1.37-1.37c-.4-.4-.92-.59-1.43-.59-.52 0-1.04.2-1.43.59L10.3 9.45l-7.72 7.72c-.78.78-.78 2.05 0 2.83L4 21.41c.39.39.9.59 1.41.59.51 0 1.02-.2 1.41-.59l7.78-7.78 2.81-2.81c.8-.78.8-2.07 0-2.86zM5.41 20L4 18.59l7.72-7.72 1.47 1.35L5.41 20z\"/>\n",
       "  </svg>\n",
       "      </button>\n",
       "      \n",
       "  <style>\n",
       "    .colab-df-container {\n",
       "      display:flex;\n",
       "      flex-wrap:wrap;\n",
       "      gap: 12px;\n",
       "    }\n",
       "\n",
       "    .colab-df-convert {\n",
       "      background-color: #E8F0FE;\n",
       "      border: none;\n",
       "      border-radius: 50%;\n",
       "      cursor: pointer;\n",
       "      display: none;\n",
       "      fill: #1967D2;\n",
       "      height: 32px;\n",
       "      padding: 0 0 0 0;\n",
       "      width: 32px;\n",
       "    }\n",
       "\n",
       "    .colab-df-convert:hover {\n",
       "      background-color: #E2EBFA;\n",
       "      box-shadow: 0px 1px 2px rgba(60, 64, 67, 0.3), 0px 1px 3px 1px rgba(60, 64, 67, 0.15);\n",
       "      fill: #174EA6;\n",
       "    }\n",
       "\n",
       "    [theme=dark] .colab-df-convert {\n",
       "      background-color: #3B4455;\n",
       "      fill: #D2E3FC;\n",
       "    }\n",
       "\n",
       "    [theme=dark] .colab-df-convert:hover {\n",
       "      background-color: #434B5C;\n",
       "      box-shadow: 0px 1px 3px 1px rgba(0, 0, 0, 0.15);\n",
       "      filter: drop-shadow(0px 1px 2px rgba(0, 0, 0, 0.3));\n",
       "      fill: #FFFFFF;\n",
       "    }\n",
       "  </style>\n",
       "\n",
       "      <script>\n",
       "        const buttonEl =\n",
       "          document.querySelector('#df-0694c608-ef6b-4ade-b8a1-993c1dc42a06 button.colab-df-convert');\n",
       "        buttonEl.style.display =\n",
       "          google.colab.kernel.accessAllowed ? 'block' : 'none';\n",
       "\n",
       "        async function convertToInteractive(key) {\n",
       "          const element = document.querySelector('#df-0694c608-ef6b-4ade-b8a1-993c1dc42a06');\n",
       "          const dataTable =\n",
       "            await google.colab.kernel.invokeFunction('convertToInteractive',\n",
       "                                                     [key], {});\n",
       "          if (!dataTable) return;\n",
       "\n",
       "          const docLinkHtml = 'Like what you see? Visit the ' +\n",
       "            '<a target=\"_blank\" href=https://colab.research.google.com/notebooks/data_table.ipynb>data table notebook</a>'\n",
       "            + ' to learn more about interactive tables.';\n",
       "          element.innerHTML = '';\n",
       "          dataTable['output_type'] = 'display_data';\n",
       "          await google.colab.output.renderOutput(dataTable, element);\n",
       "          const docLink = document.createElement('div');\n",
       "          docLink.innerHTML = docLinkHtml;\n",
       "          element.appendChild(docLink);\n",
       "        }\n",
       "      </script>\n",
       "    </div>\n",
       "  </div>\n",
       "  "
      ],
      "text/plain": [
       "       fruit_name fruit_subtype\n",
       "count          59            59\n",
       "unique          4            10\n",
       "top         apple  turkey_navel\n",
       "freq           19            10"
      ]
     },
     "execution_count": 16,
     "metadata": {},
     "output_type": "execute_result"
    }
   ],
   "source": [
    "# stats of data\n",
    "fruits_data.describe(include=object)# only for strings columns"
   ]
  },
  {
   "cell_type": "markdown",
   "metadata": {
    "id": "fgnJSH68j0rN"
   },
   "source": [
    "### get classes (fruit names) and their counts"
   ]
  },
  {
   "cell_type": "code",
   "execution_count": null,
   "metadata": {
    "colab": {
     "base_uri": "https://localhost:8080/"
    },
    "executionInfo": {
     "elapsed": 470,
     "status": "ok",
     "timestamp": 1670449827691,
     "user": {
      "displayName": "Clash Clans",
      "userId": "00562530571182710236"
     },
     "user_tz": -330
    },
    "id": "0RGR6y0g8aKH",
    "outputId": "d8e74fd1-2419-4c1e-9675-245ec949ae22"
   },
   "outputs": [
    {
     "data": {
      "text/plain": [
       "array(['apple', 'mandarin', 'orange', 'lemon'], dtype=object)"
      ]
     },
     "execution_count": 20,
     "metadata": {},
     "output_type": "execute_result"
    }
   ],
   "source": [
    "# find all unique values in \"fruit_name\" and \"fruit_subtype\" columns\n",
    "fruits_data['fruit_name'].unique()#fruits_data.fruit_name..unique()"
   ]
  },
  {
   "cell_type": "code",
   "execution_count": null,
   "metadata": {
    "colab": {
     "base_uri": "https://localhost:8080/"
    },
    "executionInfo": {
     "elapsed": 5,
     "status": "ok",
     "timestamp": 1670449828175,
     "user": {
      "displayName": "Clash Clans",
      "userId": "00562530571182710236"
     },
     "user_tz": -330
    },
    "id": "zbHI8NFlD5sP",
    "outputId": "b5a7b4b9-53fa-499d-dda7-41f9413d9f88"
   },
   "outputs": [
    {
     "data": {
      "text/plain": [
       "1    19\n",
       "3    19\n",
       "4    16\n",
       "2     5\n",
       "Name: fruit_label, dtype: int64"
      ]
     },
     "execution_count": 21,
     "metadata": {},
     "output_type": "execute_result"
    }
   ],
   "source": [
    "# see unique value counts in 'fruit_label'\n",
    "fruits_data['fruit_label'].value_counts()# same as 'fruit_label'"
   ]
  },
  {
   "cell_type": "code",
   "execution_count": null,
   "metadata": {
    "colab": {
     "base_uri": "https://localhost:8080/"
    },
    "executionInfo": {
     "elapsed": 3,
     "status": "ok",
     "timestamp": 1670449828175,
     "user": {
      "displayName": "Clash Clans",
      "userId": "00562530571182710236"
     },
     "user_tz": -330
    },
    "id": "rcvettln-6_y",
    "outputId": "e34b1712-b5ae-43ef-e68e-cd921888b1be"
   },
   "outputs": [
    {
     "data": {
      "text/plain": [
       "apple       19\n",
       "orange      19\n",
       "lemon       16\n",
       "mandarin     5\n",
       "Name: fruit_name, dtype: int64"
      ]
     },
     "execution_count": 22,
     "metadata": {},
     "output_type": "execute_result"
    }
   ],
   "source": [
    "# see unique value counts for 'fruit_name'\n",
    "fruits_data['fruit_name'].value_counts()# same as 'fruit_label'"
   ]
  },
  {
   "cell_type": "markdown",
   "metadata": {
    "id": "7ShwNsv8kNit"
   },
   "source": [
    "### seach for null values\n",
    "\n",
    "\"unknown\" in furit sub-types"
   ]
  },
  {
   "cell_type": "code",
   "execution_count": null,
   "metadata": {
    "colab": {
     "base_uri": "https://localhost:8080/"
    },
    "executionInfo": {
     "elapsed": 1203,
     "status": "ok",
     "timestamp": 1670449848968,
     "user": {
      "displayName": "Clash Clans",
      "userId": "00562530571182710236"
     },
     "user_tz": -330
    },
    "id": "h_-5AGuv_Wez",
    "outputId": "a9f88b79-51ed-43fb-b5f1-afe0651a0868"
   },
   "outputs": [
    {
     "data": {
      "text/plain": [
       "turkey_navel        10\n",
       "unknown             10\n",
       "cripps_pink          6\n",
       "selected_seconds     6\n",
       "spanish_belsan       6\n",
       "mandarin             5\n",
       "braeburn             5\n",
       "golden_delicious     5\n",
       "granny_smith         3\n",
       "spanish_jumbo        3\n",
       "Name: fruit_subtype, dtype: int64"
      ]
     },
     "execution_count": 23,
     "metadata": {},
     "output_type": "execute_result"
    }
   ],
   "source": [
    "# see unique value counts for 'fruit_subtype'\n",
    "fruits_data['fruit_subtype'].value_counts()"
   ]
  },
  {
   "cell_type": "code",
   "execution_count": null,
   "metadata": {
    "colab": {
     "base_uri": "https://localhost:8080/"
    },
    "executionInfo": {
     "elapsed": 4,
     "status": "ok",
     "timestamp": 1670449849405,
     "user": {
      "displayName": "Clash Clans",
      "userId": "00562530571182710236"
     },
     "user_tz": -330
    },
    "id": "SfnkoBhs8aGK",
    "outputId": "88cdc831-2ef7-4c7d-86bc-f4c24e133cff"
   },
   "outputs": [
    {
     "data": {
      "text/plain": [
       "fruit_name  fruit_subtype   \n",
       "lemon       unknown             10\n",
       "orange      turkey_navel        10\n",
       "apple       cripps_pink          6\n",
       "lemon       spanish_belsan       6\n",
       "orange      selected_seconds     6\n",
       "apple       braeburn             5\n",
       "            golden_delicious     5\n",
       "mandarin    mandarin             5\n",
       "apple       granny_smith         3\n",
       "orange      spanish_jumbo        3\n",
       "dtype: int64"
      ]
     },
     "execution_count": 24,
     "metadata": {},
     "output_type": "execute_result"
    }
   ],
   "source": [
    "# see unique value counts (overall)\n",
    "fruits_data[['fruit_name','fruit_subtype']].value_counts()"
   ]
  },
  {
   "cell_type": "code",
   "execution_count": null,
   "metadata": {
    "colab": {
     "base_uri": "https://localhost:8080/"
    },
    "executionInfo": {
     "elapsed": 4,
     "status": "ok",
     "timestamp": 1670449849406,
     "user": {
      "displayName": "Clash Clans",
      "userId": "00562530571182710236"
     },
     "user_tz": -330
    },
    "id": "tuD8sR3IAX7L",
    "outputId": "af321fcf-7712-4c1e-95e1-e9bb4704c8b3"
   },
   "outputs": [
    {
     "data": {
      "text/plain": [
       "fruit_name  fruit_subtype   \n",
       "lemon       spanish_belsan      16\n",
       "orange      turkey_navel        10\n",
       "apple       cripps_pink          6\n",
       "orange      selected_seconds     6\n",
       "apple       braeburn             5\n",
       "            golden_delicious     5\n",
       "mandarin    mandarin             5\n",
       "apple       granny_smith         3\n",
       "orange      spanish_jumbo        3\n",
       "dtype: int64"
      ]
     },
     "execution_count": 25,
     "metadata": {},
     "output_type": "execute_result"
    }
   ],
   "source": [
    "# mode for 'fruit_subtype' for 'lemon' is 'spanish_belsan'\n",
    "#fruits_data['fruit_subtype'].mask(fruits_data['fruit_subtype']=='unknown','spanish_belsan')\n",
    "# or easy method (make a changes in copy)\n",
    "#fruits_data_copy=fruits_data.replace(to_replace='unknown',value='spanish_belsan',inplace=False)# create copy of dataframe\n",
    "# change orginal data\n",
    "fruits_data.replace(to_replace='unknown',value='spanish_belsan',inplace=True)# make changes in orginal data frame dataframe\n",
    "# more safe\n",
    "#fruits_data['fruit_subtype'].replace(to_replace='unknown',value='spanish_belsan',inplace=False)\n",
    "# see changes - see unique value counts (overall)\n",
    "fruits_data[['fruit_name','fruit_subtype']].value_counts()"
   ]
  },
  {
   "cell_type": "markdown",
   "metadata": {
    "id": "vL3q4-c_GsYD"
   },
   "source": [
    "### make label encoding on fruit_subtype"
   ]
  },
  {
   "cell_type": "code",
   "execution_count": null,
   "metadata": {
    "colab": {
     "base_uri": "https://localhost:8080/"
    },
    "executionInfo": {
     "elapsed": 386,
     "status": "ok",
     "timestamp": 1670449975943,
     "user": {
      "displayName": "Clash Clans",
      "userId": "00562530571182710236"
     },
     "user_tz": -330
    },
    "id": "ZW6uOq_q-0um",
    "outputId": "c57a9678-8336-4fd0-f5da-ab55a2065008"
   },
   "outputs": [
    {
     "data": {
      "text/plain": [
       "{'braeburn': 0,\n",
       " 'cripps_pink': 1,\n",
       " 'golden_delicious': 2,\n",
       " 'granny_smith': 3,\n",
       " 'mandarin': 4,\n",
       " 'selected_seconds': 5,\n",
       " 'spanish_belsan': 6,\n",
       " 'spanish_jumbo': 7,\n",
       " 'turkey_navel': 8}"
      ]
     },
     "execution_count": 28,
     "metadata": {},
     "output_type": "execute_result"
    }
   ],
   "source": [
    "# how label encoding is done\n",
    "#sorted(set(fruits_data['fruit_subtype'].to_list()))\n",
    "# load labelencoder\n",
    "from sklearn.preprocessing import LabelEncoder\n",
    "\n",
    "# make encoder (object)\n",
    "encoder=LabelEncoder()\n",
    "# make fit\n",
    "#encoder.fit(fruits_data['fruit_subtype'])# get unique values from data and assign labels\n",
    "# make transform (convert to labels)\n",
    "#fruit_subtype_encoded=encoder.transform(fruits_data['fruit_subtype'])\n",
    "# make fit and transform\n",
    "fruits_data['fruit_subtype_labels']=encoder.fit_transform(fruits_data['fruit_subtype'])# overwrite\n",
    "{class_:index for index,class_ in enumerate(encoder.classes_)}# see all clases labels"
   ]
  },
  {
   "cell_type": "code",
   "execution_count": null,
   "metadata": {
    "colab": {
     "base_uri": "https://localhost:8080/"
    },
    "executionInfo": {
     "elapsed": 6,
     "status": "ok",
     "timestamp": 1670449976517,
     "user": {
      "displayName": "Clash Clans",
      "userId": "00562530571182710236"
     },
     "user_tz": -330
    },
    "id": "ZAPcri-2Hqdn",
    "outputId": "177d3685-31e9-4ee2-997a-054c74433627"
   },
   "outputs": [
    {
     "data": {
      "text/html": [
       "\n",
       "  <div id=\"df-7272aae6-25bd-4224-8de3-027217fdd107\">\n",
       "    <div class=\"colab-df-container\">\n",
       "      <div>\n",
       "<style scoped>\n",
       "    .dataframe tbody tr th:only-of-type {\n",
       "        vertical-align: middle;\n",
       "    }\n",
       "\n",
       "    .dataframe tbody tr th {\n",
       "        vertical-align: top;\n",
       "    }\n",
       "\n",
       "    .dataframe thead th {\n",
       "        text-align: right;\n",
       "    }\n",
       "</style>\n",
       "<table border=\"1\" class=\"dataframe\">\n",
       "  <thead>\n",
       "    <tr style=\"text-align: right;\">\n",
       "      <th></th>\n",
       "      <th>fruit_label</th>\n",
       "      <th>fruit_name</th>\n",
       "      <th>fruit_subtype</th>\n",
       "      <th>mass</th>\n",
       "      <th>width</th>\n",
       "      <th>height</th>\n",
       "      <th>color_score</th>\n",
       "      <th>fruit_subtype_labels</th>\n",
       "    </tr>\n",
       "  </thead>\n",
       "  <tbody>\n",
       "    <tr>\n",
       "      <th>0</th>\n",
       "      <td>1</td>\n",
       "      <td>apple</td>\n",
       "      <td>granny_smith</td>\n",
       "      <td>192</td>\n",
       "      <td>8.4</td>\n",
       "      <td>7.3</td>\n",
       "      <td>0.55</td>\n",
       "      <td>3</td>\n",
       "    </tr>\n",
       "    <tr>\n",
       "      <th>1</th>\n",
       "      <td>1</td>\n",
       "      <td>apple</td>\n",
       "      <td>granny_smith</td>\n",
       "      <td>180</td>\n",
       "      <td>8.0</td>\n",
       "      <td>6.8</td>\n",
       "      <td>0.59</td>\n",
       "      <td>3</td>\n",
       "    </tr>\n",
       "    <tr>\n",
       "      <th>2</th>\n",
       "      <td>1</td>\n",
       "      <td>apple</td>\n",
       "      <td>granny_smith</td>\n",
       "      <td>176</td>\n",
       "      <td>7.4</td>\n",
       "      <td>7.2</td>\n",
       "      <td>0.60</td>\n",
       "      <td>3</td>\n",
       "    </tr>\n",
       "    <tr>\n",
       "      <th>3</th>\n",
       "      <td>2</td>\n",
       "      <td>mandarin</td>\n",
       "      <td>mandarin</td>\n",
       "      <td>86</td>\n",
       "      <td>6.2</td>\n",
       "      <td>4.7</td>\n",
       "      <td>0.80</td>\n",
       "      <td>4</td>\n",
       "    </tr>\n",
       "    <tr>\n",
       "      <th>4</th>\n",
       "      <td>2</td>\n",
       "      <td>mandarin</td>\n",
       "      <td>mandarin</td>\n",
       "      <td>84</td>\n",
       "      <td>6.0</td>\n",
       "      <td>4.6</td>\n",
       "      <td>0.79</td>\n",
       "      <td>4</td>\n",
       "    </tr>\n",
       "  </tbody>\n",
       "</table>\n",
       "</div>\n",
       "      <button class=\"colab-df-convert\" onclick=\"convertToInteractive('df-7272aae6-25bd-4224-8de3-027217fdd107')\"\n",
       "              title=\"Convert this dataframe to an interactive table.\"\n",
       "              style=\"display:none;\">\n",
       "        \n",
       "  <svg xmlns=\"http://www.w3.org/2000/svg\" height=\"24px\"viewBox=\"0 0 24 24\"\n",
       "       width=\"24px\">\n",
       "    <path d=\"M0 0h24v24H0V0z\" fill=\"none\"/>\n",
       "    <path d=\"M18.56 5.44l.94 2.06.94-2.06 2.06-.94-2.06-.94-.94-2.06-.94 2.06-2.06.94zm-11 1L8.5 8.5l.94-2.06 2.06-.94-2.06-.94L8.5 2.5l-.94 2.06-2.06.94zm10 10l.94 2.06.94-2.06 2.06-.94-2.06-.94-.94-2.06-.94 2.06-2.06.94z\"/><path d=\"M17.41 7.96l-1.37-1.37c-.4-.4-.92-.59-1.43-.59-.52 0-1.04.2-1.43.59L10.3 9.45l-7.72 7.72c-.78.78-.78 2.05 0 2.83L4 21.41c.39.39.9.59 1.41.59.51 0 1.02-.2 1.41-.59l7.78-7.78 2.81-2.81c.8-.78.8-2.07 0-2.86zM5.41 20L4 18.59l7.72-7.72 1.47 1.35L5.41 20z\"/>\n",
       "  </svg>\n",
       "      </button>\n",
       "      \n",
       "  <style>\n",
       "    .colab-df-container {\n",
       "      display:flex;\n",
       "      flex-wrap:wrap;\n",
       "      gap: 12px;\n",
       "    }\n",
       "\n",
       "    .colab-df-convert {\n",
       "      background-color: #E8F0FE;\n",
       "      border: none;\n",
       "      border-radius: 50%;\n",
       "      cursor: pointer;\n",
       "      display: none;\n",
       "      fill: #1967D2;\n",
       "      height: 32px;\n",
       "      padding: 0 0 0 0;\n",
       "      width: 32px;\n",
       "    }\n",
       "\n",
       "    .colab-df-convert:hover {\n",
       "      background-color: #E2EBFA;\n",
       "      box-shadow: 0px 1px 2px rgba(60, 64, 67, 0.3), 0px 1px 3px 1px rgba(60, 64, 67, 0.15);\n",
       "      fill: #174EA6;\n",
       "    }\n",
       "\n",
       "    [theme=dark] .colab-df-convert {\n",
       "      background-color: #3B4455;\n",
       "      fill: #D2E3FC;\n",
       "    }\n",
       "\n",
       "    [theme=dark] .colab-df-convert:hover {\n",
       "      background-color: #434B5C;\n",
       "      box-shadow: 0px 1px 3px 1px rgba(0, 0, 0, 0.15);\n",
       "      filter: drop-shadow(0px 1px 2px rgba(0, 0, 0, 0.3));\n",
       "      fill: #FFFFFF;\n",
       "    }\n",
       "  </style>\n",
       "\n",
       "      <script>\n",
       "        const buttonEl =\n",
       "          document.querySelector('#df-7272aae6-25bd-4224-8de3-027217fdd107 button.colab-df-convert');\n",
       "        buttonEl.style.display =\n",
       "          google.colab.kernel.accessAllowed ? 'block' : 'none';\n",
       "\n",
       "        async function convertToInteractive(key) {\n",
       "          const element = document.querySelector('#df-7272aae6-25bd-4224-8de3-027217fdd107');\n",
       "          const dataTable =\n",
       "            await google.colab.kernel.invokeFunction('convertToInteractive',\n",
       "                                                     [key], {});\n",
       "          if (!dataTable) return;\n",
       "\n",
       "          const docLinkHtml = 'Like what you see? Visit the ' +\n",
       "            '<a target=\"_blank\" href=https://colab.research.google.com/notebooks/data_table.ipynb>data table notebook</a>'\n",
       "            + ' to learn more about interactive tables.';\n",
       "          element.innerHTML = '';\n",
       "          dataTable['output_type'] = 'display_data';\n",
       "          await google.colab.output.renderOutput(dataTable, element);\n",
       "          const docLink = document.createElement('div');\n",
       "          docLink.innerHTML = docLinkHtml;\n",
       "          element.appendChild(docLink);\n",
       "        }\n",
       "      </script>\n",
       "    </div>\n",
       "  </div>\n",
       "  "
      ],
      "text/plain": [
       "   fruit_label fruit_name fruit_subtype  mass  width  height  color_score  \\\n",
       "0            1      apple  granny_smith   192    8.4     7.3         0.55   \n",
       "1            1      apple  granny_smith   180    8.0     6.8         0.59   \n",
       "2            1      apple  granny_smith   176    7.4     7.2         0.60   \n",
       "3            2   mandarin      mandarin    86    6.2     4.7         0.80   \n",
       "4            2   mandarin      mandarin    84    6.0     4.6         0.79   \n",
       "\n",
       "   fruit_subtype_labels  \n",
       "0                     3  \n",
       "1                     3  \n",
       "2                     3  \n",
       "3                     4  \n",
       "4                     4  "
      ]
     },
     "execution_count": 29,
     "metadata": {},
     "output_type": "execute_result"
    }
   ],
   "source": [
    "# see head of dataset\n",
    "fruits_data.head()"
   ]
  },
  {
   "cell_type": "markdown",
   "metadata": {
    "id": "OZZdhVeRki4M"
   },
   "source": [
    "### make data split using ([sklearn.model_selection.train_test_split](https://scikit-learn.org/stable/modules/generated/sklearn.model_selection.train_test_split.html))\n",
    "\n",
    "Split arrays or matrices into random train and test subsets.\n",
    "\n",
    "Quick utility that wraps input validation and next(ShuffleSplit().split(X, y)) and application to input data into a single call for splitting (and optionally subsampling) data in a oneliner."
   ]
  },
  {
   "cell_type": "code",
   "execution_count": null,
   "metadata": {
    "colab": {
     "base_uri": "https://localhost:8080/"
    },
    "executionInfo": {
     "elapsed": 516,
     "status": "ok",
     "timestamp": 1670450058223,
     "user": {
      "displayName": "Clash Clans",
      "userId": "00562530571182710236"
     },
     "user_tz": -330
    },
    "id": "J2r8BxYaIDN0",
    "outputId": "b2c0b5ee-2458-49be-a635-25c77e0d76a1"
   },
   "outputs": [
    {
     "data": {
      "text/plain": [
       "((47, 5), (47,), (12, 5), (12,))"
      ]
     },
     "execution_count": 30,
     "metadata": {},
     "output_type": "execute_result"
    }
   ],
   "source": [
    "# make data split\n",
    "from sklearn.model_selection import train_test_split\n",
    "\n",
    "# make data split\n",
    "Xtrain,Xtest,ytrain,ytest=train_test_split(fruits_data.iloc[:,3:],fruits_data['fruit_label'],\n",
    "                                           test_size=0.2)\n",
    "# see shape (pandas dataframe and series)\n",
    "Xtrain.shape,ytrain.shape,Xtest.shape,ytest.shape"
   ]
  },
  {
   "cell_type": "markdown",
   "metadata": {
    "id": "9KCCAisFlCCo"
   },
   "source": [
    "### Make classification using - [sklearn.linear_model.LogisticRegression](https://scikit-learn.org/stable/modules/generated/sklearn.linear_model.LogisticRegression.html)\n",
    "\n",
    "Logistic Regression (aka logit, MaxEnt) classifier."
   ]
  },
  {
   "cell_type": "code",
   "execution_count": null,
   "metadata": {
    "colab": {
     "base_uri": "https://localhost:8080/"
    },
    "executionInfo": {
     "elapsed": 521,
     "status": "ok",
     "timestamp": 1670450061301,
     "user": {
      "displayName": "Clash Clans",
      "userId": "00562530571182710236"
     },
     "user_tz": -330
    },
    "id": "4zieYXFrIR2u",
    "outputId": "fcde10c9-5be1-4a53-db9b-30e5a083c27f"
   },
   "outputs": [
    {
     "name": "stdout",
     "output_type": "stream",
     "text": [
      "Coefficient: (shape) (4, 5)\n",
      "Intercept: [ -4.47499606  24.61763535  -9.93007474 -10.21256455]\n",
      "Score (on training data): 1.0\n",
      "Score (on testing data): 1.0\n"
     ]
    }
   ],
   "source": [
    "# load Logistic regression class\n",
    "from sklearn.linear_model import LogisticRegression\n",
    "\n",
    "# make model (object)\n",
    "lClf=LogisticRegression(max_iter=10000)# ConvergenceWarning -  TOTAL NO. of ITERATIONS REACHED LIMIT.\n",
    "# make model train\n",
    "lClf.fit(Xtrain,ytrain)\n",
    "# see hyperperameter\n",
    "print('Coefficient: (shape)',lClf.coef_.shape)# five different equations\n",
    "print('Intercept:',lClf.intercept_)\n",
    "print('Score (on training data):',lClf.score(Xtrain,ytrain))\n",
    "print('Score (on testing data):',lClf.score(Xtest,ytest))"
   ]
  },
  {
   "cell_type": "markdown",
   "metadata": {
    "id": "LQA0-8F0lsl_"
   },
   "source": [
    "### elaborate results"
   ]
  },
  {
   "cell_type": "code",
   "execution_count": null,
   "metadata": {
    "colab": {
     "base_uri": "https://localhost:8080/"
    },
    "executionInfo": {
     "elapsed": 8,
     "status": "ok",
     "timestamp": 1670450061302,
     "user": {
      "displayName": "Clash Clans",
      "userId": "00562530571182710236"
     },
     "user_tz": -330
    },
    "id": "2xIX1YGAbDI-",
    "outputId": "5078e49c-8fb7-42fc-8308-2d00a557f8e4"
   },
   "outputs": [
    {
     "name": "stdout",
     "output_type": "stream",
     "text": [
      "True values: [1 1]\n",
      "Predictions: [1 1]\n"
     ]
    }
   ],
   "source": [
    "# take sample\n",
    "# Xtest[:2] - first two samples\n",
    "# ytest[:2] - first two true values\n",
    "# by our build in model\n",
    "print('True values:',ytest[:2].values)\n",
    "print('Predictions:',lClf.predict(Xtest[:2]))"
   ]
  },
  {
   "cell_type": "code",
   "execution_count": null,
   "metadata": {
    "colab": {
     "base_uri": "https://localhost:8080/"
    },
    "executionInfo": {
     "elapsed": 7,
     "status": "ok",
     "timestamp": 1670450061303,
     "user": {
      "displayName": "Clash Clans",
      "userId": "00562530571182710236"
     },
     "user_tz": -330
    },
    "id": "gFTq8qR8EliB",
    "outputId": "a43348f5-8b02-411a-ddfb-d14d5617e62b"
   },
   "outputs": [
    {
     "name": "stdout",
     "output_type": "stream",
     "text": [
      "Y1: 0.999579\n",
      "Y2: 1.3e-05\n",
      "Y2: 0.769765\n",
      "Y4: 0.904083\n"
     ]
    }
   ],
   "source": [
    "# manual calculation -\n",
    "# yn = 1 / (1 + e^(-yn`))\n",
    "# equation 1 - y1` = m11x1+m12x2+m13x3+m14x4+m15x5+c1\n",
    "y1_dash=np.sum(Xtest.iloc[1]*lClf.coef_[0])+lClf.intercept_[0]\n",
    "y1= 1 / (1 + np.power(np.e,-1*y1_dash))\n",
    "print('Y1:',np.round(y1,6))\n",
    "# equation 2 - y2` = m21x1+m22x2+m23x3+m24x4+m25x5+c2\n",
    "y2_dash=np.sum(Xtest.iloc[1]*lClf.coef_[1])+lClf.intercept_[1]\n",
    "y2= 1 / (1 + np.power(np.e,-1*y2_dash))\n",
    "print('Y2:',np.round(y2,6))\n",
    "# equation 3 - y3` = m31x1+m32x2+m33x3+m34x4+m35x5+c3\n",
    "y3_dash=np.sum(Xtest.iloc[1]*lClf.coef_[2])+lClf.intercept_[2]\n",
    "y3= 1 / (1 + np.power(np.e,-1*y3_dash))\n",
    "print('Y2:',np.round(y3,6))\n",
    "# equation 4 - y4` = m41x1+m42x2+m43x3+m44x4+m45x5+c4\n",
    "y4_dash=np.sum(Xtest.iloc[1]*lClf.coef_[3])+lClf.intercept_[3]\n",
    "y4= 1 / (1 + np.power(np.e,-1*y4_dash))\n",
    "print('Y4:',np.round(y4,6))"
   ]
  },
  {
   "cell_type": "markdown",
   "metadata": {
    "id": "FJt-MxAh-Kjo"
   },
   "source": [
    "## classification on [toy dataset](https://scikit-learn.org/stable/datasets/toy_dataset.html) - [IRIS](https://scikit-learn.org/stable/modules/generated/sklearn.datasets.load_iris.html#sklearn.datasets.load_iris)\n",
    "\n",
    "Load and return the iris dataset (classification). The iris dataset is a classic and very easy multi-class classification dataset."
   ]
  },
  {
   "cell_type": "markdown",
   "metadata": {
    "id": "qWK12PC-mEZk"
   },
   "source": [
    "![image.png](data:image/png;base64,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)"
   ]
  },
  {
   "cell_type": "markdown",
   "metadata": {
    "id": "BTnc-oi7mILP"
   },
   "source": [
    "Source: https://scikit-learn.org/stable/modules/generated/sklearn.datasets.load_iris.html"
   ]
  },
  {
   "cell_type": "markdown",
   "metadata": {
    "id": "KcqRFC6n1SZP"
   },
   "source": [
    "### make load dataset"
   ]
  },
  {
   "cell_type": "code",
   "execution_count": 2,
   "metadata": {
    "colab": {
     "base_uri": "https://localhost:8080/"
    },
    "executionInfo": {
     "elapsed": 616,
     "status": "ok",
     "timestamp": 1732715433697,
     "user": {
      "displayName": "Clash Clans",
      "userId": "00562530571182710236"
     },
     "user_tz": -330
    },
    "id": "RcL1STkuhYGm",
    "outputId": "a84d874a-2c64-468e-aee1-bb472c4bf35f"
   },
   "outputs": [
    {
     "name": "stdout",
     "output_type": "stream",
     "text": [
      "Dataset object: <class 'sklearn.utils._bunch.Bunch'>\n"
     ]
    }
   ],
   "source": [
    "from sklearn.datasets import load_iris                                          # load iris data loading method\n",
    "# Source: https://scikit-learn.org/1.5/modules/generated/sklearn.datasets.load_iris.html#sklearn.datasets.load_iris\n",
    "\n",
    "iris=load_iris()                                                                # make load data\n",
    "print('Dataset object:',type(iris))                                             # see type of object returned"
   ]
  },
  {
   "cell_type": "code",
   "execution_count": 3,
   "metadata": {
    "colab": {
     "base_uri": "https://localhost:8080/"
    },
    "collapsed": true,
    "executionInfo": {
     "elapsed": 34,
     "status": "ok",
     "timestamp": 1732715434152,
     "user": {
      "displayName": "Clash Clans",
      "userId": "00562530571182710236"
     },
     "user_tz": -330
    },
    "id": "o_RcHIorhqQF",
    "outputId": "2922d3f0-97b9-4feb-8101-1de48d46c1d7"
   },
   "outputs": [
    {
     "name": "stdout",
     "output_type": "stream",
     "text": [
      "Dataset Info:\n",
      " .. _iris_dataset:\n",
      "\n",
      "Iris plants dataset\n",
      "--------------------\n",
      "\n",
      "**Data Set Characteristics:**\n",
      "\n",
      ":Number of Instances: 150 (50 in each of three classes)\n",
      ":Number of Attributes: 4 numeric, predictive attributes and the class\n",
      ":Attribute Information:\n",
      "    - sepal length in cm\n",
      "    - sepal width in cm\n",
      "    - petal length in cm\n",
      "    - petal width in cm\n",
      "    - class:\n",
      "            - Iris-Setosa\n",
      "            - Iris-Versicolour\n",
      "            - Iris-Virginica\n",
      "\n",
      ":Summary Statistics:\n",
      "\n",
      "============== ==== ==== ======= ===== ====================\n",
      "                Min  Max   Mean    SD   Class Correlation\n",
      "============== ==== ==== ======= ===== ====================\n",
      "sepal length:   4.3  7.9   5.84   0.83    0.7826\n",
      "sepal width:    2.0  4.4   3.05   0.43   -0.4194\n",
      "petal length:   1.0  6.9   3.76   1.76    0.9490  (high!)\n",
      "petal width:    0.1  2.5   1.20   0.76    0.9565  (high!)\n",
      "============== ==== ==== ======= ===== ====================\n",
      "\n",
      ":Missing Attribute Values: None\n",
      ":Class Distribution: 33.3% for each of 3 classes.\n",
      ":Creator: R.A. Fisher\n",
      ":Donor: Michael Marshall (MARSHALL%PLU@io.arc.nasa.gov)\n",
      ":Date: July, 1988\n",
      "\n",
      "The famous Iris database, first used by Sir R.A. Fisher. The dataset is taken\n",
      "from Fisher's paper. Note that it's the same as in R, but not as in the UCI\n",
      "Machine Learning Repository, which has two wrong data points.\n",
      "\n",
      "This is perhaps the best known database to be found in the\n",
      "pattern recognition literature.  Fisher's paper is a classic in the field and\n",
      "is referenced frequently to this day.  (See Duda & Hart, for example.)  The\n",
      "data set contains 3 classes of 50 instances each, where each class refers to a\n",
      "type of iris plant.  One class is linearly separable from the other 2; the\n",
      "latter are NOT linearly separable from each other.\n",
      "\n",
      ".. dropdown:: References\n",
      "\n",
      "  - Fisher, R.A. \"The use of multiple measurements in taxonomic problems\"\n",
      "    Annual Eugenics, 7, Part II, 179-188 (1936); also in \"Contributions to\n",
      "    Mathematical Statistics\" (John Wiley, NY, 1950).\n",
      "  - Duda, R.O., & Hart, P.E. (1973) Pattern Classification and Scene Analysis.\n",
      "    (Q327.D83) John Wiley & Sons.  ISBN 0-471-22361-1.  See page 218.\n",
      "  - Dasarathy, B.V. (1980) \"Nosing Around the Neighborhood: A New System\n",
      "    Structure and Classification Rule for Recognition in Partially Exposed\n",
      "    Environments\".  IEEE Transactions on Pattern Analysis and Machine\n",
      "    Intelligence, Vol. PAMI-2, No. 1, 67-71.\n",
      "  - Gates, G.W. (1972) \"The Reduced Nearest Neighbor Rule\".  IEEE Transactions\n",
      "    on Information Theory, May 1972, 431-433.\n",
      "  - See also: 1988 MLC Proceedings, 54-64.  Cheeseman et al\"s AUTOCLASS II\n",
      "    conceptual clustering system finds 3 classes in the data.\n",
      "  - Many, many more ...\n",
      "\n"
     ]
    }
   ],
   "source": [
    "print('Dataset Info:\\n',iris.DESCR)                                             # make print dataset info"
   ]
  },
  {
   "cell_type": "code",
   "execution_count": 4,
   "metadata": {
    "colab": {
     "base_uri": "https://localhost:8080/"
    },
    "executionInfo": {
     "elapsed": 30,
     "status": "ok",
     "timestamp": 1732715434154,
     "user": {
      "displayName": "Clash Clans",
      "userId": "00562530571182710236"
     },
     "user_tz": -330
    },
    "id": "hnApK1Izhu7J",
    "outputId": "6d9c4322-851e-48b2-c2df-b4c35c9dd583"
   },
   "outputs": [
    {
     "name": "stdout",
     "output_type": "stream",
     "text": [
      "See type of data (inputs): <class 'numpy.ndarray'>\n",
      "See type of targets (outputs): <class 'numpy.ndarray'>\n"
     ]
    }
   ],
   "source": [
    "print('See type of data (inputs):',type(iris.data))                             # see type of data object\n",
    "print('See type of targets (outputs):',type(iris.target))                       # see type of target object"
   ]
  },
  {
   "cell_type": "code",
   "execution_count": 5,
   "metadata": {
    "colab": {
     "base_uri": "https://localhost:8080/"
    },
    "executionInfo": {
     "elapsed": 25,
     "status": "ok",
     "timestamp": 1732715434155,
     "user": {
      "displayName": "Clash Clans",
      "userId": "00562530571182710236"
     },
     "user_tz": -330
    },
    "id": "wad_k2D5hx3Z",
    "outputId": "ae121322-8801-45c8-aac8-50c461830fe8"
   },
   "outputs": [
    {
     "name": "stdout",
     "output_type": "stream",
     "text": [
      "See shape of data (inputs): (150, 4)\n",
      "Feature (column) names: ['sepal length (cm)', 'sepal width (cm)', 'petal length (cm)', 'petal width (cm)']\n",
      "See shape of targets: (150,)\n",
      "Unique labels in targets: [0 1 2]\n",
      "Unique labels names: ['setosa' 'versicolor' 'virginica']\n"
     ]
    }
   ],
   "source": [
    "print('See shape of data (inputs):',iris.data.shape)                            # shape of inputs (X) -> (row, columns)\n",
    "# Row -> samples or number of instances\n",
    "# Columns -> features or number of attributes\n",
    "print('Feature (column) names:',iris.feature_names)                             # print feature names\n",
    "print('See shape of targets:',iris.target.shape)                                # see shape of targets (y) -> (samples, )\n",
    "print('Unique labels in targets:',np.sort(np.unique(iris.target)))              # see all unique labels\n",
    "print('Unique labels names:',iris.target_names)                                 # see target names -> index represent label"
   ]
  },
  {
   "cell_type": "code",
   "execution_count": 6,
   "metadata": {
    "colab": {
     "base_uri": "https://localhost:8080/"
    },
    "executionInfo": {
     "elapsed": 21,
     "status": "ok",
     "timestamp": 1732715434156,
     "user": {
      "displayName": "Clash Clans",
      "userId": "00562530571182710236"
     },
     "user_tz": -330
    },
    "id": "rzjoyn_Oh4jD",
    "outputId": "638e0493-ad45-4d9a-b414-f1aa8d12e173"
   },
   "outputs": [
    {
     "name": "stdout",
     "output_type": "stream",
     "text": [
      "Label decoder: {0: 'setosa', 1: 'versicolor', 2: 'virginica'}\n",
      "Label encoder: {'setosa': 0, 'versicolor': 1, 'virginica': 2}\n"
     ]
    }
   ],
   "source": [
    "decoder:dict={index:label for index,label in enumerate(iris.target_names)}      # make label decoder - label index to label names\n",
    "encoder:dict={label:index for index,label in enumerate(iris.target_names)}      # make label encoder - label name to label index\n",
    "print('Label decoder:',decoder)                                                 # see label decoder\n",
    "print('Label encoder:',encoder)                                                 # see label encoder"
   ]
  },
  {
   "cell_type": "markdown",
   "metadata": {
    "id": "E1_xkDCoiFG_"
   },
   "source": [
    "### make dataframe from data"
   ]
  },
  {
   "cell_type": "code",
   "execution_count": 7,
   "metadata": {
    "colab": {
     "base_uri": "https://localhost:8080/",
     "height": 0
    },
    "collapsed": true,
    "executionInfo": {
     "elapsed": 888,
     "status": "ok",
     "timestamp": 1732715463807,
     "user": {
      "displayName": "Clash Clans",
      "userId": "00562530571182710236"
     },
     "user_tz": -330
    },
    "id": "ZTgvm0ctiHBx",
    "outputId": "c2368c0c-a5f3-4f91-9a2b-8504c8199ea2"
   },
   "outputs": [
    {
     "data": {
      "application/vnd.google.colaboratory.intrinsic+json": {
       "summary": "{\n  \"name\": \"iris_df\",\n  \"rows\": 150,\n  \"fields\": [\n    {\n      \"column\": \"sepal length (cm)\",\n      \"properties\": {\n        \"dtype\": \"number\",\n        \"std\": 0.8280661279778629,\n        \"min\": 4.3,\n        \"max\": 7.9,\n        \"num_unique_values\": 35,\n        \"samples\": [\n          6.2,\n          4.5,\n          5.6\n        ],\n        \"semantic_type\": \"\",\n        \"description\": \"\"\n      }\n    },\n    {\n      \"column\": \"sepal width (cm)\",\n      \"properties\": {\n        \"dtype\": \"number\",\n        \"std\": 0.435866284936698,\n        \"min\": 2.0,\n        \"max\": 4.4,\n        \"num_unique_values\": 23,\n        \"samples\": [\n          2.3,\n          4.0,\n          3.5\n        ],\n        \"semantic_type\": \"\",\n        \"description\": \"\"\n      }\n    },\n    {\n      \"column\": \"petal length (cm)\",\n      \"properties\": {\n        \"dtype\": \"number\",\n        \"std\": 1.7652982332594667,\n        \"min\": 1.0,\n        \"max\": 6.9,\n        \"num_unique_values\": 43,\n        \"samples\": [\n          6.7,\n          3.8,\n          3.7\n        ],\n        \"semantic_type\": \"\",\n        \"description\": \"\"\n      }\n    },\n    {\n      \"column\": \"petal width (cm)\",\n      \"properties\": {\n        \"dtype\": \"number\",\n        \"std\": 0.7622376689603465,\n        \"min\": 0.1,\n        \"max\": 2.5,\n        \"num_unique_values\": 22,\n        \"samples\": [\n          0.2,\n          1.2,\n          1.3\n        ],\n        \"semantic_type\": \"\",\n        \"description\": \"\"\n      }\n    }\n  ]\n}",
       "type": "dataframe",
       "variable_name": "iris_df"
      },
      "text/html": [
       "\n",
       "  <div id=\"df-6862d884-3426-4c85-bcf4-37763508a639\" class=\"colab-df-container\">\n",
       "    <div>\n",
       "<style scoped>\n",
       "    .dataframe tbody tr th:only-of-type {\n",
       "        vertical-align: middle;\n",
       "    }\n",
       "\n",
       "    .dataframe tbody tr th {\n",
       "        vertical-align: top;\n",
       "    }\n",
       "\n",
       "    .dataframe thead th {\n",
       "        text-align: right;\n",
       "    }\n",
       "</style>\n",
       "<table border=\"1\" class=\"dataframe\">\n",
       "  <thead>\n",
       "    <tr style=\"text-align: right;\">\n",
       "      <th></th>\n",
       "      <th>sepal length (cm)</th>\n",
       "      <th>sepal width (cm)</th>\n",
       "      <th>petal length (cm)</th>\n",
       "      <th>petal width (cm)</th>\n",
       "    </tr>\n",
       "  </thead>\n",
       "  <tbody>\n",
       "    <tr>\n",
       "      <th>0</th>\n",
       "      <td>5.1</td>\n",
       "      <td>3.5</td>\n",
       "      <td>1.4</td>\n",
       "      <td>0.2</td>\n",
       "    </tr>\n",
       "    <tr>\n",
       "      <th>1</th>\n",
       "      <td>4.9</td>\n",
       "      <td>3.0</td>\n",
       "      <td>1.4</td>\n",
       "      <td>0.2</td>\n",
       "    </tr>\n",
       "    <tr>\n",
       "      <th>2</th>\n",
       "      <td>4.7</td>\n",
       "      <td>3.2</td>\n",
       "      <td>1.3</td>\n",
       "      <td>0.2</td>\n",
       "    </tr>\n",
       "    <tr>\n",
       "      <th>3</th>\n",
       "      <td>4.6</td>\n",
       "      <td>3.1</td>\n",
       "      <td>1.5</td>\n",
       "      <td>0.2</td>\n",
       "    </tr>\n",
       "    <tr>\n",
       "      <th>4</th>\n",
       "      <td>5.0</td>\n",
       "      <td>3.6</td>\n",
       "      <td>1.4</td>\n",
       "      <td>0.2</td>\n",
       "    </tr>\n",
       "  </tbody>\n",
       "</table>\n",
       "</div>\n",
       "    <div class=\"colab-df-buttons\">\n",
       "\n",
       "  <div class=\"colab-df-container\">\n",
       "    <button class=\"colab-df-convert\" onclick=\"convertToInteractive('df-6862d884-3426-4c85-bcf4-37763508a639')\"\n",
       "            title=\"Convert this dataframe to an interactive table.\"\n",
       "            style=\"display:none;\">\n",
       "\n",
       "  <svg xmlns=\"http://www.w3.org/2000/svg\" height=\"24px\" viewBox=\"0 -960 960 960\">\n",
       "    <path d=\"M120-120v-720h720v720H120Zm60-500h600v-160H180v160Zm220 220h160v-160H400v160Zm0 220h160v-160H400v160ZM180-400h160v-160H180v160Zm440 0h160v-160H620v160ZM180-180h160v-160H180v160Zm440 0h160v-160H620v160Z\"/>\n",
       "  </svg>\n",
       "    </button>\n",
       "\n",
       "  <style>\n",
       "    .colab-df-container {\n",
       "      display:flex;\n",
       "      gap: 12px;\n",
       "    }\n",
       "\n",
       "    .colab-df-convert {\n",
       "      background-color: #E8F0FE;\n",
       "      border: none;\n",
       "      border-radius: 50%;\n",
       "      cursor: pointer;\n",
       "      display: none;\n",
       "      fill: #1967D2;\n",
       "      height: 32px;\n",
       "      padding: 0 0 0 0;\n",
       "      width: 32px;\n",
       "    }\n",
       "\n",
       "    .colab-df-convert:hover {\n",
       "      background-color: #E2EBFA;\n",
       "      box-shadow: 0px 1px 2px rgba(60, 64, 67, 0.3), 0px 1px 3px 1px rgba(60, 64, 67, 0.15);\n",
       "      fill: #174EA6;\n",
       "    }\n",
       "\n",
       "    .colab-df-buttons div {\n",
       "      margin-bottom: 4px;\n",
       "    }\n",
       "\n",
       "    [theme=dark] .colab-df-convert {\n",
       "      background-color: #3B4455;\n",
       "      fill: #D2E3FC;\n",
       "    }\n",
       "\n",
       "    [theme=dark] .colab-df-convert:hover {\n",
       "      background-color: #434B5C;\n",
       "      box-shadow: 0px 1px 3px 1px rgba(0, 0, 0, 0.15);\n",
       "      filter: drop-shadow(0px 1px 2px rgba(0, 0, 0, 0.3));\n",
       "      fill: #FFFFFF;\n",
       "    }\n",
       "  </style>\n",
       "\n",
       "    <script>\n",
       "      const buttonEl =\n",
       "        document.querySelector('#df-6862d884-3426-4c85-bcf4-37763508a639 button.colab-df-convert');\n",
       "      buttonEl.style.display =\n",
       "        google.colab.kernel.accessAllowed ? 'block' : 'none';\n",
       "\n",
       "      async function convertToInteractive(key) {\n",
       "        const element = document.querySelector('#df-6862d884-3426-4c85-bcf4-37763508a639');\n",
       "        const dataTable =\n",
       "          await google.colab.kernel.invokeFunction('convertToInteractive',\n",
       "                                                    [key], {});\n",
       "        if (!dataTable) return;\n",
       "\n",
       "        const docLinkHtml = 'Like what you see? Visit the ' +\n",
       "          '<a target=\"_blank\" href=https://colab.research.google.com/notebooks/data_table.ipynb>data table notebook</a>'\n",
       "          + ' to learn more about interactive tables.';\n",
       "        element.innerHTML = '';\n",
       "        dataTable['output_type'] = 'display_data';\n",
       "        await google.colab.output.renderOutput(dataTable, element);\n",
       "        const docLink = document.createElement('div');\n",
       "        docLink.innerHTML = docLinkHtml;\n",
       "        element.appendChild(docLink);\n",
       "      }\n",
       "    </script>\n",
       "  </div>\n",
       "\n",
       "\n",
       "<div id=\"df-03bf929a-9811-4e5e-8ddb-edaa494740fd\">\n",
       "  <button class=\"colab-df-quickchart\" onclick=\"quickchart('df-03bf929a-9811-4e5e-8ddb-edaa494740fd')\"\n",
       "            title=\"Suggest charts\"\n",
       "            style=\"display:none;\">\n",
       "\n",
       "<svg xmlns=\"http://www.w3.org/2000/svg\" height=\"24px\"viewBox=\"0 0 24 24\"\n",
       "     width=\"24px\">\n",
       "    <g>\n",
       "        <path d=\"M19 3H5c-1.1 0-2 .9-2 2v14c0 1.1.9 2 2 2h14c1.1 0 2-.9 2-2V5c0-1.1-.9-2-2-2zM9 17H7v-7h2v7zm4 0h-2V7h2v10zm4 0h-2v-4h2v4z\"/>\n",
       "    </g>\n",
       "</svg>\n",
       "  </button>\n",
       "\n",
       "<style>\n",
       "  .colab-df-quickchart {\n",
       "      --bg-color: #E8F0FE;\n",
       "      --fill-color: #1967D2;\n",
       "      --hover-bg-color: #E2EBFA;\n",
       "      --hover-fill-color: #174EA6;\n",
       "      --disabled-fill-color: #AAA;\n",
       "      --disabled-bg-color: #DDD;\n",
       "  }\n",
       "\n",
       "  [theme=dark] .colab-df-quickchart {\n",
       "      --bg-color: #3B4455;\n",
       "      --fill-color: #D2E3FC;\n",
       "      --hover-bg-color: #434B5C;\n",
       "      --hover-fill-color: #FFFFFF;\n",
       "      --disabled-bg-color: #3B4455;\n",
       "      --disabled-fill-color: #666;\n",
       "  }\n",
       "\n",
       "  .colab-df-quickchart {\n",
       "    background-color: var(--bg-color);\n",
       "    border: none;\n",
       "    border-radius: 50%;\n",
       "    cursor: pointer;\n",
       "    display: none;\n",
       "    fill: var(--fill-color);\n",
       "    height: 32px;\n",
       "    padding: 0;\n",
       "    width: 32px;\n",
       "  }\n",
       "\n",
       "  .colab-df-quickchart:hover {\n",
       "    background-color: var(--hover-bg-color);\n",
       "    box-shadow: 0 1px 2px rgba(60, 64, 67, 0.3), 0 1px 3px 1px rgba(60, 64, 67, 0.15);\n",
       "    fill: var(--button-hover-fill-color);\n",
       "  }\n",
       "\n",
       "  .colab-df-quickchart-complete:disabled,\n",
       "  .colab-df-quickchart-complete:disabled:hover {\n",
       "    background-color: var(--disabled-bg-color);\n",
       "    fill: var(--disabled-fill-color);\n",
       "    box-shadow: none;\n",
       "  }\n",
       "\n",
       "  .colab-df-spinner {\n",
       "    border: 2px solid var(--fill-color);\n",
       "    border-color: transparent;\n",
       "    border-bottom-color: var(--fill-color);\n",
       "    animation:\n",
       "      spin 1s steps(1) infinite;\n",
       "  }\n",
       "\n",
       "  @keyframes spin {\n",
       "    0% {\n",
       "      border-color: transparent;\n",
       "      border-bottom-color: var(--fill-color);\n",
       "      border-left-color: var(--fill-color);\n",
       "    }\n",
       "    20% {\n",
       "      border-color: transparent;\n",
       "      border-left-color: var(--fill-color);\n",
       "      border-top-color: var(--fill-color);\n",
       "    }\n",
       "    30% {\n",
       "      border-color: transparent;\n",
       "      border-left-color: var(--fill-color);\n",
       "      border-top-color: var(--fill-color);\n",
       "      border-right-color: var(--fill-color);\n",
       "    }\n",
       "    40% {\n",
       "      border-color: transparent;\n",
       "      border-right-color: var(--fill-color);\n",
       "      border-top-color: var(--fill-color);\n",
       "    }\n",
       "    60% {\n",
       "      border-color: transparent;\n",
       "      border-right-color: var(--fill-color);\n",
       "    }\n",
       "    80% {\n",
       "      border-color: transparent;\n",
       "      border-right-color: var(--fill-color);\n",
       "      border-bottom-color: var(--fill-color);\n",
       "    }\n",
       "    90% {\n",
       "      border-color: transparent;\n",
       "      border-bottom-color: var(--fill-color);\n",
       "    }\n",
       "  }\n",
       "</style>\n",
       "\n",
       "  <script>\n",
       "    async function quickchart(key) {\n",
       "      const quickchartButtonEl =\n",
       "        document.querySelector('#' + key + ' button');\n",
       "      quickchartButtonEl.disabled = true;  // To prevent multiple clicks.\n",
       "      quickchartButtonEl.classList.add('colab-df-spinner');\n",
       "      try {\n",
       "        const charts = await google.colab.kernel.invokeFunction(\n",
       "            'suggestCharts', [key], {});\n",
       "      } catch (error) {\n",
       "        console.error('Error during call to suggestCharts:', error);\n",
       "      }\n",
       "      quickchartButtonEl.classList.remove('colab-df-spinner');\n",
       "      quickchartButtonEl.classList.add('colab-df-quickchart-complete');\n",
       "    }\n",
       "    (() => {\n",
       "      let quickchartButtonEl =\n",
       "        document.querySelector('#df-03bf929a-9811-4e5e-8ddb-edaa494740fd button');\n",
       "      quickchartButtonEl.style.display =\n",
       "        google.colab.kernel.accessAllowed ? 'block' : 'none';\n",
       "    })();\n",
       "  </script>\n",
       "</div>\n",
       "\n",
       "    </div>\n",
       "  </div>\n"
      ],
      "text/plain": [
       "   sepal length (cm)  sepal width (cm)  petal length (cm)  petal width (cm)\n",
       "0                5.1               3.5                1.4               0.2\n",
       "1                4.9               3.0                1.4               0.2\n",
       "2                4.7               3.2                1.3               0.2\n",
       "3                4.6               3.1                1.5               0.2\n",
       "4                5.0               3.6                1.4               0.2"
      ]
     },
     "execution_count": 7,
     "metadata": {},
     "output_type": "execute_result"
    }
   ],
   "source": [
    "iris_df=pd.DataFrame(data=iris.data,columns=iris.feature_names)                 # make dataframe\n",
    "iris_df.head()                                                                  # see head of data (first five rows)"
   ]
  },
  {
   "cell_type": "code",
   "execution_count": 8,
   "metadata": {
    "colab": {
     "base_uri": "https://localhost:8080/",
     "height": 0
    },
    "collapsed": true,
    "executionInfo": {
     "elapsed": 120,
     "status": "ok",
     "timestamp": 1732715463809,
     "user": {
      "displayName": "Clash Clans",
      "userId": "00562530571182710236"
     },
     "user_tz": -330
    },
    "id": "LCN_5WkBiQCf",
    "outputId": "b9577290-6393-4eca-e6f6-07727c603e58"
   },
   "outputs": [
    {
     "data": {
      "application/vnd.google.colaboratory.intrinsic+json": {
       "summary": "{\n  \"name\": \"iris_df\",\n  \"rows\": 5,\n  \"fields\": [\n    {\n      \"column\": \"sepal length (cm)\",\n      \"properties\": {\n        \"dtype\": \"number\",\n        \"std\": 0.30331501776206193,\n        \"min\": 5.9,\n        \"max\": 6.7,\n        \"num_unique_values\": 5,\n        \"samples\": [\n          6.3,\n          5.9,\n          6.5\n        ],\n        \"semantic_type\": \"\",\n        \"description\": \"\"\n      }\n    },\n    {\n      \"column\": \"sepal width (cm)\",\n      \"properties\": {\n        \"dtype\": \"number\",\n        \"std\": 0.31937438845342625,\n        \"min\": 2.5,\n        \"max\": 3.4,\n        \"num_unique_values\": 3,\n        \"samples\": [\n          3.0,\n          2.5,\n          3.4\n        ],\n        \"semantic_type\": \"\",\n        \"description\": \"\"\n      }\n    },\n    {\n      \"column\": \"petal length (cm)\",\n      \"properties\": {\n        \"dtype\": \"number\",\n        \"std\": 0.14832396974191348,\n        \"min\": 5.0,\n        \"max\": 5.4,\n        \"num_unique_values\": 4,\n        \"samples\": [\n          5.0,\n          5.1,\n          5.2\n        ],\n        \"semantic_type\": \"\",\n        \"description\": \"\"\n      }\n    },\n    {\n      \"column\": \"petal width (cm)\",\n      \"properties\": {\n        \"dtype\": \"number\",\n        \"std\": 0.23021728866442667,\n        \"min\": 1.8,\n        \"max\": 2.3,\n        \"num_unique_values\": 4,\n        \"samples\": [\n          1.9,\n          1.8,\n          2.3\n        ],\n        \"semantic_type\": \"\",\n        \"description\": \"\"\n      }\n    },\n    {\n      \"column\": \"target\",\n      \"properties\": {\n        \"dtype\": \"number\",\n        \"std\": 0,\n        \"min\": 2,\n        \"max\": 2,\n        \"num_unique_values\": 1,\n        \"samples\": [\n          2\n        ],\n        \"semantic_type\": \"\",\n        \"description\": \"\"\n      }\n    }\n  ]\n}",
       "type": "dataframe"
      },
      "text/html": [
       "\n",
       "  <div id=\"df-14d8f30e-ac2e-4916-802e-041c610718d4\" class=\"colab-df-container\">\n",
       "    <div>\n",
       "<style scoped>\n",
       "    .dataframe tbody tr th:only-of-type {\n",
       "        vertical-align: middle;\n",
       "    }\n",
       "\n",
       "    .dataframe tbody tr th {\n",
       "        vertical-align: top;\n",
       "    }\n",
       "\n",
       "    .dataframe thead th {\n",
       "        text-align: right;\n",
       "    }\n",
       "</style>\n",
       "<table border=\"1\" class=\"dataframe\">\n",
       "  <thead>\n",
       "    <tr style=\"text-align: right;\">\n",
       "      <th></th>\n",
       "      <th>sepal length (cm)</th>\n",
       "      <th>sepal width (cm)</th>\n",
       "      <th>petal length (cm)</th>\n",
       "      <th>petal width (cm)</th>\n",
       "      <th>target</th>\n",
       "    </tr>\n",
       "  </thead>\n",
       "  <tbody>\n",
       "    <tr>\n",
       "      <th>145</th>\n",
       "      <td>6.7</td>\n",
       "      <td>3.0</td>\n",
       "      <td>5.2</td>\n",
       "      <td>2.3</td>\n",
       "      <td>2</td>\n",
       "    </tr>\n",
       "    <tr>\n",
       "      <th>146</th>\n",
       "      <td>6.3</td>\n",
       "      <td>2.5</td>\n",
       "      <td>5.0</td>\n",
       "      <td>1.9</td>\n",
       "      <td>2</td>\n",
       "    </tr>\n",
       "    <tr>\n",
       "      <th>147</th>\n",
       "      <td>6.5</td>\n",
       "      <td>3.0</td>\n",
       "      <td>5.2</td>\n",
       "      <td>2.0</td>\n",
       "      <td>2</td>\n",
       "    </tr>\n",
       "    <tr>\n",
       "      <th>148</th>\n",
       "      <td>6.2</td>\n",
       "      <td>3.4</td>\n",
       "      <td>5.4</td>\n",
       "      <td>2.3</td>\n",
       "      <td>2</td>\n",
       "    </tr>\n",
       "    <tr>\n",
       "      <th>149</th>\n",
       "      <td>5.9</td>\n",
       "      <td>3.0</td>\n",
       "      <td>5.1</td>\n",
       "      <td>1.8</td>\n",
       "      <td>2</td>\n",
       "    </tr>\n",
       "  </tbody>\n",
       "</table>\n",
       "</div>\n",
       "    <div class=\"colab-df-buttons\">\n",
       "\n",
       "  <div class=\"colab-df-container\">\n",
       "    <button class=\"colab-df-convert\" onclick=\"convertToInteractive('df-14d8f30e-ac2e-4916-802e-041c610718d4')\"\n",
       "            title=\"Convert this dataframe to an interactive table.\"\n",
       "            style=\"display:none;\">\n",
       "\n",
       "  <svg xmlns=\"http://www.w3.org/2000/svg\" height=\"24px\" viewBox=\"0 -960 960 960\">\n",
       "    <path d=\"M120-120v-720h720v720H120Zm60-500h600v-160H180v160Zm220 220h160v-160H400v160Zm0 220h160v-160H400v160ZM180-400h160v-160H180v160Zm440 0h160v-160H620v160ZM180-180h160v-160H180v160Zm440 0h160v-160H620v160Z\"/>\n",
       "  </svg>\n",
       "    </button>\n",
       "\n",
       "  <style>\n",
       "    .colab-df-container {\n",
       "      display:flex;\n",
       "      gap: 12px;\n",
       "    }\n",
       "\n",
       "    .colab-df-convert {\n",
       "      background-color: #E8F0FE;\n",
       "      border: none;\n",
       "      border-radius: 50%;\n",
       "      cursor: pointer;\n",
       "      display: none;\n",
       "      fill: #1967D2;\n",
       "      height: 32px;\n",
       "      padding: 0 0 0 0;\n",
       "      width: 32px;\n",
       "    }\n",
       "\n",
       "    .colab-df-convert:hover {\n",
       "      background-color: #E2EBFA;\n",
       "      box-shadow: 0px 1px 2px rgba(60, 64, 67, 0.3), 0px 1px 3px 1px rgba(60, 64, 67, 0.15);\n",
       "      fill: #174EA6;\n",
       "    }\n",
       "\n",
       "    .colab-df-buttons div {\n",
       "      margin-bottom: 4px;\n",
       "    }\n",
       "\n",
       "    [theme=dark] .colab-df-convert {\n",
       "      background-color: #3B4455;\n",
       "      fill: #D2E3FC;\n",
       "    }\n",
       "\n",
       "    [theme=dark] .colab-df-convert:hover {\n",
       "      background-color: #434B5C;\n",
       "      box-shadow: 0px 1px 3px 1px rgba(0, 0, 0, 0.15);\n",
       "      filter: drop-shadow(0px 1px 2px rgba(0, 0, 0, 0.3));\n",
       "      fill: #FFFFFF;\n",
       "    }\n",
       "  </style>\n",
       "\n",
       "    <script>\n",
       "      const buttonEl =\n",
       "        document.querySelector('#df-14d8f30e-ac2e-4916-802e-041c610718d4 button.colab-df-convert');\n",
       "      buttonEl.style.display =\n",
       "        google.colab.kernel.accessAllowed ? 'block' : 'none';\n",
       "\n",
       "      async function convertToInteractive(key) {\n",
       "        const element = document.querySelector('#df-14d8f30e-ac2e-4916-802e-041c610718d4');\n",
       "        const dataTable =\n",
       "          await google.colab.kernel.invokeFunction('convertToInteractive',\n",
       "                                                    [key], {});\n",
       "        if (!dataTable) return;\n",
       "\n",
       "        const docLinkHtml = 'Like what you see? Visit the ' +\n",
       "          '<a target=\"_blank\" href=https://colab.research.google.com/notebooks/data_table.ipynb>data table notebook</a>'\n",
       "          + ' to learn more about interactive tables.';\n",
       "        element.innerHTML = '';\n",
       "        dataTable['output_type'] = 'display_data';\n",
       "        await google.colab.output.renderOutput(dataTable, element);\n",
       "        const docLink = document.createElement('div');\n",
       "        docLink.innerHTML = docLinkHtml;\n",
       "        element.appendChild(docLink);\n",
       "      }\n",
       "    </script>\n",
       "  </div>\n",
       "\n",
       "\n",
       "<div id=\"df-bd7f2052-170e-4c69-b557-61d31dba2787\">\n",
       "  <button class=\"colab-df-quickchart\" onclick=\"quickchart('df-bd7f2052-170e-4c69-b557-61d31dba2787')\"\n",
       "            title=\"Suggest charts\"\n",
       "            style=\"display:none;\">\n",
       "\n",
       "<svg xmlns=\"http://www.w3.org/2000/svg\" height=\"24px\"viewBox=\"0 0 24 24\"\n",
       "     width=\"24px\">\n",
       "    <g>\n",
       "        <path d=\"M19 3H5c-1.1 0-2 .9-2 2v14c0 1.1.9 2 2 2h14c1.1 0 2-.9 2-2V5c0-1.1-.9-2-2-2zM9 17H7v-7h2v7zm4 0h-2V7h2v10zm4 0h-2v-4h2v4z\"/>\n",
       "    </g>\n",
       "</svg>\n",
       "  </button>\n",
       "\n",
       "<style>\n",
       "  .colab-df-quickchart {\n",
       "      --bg-color: #E8F0FE;\n",
       "      --fill-color: #1967D2;\n",
       "      --hover-bg-color: #E2EBFA;\n",
       "      --hover-fill-color: #174EA6;\n",
       "      --disabled-fill-color: #AAA;\n",
       "      --disabled-bg-color: #DDD;\n",
       "  }\n",
       "\n",
       "  [theme=dark] .colab-df-quickchart {\n",
       "      --bg-color: #3B4455;\n",
       "      --fill-color: #D2E3FC;\n",
       "      --hover-bg-color: #434B5C;\n",
       "      --hover-fill-color: #FFFFFF;\n",
       "      --disabled-bg-color: #3B4455;\n",
       "      --disabled-fill-color: #666;\n",
       "  }\n",
       "\n",
       "  .colab-df-quickchart {\n",
       "    background-color: var(--bg-color);\n",
       "    border: none;\n",
       "    border-radius: 50%;\n",
       "    cursor: pointer;\n",
       "    display: none;\n",
       "    fill: var(--fill-color);\n",
       "    height: 32px;\n",
       "    padding: 0;\n",
       "    width: 32px;\n",
       "  }\n",
       "\n",
       "  .colab-df-quickchart:hover {\n",
       "    background-color: var(--hover-bg-color);\n",
       "    box-shadow: 0 1px 2px rgba(60, 64, 67, 0.3), 0 1px 3px 1px rgba(60, 64, 67, 0.15);\n",
       "    fill: var(--button-hover-fill-color);\n",
       "  }\n",
       "\n",
       "  .colab-df-quickchart-complete:disabled,\n",
       "  .colab-df-quickchart-complete:disabled:hover {\n",
       "    background-color: var(--disabled-bg-color);\n",
       "    fill: var(--disabled-fill-color);\n",
       "    box-shadow: none;\n",
       "  }\n",
       "\n",
       "  .colab-df-spinner {\n",
       "    border: 2px solid var(--fill-color);\n",
       "    border-color: transparent;\n",
       "    border-bottom-color: var(--fill-color);\n",
       "    animation:\n",
       "      spin 1s steps(1) infinite;\n",
       "  }\n",
       "\n",
       "  @keyframes spin {\n",
       "    0% {\n",
       "      border-color: transparent;\n",
       "      border-bottom-color: var(--fill-color);\n",
       "      border-left-color: var(--fill-color);\n",
       "    }\n",
       "    20% {\n",
       "      border-color: transparent;\n",
       "      border-left-color: var(--fill-color);\n",
       "      border-top-color: var(--fill-color);\n",
       "    }\n",
       "    30% {\n",
       "      border-color: transparent;\n",
       "      border-left-color: var(--fill-color);\n",
       "      border-top-color: var(--fill-color);\n",
       "      border-right-color: var(--fill-color);\n",
       "    }\n",
       "    40% {\n",
       "      border-color: transparent;\n",
       "      border-right-color: var(--fill-color);\n",
       "      border-top-color: var(--fill-color);\n",
       "    }\n",
       "    60% {\n",
       "      border-color: transparent;\n",
       "      border-right-color: var(--fill-color);\n",
       "    }\n",
       "    80% {\n",
       "      border-color: transparent;\n",
       "      border-right-color: var(--fill-color);\n",
       "      border-bottom-color: var(--fill-color);\n",
       "    }\n",
       "    90% {\n",
       "      border-color: transparent;\n",
       "      border-bottom-color: var(--fill-color);\n",
       "    }\n",
       "  }\n",
       "</style>\n",
       "\n",
       "  <script>\n",
       "    async function quickchart(key) {\n",
       "      const quickchartButtonEl =\n",
       "        document.querySelector('#' + key + ' button');\n",
       "      quickchartButtonEl.disabled = true;  // To prevent multiple clicks.\n",
       "      quickchartButtonEl.classList.add('colab-df-spinner');\n",
       "      try {\n",
       "        const charts = await google.colab.kernel.invokeFunction(\n",
       "            'suggestCharts', [key], {});\n",
       "      } catch (error) {\n",
       "        console.error('Error during call to suggestCharts:', error);\n",
       "      }\n",
       "      quickchartButtonEl.classList.remove('colab-df-spinner');\n",
       "      quickchartButtonEl.classList.add('colab-df-quickchart-complete');\n",
       "    }\n",
       "    (() => {\n",
       "      let quickchartButtonEl =\n",
       "        document.querySelector('#df-bd7f2052-170e-4c69-b557-61d31dba2787 button');\n",
       "      quickchartButtonEl.style.display =\n",
       "        google.colab.kernel.accessAllowed ? 'block' : 'none';\n",
       "    })();\n",
       "  </script>\n",
       "</div>\n",
       "\n",
       "    </div>\n",
       "  </div>\n"
      ],
      "text/plain": [
       "     sepal length (cm)  sepal width (cm)  petal length (cm)  petal width (cm)  \\\n",
       "145                6.7               3.0                5.2               2.3   \n",
       "146                6.3               2.5                5.0               1.9   \n",
       "147                6.5               3.0                5.2               2.0   \n",
       "148                6.2               3.4                5.4               2.3   \n",
       "149                5.9               3.0                5.1               1.8   \n",
       "\n",
       "     target  \n",
       "145       2  \n",
       "146       2  \n",
       "147       2  \n",
       "148       2  \n",
       "149       2  "
      ]
     },
     "execution_count": 8,
     "metadata": {},
     "output_type": "execute_result"
    }
   ],
   "source": [
    "iris_df['target']=iris.target                                                   # add target column\n",
    "iris_df.tail()                                                                  # see tail of data (last five rows, default)"
   ]
  },
  {
   "cell_type": "code",
   "execution_count": 9,
   "metadata": {
    "colab": {
     "base_uri": "https://localhost:8080/"
    },
    "collapsed": true,
    "executionInfo": {
     "elapsed": 112,
     "status": "ok",
     "timestamp": 1732715463810,
     "user": {
      "displayName": "Clash Clans",
      "userId": "00562530571182710236"
     },
     "user_tz": -330
    },
    "id": "jw5_i6oHiXky",
    "outputId": "83f436d2-f48d-4f62-b02e-da6dee666fe0"
   },
   "outputs": [
    {
     "name": "stdout",
     "output_type": "stream",
     "text": [
      "<class 'pandas.core.frame.DataFrame'>\n",
      "RangeIndex: 150 entries, 0 to 149\n",
      "Data columns (total 5 columns):\n",
      " #   Column             Non-Null Count  Dtype  \n",
      "---  ------             --------------  -----  \n",
      " 0   sepal length (cm)  150 non-null    float64\n",
      " 1   sepal width (cm)   150 non-null    float64\n",
      " 2   petal length (cm)  150 non-null    float64\n",
      " 3   petal width (cm)   150 non-null    float64\n",
      " 4   target             150 non-null    int64  \n",
      "dtypes: float64(4), int64(1)\n",
      "memory usage: 6.0 KB\n"
     ]
    }
   ],
   "source": [
    "iris_df.info()                                                                  # see dataset info"
   ]
  },
  {
   "cell_type": "code",
   "execution_count": 10,
   "metadata": {
    "colab": {
     "base_uri": "https://localhost:8080/",
     "height": 0
    },
    "executionInfo": {
     "elapsed": 103,
     "status": "ok",
     "timestamp": 1732715463811,
     "user": {
      "displayName": "Clash Clans",
      "userId": "00562530571182710236"
     },
     "user_tz": -330
    },
    "id": "Ka_6sFcPiaxh",
    "outputId": "1b164eb9-8175-4edb-fcac-0a77100fba53"
   },
   "outputs": [
    {
     "data": {
      "text/html": [
       "<div>\n",
       "<style scoped>\n",
       "    .dataframe tbody tr th:only-of-type {\n",
       "        vertical-align: middle;\n",
       "    }\n",
       "\n",
       "    .dataframe tbody tr th {\n",
       "        vertical-align: top;\n",
       "    }\n",
       "\n",
       "    .dataframe thead th {\n",
       "        text-align: right;\n",
       "    }\n",
       "</style>\n",
       "<table border=\"1\" class=\"dataframe\">\n",
       "  <thead>\n",
       "    <tr style=\"text-align: right;\">\n",
       "      <th></th>\n",
       "      <th>count</th>\n",
       "    </tr>\n",
       "  </thead>\n",
       "  <tbody>\n",
       "    <tr>\n",
       "      <th>float64</th>\n",
       "      <td>4</td>\n",
       "    </tr>\n",
       "    <tr>\n",
       "      <th>int64</th>\n",
       "      <td>1</td>\n",
       "    </tr>\n",
       "  </tbody>\n",
       "</table>\n",
       "</div><br><label><b>dtype:</b> int64</label>"
      ],
      "text/plain": [
       "float64    4\n",
       "int64      1\n",
       "Name: count, dtype: int64"
      ]
     },
     "execution_count": 10,
     "metadata": {},
     "output_type": "execute_result"
    }
   ],
   "source": [
    "iris_df.dtypes.value_counts()                                                   # see each data types counts"
   ]
  },
  {
   "cell_type": "code",
   "execution_count": 11,
   "metadata": {
    "colab": {
     "base_uri": "https://localhost:8080/",
     "height": 0
    },
    "collapsed": true,
    "executionInfo": {
     "elapsed": 99,
     "status": "ok",
     "timestamp": 1732715463817,
     "user": {
      "displayName": "Clash Clans",
      "userId": "00562530571182710236"
     },
     "user_tz": -330
    },
    "id": "08X0rOCnigJS",
    "outputId": "75b8d365-aae0-4100-b8c3-d1b356db644c"
   },
   "outputs": [
    {
     "data": {
      "text/html": [
       "<div>\n",
       "<style scoped>\n",
       "    .dataframe tbody tr th:only-of-type {\n",
       "        vertical-align: middle;\n",
       "    }\n",
       "\n",
       "    .dataframe tbody tr th {\n",
       "        vertical-align: top;\n",
       "    }\n",
       "\n",
       "    .dataframe thead th {\n",
       "        text-align: right;\n",
       "    }\n",
       "</style>\n",
       "<table border=\"1\" class=\"dataframe\">\n",
       "  <thead>\n",
       "    <tr style=\"text-align: right;\">\n",
       "      <th></th>\n",
       "      <th>0</th>\n",
       "    </tr>\n",
       "  </thead>\n",
       "  <tbody>\n",
       "    <tr>\n",
       "      <th>sepal length (cm)</th>\n",
       "      <td>0</td>\n",
       "    </tr>\n",
       "    <tr>\n",
       "      <th>sepal width (cm)</th>\n",
       "      <td>0</td>\n",
       "    </tr>\n",
       "    <tr>\n",
       "      <th>petal length (cm)</th>\n",
       "      <td>0</td>\n",
       "    </tr>\n",
       "    <tr>\n",
       "      <th>petal width (cm)</th>\n",
       "      <td>0</td>\n",
       "    </tr>\n",
       "    <tr>\n",
       "      <th>target</th>\n",
       "      <td>0</td>\n",
       "    </tr>\n",
       "  </tbody>\n",
       "</table>\n",
       "</div><br><label><b>dtype:</b> int64</label>"
      ],
      "text/plain": [
       "sepal length (cm)    0\n",
       "sepal width (cm)     0\n",
       "petal length (cm)    0\n",
       "petal width (cm)     0\n",
       "target               0\n",
       "dtype: int64"
      ]
     },
     "execution_count": 11,
     "metadata": {},
     "output_type": "execute_result"
    }
   ],
   "source": [
    "# As all values are numerical, thus only pandas.isna is enough to check for null values check / count\n",
    "iris_df.isna().sum()                                                            # detect missing values for an array-like object"
   ]
  },
  {
   "cell_type": "code",
   "execution_count": 12,
   "metadata": {
    "colab": {
     "base_uri": "https://localhost:8080/"
    },
    "executionInfo": {
     "elapsed": 93,
     "status": "ok",
     "timestamp": 1732715463818,
     "user": {
      "displayName": "Clash Clans",
      "userId": "00562530571182710236"
     },
     "user_tz": -330
    },
    "id": "UOj5wRjcioFr",
    "outputId": "5e5d917a-6042-4a83-8d6e-2f86636fb82a"
   },
   "outputs": [
    {
     "data": {
      "text/plain": [
       "0"
      ]
     },
     "execution_count": 12,
     "metadata": {},
     "output_type": "execute_result"
    }
   ],
   "source": [
    "iris_df.isna().sum().sum()                                                      # total null count\n",
    "# This function takes a scalar or array-like object and indicates whether values are missing (NaN in numeric arrays, None or NaN in object arrays, NaT\n",
    "#   in datetimelike). Source: https://pandas.pydata.org/docs/reference/api/pandas.isna.html\n",
    "# Also numpy.isna - Test element-wise for NaN and return result as a boolean array. Source: https://numpy.org/doc/stable/reference/generated/numpy.isnan.html"
   ]
  },
  {
   "cell_type": "markdown",
   "metadata": {
    "id": "4jIMnvNj_yRk"
   },
   "source": [
    "### Calculate feature importance by [pairplot](https://seaborn.pydata.org/generated/seaborn.pairplot.html)\n",
    "\n",
    "Plot pairwise relationships in a dataset.\n",
    "\n",
    "By default, this function will create a grid of Axes such that each numeric variable in data will by shared across the y-axes across a single row and the x-axes across a single column. The diagonal plots are treated differently: a univariate distribution plot is drawn to show the marginal distribution of the data in each column.\n",
    "\n",
    "It is also possible to show a subset of variables or plot different variables on the rows and columns."
   ]
  },
  {
   "cell_type": "code",
   "execution_count": 13,
   "metadata": {
    "colab": {
     "base_uri": "https://localhost:8080/"
    },
    "executionInfo": {
     "elapsed": 4092,
     "status": "ok",
     "timestamp": 1732715498294,
     "user": {
      "displayName": "Clash Clans",
      "userId": "00562530571182710236"
     },
     "user_tz": -330
    },
    "id": "dP9eDo2M5C7w",
    "outputId": "edfec506-83e0-41c2-f57b-fa1844cea217"
   },
   "outputs": [
    {
     "name": "stdout",
     "output_type": "stream",
     "text": [
      "Target names: ['setosa' 'versicolor' 'virginica']\n",
      "\t setosa -> 0\n",
      "\t versicolor -> 1\n",
      "\t virginica -> 2\n"
     ]
    }
   ],
   "source": [
    "print('Target names:',iris.target_names)                                        # target names\n",
    "for label,className in enumerate(iris.target_names):                            # make print each class and its label\n",
    "  print('\\t',className,'->',label)                                              # make print class name and it label"
   ]
  },
  {
   "cell_type": "code",
   "execution_count": 27,
   "metadata": {
    "colab": {
     "base_uri": "https://localhost:8080/",
     "height": 206
    },
    "collapsed": true,
    "executionInfo": {
     "elapsed": 414,
     "status": "ok",
     "timestamp": 1732716279028,
     "user": {
      "displayName": "Clash Clans",
      "userId": "00562530571182710236"
     },
     "user_tz": -330
    },
    "id": "YS_ktikmB8sw",
    "outputId": "6b21151d-0e6c-4b94-e946-391e99af9315"
   },
   "outputs": [
    {
     "data": {
      "application/vnd.google.colaboratory.intrinsic+json": {
       "summary": "{\n  \"name\": \"iris_df\",\n  \"rows\": 150,\n  \"fields\": [\n    {\n      \"column\": \"sepal length (cm)\",\n      \"properties\": {\n        \"dtype\": \"number\",\n        \"std\": 0.8280661279778629,\n        \"min\": 4.3,\n        \"max\": 7.9,\n        \"num_unique_values\": 35,\n        \"samples\": [\n          6.2,\n          4.5,\n          5.6\n        ],\n        \"semantic_type\": \"\",\n        \"description\": \"\"\n      }\n    },\n    {\n      \"column\": \"sepal width (cm)\",\n      \"properties\": {\n        \"dtype\": \"number\",\n        \"std\": 0.435866284936698,\n        \"min\": 2.0,\n        \"max\": 4.4,\n        \"num_unique_values\": 23,\n        \"samples\": [\n          2.3,\n          4.0,\n          3.5\n        ],\n        \"semantic_type\": \"\",\n        \"description\": \"\"\n      }\n    },\n    {\n      \"column\": \"petal length (cm)\",\n      \"properties\": {\n        \"dtype\": \"number\",\n        \"std\": 1.7652982332594667,\n        \"min\": 1.0,\n        \"max\": 6.9,\n        \"num_unique_values\": 43,\n        \"samples\": [\n          6.7,\n          3.8,\n          3.7\n        ],\n        \"semantic_type\": \"\",\n        \"description\": \"\"\n      }\n    },\n    {\n      \"column\": \"petal width (cm)\",\n      \"properties\": {\n        \"dtype\": \"number\",\n        \"std\": 0.7622376689603465,\n        \"min\": 0.1,\n        \"max\": 2.5,\n        \"num_unique_values\": 22,\n        \"samples\": [\n          0.2,\n          1.2,\n          1.3\n        ],\n        \"semantic_type\": \"\",\n        \"description\": \"\"\n      }\n    },\n    {\n      \"column\": \"target\",\n      \"properties\": {\n        \"dtype\": \"number\",\n        \"std\": 0,\n        \"min\": 0,\n        \"max\": 2,\n        \"num_unique_values\": 3,\n        \"samples\": [\n          0,\n          1,\n          2\n        ],\n        \"semantic_type\": \"\",\n        \"description\": \"\"\n      }\n    },\n    {\n      \"column\": \"target_names\",\n      \"properties\": {\n        \"dtype\": \"category\",\n        \"num_unique_values\": 3,\n        \"samples\": [\n          \"setosa\",\n          \"versicolor\",\n          \"virginica\"\n        ],\n        \"semantic_type\": \"\",\n        \"description\": \"\"\n      }\n    }\n  ]\n}",
       "type": "dataframe",
       "variable_name": "iris_df"
      },
      "text/html": [
       "\n",
       "  <div id=\"df-101e4a8a-2391-4606-a1de-ac9c628a01f2\" class=\"colab-df-container\">\n",
       "    <div>\n",
       "<style scoped>\n",
       "    .dataframe tbody tr th:only-of-type {\n",
       "        vertical-align: middle;\n",
       "    }\n",
       "\n",
       "    .dataframe tbody tr th {\n",
       "        vertical-align: top;\n",
       "    }\n",
       "\n",
       "    .dataframe thead th {\n",
       "        text-align: right;\n",
       "    }\n",
       "</style>\n",
       "<table border=\"1\" class=\"dataframe\">\n",
       "  <thead>\n",
       "    <tr style=\"text-align: right;\">\n",
       "      <th></th>\n",
       "      <th>sepal length (cm)</th>\n",
       "      <th>sepal width (cm)</th>\n",
       "      <th>petal length (cm)</th>\n",
       "      <th>petal width (cm)</th>\n",
       "      <th>target</th>\n",
       "      <th>target_names</th>\n",
       "    </tr>\n",
       "  </thead>\n",
       "  <tbody>\n",
       "    <tr>\n",
       "      <th>0</th>\n",
       "      <td>5.1</td>\n",
       "      <td>3.5</td>\n",
       "      <td>1.4</td>\n",
       "      <td>0.2</td>\n",
       "      <td>0</td>\n",
       "      <td>setosa</td>\n",
       "    </tr>\n",
       "    <tr>\n",
       "      <th>1</th>\n",
       "      <td>4.9</td>\n",
       "      <td>3.0</td>\n",
       "      <td>1.4</td>\n",
       "      <td>0.2</td>\n",
       "      <td>0</td>\n",
       "      <td>setosa</td>\n",
       "    </tr>\n",
       "    <tr>\n",
       "      <th>2</th>\n",
       "      <td>4.7</td>\n",
       "      <td>3.2</td>\n",
       "      <td>1.3</td>\n",
       "      <td>0.2</td>\n",
       "      <td>0</td>\n",
       "      <td>setosa</td>\n",
       "    </tr>\n",
       "    <tr>\n",
       "      <th>3</th>\n",
       "      <td>4.6</td>\n",
       "      <td>3.1</td>\n",
       "      <td>1.5</td>\n",
       "      <td>0.2</td>\n",
       "      <td>0</td>\n",
       "      <td>setosa</td>\n",
       "    </tr>\n",
       "    <tr>\n",
       "      <th>4</th>\n",
       "      <td>5.0</td>\n",
       "      <td>3.6</td>\n",
       "      <td>1.4</td>\n",
       "      <td>0.2</td>\n",
       "      <td>0</td>\n",
       "      <td>setosa</td>\n",
       "    </tr>\n",
       "  </tbody>\n",
       "</table>\n",
       "</div>\n",
       "    <div class=\"colab-df-buttons\">\n",
       "\n",
       "  <div class=\"colab-df-container\">\n",
       "    <button class=\"colab-df-convert\" onclick=\"convertToInteractive('df-101e4a8a-2391-4606-a1de-ac9c628a01f2')\"\n",
       "            title=\"Convert this dataframe to an interactive table.\"\n",
       "            style=\"display:none;\">\n",
       "\n",
       "  <svg xmlns=\"http://www.w3.org/2000/svg\" height=\"24px\" viewBox=\"0 -960 960 960\">\n",
       "    <path d=\"M120-120v-720h720v720H120Zm60-500h600v-160H180v160Zm220 220h160v-160H400v160Zm0 220h160v-160H400v160ZM180-400h160v-160H180v160Zm440 0h160v-160H620v160ZM180-180h160v-160H180v160Zm440 0h160v-160H620v160Z\"/>\n",
       "  </svg>\n",
       "    </button>\n",
       "\n",
       "  <style>\n",
       "    .colab-df-container {\n",
       "      display:flex;\n",
       "      gap: 12px;\n",
       "    }\n",
       "\n",
       "    .colab-df-convert {\n",
       "      background-color: #E8F0FE;\n",
       "      border: none;\n",
       "      border-radius: 50%;\n",
       "      cursor: pointer;\n",
       "      display: none;\n",
       "      fill: #1967D2;\n",
       "      height: 32px;\n",
       "      padding: 0 0 0 0;\n",
       "      width: 32px;\n",
       "    }\n",
       "\n",
       "    .colab-df-convert:hover {\n",
       "      background-color: #E2EBFA;\n",
       "      box-shadow: 0px 1px 2px rgba(60, 64, 67, 0.3), 0px 1px 3px 1px rgba(60, 64, 67, 0.15);\n",
       "      fill: #174EA6;\n",
       "    }\n",
       "\n",
       "    .colab-df-buttons div {\n",
       "      margin-bottom: 4px;\n",
       "    }\n",
       "\n",
       "    [theme=dark] .colab-df-convert {\n",
       "      background-color: #3B4455;\n",
       "      fill: #D2E3FC;\n",
       "    }\n",
       "\n",
       "    [theme=dark] .colab-df-convert:hover {\n",
       "      background-color: #434B5C;\n",
       "      box-shadow: 0px 1px 3px 1px rgba(0, 0, 0, 0.15);\n",
       "      filter: drop-shadow(0px 1px 2px rgba(0, 0, 0, 0.3));\n",
       "      fill: #FFFFFF;\n",
       "    }\n",
       "  </style>\n",
       "\n",
       "    <script>\n",
       "      const buttonEl =\n",
       "        document.querySelector('#df-101e4a8a-2391-4606-a1de-ac9c628a01f2 button.colab-df-convert');\n",
       "      buttonEl.style.display =\n",
       "        google.colab.kernel.accessAllowed ? 'block' : 'none';\n",
       "\n",
       "      async function convertToInteractive(key) {\n",
       "        const element = document.querySelector('#df-101e4a8a-2391-4606-a1de-ac9c628a01f2');\n",
       "        const dataTable =\n",
       "          await google.colab.kernel.invokeFunction('convertToInteractive',\n",
       "                                                    [key], {});\n",
       "        if (!dataTable) return;\n",
       "\n",
       "        const docLinkHtml = 'Like what you see? Visit the ' +\n",
       "          '<a target=\"_blank\" href=https://colab.research.google.com/notebooks/data_table.ipynb>data table notebook</a>'\n",
       "          + ' to learn more about interactive tables.';\n",
       "        element.innerHTML = '';\n",
       "        dataTable['output_type'] = 'display_data';\n",
       "        await google.colab.output.renderOutput(dataTable, element);\n",
       "        const docLink = document.createElement('div');\n",
       "        docLink.innerHTML = docLinkHtml;\n",
       "        element.appendChild(docLink);\n",
       "      }\n",
       "    </script>\n",
       "  </div>\n",
       "\n",
       "\n",
       "<div id=\"df-4204934f-517a-4917-9a01-0cb18a2b1b46\">\n",
       "  <button class=\"colab-df-quickchart\" onclick=\"quickchart('df-4204934f-517a-4917-9a01-0cb18a2b1b46')\"\n",
       "            title=\"Suggest charts\"\n",
       "            style=\"display:none;\">\n",
       "\n",
       "<svg xmlns=\"http://www.w3.org/2000/svg\" height=\"24px\"viewBox=\"0 0 24 24\"\n",
       "     width=\"24px\">\n",
       "    <g>\n",
       "        <path d=\"M19 3H5c-1.1 0-2 .9-2 2v14c0 1.1.9 2 2 2h14c1.1 0 2-.9 2-2V5c0-1.1-.9-2-2-2zM9 17H7v-7h2v7zm4 0h-2V7h2v10zm4 0h-2v-4h2v4z\"/>\n",
       "    </g>\n",
       "</svg>\n",
       "  </button>\n",
       "\n",
       "<style>\n",
       "  .colab-df-quickchart {\n",
       "      --bg-color: #E8F0FE;\n",
       "      --fill-color: #1967D2;\n",
       "      --hover-bg-color: #E2EBFA;\n",
       "      --hover-fill-color: #174EA6;\n",
       "      --disabled-fill-color: #AAA;\n",
       "      --disabled-bg-color: #DDD;\n",
       "  }\n",
       "\n",
       "  [theme=dark] .colab-df-quickchart {\n",
       "      --bg-color: #3B4455;\n",
       "      --fill-color: #D2E3FC;\n",
       "      --hover-bg-color: #434B5C;\n",
       "      --hover-fill-color: #FFFFFF;\n",
       "      --disabled-bg-color: #3B4455;\n",
       "      --disabled-fill-color: #666;\n",
       "  }\n",
       "\n",
       "  .colab-df-quickchart {\n",
       "    background-color: var(--bg-color);\n",
       "    border: none;\n",
       "    border-radius: 50%;\n",
       "    cursor: pointer;\n",
       "    display: none;\n",
       "    fill: var(--fill-color);\n",
       "    height: 32px;\n",
       "    padding: 0;\n",
       "    width: 32px;\n",
       "  }\n",
       "\n",
       "  .colab-df-quickchart:hover {\n",
       "    background-color: var(--hover-bg-color);\n",
       "    box-shadow: 0 1px 2px rgba(60, 64, 67, 0.3), 0 1px 3px 1px rgba(60, 64, 67, 0.15);\n",
       "    fill: var(--button-hover-fill-color);\n",
       "  }\n",
       "\n",
       "  .colab-df-quickchart-complete:disabled,\n",
       "  .colab-df-quickchart-complete:disabled:hover {\n",
       "    background-color: var(--disabled-bg-color);\n",
       "    fill: var(--disabled-fill-color);\n",
       "    box-shadow: none;\n",
       "  }\n",
       "\n",
       "  .colab-df-spinner {\n",
       "    border: 2px solid var(--fill-color);\n",
       "    border-color: transparent;\n",
       "    border-bottom-color: var(--fill-color);\n",
       "    animation:\n",
       "      spin 1s steps(1) infinite;\n",
       "  }\n",
       "\n",
       "  @keyframes spin {\n",
       "    0% {\n",
       "      border-color: transparent;\n",
       "      border-bottom-color: var(--fill-color);\n",
       "      border-left-color: var(--fill-color);\n",
       "    }\n",
       "    20% {\n",
       "      border-color: transparent;\n",
       "      border-left-color: var(--fill-color);\n",
       "      border-top-color: var(--fill-color);\n",
       "    }\n",
       "    30% {\n",
       "      border-color: transparent;\n",
       "      border-left-color: var(--fill-color);\n",
       "      border-top-color: var(--fill-color);\n",
       "      border-right-color: var(--fill-color);\n",
       "    }\n",
       "    40% {\n",
       "      border-color: transparent;\n",
       "      border-right-color: var(--fill-color);\n",
       "      border-top-color: var(--fill-color);\n",
       "    }\n",
       "    60% {\n",
       "      border-color: transparent;\n",
       "      border-right-color: var(--fill-color);\n",
       "    }\n",
       "    80% {\n",
       "      border-color: transparent;\n",
       "      border-right-color: var(--fill-color);\n",
       "      border-bottom-color: var(--fill-color);\n",
       "    }\n",
       "    90% {\n",
       "      border-color: transparent;\n",
       "      border-bottom-color: var(--fill-color);\n",
       "    }\n",
       "  }\n",
       "</style>\n",
       "\n",
       "  <script>\n",
       "    async function quickchart(key) {\n",
       "      const quickchartButtonEl =\n",
       "        document.querySelector('#' + key + ' button');\n",
       "      quickchartButtonEl.disabled = true;  // To prevent multiple clicks.\n",
       "      quickchartButtonEl.classList.add('colab-df-spinner');\n",
       "      try {\n",
       "        const charts = await google.colab.kernel.invokeFunction(\n",
       "            'suggestCharts', [key], {});\n",
       "      } catch (error) {\n",
       "        console.error('Error during call to suggestCharts:', error);\n",
       "      }\n",
       "      quickchartButtonEl.classList.remove('colab-df-spinner');\n",
       "      quickchartButtonEl.classList.add('colab-df-quickchart-complete');\n",
       "    }\n",
       "    (() => {\n",
       "      let quickchartButtonEl =\n",
       "        document.querySelector('#df-4204934f-517a-4917-9a01-0cb18a2b1b46 button');\n",
       "      quickchartButtonEl.style.display =\n",
       "        google.colab.kernel.accessAllowed ? 'block' : 'none';\n",
       "    })();\n",
       "  </script>\n",
       "</div>\n",
       "\n",
       "    </div>\n",
       "  </div>\n"
      ],
      "text/plain": [
       "   sepal length (cm)  sepal width (cm)  petal length (cm)  petal width (cm)  \\\n",
       "0                5.1               3.5                1.4               0.2   \n",
       "1                4.9               3.0                1.4               0.2   \n",
       "2                4.7               3.2                1.3               0.2   \n",
       "3                4.6               3.1                1.5               0.2   \n",
       "4                5.0               3.6                1.4               0.2   \n",
       "\n",
       "   target target_names  \n",
       "0       0       setosa  \n",
       "1       0       setosa  \n",
       "2       0       setosa  \n",
       "3       0       setosa  \n",
       "4       0       setosa  "
      ]
     },
     "execution_count": 27,
     "metadata": {},
     "output_type": "execute_result"
    }
   ],
   "source": [
    "# Label decode targets from labels to class names\n",
    "iris_df['target_names']=iris_df['target'].apply(lambda label: iris.target_names[label])# add target name column\n",
    "iris_df.head()                                                                  # see first five rows"
   ]
  },
  {
   "cell_type": "code",
   "execution_count": 15,
   "metadata": {
    "colab": {
     "base_uri": "https://localhost:8080/",
     "height": 1000
    },
    "collapsed": true,
    "executionInfo": {
     "elapsed": 6202,
     "status": "ok",
     "timestamp": 1732715544125,
     "user": {
      "displayName": "Clash Clans",
      "userId": "00562530571182710236"
     },
     "user_tz": -330
    },
    "id": "OCK63Pob5KW2",
    "outputId": "4c69550d-c90f-499f-ae27-23977d9a024d"
   },
   "outputs": [
    {
     "data": {
      "image/png": "[encoded data removed]",
      "text/plain": [
       "<Figure size 1117.75x1000 with 20 Axes>"
      ]
     },
     "metadata": {},
     "output_type": "display_data"
    }
   ],
   "source": [
    "sns.pairplot(iris_df.drop(columns='target'),hue='target_names')#palette=['red','green','blue']# make pair plot\n",
    "plt.show()                                                                      # make show plot"
   ]
  },
  {
   "cell_type": "code",
   "execution_count": 16,
   "metadata": {
    "executionInfo": {
     "elapsed": 389,
     "status": "ok",
     "timestamp": 1732715571087,
     "user": {
      "displayName": "Clash Clans",
      "userId": "00562530571182710236"
     },
     "user_tz": -330
    },
    "id": "AIV5p0mV5VuD"
   },
   "outputs": [],
   "source": [
    "#iris_df.drop(columns='target_names',inplace=True)                               # make removed target name columns"
   ]
  },
  {
   "cell_type": "markdown",
   "metadata": {
    "id": "gU5EFXTA5XNY"
   },
   "source": [
    "### plot feature-wise [box and whisker](https://seaborn.pydata.org/generated/seaborn.boxplot.html) plot\n",
    "\n",
    "https://en.wikipedia.org/wiki/Box_plot"
   ]
  },
  {
   "cell_type": "code",
   "execution_count": 28,
   "metadata": {
    "colab": {
     "base_uri": "https://localhost:8080/",
     "height": 599
    },
    "collapsed": true,
    "executionInfo": {
     "elapsed": 1383,
     "status": "ok",
     "timestamp": 1732716304572,
     "user": {
      "displayName": "Clash Clans",
      "userId": "00562530571182710236"
     },
     "user_tz": -330
    },
    "id": "yV7et5O86vOS",
    "outputId": "6c3e840a-2023-4194-fd82-c21d6f5a39a0"
   },
   "outputs": [
    {
     "data": {
      "image/png": "[encoded data removed]",
      "text/plain": [
       "<Figure size 1000x700 with 1 Axes>"
      ]
     },
     "metadata": {},
     "output_type": "display_data"
    }
   ],
   "source": [
    "plt.figure(figsize=(10,7))                                                      # make set figure size\n",
    "sns.boxplot(iris_df.drop(columns=['target','target_names']))                    # make box plot\n",
    "plt.grid()                                                                      # add grid to plot\n",
    "plt.show()                                                                      # make show plot"
   ]
  },
  {
   "cell_type": "code",
   "execution_count": 35,
   "metadata": {
    "colab": {
     "base_uri": "https://localhost:8080/",
     "height": 1000
    },
    "executionInfo": {
     "elapsed": 3714,
     "status": "ok",
     "timestamp": 1732716616869,
     "user": {
      "displayName": "Clash Clans",
      "userId": "00562530571182710236"
     },
     "user_tz": -330
    },
    "id": "NVEhU_337tSh",
    "outputId": "e82d1cf0-3638-42d3-d2ed-bf6a08d9e016"
   },
   "outputs": [
    {
     "data": {
      "image/png": "[encoded data removed]",
      "text/plain": [
       "<Figure size 1500x1500 with 4 Axes>"
      ]
     },
     "metadata": {},
     "output_type": "display_data"
    }
   ],
   "source": [
    "plt.figure(figsize=(15,15))                                                     # make set figure size\n",
    "for index,column in enumerate(iris_df.drop(columns=['target_names','target']).columns):# get each column (only features)\n",
    "  plt.subplot(2,2,index+1)                                                      # make subplot - 2 rows and 2 columns\n",
    "  sns.boxplot(iris_df,y=column,hue='target_names')                              # make box plot\n",
    "  plt.grid()                                                                    # add grid to plot\n",
    "plt.tight_layout()                                                              # adjust the padding between and around subplots\n",
    "plt.show()                                                                      # make show plot"
   ]
  },
  {
   "cell_type": "code",
   "execution_count": 40,
   "metadata": {
    "executionInfo": {
     "elapsed": 409,
     "status": "ok",
     "timestamp": 1732716764867,
     "user": {
      "displayName": "Clash Clans",
      "userId": "00562530571182710236"
     },
     "user_tz": -330
    },
    "id": "n8SYhCIR95Ao"
   },
   "outputs": [],
   "source": [
    "iris_df.drop(columns='target_names',inplace=True)                               # make removed target name columns"
   ]
  },
  {
   "cell_type": "markdown",
   "metadata": {
    "id": "v4UdQBJpERt7"
   },
   "source": [
    "### feature importance by correlation ([pandas.DataFrame.corr](https://pandas.pydata.org/docs/reference/api/pandas.DataFrame.corr.html))\n",
    "\n",
    "Compute pairwise correlation of columns, excluding NA/null values."
   ]
  },
  {
   "cell_type": "code",
   "execution_count": 17,
   "metadata": {
    "colab": {
     "base_uri": "https://localhost:8080/",
     "height": 206
    },
    "collapsed": true,
    "executionInfo": {
     "elapsed": 424,
     "status": "ok",
     "timestamp": 1732715628982,
     "user": {
      "displayName": "Clash Clans",
      "userId": "00562530571182710236"
     },
     "user_tz": -330
    },
    "id": "t07CLTBF_vjZ",
    "outputId": "3270912d-1abc-4485-8393-5eacb96d626f"
   },
   "outputs": [
    {
     "data": {
      "application/vnd.google.colaboratory.intrinsic+json": {
       "summary": "{\n  \"name\": \"iris_df\",\n  \"rows\": 5,\n  \"fields\": [\n    {\n      \"column\": \"sepal length (cm)\",\n      \"properties\": {\n        \"dtype\": \"number\",\n        \"std\": 0.44844814815593376,\n        \"min\": -0.11756978413300088,\n        \"max\": 1.0,\n        \"num_unique_values\": 5,\n        \"samples\": [\n          -0.11756978413300088,\n          0.7825612318100821,\n          0.8717537758865838\n        ],\n        \"semantic_type\": \"\",\n        \"description\": \"\"\n      }\n    },\n    {\n      \"column\": \"sepal width (cm)\",\n      \"properties\": {\n        \"dtype\": \"number\",\n        \"std\": 0.6104326864363265,\n        \"min\": -0.42844010433053864,\n        \"max\": 1.0,\n        \"num_unique_values\": 5,\n        \"samples\": [\n          1.0,\n          -0.42665756078112294,\n          -0.42844010433053864\n        ],\n        \"semantic_type\": \"\",\n        \"description\": \"\"\n      }\n    },\n    {\n      \"column\": \"petal length (cm)\",\n      \"properties\": {\n        \"dtype\": \"number\",\n        \"std\": 0.6164009118060736,\n        \"min\": -0.42844010433053864,\n        \"max\": 1.0,\n        \"num_unique_values\": 5,\n        \"samples\": [\n          -0.42844010433053864,\n          0.9490346990083889,\n          1.0\n        ],\n        \"semantic_type\": \"\",\n        \"description\": \"\"\n      }\n    },\n    {\n      \"column\": \"petal width (cm)\",\n      \"properties\": {\n        \"dtype\": \"number\",\n        \"std\": 0.585690390600281,\n        \"min\": -0.3661259325364377,\n        \"max\": 1.0,\n        \"num_unique_values\": 5,\n        \"samples\": [\n          -0.3661259325364377,\n          0.9565473328764024,\n          0.962865431402796\n        ],\n        \"semantic_type\": \"\",\n        \"description\": \"\"\n      }\n    },\n    {\n      \"column\": \"target\",\n      \"properties\": {\n        \"dtype\": \"number\",\n        \"std\": 0.6088166016126189,\n        \"min\": -0.42665756078112294,\n        \"max\": 1.0,\n        \"num_unique_values\": 5,\n        \"samples\": [\n          -0.42665756078112294,\n          1.0,\n          0.9490346990083889\n        ],\n        \"semantic_type\": \"\",\n        \"description\": \"\"\n      }\n    }\n  ]\n}",
       "type": "dataframe"
      },
      "text/html": [
       "\n",
       "  <div id=\"df-99c1fbd9-bdd9-44c2-8a25-1448e9699007\" class=\"colab-df-container\">\n",
       "    <div>\n",
       "<style scoped>\n",
       "    .dataframe tbody tr th:only-of-type {\n",
       "        vertical-align: middle;\n",
       "    }\n",
       "\n",
       "    .dataframe tbody tr th {\n",
       "        vertical-align: top;\n",
       "    }\n",
       "\n",
       "    .dataframe thead th {\n",
       "        text-align: right;\n",
       "    }\n",
       "</style>\n",
       "<table border=\"1\" class=\"dataframe\">\n",
       "  <thead>\n",
       "    <tr style=\"text-align: right;\">\n",
       "      <th></th>\n",
       "      <th>sepal length (cm)</th>\n",
       "      <th>sepal width (cm)</th>\n",
       "      <th>petal length (cm)</th>\n",
       "      <th>petal width (cm)</th>\n",
       "      <th>target</th>\n",
       "    </tr>\n",
       "  </thead>\n",
       "  <tbody>\n",
       "    <tr>\n",
       "      <th>sepal length (cm)</th>\n",
       "      <td>1.000000</td>\n",
       "      <td>-0.117570</td>\n",
       "      <td>0.871754</td>\n",
       "      <td>0.817941</td>\n",
       "      <td>0.782561</td>\n",
       "    </tr>\n",
       "    <tr>\n",
       "      <th>sepal width (cm)</th>\n",
       "      <td>-0.117570</td>\n",
       "      <td>1.000000</td>\n",
       "      <td>-0.428440</td>\n",
       "      <td>-0.366126</td>\n",
       "      <td>-0.426658</td>\n",
       "    </tr>\n",
       "    <tr>\n",
       "      <th>petal length (cm)</th>\n",
       "      <td>0.871754</td>\n",
       "      <td>-0.428440</td>\n",
       "      <td>1.000000</td>\n",
       "      <td>0.962865</td>\n",
       "      <td>0.949035</td>\n",
       "    </tr>\n",
       "    <tr>\n",
       "      <th>petal width (cm)</th>\n",
       "      <td>0.817941</td>\n",
       "      <td>-0.366126</td>\n",
       "      <td>0.962865</td>\n",
       "      <td>1.000000</td>\n",
       "      <td>0.956547</td>\n",
       "    </tr>\n",
       "    <tr>\n",
       "      <th>target</th>\n",
       "      <td>0.782561</td>\n",
       "      <td>-0.426658</td>\n",
       "      <td>0.949035</td>\n",
       "      <td>0.956547</td>\n",
       "      <td>1.000000</td>\n",
       "    </tr>\n",
       "  </tbody>\n",
       "</table>\n",
       "</div>\n",
       "    <div class=\"colab-df-buttons\">\n",
       "\n",
       "  <div class=\"colab-df-container\">\n",
       "    <button class=\"colab-df-convert\" onclick=\"convertToInteractive('df-99c1fbd9-bdd9-44c2-8a25-1448e9699007')\"\n",
       "            title=\"Convert this dataframe to an interactive table.\"\n",
       "            style=\"display:none;\">\n",
       "\n",
       "  <svg xmlns=\"http://www.w3.org/2000/svg\" height=\"24px\" viewBox=\"0 -960 960 960\">\n",
       "    <path d=\"M120-120v-720h720v720H120Zm60-500h600v-160H180v160Zm220 220h160v-160H400v160Zm0 220h160v-160H400v160ZM180-400h160v-160H180v160Zm440 0h160v-160H620v160ZM180-180h160v-160H180v160Zm440 0h160v-160H620v160Z\"/>\n",
       "  </svg>\n",
       "    </button>\n",
       "\n",
       "  <style>\n",
       "    .colab-df-container {\n",
       "      display:flex;\n",
       "      gap: 12px;\n",
       "    }\n",
       "\n",
       "    .colab-df-convert {\n",
       "      background-color: #E8F0FE;\n",
       "      border: none;\n",
       "      border-radius: 50%;\n",
       "      cursor: pointer;\n",
       "      display: none;\n",
       "      fill: #1967D2;\n",
       "      height: 32px;\n",
       "      padding: 0 0 0 0;\n",
       "      width: 32px;\n",
       "    }\n",
       "\n",
       "    .colab-df-convert:hover {\n",
       "      background-color: #E2EBFA;\n",
       "      box-shadow: 0px 1px 2px rgba(60, 64, 67, 0.3), 0px 1px 3px 1px rgba(60, 64, 67, 0.15);\n",
       "      fill: #174EA6;\n",
       "    }\n",
       "\n",
       "    .colab-df-buttons div {\n",
       "      margin-bottom: 4px;\n",
       "    }\n",
       "\n",
       "    [theme=dark] .colab-df-convert {\n",
       "      background-color: #3B4455;\n",
       "      fill: #D2E3FC;\n",
       "    }\n",
       "\n",
       "    [theme=dark] .colab-df-convert:hover {\n",
       "      background-color: #434B5C;\n",
       "      box-shadow: 0px 1px 3px 1px rgba(0, 0, 0, 0.15);\n",
       "      filter: drop-shadow(0px 1px 2px rgba(0, 0, 0, 0.3));\n",
       "      fill: #FFFFFF;\n",
       "    }\n",
       "  </style>\n",
       "\n",
       "    <script>\n",
       "      const buttonEl =\n",
       "        document.querySelector('#df-99c1fbd9-bdd9-44c2-8a25-1448e9699007 button.colab-df-convert');\n",
       "      buttonEl.style.display =\n",
       "        google.colab.kernel.accessAllowed ? 'block' : 'none';\n",
       "\n",
       "      async function convertToInteractive(key) {\n",
       "        const element = document.querySelector('#df-99c1fbd9-bdd9-44c2-8a25-1448e9699007');\n",
       "        const dataTable =\n",
       "          await google.colab.kernel.invokeFunction('convertToInteractive',\n",
       "                                                    [key], {});\n",
       "        if (!dataTable) return;\n",
       "\n",
       "        const docLinkHtml = 'Like what you see? Visit the ' +\n",
       "          '<a target=\"_blank\" href=https://colab.research.google.com/notebooks/data_table.ipynb>data table notebook</a>'\n",
       "          + ' to learn more about interactive tables.';\n",
       "        element.innerHTML = '';\n",
       "        dataTable['output_type'] = 'display_data';\n",
       "        await google.colab.output.renderOutput(dataTable, element);\n",
       "        const docLink = document.createElement('div');\n",
       "        docLink.innerHTML = docLinkHtml;\n",
       "        element.appendChild(docLink);\n",
       "      }\n",
       "    </script>\n",
       "  </div>\n",
       "\n",
       "\n",
       "<div id=\"df-240a3a31-b488-4105-bd48-3d932d051f6a\">\n",
       "  <button class=\"colab-df-quickchart\" onclick=\"quickchart('df-240a3a31-b488-4105-bd48-3d932d051f6a')\"\n",
       "            title=\"Suggest charts\"\n",
       "            style=\"display:none;\">\n",
       "\n",
       "<svg xmlns=\"http://www.w3.org/2000/svg\" height=\"24px\"viewBox=\"0 0 24 24\"\n",
       "     width=\"24px\">\n",
       "    <g>\n",
       "        <path d=\"M19 3H5c-1.1 0-2 .9-2 2v14c0 1.1.9 2 2 2h14c1.1 0 2-.9 2-2V5c0-1.1-.9-2-2-2zM9 17H7v-7h2v7zm4 0h-2V7h2v10zm4 0h-2v-4h2v4z\"/>\n",
       "    </g>\n",
       "</svg>\n",
       "  </button>\n",
       "\n",
       "<style>\n",
       "  .colab-df-quickchart {\n",
       "      --bg-color: #E8F0FE;\n",
       "      --fill-color: #1967D2;\n",
       "      --hover-bg-color: #E2EBFA;\n",
       "      --hover-fill-color: #174EA6;\n",
       "      --disabled-fill-color: #AAA;\n",
       "      --disabled-bg-color: #DDD;\n",
       "  }\n",
       "\n",
       "  [theme=dark] .colab-df-quickchart {\n",
       "      --bg-color: #3B4455;\n",
       "      --fill-color: #D2E3FC;\n",
       "      --hover-bg-color: #434B5C;\n",
       "      --hover-fill-color: #FFFFFF;\n",
       "      --disabled-bg-color: #3B4455;\n",
       "      --disabled-fill-color: #666;\n",
       "  }\n",
       "\n",
       "  .colab-df-quickchart {\n",
       "    background-color: var(--bg-color);\n",
       "    border: none;\n",
       "    border-radius: 50%;\n",
       "    cursor: pointer;\n",
       "    display: none;\n",
       "    fill: var(--fill-color);\n",
       "    height: 32px;\n",
       "    padding: 0;\n",
       "    width: 32px;\n",
       "  }\n",
       "\n",
       "  .colab-df-quickchart:hover {\n",
       "    background-color: var(--hover-bg-color);\n",
       "    box-shadow: 0 1px 2px rgba(60, 64, 67, 0.3), 0 1px 3px 1px rgba(60, 64, 67, 0.15);\n",
       "    fill: var(--button-hover-fill-color);\n",
       "  }\n",
       "\n",
       "  .colab-df-quickchart-complete:disabled,\n",
       "  .colab-df-quickchart-complete:disabled:hover {\n",
       "    background-color: var(--disabled-bg-color);\n",
       "    fill: var(--disabled-fill-color);\n",
       "    box-shadow: none;\n",
       "  }\n",
       "\n",
       "  .colab-df-spinner {\n",
       "    border: 2px solid var(--fill-color);\n",
       "    border-color: transparent;\n",
       "    border-bottom-color: var(--fill-color);\n",
       "    animation:\n",
       "      spin 1s steps(1) infinite;\n",
       "  }\n",
       "\n",
       "  @keyframes spin {\n",
       "    0% {\n",
       "      border-color: transparent;\n",
       "      border-bottom-color: var(--fill-color);\n",
       "      border-left-color: var(--fill-color);\n",
       "    }\n",
       "    20% {\n",
       "      border-color: transparent;\n",
       "      border-left-color: var(--fill-color);\n",
       "      border-top-color: var(--fill-color);\n",
       "    }\n",
       "    30% {\n",
       "      border-color: transparent;\n",
       "      border-left-color: var(--fill-color);\n",
       "      border-top-color: var(--fill-color);\n",
       "      border-right-color: var(--fill-color);\n",
       "    }\n",
       "    40% {\n",
       "      border-color: transparent;\n",
       "      border-right-color: var(--fill-color);\n",
       "      border-top-color: var(--fill-color);\n",
       "    }\n",
       "    60% {\n",
       "      border-color: transparent;\n",
       "      border-right-color: var(--fill-color);\n",
       "    }\n",
       "    80% {\n",
       "      border-color: transparent;\n",
       "      border-right-color: var(--fill-color);\n",
       "      border-bottom-color: var(--fill-color);\n",
       "    }\n",
       "    90% {\n",
       "      border-color: transparent;\n",
       "      border-bottom-color: var(--fill-color);\n",
       "    }\n",
       "  }\n",
       "</style>\n",
       "\n",
       "  <script>\n",
       "    async function quickchart(key) {\n",
       "      const quickchartButtonEl =\n",
       "        document.querySelector('#' + key + ' button');\n",
       "      quickchartButtonEl.disabled = true;  // To prevent multiple clicks.\n",
       "      quickchartButtonEl.classList.add('colab-df-spinner');\n",
       "      try {\n",
       "        const charts = await google.colab.kernel.invokeFunction(\n",
       "            'suggestCharts', [key], {});\n",
       "      } catch (error) {\n",
       "        console.error('Error during call to suggestCharts:', error);\n",
       "      }\n",
       "      quickchartButtonEl.classList.remove('colab-df-spinner');\n",
       "      quickchartButtonEl.classList.add('colab-df-quickchart-complete');\n",
       "    }\n",
       "    (() => {\n",
       "      let quickchartButtonEl =\n",
       "        document.querySelector('#df-240a3a31-b488-4105-bd48-3d932d051f6a button');\n",
       "      quickchartButtonEl.style.display =\n",
       "        google.colab.kernel.accessAllowed ? 'block' : 'none';\n",
       "    })();\n",
       "  </script>\n",
       "</div>\n",
       "\n",
       "    </div>\n",
       "  </div>\n"
      ],
      "text/plain": [
       "                   sepal length (cm)  sepal width (cm)  petal length (cm)  \\\n",
       "sepal length (cm)           1.000000         -0.117570           0.871754   \n",
       "sepal width (cm)           -0.117570          1.000000          -0.428440   \n",
       "petal length (cm)           0.871754         -0.428440           1.000000   \n",
       "petal width (cm)            0.817941         -0.366126           0.962865   \n",
       "target                      0.782561         -0.426658           0.949035   \n",
       "\n",
       "                   petal width (cm)    target  \n",
       "sepal length (cm)          0.817941  0.782561  \n",
       "sepal width (cm)          -0.366126 -0.426658  \n",
       "petal length (cm)          0.962865  0.949035  \n",
       "petal width (cm)           1.000000  0.956547  \n",
       "target                     0.956547  1.000000  "
      ]
     },
     "execution_count": 17,
     "metadata": {},
     "output_type": "execute_result"
    }
   ],
   "source": [
    "iris_df.corr()                                                                  # calculate correlation (all)"
   ]
  },
  {
   "cell_type": "code",
   "execution_count": 20,
   "metadata": {
    "colab": {
     "base_uri": "https://localhost:8080/",
     "height": 210
    },
    "collapsed": true,
    "executionInfo": {
     "elapsed": 474,
     "status": "ok",
     "timestamp": 1732715682625,
     "user": {
      "displayName": "Clash Clans",
      "userId": "00562530571182710236"
     },
     "user_tz": -330
    },
    "id": "X5d2j-5j5utp",
    "outputId": "7213d0b7-8b50-4bb3-8678-97314e917797"
   },
   "outputs": [
    {
     "data": {
      "text/html": [
       "<div>\n",
       "<style scoped>\n",
       "    .dataframe tbody tr th:only-of-type {\n",
       "        vertical-align: middle;\n",
       "    }\n",
       "\n",
       "    .dataframe tbody tr th {\n",
       "        vertical-align: top;\n",
       "    }\n",
       "\n",
       "    .dataframe thead th {\n",
       "        text-align: right;\n",
       "    }\n",
       "</style>\n",
       "<table border=\"1\" class=\"dataframe\">\n",
       "  <thead>\n",
       "    <tr style=\"text-align: right;\">\n",
       "      <th></th>\n",
       "      <th>target</th>\n",
       "    </tr>\n",
       "  </thead>\n",
       "  <tbody>\n",
       "    <tr>\n",
       "      <th>sepal length (cm)</th>\n",
       "      <td>0.782561</td>\n",
       "    </tr>\n",
       "    <tr>\n",
       "      <th>sepal width (cm)</th>\n",
       "      <td>-0.426658</td>\n",
       "    </tr>\n",
       "    <tr>\n",
       "      <th>petal length (cm)</th>\n",
       "      <td>0.949035</td>\n",
       "    </tr>\n",
       "    <tr>\n",
       "      <th>petal width (cm)</th>\n",
       "      <td>0.956547</td>\n",
       "    </tr>\n",
       "  </tbody>\n",
       "</table>\n",
       "</div><br><label><b>dtype:</b> float64</label>"
      ],
      "text/plain": [
       "sepal length (cm)    0.782561\n",
       "sepal width (cm)    -0.426658\n",
       "petal length (cm)    0.949035\n",
       "petal width (cm)     0.956547\n",
       "Name: target, dtype: float64"
      ]
     },
     "execution_count": 20,
     "metadata": {},
     "output_type": "execute_result"
    }
   ],
   "source": [
    "iris_df.corr()['target'].iloc[:-1]                                              # calculate correlation (only for targets)"
   ]
  },
  {
   "cell_type": "markdown",
   "metadata": {
    "id": "ulDtlUrwGPQo"
   },
   "source": [
    "### plot [heatmap](https://seaborn.pydata.org/generated/seaborn.heatmap.html) for correlation scores\n",
    "\n",
    "Source: [Annotated heatmaps](https://seaborn.pydata.org/examples/spreadsheet_heatmap.html)"
   ]
  },
  {
   "cell_type": "code",
   "execution_count": 21,
   "metadata": {
    "colab": {
     "base_uri": "https://localhost:8080/",
     "height": 605
    },
    "executionInfo": {
     "elapsed": 1578,
     "status": "ok",
     "timestamp": 1732715771051,
     "user": {
      "displayName": "Clash Clans",
      "userId": "00562530571182710236"
     },
     "user_tz": -330
    },
    "id": "1g3ILZ9P5V-J",
    "outputId": "e6a9172c-3343-4a0a-c6b6-92d347ffa8d0"
   },
   "outputs": [
    {
     "data": {
      "image/png": "[encoded data removed]",
      "text/plain": [
       "<Figure size 1000x700 with 2 Axes>"
      ]
     },
     "metadata": {},
     "output_type": "display_data"
    }
   ],
   "source": [
    "plt.figure(figsize=(10,7))                                                      # make figure\n",
    "sns.heatmap(data=iris_df.corr(),annot=True,fmt='.2g',linewidths=0.5)            # plot heatmap\n",
    "# (.2g - 2 significant digits) or (.2f for 2 digits after decimal points)\n",
    "plt.show()                                                                      # make plot show"
   ]
  },
  {
   "cell_type": "markdown",
   "metadata": {
    "id": "jdbmvd5QIO82"
   },
   "source": [
    "### feature importance by [chi2](https://scikit-learn.org/stable/modules/generated/sklearn.feature_selection.chi2.html#sklearn.feature_selection.chi2)\n",
    "\n",
    "**NOT WORK - only for positive data values**"
   ]
  },
  {
   "cell_type": "code",
   "execution_count": 43,
   "metadata": {
    "colab": {
     "base_uri": "https://localhost:8080/"
    },
    "executionInfo": {
     "elapsed": 728,
     "status": "ok",
     "timestamp": 1732716778000,
     "user": {
      "displayName": "Clash Clans",
      "userId": "00562530571182710236"
     },
     "user_tz": -330
    },
    "id": "d_r4tmXEIPw0",
    "outputId": "36664665-e8f4-4c7b-ace2-910ac00e6ffa"
   },
   "outputs": [
    {
     "data": {
      "text/plain": [
       "array([0.09300643, 0.03190306, 1.        , 0.57644961])"
      ]
     },
     "execution_count": 43,
     "metadata": {},
     "output_type": "execute_result"
    }
   ],
   "source": [
    "from sklearn.feature_selection import chi2                                      # load chi2 method\n",
    "\n",
    "score_chi2,p_value=chi2(iris_df.iloc[:,:-1],iris_df['target'])                  # calculate score\n",
    "score_chi2=score_chi2/score_chi2.max()                                          # normalize score\n",
    "score_chi2                                                                      # see score"
   ]
  },
  {
   "cell_type": "markdown",
   "metadata": {
    "id": "juc5Sv8T6Pul"
   },
   "source": [
    "### feature importance by [f_classif (f-score)](https://scikit-learn.org/stable/modules/generated/sklearn.feature_selection.f_classif.html)\n",
    "\n",
    "**Compute the ANOVA F-value for the provided sample.**"
   ]
  },
  {
   "cell_type": "code",
   "execution_count": 44,
   "metadata": {
    "colab": {
     "base_uri": "https://localhost:8080/"
    },
    "executionInfo": {
     "elapsed": 436,
     "status": "ok",
     "timestamp": 1732716782567,
     "user": {
      "displayName": "Clash Clans",
      "userId": "00562530571182710236"
     },
     "user_tz": -330
    },
    "id": "tYfiucJWNyXT",
    "outputId": "01f2e758-ed5c-4111-fc9b-07dae61b5ecf"
   },
   "outputs": [
    {
     "data": {
      "text/plain": [
       "array([0.10105781, 0.04165536, 1.        , 0.81345426])"
      ]
     },
     "execution_count": 44,
     "metadata": {},
     "output_type": "execute_result"
    }
   ],
   "source": [
    "from sklearn.feature_selection import f_classif                                 # load f-score for classification method\n",
    "\n",
    "score_f,p_value=f_classif(iris_df.iloc[:,:-1],iris_df['target'])                # calculate score\n",
    "score_f=score_f/score_f.max()                                                   # normalize score\n",
    "score_f                                                                         # see score"
   ]
  },
  {
   "cell_type": "markdown",
   "metadata": {
    "id": "Ab4WZ18SoufQ"
   },
   "source": [
    "### feature importance by [klearn.feature_selection.mutual_info_classif](https://scikit-learn.org/stable/modules/generated/sklearn.feature_selection.mutual_info_classif.html)\n",
    "\n",
    "**Estimate mutual information for a discrete target variable.**\n",
    "\n",
    "Mutual information (MI) between two random variables is a non-negative value, which measures the dependency between the variables. It is equal to zero if and only if two random variables are independent, and higher values mean higher dependency."
   ]
  },
  {
   "cell_type": "code",
   "execution_count": 46,
   "metadata": {
    "colab": {
     "base_uri": "https://localhost:8080/"
    },
    "executionInfo": {
     "elapsed": 585,
     "status": "ok",
     "timestamp": 1732716817387,
     "user": {
      "displayName": "Clash Clans",
      "userId": "00562530571182710236"
     },
     "user_tz": -330
    },
    "id": "x-9uxO_CIPcJ",
    "outputId": "38ac3f1a-eb71-4da0-d00e-1fa29cd1bc96"
   },
   "outputs": [
    {
     "data": {
      "text/plain": [
       "array([0.53589385, 0.22985612, 1.        , 0.99530496])"
      ]
     },
     "execution_count": 46,
     "metadata": {},
     "output_type": "execute_result"
    }
   ],
   "source": [
    "from sklearn.feature_selection import mutual_info_classif                       # load mutual info for classification method\n",
    "\n",
    "score_mi=mutual_info_classif(iris_df.iloc[:,:-1],iris_df['target'])             # calculate score\n",
    "score_mi=score_mi/score_mi.max()                                                # normalize score\n",
    "score_mi                                                                        # see score"
   ]
  },
  {
   "cell_type": "markdown",
   "metadata": {
    "id": "4TppWZ82pIIt"
   },
   "source": [
    "### collect all feature scores"
   ]
  },
  {
   "cell_type": "code",
   "execution_count": 48,
   "metadata": {
    "colab": {
     "base_uri": "https://localhost:8080/",
     "height": 175
    },
    "executionInfo": {
     "elapsed": 627,
     "status": "ok",
     "timestamp": 1732716859788,
     "user": {
      "displayName": "Clash Clans",
      "userId": "00562530571182710236"
     },
     "user_tz": -330
    },
    "id": "9SB7AKSCBDyH",
    "outputId": "d8676c1b-66a0-403d-e92e-a19ebe64ea52"
   },
   "outputs": [
    {
     "data": {
      "application/vnd.google.colaboratory.intrinsic+json": {
       "summary": "{\n  \"name\": \"score\",\n  \"rows\": 4,\n  \"fields\": [\n    {\n      \"column\": \"corr\",\n      \"properties\": {\n        \"dtype\": \"number\",\n        \"std\": 0.6662104321053242,\n        \"min\": -0.42665756078112294,\n        \"max\": 0.9565473328764024,\n        \"num_unique_values\": 4,\n        \"samples\": [\n          -0.42665756078112294,\n          0.9565473328764024,\n          0.7825612318100821\n        ],\n        \"semantic_type\": \"\",\n        \"description\": \"\"\n      }\n    },\n    {\n      \"column\": \"chi2\",\n      \"properties\": {\n        \"dtype\": \"number\",\n        \"std\": 0.4539847488796066,\n        \"min\": 0.03190306025190212,\n        \"max\": 1.0,\n        \"num_unique_values\": 4,\n        \"samples\": [\n          0.03190306025190212,\n          0.5764496078085471,\n          0.09300642974920421\n        ],\n        \"semantic_type\": \"\",\n        \"description\": \"\"\n      }\n    },\n    {\n      \"column\": \"f-score\",\n      \"properties\": {\n        \"dtype\": \"number\",\n        \"std\": 0.4888789670489838,\n        \"min\": 0.04165536100396251,\n        \"max\": 1.0,\n        \"num_unique_values\": 4,\n        \"samples\": [\n          0.04165536100396251,\n          0.8134542647548433,\n          0.10105780801637428\n        ],\n        \"semantic_type\": \"\",\n        \"description\": \"\"\n      }\n    },\n    {\n      \"column\": \"mi-score\",\n      \"properties\": {\n        \"dtype\": \"number\",\n        \"std\": 0.3762941846043888,\n        \"min\": 0.22985611582344692,\n        \"max\": 1.0,\n        \"num_unique_values\": 4,\n        \"samples\": [\n          0.22985611582344692,\n          0.9953049586313443,\n          0.5358938469558426\n        ],\n        \"semantic_type\": \"\",\n        \"description\": \"\"\n      }\n    }\n  ]\n}",
       "type": "dataframe",
       "variable_name": "score"
      },
      "text/html": [
       "\n",
       "  <div id=\"df-434a1379-f163-4e4f-af3b-240b5a8a93a0\" class=\"colab-df-container\">\n",
       "    <div>\n",
       "<style scoped>\n",
       "    .dataframe tbody tr th:only-of-type {\n",
       "        vertical-align: middle;\n",
       "    }\n",
       "\n",
       "    .dataframe tbody tr th {\n",
       "        vertical-align: top;\n",
       "    }\n",
       "\n",
       "    .dataframe thead th {\n",
       "        text-align: right;\n",
       "    }\n",
       "</style>\n",
       "<table border=\"1\" class=\"dataframe\">\n",
       "  <thead>\n",
       "    <tr style=\"text-align: right;\">\n",
       "      <th></th>\n",
       "      <th>corr</th>\n",
       "      <th>chi2</th>\n",
       "      <th>f-score</th>\n",
       "      <th>mi-score</th>\n",
       "    </tr>\n",
       "  </thead>\n",
       "  <tbody>\n",
       "    <tr>\n",
       "      <th>sepal length (cm)</th>\n",
       "      <td>0.782561</td>\n",
       "      <td>0.093006</td>\n",
       "      <td>0.101058</td>\n",
       "      <td>0.535894</td>\n",
       "    </tr>\n",
       "    <tr>\n",
       "      <th>sepal width (cm)</th>\n",
       "      <td>-0.426658</td>\n",
       "      <td>0.031903</td>\n",
       "      <td>0.041655</td>\n",
       "      <td>0.229856</td>\n",
       "    </tr>\n",
       "    <tr>\n",
       "      <th>petal length (cm)</th>\n",
       "      <td>0.949035</td>\n",
       "      <td>1.000000</td>\n",
       "      <td>1.000000</td>\n",
       "      <td>1.000000</td>\n",
       "    </tr>\n",
       "    <tr>\n",
       "      <th>petal width (cm)</th>\n",
       "      <td>0.956547</td>\n",
       "      <td>0.576450</td>\n",
       "      <td>0.813454</td>\n",
       "      <td>0.995305</td>\n",
       "    </tr>\n",
       "  </tbody>\n",
       "</table>\n",
       "</div>\n",
       "    <div class=\"colab-df-buttons\">\n",
       "\n",
       "  <div class=\"colab-df-container\">\n",
       "    <button class=\"colab-df-convert\" onclick=\"convertToInteractive('df-434a1379-f163-4e4f-af3b-240b5a8a93a0')\"\n",
       "            title=\"Convert this dataframe to an interactive table.\"\n",
       "            style=\"display:none;\">\n",
       "\n",
       "  <svg xmlns=\"http://www.w3.org/2000/svg\" height=\"24px\" viewBox=\"0 -960 960 960\">\n",
       "    <path d=\"M120-120v-720h720v720H120Zm60-500h600v-160H180v160Zm220 220h160v-160H400v160Zm0 220h160v-160H400v160ZM180-400h160v-160H180v160Zm440 0h160v-160H620v160ZM180-180h160v-160H180v160Zm440 0h160v-160H620v160Z\"/>\n",
       "  </svg>\n",
       "    </button>\n",
       "\n",
       "  <style>\n",
       "    .colab-df-container {\n",
       "      display:flex;\n",
       "      gap: 12px;\n",
       "    }\n",
       "\n",
       "    .colab-df-convert {\n",
       "      background-color: #E8F0FE;\n",
       "      border: none;\n",
       "      border-radius: 50%;\n",
       "      cursor: pointer;\n",
       "      display: none;\n",
       "      fill: #1967D2;\n",
       "      height: 32px;\n",
       "      padding: 0 0 0 0;\n",
       "      width: 32px;\n",
       "    }\n",
       "\n",
       "    .colab-df-convert:hover {\n",
       "      background-color: #E2EBFA;\n",
       "      box-shadow: 0px 1px 2px rgba(60, 64, 67, 0.3), 0px 1px 3px 1px rgba(60, 64, 67, 0.15);\n",
       "      fill: #174EA6;\n",
       "    }\n",
       "\n",
       "    .colab-df-buttons div {\n",
       "      margin-bottom: 4px;\n",
       "    }\n",
       "\n",
       "    [theme=dark] .colab-df-convert {\n",
       "      background-color: #3B4455;\n",
       "      fill: #D2E3FC;\n",
       "    }\n",
       "\n",
       "    [theme=dark] .colab-df-convert:hover {\n",
       "      background-color: #434B5C;\n",
       "      box-shadow: 0px 1px 3px 1px rgba(0, 0, 0, 0.15);\n",
       "      filter: drop-shadow(0px 1px 2px rgba(0, 0, 0, 0.3));\n",
       "      fill: #FFFFFF;\n",
       "    }\n",
       "  </style>\n",
       "\n",
       "    <script>\n",
       "      const buttonEl =\n",
       "        document.querySelector('#df-434a1379-f163-4e4f-af3b-240b5a8a93a0 button.colab-df-convert');\n",
       "      buttonEl.style.display =\n",
       "        google.colab.kernel.accessAllowed ? 'block' : 'none';\n",
       "\n",
       "      async function convertToInteractive(key) {\n",
       "        const element = document.querySelector('#df-434a1379-f163-4e4f-af3b-240b5a8a93a0');\n",
       "        const dataTable =\n",
       "          await google.colab.kernel.invokeFunction('convertToInteractive',\n",
       "                                                    [key], {});\n",
       "        if (!dataTable) return;\n",
       "\n",
       "        const docLinkHtml = 'Like what you see? Visit the ' +\n",
       "          '<a target=\"_blank\" href=https://colab.research.google.com/notebooks/data_table.ipynb>data table notebook</a>'\n",
       "          + ' to learn more about interactive tables.';\n",
       "        element.innerHTML = '';\n",
       "        dataTable['output_type'] = 'display_data';\n",
       "        await google.colab.output.renderOutput(dataTable, element);\n",
       "        const docLink = document.createElement('div');\n",
       "        docLink.innerHTML = docLinkHtml;\n",
       "        element.appendChild(docLink);\n",
       "      }\n",
       "    </script>\n",
       "  </div>\n",
       "\n",
       "\n",
       "<div id=\"df-34e2d321-3442-4234-9d7b-415ebc3a03ab\">\n",
       "  <button class=\"colab-df-quickchart\" onclick=\"quickchart('df-34e2d321-3442-4234-9d7b-415ebc3a03ab')\"\n",
       "            title=\"Suggest charts\"\n",
       "            style=\"display:none;\">\n",
       "\n",
       "<svg xmlns=\"http://www.w3.org/2000/svg\" height=\"24px\"viewBox=\"0 0 24 24\"\n",
       "     width=\"24px\">\n",
       "    <g>\n",
       "        <path d=\"M19 3H5c-1.1 0-2 .9-2 2v14c0 1.1.9 2 2 2h14c1.1 0 2-.9 2-2V5c0-1.1-.9-2-2-2zM9 17H7v-7h2v7zm4 0h-2V7h2v10zm4 0h-2v-4h2v4z\"/>\n",
       "    </g>\n",
       "</svg>\n",
       "  </button>\n",
       "\n",
       "<style>\n",
       "  .colab-df-quickchart {\n",
       "      --bg-color: #E8F0FE;\n",
       "      --fill-color: #1967D2;\n",
       "      --hover-bg-color: #E2EBFA;\n",
       "      --hover-fill-color: #174EA6;\n",
       "      --disabled-fill-color: #AAA;\n",
       "      --disabled-bg-color: #DDD;\n",
       "  }\n",
       "\n",
       "  [theme=dark] .colab-df-quickchart {\n",
       "      --bg-color: #3B4455;\n",
       "      --fill-color: #D2E3FC;\n",
       "      --hover-bg-color: #434B5C;\n",
       "      --hover-fill-color: #FFFFFF;\n",
       "      --disabled-bg-color: #3B4455;\n",
       "      --disabled-fill-color: #666;\n",
       "  }\n",
       "\n",
       "  .colab-df-quickchart {\n",
       "    background-color: var(--bg-color);\n",
       "    border: none;\n",
       "    border-radius: 50%;\n",
       "    cursor: pointer;\n",
       "    display: none;\n",
       "    fill: var(--fill-color);\n",
       "    height: 32px;\n",
       "    padding: 0;\n",
       "    width: 32px;\n",
       "  }\n",
       "\n",
       "  .colab-df-quickchart:hover {\n",
       "    background-color: var(--hover-bg-color);\n",
       "    box-shadow: 0 1px 2px rgba(60, 64, 67, 0.3), 0 1px 3px 1px rgba(60, 64, 67, 0.15);\n",
       "    fill: var(--button-hover-fill-color);\n",
       "  }\n",
       "\n",
       "  .colab-df-quickchart-complete:disabled,\n",
       "  .colab-df-quickchart-complete:disabled:hover {\n",
       "    background-color: var(--disabled-bg-color);\n",
       "    fill: var(--disabled-fill-color);\n",
       "    box-shadow: none;\n",
       "  }\n",
       "\n",
       "  .colab-df-spinner {\n",
       "    border: 2px solid var(--fill-color);\n",
       "    border-color: transparent;\n",
       "    border-bottom-color: var(--fill-color);\n",
       "    animation:\n",
       "      spin 1s steps(1) infinite;\n",
       "  }\n",
       "\n",
       "  @keyframes spin {\n",
       "    0% {\n",
       "      border-color: transparent;\n",
       "      border-bottom-color: var(--fill-color);\n",
       "      border-left-color: var(--fill-color);\n",
       "    }\n",
       "    20% {\n",
       "      border-color: transparent;\n",
       "      border-left-color: var(--fill-color);\n",
       "      border-top-color: var(--fill-color);\n",
       "    }\n",
       "    30% {\n",
       "      border-color: transparent;\n",
       "      border-left-color: var(--fill-color);\n",
       "      border-top-color: var(--fill-color);\n",
       "      border-right-color: var(--fill-color);\n",
       "    }\n",
       "    40% {\n",
       "      border-color: transparent;\n",
       "      border-right-color: var(--fill-color);\n",
       "      border-top-color: var(--fill-color);\n",
       "    }\n",
       "    60% {\n",
       "      border-color: transparent;\n",
       "      border-right-color: var(--fill-color);\n",
       "    }\n",
       "    80% {\n",
       "      border-color: transparent;\n",
       "      border-right-color: var(--fill-color);\n",
       "      border-bottom-color: var(--fill-color);\n",
       "    }\n",
       "    90% {\n",
       "      border-color: transparent;\n",
       "      border-bottom-color: var(--fill-color);\n",
       "    }\n",
       "  }\n",
       "</style>\n",
       "\n",
       "  <script>\n",
       "    async function quickchart(key) {\n",
       "      const quickchartButtonEl =\n",
       "        document.querySelector('#' + key + ' button');\n",
       "      quickchartButtonEl.disabled = true;  // To prevent multiple clicks.\n",
       "      quickchartButtonEl.classList.add('colab-df-spinner');\n",
       "      try {\n",
       "        const charts = await google.colab.kernel.invokeFunction(\n",
       "            'suggestCharts', [key], {});\n",
       "      } catch (error) {\n",
       "        console.error('Error during call to suggestCharts:', error);\n",
       "      }\n",
       "      quickchartButtonEl.classList.remove('colab-df-spinner');\n",
       "      quickchartButtonEl.classList.add('colab-df-quickchart-complete');\n",
       "    }\n",
       "    (() => {\n",
       "      let quickchartButtonEl =\n",
       "        document.querySelector('#df-34e2d321-3442-4234-9d7b-415ebc3a03ab button');\n",
       "      quickchartButtonEl.style.display =\n",
       "        google.colab.kernel.accessAllowed ? 'block' : 'none';\n",
       "    })();\n",
       "  </script>\n",
       "</div>\n",
       "\n",
       "  <div id=\"id_37d156f2-5b7b-4d28-80f2-c5623bc0570d\">\n",
       "    <style>\n",
       "      .colab-df-generate {\n",
       "        background-color: #E8F0FE;\n",
       "        border: none;\n",
       "        border-radius: 50%;\n",
       "        cursor: pointer;\n",
       "        display: none;\n",
       "        fill: #1967D2;\n",
       "        height: 32px;\n",
       "        padding: 0 0 0 0;\n",
       "        width: 32px;\n",
       "      }\n",
       "\n",
       "      .colab-df-generate:hover {\n",
       "        background-color: #E2EBFA;\n",
       "        box-shadow: 0px 1px 2px rgba(60, 64, 67, 0.3), 0px 1px 3px 1px rgba(60, 64, 67, 0.15);\n",
       "        fill: #174EA6;\n",
       "      }\n",
       "\n",
       "      [theme=dark] .colab-df-generate {\n",
       "        background-color: #3B4455;\n",
       "        fill: #D2E3FC;\n",
       "      }\n",
       "\n",
       "      [theme=dark] .colab-df-generate:hover {\n",
       "        background-color: #434B5C;\n",
       "        box-shadow: 0px 1px 3px 1px rgba(0, 0, 0, 0.15);\n",
       "        filter: drop-shadow(0px 1px 2px rgba(0, 0, 0, 0.3));\n",
       "        fill: #FFFFFF;\n",
       "      }\n",
       "    </style>\n",
       "    <button class=\"colab-df-generate\" onclick=\"generateWithVariable('score')\"\n",
       "            title=\"Generate code using this dataframe.\"\n",
       "            style=\"display:none;\">\n",
       "\n",
       "  <svg xmlns=\"http://www.w3.org/2000/svg\" height=\"24px\"viewBox=\"0 0 24 24\"\n",
       "       width=\"24px\">\n",
       "    <path d=\"M7,19H8.4L18.45,9,17,7.55,7,17.6ZM5,21V16.75L18.45,3.32a2,2,0,0,1,2.83,0l1.4,1.43a1.91,1.91,0,0,1,.58,1.4,1.91,1.91,0,0,1-.58,1.4L9.25,21ZM18.45,9,17,7.55Zm-12,3A5.31,5.31,0,0,0,4.9,8.1,5.31,5.31,0,0,0,1,6.5,5.31,5.31,0,0,0,4.9,4.9,5.31,5.31,0,0,0,6.5,1,5.31,5.31,0,0,0,8.1,4.9,5.31,5.31,0,0,0,12,6.5,5.46,5.46,0,0,0,6.5,12Z\"/>\n",
       "  </svg>\n",
       "    </button>\n",
       "    <script>\n",
       "      (() => {\n",
       "      const buttonEl =\n",
       "        document.querySelector('#id_37d156f2-5b7b-4d28-80f2-c5623bc0570d button.colab-df-generate');\n",
       "      buttonEl.style.display =\n",
       "        google.colab.kernel.accessAllowed ? 'block' : 'none';\n",
       "\n",
       "      buttonEl.onclick = () => {\n",
       "        google.colab.notebook.generateWithVariable('score');\n",
       "      }\n",
       "      })();\n",
       "    </script>\n",
       "  </div>\n",
       "\n",
       "    </div>\n",
       "  </div>\n"
      ],
      "text/plain": [
       "                       corr      chi2   f-score  mi-score\n",
       "sepal length (cm)  0.782561  0.093006  0.101058  0.535894\n",
       "sepal width (cm)  -0.426658  0.031903  0.041655  0.229856\n",
       "petal length (cm)  0.949035  1.000000  1.000000  1.000000\n",
       "petal width (cm)   0.956547  0.576450  0.813454  0.995305"
      ]
     },
     "execution_count": 48,
     "metadata": {},
     "output_type": "execute_result"
    }
   ],
   "source": [
    "score=pd.DataFrame(data={'corr':iris_df.corr()['target'][:-1],'chi2':score_chi2,'f-score':score_f,'mi-score':score_mi})# make pandas dataframe\n",
    "score                                                                           # see results"
   ]
  },
  {
   "cell_type": "markdown",
   "metadata": {
    "id": "7ruY1lZFpnZ7"
   },
   "source": [
    "### split dataset using [sklearn.model_selection.train_test_split](https://scikit-learn.org/stable/modules/generated/sklearn.model_selection.train_test_split.html)\n",
    "\n",
    "Split arrays or matrices into random train and test subsets.\n",
    "\n",
    "Quick utility that wraps input validation and next(ShuffleSplit().split(X, y)) and application to input data into a single call for splitting (and optionally subsampling) data in a oneliner."
   ]
  },
  {
   "cell_type": "code",
   "execution_count": 51,
   "metadata": {
    "colab": {
     "base_uri": "https://localhost:8080/"
    },
    "executionInfo": {
     "elapsed": 403,
     "status": "ok",
     "timestamp": 1732716905613,
     "user": {
      "displayName": "Clash Clans",
      "userId": "00562530571182710236"
     },
     "user_tz": -330
    },
    "id": "jqWcOci6Atwj",
    "outputId": "b961c267-7ad6-4678-8027-ffcaf1d05a1d"
   },
   "outputs": [
    {
     "data": {
      "text/plain": [
       "((100, 4), (100,), (50, 4), (50,))"
      ]
     },
     "execution_count": 51,
     "metadata": {},
     "output_type": "execute_result"
    }
   ],
   "source": [
    "from sklearn.model_selection import train_test_split                            # split data\n",
    "\n",
    "Xtrain,Xtest,ytrain,ytest=train_test_split(iris_df.drop(columns='target'),iris_df['target'],test_size=0.33)# split data (as pandas dataframe and series)\n",
    "Xtrain.shape,ytrain.shape,Xtest.shape,ytest.shape                               # see shape"
   ]
  },
  {
   "cell_type": "markdown",
   "metadata": {
    "id": "0SXIhgAJp70f"
   },
   "source": [
    "### Compare feature selection results"
   ]
  },
  {
   "cell_type": "markdown",
   "metadata": {
    "id": "fQsmMRh_qM7n"
   },
   "source": [
    "**make classification using BEST one feature**"
   ]
  },
  {
   "cell_type": "code",
   "execution_count": 52,
   "metadata": {
    "colab": {
     "base_uri": "https://localhost:8080/"
    },
    "executionInfo": {
     "elapsed": 707,
     "status": "ok",
     "timestamp": 1732716966586,
     "user": {
      "displayName": "Clash Clans",
      "userId": "00562530571182710236"
     },
     "user_tz": -330
    },
    "id": "G_h73CJuDhiA",
    "outputId": "af1b013b-31fb-4b7f-8785-d36cf20c72d2"
   },
   "outputs": [
    {
     "name": "stdout",
     "output_type": "stream",
     "text": [
      "Training accuracy: 0.96\n",
      "Test accuracy: 0.96\n"
     ]
    }
   ],
   "source": [
    "from sklearn.linear_model import LogisticRegression                             # load classifier module - LogisticRegression - on BEST one feature\n",
    "\n",
    "lClf=LogisticRegression()                                                       # make model (object)\n",
    "lClf.fit(Xtrain[['petal width (cm)']],ytrain)                                   # make model train\n",
    "print('Training accuracy:',lClf.score(Xtrain[['petal width (cm)']],ytrain))     # calculate training accuracy\n",
    "print('Test accuracy:',lClf.score(Xtest[['petal width (cm)']],ytest))           # calculate testing accuracy"
   ]
  },
  {
   "cell_type": "markdown",
   "metadata": {
    "id": "G3yBrRFBqVTZ"
   },
   "source": [
    "**make classification using WORSE one feature**"
   ]
  },
  {
   "cell_type": "code",
   "execution_count": 53,
   "metadata": {
    "colab": {
     "base_uri": "https://localhost:8080/"
    },
    "executionInfo": {
     "elapsed": 1046,
     "status": "ok",
     "timestamp": 1732717019227,
     "user": {
      "displayName": "Clash Clans",
      "userId": "00562530571182710236"
     },
     "user_tz": -330
    },
    "id": "QOTtGvHVLHhW",
    "outputId": "7a448f89-6098-4af3-fbd6-ecc879ff9e7f"
   },
   "outputs": [
    {
     "name": "stdout",
     "output_type": "stream",
     "text": [
      "Training accuracy: 0.58\n",
      "Test accuracy: 0.6\n"
     ]
    }
   ],
   "source": [
    "from sklearn.linear_model import LogisticRegression                             # load classifier module - LogisticRegression - on WORSE one feature\n",
    "\n",
    "lClf=LogisticRegression()                                                       # make model (object)\n",
    "lClf.fit(Xtrain[['sepal width (cm)']],ytrain)                                   # make model train\n",
    "print('Training accuracy:',lClf.score(Xtrain[['sepal width (cm)']],ytrain))     # calculate training accuracy\n",
    "print('Test accuracy:',lClf.score(Xtest[['sepal width (cm)']],ytest))           # calculate testing accuracy"
   ]
  },
  {
   "cell_type": "markdown",
   "metadata": {
    "id": "PYi2G-QNqaB2"
   },
   "source": [
    "**make classification using BEST two feature**"
   ]
  },
  {
   "cell_type": "code",
   "execution_count": 55,
   "metadata": {
    "colab": {
     "base_uri": "https://localhost:8080/"
    },
    "executionInfo": {
     "elapsed": 569,
     "status": "ok",
     "timestamp": 1732717106011,
     "user": {
      "displayName": "Clash Clans",
      "userId": "00562530571182710236"
     },
     "user_tz": -330
    },
    "id": "d_K-iaf9MlzU",
    "outputId": "0ff9773f-b7f0-47d8-bce3-63ca4779cff9"
   },
   "outputs": [
    {
     "name": "stdout",
     "output_type": "stream",
     "text": [
      "Training accuracy: 0.96\n",
      "Test accuracy: 0.96\n"
     ]
    }
   ],
   "source": [
    "from sklearn.linear_model import LogisticRegression                             # load classifier module - LogisticRegression - on BEST two feature\n",
    "\n",
    "lClf=LogisticRegression()                                                       # make model (object)\n",
    "lClf.fit(Xtrain[['petal width (cm)','petal length (cm)']],ytrain)               # make model train\n",
    "print('Training accuracy:',lClf.score(Xtrain[['petal width (cm)','petal length (cm)']],ytrain))# calculate training accuracy\n",
    "print('Test accuracy:',lClf.score(Xtest[['petal width (cm)','petal length (cm)']],ytest))# calculate testing accuracy"
   ]
  },
  {
   "cell_type": "markdown",
   "metadata": {
    "id": "M62midSvqs6r"
   },
   "source": [
    "**make classification using WORSE two feature**"
   ]
  },
  {
   "cell_type": "code",
   "execution_count": 56,
   "metadata": {
    "colab": {
     "base_uri": "https://localhost:8080/"
    },
    "executionInfo": {
     "elapsed": 637,
     "status": "ok",
     "timestamp": 1732717107228,
     "user": {
      "displayName": "Clash Clans",
      "userId": "00562530571182710236"
     },
     "user_tz": -330
    },
    "id": "d0S7sKdXLHV8",
    "outputId": "d1f44836-084e-41f0-91e9-6530ec21a05d"
   },
   "outputs": [
    {
     "name": "stdout",
     "output_type": "stream",
     "text": [
      "Training accuracy: 0.78\n",
      "Test accuracy: 0.86\n"
     ]
    }
   ],
   "source": [
    "from sklearn.linear_model import LogisticRegression                             # load classifier module - LogisticRegression - on WORSE two feature\n",
    "\n",
    "lClf=LogisticRegression()                                                       # make model (object)\n",
    "lClf.fit(Xtrain[['sepal length (cm)','sepal width (cm)']],ytrain)               # make model train\n",
    "print('Training accuracy:',lClf.score(Xtrain[['sepal length (cm)','sepal width (cm)']],ytrain))# calculate training accuracy\n",
    "print('Test accuracy:',lClf.score(Xtest[['sepal length (cm)','sepal width (cm)']],ytest))# calculate testing accuracy"
   ]
  },
  {
   "cell_type": "markdown",
   "metadata": {
    "id": "2riSpEHxqy4Z"
   },
   "source": [
    "**make classification using BEST three feature**"
   ]
  },
  {
   "cell_type": "code",
   "execution_count": 57,
   "metadata": {
    "colab": {
     "base_uri": "https://localhost:8080/"
    },
    "executionInfo": {
     "elapsed": 454,
     "status": "ok",
     "timestamp": 1732717154613,
     "user": {
      "displayName": "Clash Clans",
      "userId": "00562530571182710236"
     },
     "user_tz": -330
    },
    "id": "cX5-tEBJDhZC",
    "outputId": "f1dc2dc4-c4dd-47ad-f08b-01b01b8577e5"
   },
   "outputs": [
    {
     "name": "stdout",
     "output_type": "stream",
     "text": [
      "Training accuracy: 0.96\n",
      "Test accuracy: 0.96\n"
     ]
    }
   ],
   "source": [
    "from sklearn.linear_model import LogisticRegression                             # load classifier module - LogisticRegression - on BEST three feature\n",
    "\n",
    "lClf=LogisticRegression()                                                       # make model (object)\n",
    "lClf.fit(Xtrain[['petal width (cm)','petal length (cm)','sepal length (cm)']],ytrain)# make model train\n",
    "print('Training accuracy:',lClf.score(Xtrain[['petal width (cm)','petal length (cm)','sepal length (cm)']],ytrain))# calculate training accuracy\n",
    "print('Test accuracy:',lClf.score(Xtest[['petal width (cm)','petal length (cm)','sepal length (cm)']],ytest))# calculate testing accuracy"
   ]
  },
  {
   "cell_type": "markdown",
   "metadata": {
    "id": "KpPWGXJ8q5DA"
   },
   "source": [
    "**make classification using all features**"
   ]
  },
  {
   "cell_type": "code",
   "execution_count": 58,
   "metadata": {
    "colab": {
     "base_uri": "https://localhost:8080/"
    },
    "executionInfo": {
     "elapsed": 429,
     "status": "ok",
     "timestamp": 1732717202762,
     "user": {
      "displayName": "Clash Clans",
      "userId": "00562530571182710236"
     },
     "user_tz": -330
    },
    "id": "C1ovOXb5DhO5",
    "outputId": "1de3ec48-3314-40bc-b089-39cc4025ab0e"
   },
   "outputs": [
    {
     "name": "stdout",
     "output_type": "stream",
     "text": [
      "Training accuracy: 0.96\n",
      "Test accuracy: 0.96\n"
     ]
    }
   ],
   "source": [
    "from sklearn.linear_model import LogisticRegression                             # load classifier module - LogisticRegression - on all feature\n",
    "\n",
    "lClf=LogisticRegression()                                                       # make model (object)\n",
    "lClf.fit(Xtrain,ytrain)                                                         # make model train\n",
    "print('Training accuracy:',lClf.score(Xtrain,ytrain))                           # calculate training accuracy\n",
    "print('Test accuracy:',lClf.score(Xtest,ytest))                                 # calculate testing accuracy"
   ]
  },
  {
   "cell_type": "markdown",
   "metadata": {
    "id": "N8Dz0rxA_o_C"
   },
   "source": [
    "### [Classification Report](https://scikit-learn.org/1.5/modules/generated/sklearn.metrics.classification_report.html) and [Confusion Matrix](https://scikit-learn.org/stable/modules/generated/sklearn.metrics.confusion_matrix.html)\n",
    "\n",
    "Source: [class sklearn.metrics.ConfusionMatrixDisplay](https://scikit-learn.org/stable/modules/generated/sklearn.metrics.ConfusionMatrixDisplay.html)\n",
    "\n",
    "- Classification Report: Build a text report showing the main classification metrics.\n",
    "- Confusion Matrix: Compute confusion matrix to evaluate the accuracy of a classification."
   ]
  },
  {
   "cell_type": "code",
   "execution_count": 63,
   "metadata": {
    "executionInfo": {
     "elapsed": 1524,
     "status": "ok",
     "timestamp": 1732718086980,
     "user": {
      "displayName": "Clash Clans",
      "userId": "00562530571182710236"
     },
     "user_tz": -330
    },
    "id": "e_bfZzPOCzCj"
   },
   "outputs": [],
   "source": [
    "ypredict=lClf.predict(Xtest)                                                    # make predictions"
   ]
  },
  {
   "cell_type": "code",
   "execution_count": 64,
   "metadata": {
    "colab": {
     "base_uri": "https://localhost:8080/"
    },
    "executionInfo": {
     "elapsed": 454,
     "status": "ok",
     "timestamp": 1732718089645,
     "user": {
      "displayName": "Clash Clans",
      "userId": "00562530571182710236"
     },
     "user_tz": -330
    },
    "id": "u_R9J7Dw_pdt",
    "outputId": "d5e1ad42-03c4-423a-b483-128aabcdd7ff"
   },
   "outputs": [
    {
     "name": "stdout",
     "output_type": "stream",
     "text": [
      "Classification report:\n",
      "               precision    recall  f1-score   support\n",
      "\n",
      "      setosa       1.00      1.00      1.00        17\n",
      "  versicolor       0.88      1.00      0.94        15\n",
      "   virginica       1.00      0.89      0.94        18\n",
      "\n",
      "    accuracy                           0.96        50\n",
      "   macro avg       0.96      0.96      0.96        50\n",
      "weighted avg       0.96      0.96      0.96        50\n",
      "\n"
     ]
    }
   ],
   "source": [
    "from sklearn.metrics import classification_report                               # load classification report function\n",
    "print('Classification report:\\n',classification_report(ytest,ypredict,target_names=iris.target_names))# make print classification report"
   ]
  },
  {
   "cell_type": "code",
   "execution_count": 65,
   "metadata": {
    "colab": {
     "base_uri": "https://localhost:8080/"
    },
    "executionInfo": {
     "elapsed": 17,
     "status": "ok",
     "timestamp": 1732718141051,
     "user": {
      "displayName": "Clash Clans",
      "userId": "00562530571182710236"
     },
     "user_tz": -330
    },
    "id": "OSBhzAhgCT2n",
    "outputId": "d2acea18-61a1-4802-bad0-71743d678570"
   },
   "outputs": [
    {
     "name": "stdout",
     "output_type": "stream",
     "text": [
      "Confusion Matrix:\n",
      " [[17  0  0]\n",
      " [ 0 15  0]\n",
      " [ 0  2 16]]\n"
     ]
    }
   ],
   "source": [
    "from sklearn.metrics import confusion_matrix                                    # load confusion matrix function\n",
    "print('Confusion Matrix:\\n',confusion_matrix(ytest,ypredict))                   # make print confusion matrix"
   ]
  },
  {
   "cell_type": "code",
   "execution_count": 69,
   "metadata": {
    "colab": {
     "base_uri": "https://localhost:8080/",
     "height": 449
    },
    "collapsed": true,
    "executionInfo": {
     "elapsed": 2137,
     "status": "ok",
     "timestamp": 1732718353351,
     "user": {
      "displayName": "Clash Clans",
      "userId": "00562530571182710236"
     },
     "user_tz": -330
    },
    "id": "4L6WhXUMDM9-",
    "outputId": "78b350ee-3290-4d93-bca1-344239a085da"
   },
   "outputs": [
    {
     "data": {
      "image/png": "[encoded data removed]",
      "text/plain": [
       "<Figure size 640x480 with 2 Axes>"
      ]
     },
     "metadata": {},
     "output_type": "display_data"
    }
   ],
   "source": [
    "from sklearn.metrics import ConfusionMatrixDisplay                              # load confusion Matrix visualization function\n",
    "cm_disp=ConfusionMatrixDisplay(confusion_matrix=confusion_matrix(ytest,ypredict),display_labels=iris.target_names)# make visualization object\n",
    "cm_disp.plot()                                                                  # make plot\n",
    "plt.show()                                                                      # make show plot"
   ]
  },
  {
   "cell_type": "code",
   "execution_count": 73,
   "metadata": {
    "colab": {
     "base_uri": "https://localhost:8080/",
     "height": 430
    },
    "collapsed": true,
    "executionInfo": {
     "elapsed": 619,
     "status": "ok",
     "timestamp": 1732718490454,
     "user": {
      "displayName": "Clash Clans",
      "userId": "00562530571182710236"
     },
     "user_tz": -330
    },
    "id": "hM3zxTv3D-9U",
    "outputId": "b10253ad-2097-4950-f960-859158c3a78d"
   },
   "outputs": [
    {
     "data": {
      "image/png": "[encoded data removed]",
      "text/plain": [
       "<Figure size 640x480 with 1 Axes>"
      ]
     },
     "metadata": {},
     "output_type": "display_data"
    }
   ],
   "source": [
    "# make plot \"Confusion Matrix\" using heatmap\n",
    "sns.heatmap(data=pd.DataFrame(confusion_matrix(ytest,ypredict),index=iris.target_names,columns=iris.target_names),annot=True,cbar=False)# make plot\n",
    "plt.show()                                                                      # make show plot"
   ]
  },
  {
   "cell_type": "markdown",
   "metadata": {
    "id": "Z2UJ76QYrJ0m"
   },
   "source": [
    "# References / Further reading\n",
    "\n",
    "* [Official python docs](https://docs.python.org/3/)\n",
    "* [Official python tutorials](https://docs.python.org/3/tutorial/index.html)\n",
    "* [Python Numpy Tutorial (with Jupyter and Colab) - Stanford - Spring 2022](https://cs231n.github.io/python-numpy-tutorial/)\n",
    "* [NumPy: the absolute basics for beginners](https://numpy.org/devdocs/user/absolute_beginners.html)\n",
    "* [10 minutes to pandas](https://pandas.pydata.org/pandas-docs/stable/user_guide/10min.html)\n",
    "* [Matplotlib - Tutorials](https://matplotlib.org/stable/tutorials/index)\n",
    "* [An introduction to seaborn](https://seaborn.pydata.org/tutorial/introduction.html)\n",
    "* [Underfitting vs. Overfitting](https://scikit-learn.org/stable/auto_examples/model_selection/plot_underfitting_overfitting.html)"
   ]
  }
 ],
 "metadata": {
  "colab": {
   "authorship_tag": "ABX9TyNKLqJq5l+18Qzv/NbxpOtp",
   "provenance": []
  },
  "kernelspec": {
   "display_name": "Python 3",
   "name": "python3"
  },
  "language_info": {
   "name": "python"
  }
 },
 "nbformat": 4,
 "nbformat_minor": 0
}
