{
 "cells": [
  {
   "cell_type": "code",
   "execution_count": null,
   "metadata": {
    "colab": {
     "base_uri": "https://localhost:8080/"
    },
    "executionInfo": {
     "elapsed": 1520,
     "status": "ok",
     "timestamp": 1669168192328,
     "user": {
      "displayName": "Clash Clans",
      "userId": "00562530571182710236"
     },
     "user_tz": -330
    },
    "id": "4X7_Mh6StoR1",
    "outputId": "dd4dff9d-3f84-4118-8962-a68a4a60d7bc"
   },
   "outputs": [
    {
     "name": "stdout",
     "output_type": "stream",
     "text": [
      "Python 3.7.15\n",
      "numpy version: 1.21.6\n",
      "pandas version:  1.3.5\n",
      "seaborn version: 0.11.2\n",
      "pyplot:  <module 'matplotlib.pyplot' from '/usr/local/lib/python3.7/dist-packages/matplotlib/pyplot.py'>\n"
     ]
    }
   ],
   "source": [
    "!python --version   # Python version\n",
    "\n",
    "# About python:  https://www.python.org/\n",
    "#                Python is powerful... and fast; plays well with others; runs everywhere; is friendly & easy to learn;\n",
    "#                is Open –> https://www.python.org/about/.\n",
    "#     Python docs: https://docs.python.org/3/ (all documentation);\n",
    "#                  https://docs.python.org/3.10/ (Recommended version – 3.10).\n",
    "# The Python Tutorial (python3.10): https://docs.python.org/3.10//tutorial/index.html\n",
    "\n",
    "# Load Modules ---\n",
    "import numpy as np, pandas as pd, matplotlib.pyplot as plt, seaborn as sns\n",
    "# NumPy : The fundamental package for scientific computing with Python. NumPy is the fundamental package for scientific\n",
    "#         computing in Python. It is a Python library that provides a multidimensional array object, various derived\n",
    "#         objects (such as masked arrays and matrices), and an assortment of routines for fast operations on arrays,\n",
    "#         including mathematical, logical, shape manipulation, sorting, selecting, I/O, discrete Fourier transforms,\n",
    "#         basic linear algebra, basic statistical operations, random simulation and much more.\n",
    "#     About: https://numpy.org/\n",
    "#     Docs: https://numpy.org/doc/stable/\n",
    "#     NumPy quickstart: https://numpy.org/doc/stable/user/quickstart.html\n",
    "\n",
    "# Pandas: pandas is a fast, powerful, flexible and easy to use open source data analysis and manipulation tool,\n",
    "#         built on top of the Python programming language.\n",
    "#     About: https://pandas.pydata.org/\n",
    "#     Docs: https://pandas.pydata.org/docs/\n",
    "#     Getting started: https://pandas.pydata.org/docs/getting_started/index.html\n",
    "#     User Guide: https://pandas.pydata.org/docs/user_guide/index.html#user-guide\n",
    "\n",
    "# Matplotlib : Matplotlib is a comprehensive library for creating static, animated, and interactive visualizations.\n",
    "#       About: https://matplotlib.org/\n",
    "#       Using Matplotlib (user guide): https://matplotlib.org/stable/users/index\n",
    "#       Plot types: https://matplotlib.org/stable/plot_types/index\n",
    "#       Tutorials: https://matplotlib.org/stable/tutorials/index\n",
    "#       Examples: https://matplotlib.org/stable/gallery/index\n",
    "#       API Reference: https://matplotlib.org/stable/api/index\n",
    "\n",
    "# Seaborn: Seaborn is a Python data visualization library based on matplotlib. It provides a\n",
    "#          high-level interface for drawing attractive and informative statistical graphics.\n",
    "#   About: https://seaborn.pydata.org/\n",
    "\n",
    "print('numpy version:',np.__version__)\n",
    "print('pandas version: ',pd.__version__)\n",
    "print('seaborn version:',sns.__version__)\n",
    "print('pyplot: ',plt)"
   ]
  },
  {
   "cell_type": "markdown",
   "metadata": {
    "id": "mMIS4L4ouDTk"
   },
   "source": [
    "# [Linear Regression](https://scikit-learn.org/stable/modules/linear_model.html) - [Ordinary Least Squares (OLS) Method](https://scikit-learn.org/stable/modules/linear_model.html#ordinary-least-squares)\n",
    "\n",
    "Equation of line -\n",
    "`y = mx + c`"
   ]
  },
  {
   "cell_type": "markdown",
   "metadata": {
    "id": "vxYcMbEt1kdh"
   },
   "source": [
    "![mass-luminosity.gif](https://www.astronomynotes.com/starprop/mass-luminosity.gif)\n",
    "\n",
    "Source: https://www.astronomynotes.com/starsun/s8.htm"
   ]
  },
  {
   "cell_type": "markdown",
   "metadata": {
    "id": "KqauM_DADjpm"
   },
   "source": [
    "## On Sample Data"
   ]
  },
  {
   "cell_type": "markdown",
   "metadata": {
    "id": "kanqnZm3dura"
   },
   "source": [
    "### Generate and Plot Data"
   ]
  },
  {
   "cell_type": "code",
   "execution_count": null,
   "metadata": {
    "id": "-5X5b-51vbPs"
   },
   "outputs": [],
   "source": [
    "# generate random values between 0 and 1\n",
    "X=np.random.uniform(low=0,high=1,size=50)\n",
    "X.sort()                              # sort array (update orignal array)\n",
    "# random slope (m) and intercept (c)\n",
    "m,c=np.tan(np.deg2rad(45)),np.random.randn()# generate random number from \"standard normal\" distribution\n",
    "# same as np.random.noraml(loc=0,scale=1) or np.random.randn()\n",
    "# calculate y (outputs)\n",
    "y=m*X+c\n",
    "# add noise to data (random noise)\n",
    "y_noisy=y+np.random.normal(loc=0,scale=0.025,size=y.size)"
   ]
  },
  {
   "cell_type": "code",
   "execution_count": null,
   "metadata": {
    "colab": {
     "base_uri": "https://localhost:8080/",
     "height": 295
    },
    "executionInfo": {
     "elapsed": 957,
     "status": "ok",
     "timestamp": 1668570730443,
     "user": {
      "displayName": "Clash Clans",
      "userId": "00562530571182710236"
     },
     "user_tz": -330
    },
    "id": "cAtA6Ab2yFo6",
    "outputId": "f081d8f6-9c2c-48ef-f1db-de8e42d247a4"
   },
   "outputs": [
    {
     "data": {
      "image/png": "[encoded data removed]",
      "text/plain": [
       "<Figure size 432x288 with 1 Axes>"
      ]
     },
     "metadata": {
      "needs_background": "light"
     },
     "output_type": "display_data"
    }
   ],
   "source": [
    "# plot randomly generated linear data\n",
    "plt.plot(X,y,color='r',alpha=0.1,label='true function')\n",
    "plt.scatter(X,y_noisy,color='g',marker='*',label='data')\n",
    "plt.grid(),plt.xlabel('x-axis'),plt.ylabel('y-axis'),plt.title('random linear data')\n",
    "plt.legend()                          # show labels\n",
    "plt.show()                            # make show plot"
   ]
  },
  {
   "cell_type": "markdown",
   "metadata": {
    "id": "Sj49eLnl33Dq"
   },
   "source": [
    "### Make model - **[Linear Regression](https://scikit-learn.org/stable/modules/generated/sklearn.linear_model.LinearRegression.html)** model"
   ]
  },
  {
   "cell_type": "code",
   "execution_count": null,
   "metadata": {
    "colab": {
     "base_uri": "https://localhost:8080/"
    },
    "executionInfo": {
     "elapsed": 26,
     "status": "ok",
     "timestamp": 1668570730444,
     "user": {
      "displayName": "Clash Clans",
      "userId": "00562530571182710236"
     },
     "user_tz": -330
    },
    "id": "GdcbT1eWzOQd",
    "outputId": "fb2207e2-5556-4dd6-fe7d-3a590b1d414f"
   },
   "outputs": [
    {
     "name": "stdout",
     "output_type": "stream",
     "text": [
      "Coefficient (slope):  calculated: [1.01459624] ; orginal: 0.9999999999999999\n",
      "Intercept (c):  calculated: -0.6763575832609742 ; orginal: -0.6695362136714448\n"
     ]
    }
   ],
   "source": [
    "# load model - Linear Regression # https://scikit-learn.org/stable/modules/generated/sklearn.linear_model.LinearRegression.html\n",
    "from sklearn.linear_model import LinearRegression# linear regression class\n",
    "\n",
    "# built model (make object)\n",
    "lReg=LinearRegression()\n",
    "# train model (means predict slope and intecept optimum value)\n",
    "lReg.fit(X.reshape(-1,1),y_noisy)# minimize SSE (sum square error) to get coefficient (slope) and intecept optimum value)\n",
    "# see calculated value of coefficient of X\n",
    "print('Coefficient (slope):  calculated:',lReg.coef_,'; orginal:',m)\n",
    "print('Intercept (c):  calculated:',lReg.intercept_,'; orginal:',c)"
   ]
  },
  {
   "cell_type": "markdown",
   "metadata": {
    "id": "-6FujKDAd2rV"
   },
   "source": [
    "### Evaluate Model"
   ]
  },
  {
   "cell_type": "code",
   "execution_count": null,
   "metadata": {
    "colab": {
     "base_uri": "https://localhost:8080/",
     "height": 206
    },
    "executionInfo": {
     "elapsed": 25,
     "status": "ok",
     "timestamp": 1668570730445,
     "user": {
      "displayName": "Clash Clans",
      "userId": "00562530571182710236"
     },
     "user_tz": -330
    },
    "id": "m5rX60bw4JOW",
    "outputId": "b4416918-ed8d-48fd-9d8b-e7b67fef0b09"
   },
   "outputs": [
    {
     "data": {
      "text/html": [
       "\n",
       "  <div id=\"df-64e8229a-32d8-4e87-9f46-e19b68447c98\">\n",
       "    <div class=\"colab-df-container\">\n",
       "      <div>\n",
       "<style scoped>\n",
       "    .dataframe tbody tr th:only-of-type {\n",
       "        vertical-align: middle;\n",
       "    }\n",
       "\n",
       "    .dataframe tbody tr th {\n",
       "        vertical-align: top;\n",
       "    }\n",
       "\n",
       "    .dataframe thead th {\n",
       "        text-align: right;\n",
       "    }\n",
       "</style>\n",
       "<table border=\"1\" class=\"dataframe\">\n",
       "  <thead>\n",
       "    <tr style=\"text-align: right;\">\n",
       "      <th></th>\n",
       "      <th>y-true</th>\n",
       "      <th>y-noisy</th>\n",
       "      <th>y-predicted</th>\n",
       "      <th>difference</th>\n",
       "    </tr>\n",
       "  </thead>\n",
       "  <tbody>\n",
       "    <tr>\n",
       "      <th>0</th>\n",
       "      <td>-0.660501</td>\n",
       "      <td>-0.711590</td>\n",
       "      <td>-0.667190</td>\n",
       "      <td>-0.044400</td>\n",
       "    </tr>\n",
       "    <tr>\n",
       "      <th>1</th>\n",
       "      <td>-0.645154</td>\n",
       "      <td>-0.651854</td>\n",
       "      <td>-0.651619</td>\n",
       "      <td>-0.000235</td>\n",
       "    </tr>\n",
       "    <tr>\n",
       "      <th>2</th>\n",
       "      <td>-0.639484</td>\n",
       "      <td>-0.647452</td>\n",
       "      <td>-0.645867</td>\n",
       "      <td>-0.001585</td>\n",
       "    </tr>\n",
       "    <tr>\n",
       "      <th>3</th>\n",
       "      <td>-0.631913</td>\n",
       "      <td>-0.647151</td>\n",
       "      <td>-0.638185</td>\n",
       "      <td>-0.008966</td>\n",
       "    </tr>\n",
       "    <tr>\n",
       "      <th>4</th>\n",
       "      <td>-0.629886</td>\n",
       "      <td>-0.600904</td>\n",
       "      <td>-0.636129</td>\n",
       "      <td>0.035225</td>\n",
       "    </tr>\n",
       "  </tbody>\n",
       "</table>\n",
       "</div>\n",
       "      <button class=\"colab-df-convert\" onclick=\"convertToInteractive('df-64e8229a-32d8-4e87-9f46-e19b68447c98')\"\n",
       "              title=\"Convert this dataframe to an interactive table.\"\n",
       "              style=\"display:none;\">\n",
       "        \n",
       "  <svg xmlns=\"http://www.w3.org/2000/svg\" height=\"24px\"viewBox=\"0 0 24 24\"\n",
       "       width=\"24px\">\n",
       "    <path d=\"M0 0h24v24H0V0z\" fill=\"none\"/>\n",
       "    <path d=\"M18.56 5.44l.94 2.06.94-2.06 2.06-.94-2.06-.94-.94-2.06-.94 2.06-2.06.94zm-11 1L8.5 8.5l.94-2.06 2.06-.94-2.06-.94L8.5 2.5l-.94 2.06-2.06.94zm10 10l.94 2.06.94-2.06 2.06-.94-2.06-.94-.94-2.06-.94 2.06-2.06.94z\"/><path d=\"M17.41 7.96l-1.37-1.37c-.4-.4-.92-.59-1.43-.59-.52 0-1.04.2-1.43.59L10.3 9.45l-7.72 7.72c-.78.78-.78 2.05 0 2.83L4 21.41c.39.39.9.59 1.41.59.51 0 1.02-.2 1.41-.59l7.78-7.78 2.81-2.81c.8-.78.8-2.07 0-2.86zM5.41 20L4 18.59l7.72-7.72 1.47 1.35L5.41 20z\"/>\n",
       "  </svg>\n",
       "      </button>\n",
       "      \n",
       "  <style>\n",
       "    .colab-df-container {\n",
       "      display:flex;\n",
       "      flex-wrap:wrap;\n",
       "      gap: 12px;\n",
       "    }\n",
       "\n",
       "    .colab-df-convert {\n",
       "      background-color: #E8F0FE;\n",
       "      border: none;\n",
       "      border-radius: 50%;\n",
       "      cursor: pointer;\n",
       "      display: none;\n",
       "      fill: #1967D2;\n",
       "      height: 32px;\n",
       "      padding: 0 0 0 0;\n",
       "      width: 32px;\n",
       "    }\n",
       "\n",
       "    .colab-df-convert:hover {\n",
       "      background-color: #E2EBFA;\n",
       "      box-shadow: 0px 1px 2px rgba(60, 64, 67, 0.3), 0px 1px 3px 1px rgba(60, 64, 67, 0.15);\n",
       "      fill: #174EA6;\n",
       "    }\n",
       "\n",
       "    [theme=dark] .colab-df-convert {\n",
       "      background-color: #3B4455;\n",
       "      fill: #D2E3FC;\n",
       "    }\n",
       "\n",
       "    [theme=dark] .colab-df-convert:hover {\n",
       "      background-color: #434B5C;\n",
       "      box-shadow: 0px 1px 3px 1px rgba(0, 0, 0, 0.15);\n",
       "      filter: drop-shadow(0px 1px 2px rgba(0, 0, 0, 0.3));\n",
       "      fill: #FFFFFF;\n",
       "    }\n",
       "  </style>\n",
       "\n",
       "      <script>\n",
       "        const buttonEl =\n",
       "          document.querySelector('#df-64e8229a-32d8-4e87-9f46-e19b68447c98 button.colab-df-convert');\n",
       "        buttonEl.style.display =\n",
       "          google.colab.kernel.accessAllowed ? 'block' : 'none';\n",
       "\n",
       "        async function convertToInteractive(key) {\n",
       "          const element = document.querySelector('#df-64e8229a-32d8-4e87-9f46-e19b68447c98');\n",
       "          const dataTable =\n",
       "            await google.colab.kernel.invokeFunction('convertToInteractive',\n",
       "                                                     [key], {});\n",
       "          if (!dataTable) return;\n",
       "\n",
       "          const docLinkHtml = 'Like what you see? Visit the ' +\n",
       "            '<a target=\"_blank\" href=https://colab.research.google.com/notebooks/data_table.ipynb>data table notebook</a>'\n",
       "            + ' to learn more about interactive tables.';\n",
       "          element.innerHTML = '';\n",
       "          dataTable['output_type'] = 'display_data';\n",
       "          await google.colab.output.renderOutput(dataTable, element);\n",
       "          const docLink = document.createElement('div');\n",
       "          docLink.innerHTML = docLinkHtml;\n",
       "          element.appendChild(docLink);\n",
       "        }\n",
       "      </script>\n",
       "    </div>\n",
       "  </div>\n",
       "  "
      ],
      "text/plain": [
       "     y-true   y-noisy  y-predicted  difference\n",
       "0 -0.660501 -0.711590    -0.667190   -0.044400\n",
       "1 -0.645154 -0.651854    -0.651619   -0.000235\n",
       "2 -0.639484 -0.647452    -0.645867   -0.001585\n",
       "3 -0.631913 -0.647151    -0.638185   -0.008966\n",
       "4 -0.629886 -0.600904    -0.636129    0.035225"
      ]
     },
     "execution_count": 20,
     "metadata": {},
     "output_type": "execute_result"
    }
   ],
   "source": [
    "# predict value of outputs \"y\"\n",
    "y_predict=lReg.predict(X.reshape(-1,1))\n",
    "# store results as pandas dataframe\n",
    "results=pd.DataFrame(data={'y-true':y,'y-noisy':y_noisy,'y-predicted':y_predict})\n",
    "# add difference\n",
    "results['difference']=results['y-noisy']-results['y-predicted']\n",
    "# see head\n",
    "results.head()"
   ]
  },
  {
   "cell_type": "code",
   "execution_count": null,
   "metadata": {
    "colab": {
     "base_uri": "https://localhost:8080/",
     "height": 206
    },
    "executionInfo": {
     "elapsed": 25,
     "status": "ok",
     "timestamp": 1668570730446,
     "user": {
      "displayName": "Clash Clans",
      "userId": "00562530571182710236"
     },
     "user_tz": -330
    },
    "id": "CWPO2j286dnN",
    "outputId": "d4d418b0-6013-43f3-86b2-716ca6cffc21"
   },
   "outputs": [
    {
     "data": {
      "text/html": [
       "\n",
       "  <div id=\"df-ca3dde18-3710-42f8-ac28-0a768fb3e59e\">\n",
       "    <div class=\"colab-df-container\">\n",
       "      <div>\n",
       "<style scoped>\n",
       "    .dataframe tbody tr th:only-of-type {\n",
       "        vertical-align: middle;\n",
       "    }\n",
       "\n",
       "    .dataframe tbody tr th {\n",
       "        vertical-align: top;\n",
       "    }\n",
       "\n",
       "    .dataframe thead th {\n",
       "        text-align: right;\n",
       "    }\n",
       "</style>\n",
       "<table border=\"1\" class=\"dataframe\">\n",
       "  <thead>\n",
       "    <tr style=\"text-align: right;\">\n",
       "      <th></th>\n",
       "      <th>y-true</th>\n",
       "      <th>y-noisy</th>\n",
       "      <th>y-predicted</th>\n",
       "      <th>difference</th>\n",
       "    </tr>\n",
       "  </thead>\n",
       "  <tbody>\n",
       "    <tr>\n",
       "      <th>45</th>\n",
       "      <td>0.234025</td>\n",
       "      <td>0.203583</td>\n",
       "      <td>0.240392</td>\n",
       "      <td>-0.036810</td>\n",
       "    </tr>\n",
       "    <tr>\n",
       "      <th>46</th>\n",
       "      <td>0.250105</td>\n",
       "      <td>0.258106</td>\n",
       "      <td>0.256707</td>\n",
       "      <td>0.001399</td>\n",
       "    </tr>\n",
       "    <tr>\n",
       "      <th>47</th>\n",
       "      <td>0.284322</td>\n",
       "      <td>0.344388</td>\n",
       "      <td>0.291424</td>\n",
       "      <td>0.052964</td>\n",
       "    </tr>\n",
       "    <tr>\n",
       "      <th>48</th>\n",
       "      <td>0.287639</td>\n",
       "      <td>0.325320</td>\n",
       "      <td>0.294789</td>\n",
       "      <td>0.030531</td>\n",
       "    </tr>\n",
       "    <tr>\n",
       "      <th>49</th>\n",
       "      <td>0.312720</td>\n",
       "      <td>0.315456</td>\n",
       "      <td>0.320236</td>\n",
       "      <td>-0.004781</td>\n",
       "    </tr>\n",
       "  </tbody>\n",
       "</table>\n",
       "</div>\n",
       "      <button class=\"colab-df-convert\" onclick=\"convertToInteractive('df-ca3dde18-3710-42f8-ac28-0a768fb3e59e')\"\n",
       "              title=\"Convert this dataframe to an interactive table.\"\n",
       "              style=\"display:none;\">\n",
       "        \n",
       "  <svg xmlns=\"http://www.w3.org/2000/svg\" height=\"24px\"viewBox=\"0 0 24 24\"\n",
       "       width=\"24px\">\n",
       "    <path d=\"M0 0h24v24H0V0z\" fill=\"none\"/>\n",
       "    <path d=\"M18.56 5.44l.94 2.06.94-2.06 2.06-.94-2.06-.94-.94-2.06-.94 2.06-2.06.94zm-11 1L8.5 8.5l.94-2.06 2.06-.94-2.06-.94L8.5 2.5l-.94 2.06-2.06.94zm10 10l.94 2.06.94-2.06 2.06-.94-2.06-.94-.94-2.06-.94 2.06-2.06.94z\"/><path d=\"M17.41 7.96l-1.37-1.37c-.4-.4-.92-.59-1.43-.59-.52 0-1.04.2-1.43.59L10.3 9.45l-7.72 7.72c-.78.78-.78 2.05 0 2.83L4 21.41c.39.39.9.59 1.41.59.51 0 1.02-.2 1.41-.59l7.78-7.78 2.81-2.81c.8-.78.8-2.07 0-2.86zM5.41 20L4 18.59l7.72-7.72 1.47 1.35L5.41 20z\"/>\n",
       "  </svg>\n",
       "      </button>\n",
       "      \n",
       "  <style>\n",
       "    .colab-df-container {\n",
       "      display:flex;\n",
       "      flex-wrap:wrap;\n",
       "      gap: 12px;\n",
       "    }\n",
       "\n",
       "    .colab-df-convert {\n",
       "      background-color: #E8F0FE;\n",
       "      border: none;\n",
       "      border-radius: 50%;\n",
       "      cursor: pointer;\n",
       "      display: none;\n",
       "      fill: #1967D2;\n",
       "      height: 32px;\n",
       "      padding: 0 0 0 0;\n",
       "      width: 32px;\n",
       "    }\n",
       "\n",
       "    .colab-df-convert:hover {\n",
       "      background-color: #E2EBFA;\n",
       "      box-shadow: 0px 1px 2px rgba(60, 64, 67, 0.3), 0px 1px 3px 1px rgba(60, 64, 67, 0.15);\n",
       "      fill: #174EA6;\n",
       "    }\n",
       "\n",
       "    [theme=dark] .colab-df-convert {\n",
       "      background-color: #3B4455;\n",
       "      fill: #D2E3FC;\n",
       "    }\n",
       "\n",
       "    [theme=dark] .colab-df-convert:hover {\n",
       "      background-color: #434B5C;\n",
       "      box-shadow: 0px 1px 3px 1px rgba(0, 0, 0, 0.15);\n",
       "      filter: drop-shadow(0px 1px 2px rgba(0, 0, 0, 0.3));\n",
       "      fill: #FFFFFF;\n",
       "    }\n",
       "  </style>\n",
       "\n",
       "      <script>\n",
       "        const buttonEl =\n",
       "          document.querySelector('#df-ca3dde18-3710-42f8-ac28-0a768fb3e59e button.colab-df-convert');\n",
       "        buttonEl.style.display =\n",
       "          google.colab.kernel.accessAllowed ? 'block' : 'none';\n",
       "\n",
       "        async function convertToInteractive(key) {\n",
       "          const element = document.querySelector('#df-ca3dde18-3710-42f8-ac28-0a768fb3e59e');\n",
       "          const dataTable =\n",
       "            await google.colab.kernel.invokeFunction('convertToInteractive',\n",
       "                                                     [key], {});\n",
       "          if (!dataTable) return;\n",
       "\n",
       "          const docLinkHtml = 'Like what you see? Visit the ' +\n",
       "            '<a target=\"_blank\" href=https://colab.research.google.com/notebooks/data_table.ipynb>data table notebook</a>'\n",
       "            + ' to learn more about interactive tables.';\n",
       "          element.innerHTML = '';\n",
       "          dataTable['output_type'] = 'display_data';\n",
       "          await google.colab.output.renderOutput(dataTable, element);\n",
       "          const docLink = document.createElement('div');\n",
       "          docLink.innerHTML = docLinkHtml;\n",
       "          element.appendChild(docLink);\n",
       "        }\n",
       "      </script>\n",
       "    </div>\n",
       "  </div>\n",
       "  "
      ],
      "text/plain": [
       "      y-true   y-noisy  y-predicted  difference\n",
       "45  0.234025  0.203583     0.240392   -0.036810\n",
       "46  0.250105  0.258106     0.256707    0.001399\n",
       "47  0.284322  0.344388     0.291424    0.052964\n",
       "48  0.287639  0.325320     0.294789    0.030531\n",
       "49  0.312720  0.315456     0.320236   -0.004781"
      ]
     },
     "execution_count": 21,
     "metadata": {},
     "output_type": "execute_result"
    }
   ],
   "source": [
    "# see tail\n",
    "results.tail()"
   ]
  },
  {
   "cell_type": "markdown",
   "metadata": {
    "id": "lO4-EG6Xd8H0"
   },
   "source": [
    "### Plot Results"
   ]
  },
  {
   "cell_type": "code",
   "execution_count": null,
   "metadata": {
    "colab": {
     "base_uri": "https://localhost:8080/"
    },
    "executionInfo": {
     "elapsed": 24,
     "status": "ok",
     "timestamp": 1668570730447,
     "user": {
      "displayName": "Clash Clans",
      "userId": "00562530571182710236"
     },
     "user_tz": -330
    },
    "id": "v6H_DjymAdnt",
    "outputId": "b194b43f-cbbb-49cc-a35f-e8fdfd713508"
   },
   "outputs": [
    {
     "name": "stdout",
     "output_type": "stream",
     "text": [
      "MAE: 1.1619810345478556\n",
      "MSE: 0.0446999420605844\n",
      "Model score: 0.9922369750817004\n"
     ]
    }
   ],
   "source": [
    "# add mean squared error (MSE) - sigma((y_true-y_predicted)^2)/total_points\n",
    "# Mean squared error (MSE) Source: https://en.wikipedia.org/wiki/Mean_squared_error\n",
    "mse=np.mean(np.sum(np.square(results['y-noisy']-results['y-predicted'])))\n",
    "# add mean absolute error (MAE) - sigma(|y_true-y_predicted|)/total_points\n",
    "# Mean absolute error (MEA) source: https://en.wikipedia.org/wiki/Mean_absolute_error\n",
    "mae=np.mean(np.sum(np.abs(results['y-noisy']-results['y-predicted'])))\n",
    "# see error\n",
    "print('MAE:',mae)\n",
    "print('MSE:',mse)\n",
    "# calculate R2 score (1-SSE/SST)\n",
    "print('Model score:',lReg.score(X.reshape(-1,1),y_noisy))"
   ]
  },
  {
   "cell_type": "code",
   "execution_count": null,
   "metadata": {
    "colab": {
     "base_uri": "https://localhost:8080/",
     "height": 295
    },
    "executionInfo": {
     "elapsed": 23,
     "status": "ok",
     "timestamp": 1668570730448,
     "user": {
      "displayName": "Clash Clans",
      "userId": "00562530571182710236"
     },
     "user_tz": -330
    },
    "id": "K7UIZ185Ck7o",
    "outputId": "5619a71e-1d93-49b1-92f3-3a870a4e1c05"
   },
   "outputs": [
    {
     "data": {
      "image/png": "[encoded data removed]",
      "text/plain": [
       "<Figure size 432x288 with 1 Axes>"
      ]
     },
     "metadata": {
      "needs_background": "light"
     },
     "output_type": "display_data"
    }
   ],
   "source": [
    "# plot randomly generated linear data\n",
    "plt.plot(X,y,color='r',alpha=0.4,label='true function')\n",
    "plt.plot(X,y_predict,color='b',alpha=0.4,marker='.',label='prediction function')\n",
    "plt.scatter(X,y_noisy,color='g',marker='*',label='data')\n",
    "plt.grid(),plt.xlabel('x-axis'),plt.ylabel('y-axis'),plt.title('random linear data')\n",
    "plt.legend()                          # show labels\n",
    "plt.show()                            # make show plot"
   ]
  },
  {
   "cell_type": "markdown",
   "metadata": {
    "id": "MpQ2KpD9ktOQ"
   },
   "source": [
    "## On sample dataset (Salary-Prediciton-based-on-Years-of-Experience)"
   ]
  },
  {
   "cell_type": "code",
   "execution_count": null,
   "metadata": {
    "id": "7p3iCC56pwt4"
   },
   "outputs": [],
   "source": [
    "# Source: https://drive.google.com/file/d/1m7jitaPwGHIjiuyayWiiGJgHRaZd3mIn/view?usp=drive_link\n",
    "!gdown \"1m7jitaPwGHIjiuyayWiiGJgHRaZd3mIn\""
   ]
  },
  {
   "cell_type": "code",
   "execution_count": null,
   "metadata": {
    "id": "tkpFujuVpZvy"
   },
   "outputs": [],
   "source": [
    "data=pd.read_csv('salary_data.csv',sep=',')                                     # load data\n",
    "data.head()                                                                     # head of data"
   ]
  },
  {
   "cell_type": "code",
   "execution_count": null,
   "metadata": {
    "id": "HYQLsEeknHMT"
   },
   "outputs": [],
   "source": [
    "# see shape of data\n",
    "data.shape"
   ]
  },
  {
   "cell_type": "code",
   "execution_count": null,
   "metadata": {
    "colab": {
     "base_uri": "https://localhost:8080/"
    },
    "executionInfo": {
     "elapsed": 501,
     "status": "ok",
     "timestamp": 1666172621778,
     "user": {
      "displayName": "Clash Clans",
      "userId": "00562530571182710236"
     },
     "user_tz": -330
    },
    "id": "Le2pWN3An-SO",
    "outputId": "fe18687c-c06d-4ccd-9850-f573463b9167"
   },
   "outputs": [
    {
     "data": {
      "text/plain": [
       "Index(['YearsExperience', 'Salary'], dtype='object')"
      ]
     },
     "execution_count": 51,
     "metadata": {},
     "output_type": "execute_result"
    }
   ],
   "source": [
    "# see column names\n",
    "data.columns"
   ]
  },
  {
   "cell_type": "code",
   "execution_count": null,
   "metadata": {
    "id": "dwxDL25knMCc"
   },
   "outputs": [],
   "source": [
    "# see data info\n",
    "data.info()"
   ]
  },
  {
   "cell_type": "code",
   "execution_count": null,
   "metadata": {
    "id": "_SRSjVslnS_t"
   },
   "outputs": [],
   "source": [
    "# see null value counts (numerical)\n",
    "data.isna().sum()"
   ]
  },
  {
   "cell_type": "code",
   "execution_count": null,
   "metadata": {
    "id": "xliFxuuOnQmP"
   },
   "outputs": [],
   "source": [
    "# plot data\n",
    "data.plot(x='YearsExperience',y='Salary',marker='.',color='r')#or\n",
    "#plt.plot(data['YearsExperience'],data['Salary'],marker='.',color='r')\n",
    "plt.grid(),plt.xlabel('Experience (Years)'),plt.ylabel('Salary')\n",
    "plt.title('Experience vs Salary')\n",
    "plt.show()"
   ]
  },
  {
   "cell_type": "code",
   "execution_count": null,
   "metadata": {
    "colab": {
     "base_uri": "https://localhost:8080/"
    },
    "executionInfo": {
     "elapsed": 513,
     "status": "ok",
     "timestamp": 1666173792345,
     "user": {
      "displayName": "Clash Clans",
      "userId": "00562530571182710236"
     },
     "user_tz": -330
    },
    "id": "5XhAHcBap_HC",
    "outputId": "b5c086d8-9886-48bb-ca03-4966a94b1977"
   },
   "outputs": [
    {
     "name": "stdout",
     "output_type": "stream",
     "text": [
      "Slope: [9449.96232146]\n",
      "Intercept: 25792.200198668696\n"
     ]
    }
   ],
   "source": [
    "# load model\n",
    "from sklearn.linear_model import LinearRegression\n",
    "\n",
    "# make model (object)\n",
    "lReg=LinearRegression()\n",
    "# equation -> y = m*x + c\n",
    "# y -> Salary, x -> YearsExperience, m -> slope (coef_), c -> intercept\n",
    "# Salary = m * YearsExperience + c\n",
    "# make model train (calaculate features) - find value of m and c\n",
    "lReg.fit(data['YearsExperience'].values.reshape(-1,1),data['Salary'])\n",
    "# print m and c\n",
    "print('Slope:',lReg.coef_)\n",
    "print('Intercept:',lReg.intercept_)"
   ]
  },
  {
   "cell_type": "code",
   "execution_count": null,
   "metadata": {
    "colab": {
     "base_uri": "https://localhost:8080/"
    },
    "executionInfo": {
     "elapsed": 922,
     "status": "ok",
     "timestamp": 1666175482129,
     "user": {
      "displayName": "Clash Clans",
      "userId": "00562530571182710236"
     },
     "user_tz": -330
    },
    "id": "iD8IeKy_s1t6",
    "outputId": "da954550-387c-43f3-b5ed-ee4a228ca4ad"
   },
   "outputs": [
    {
     "name": "stdout",
     "output_type": "stream",
     "text": [
      "All same: True\n"
     ]
    },
    {
     "data": {
      "text/html": [
       "\n",
       "  <div id=\"df-11708878-d08b-4e50-902c-24a7cbfa48be\">\n",
       "    <div class=\"colab-df-container\">\n",
       "      <div>\n",
       "<style scoped>\n",
       "    .dataframe tbody tr th:only-of-type {\n",
       "        vertical-align: middle;\n",
       "    }\n",
       "\n",
       "    .dataframe tbody tr th {\n",
       "        vertical-align: top;\n",
       "    }\n",
       "\n",
       "    .dataframe thead th {\n",
       "        text-align: right;\n",
       "    }\n",
       "</style>\n",
       "<table border=\"1\" class=\"dataframe\">\n",
       "  <thead>\n",
       "    <tr style=\"text-align: right;\">\n",
       "      <th></th>\n",
       "      <th>YearsExperience</th>\n",
       "      <th>Salary</th>\n",
       "      <th>predicted</th>\n",
       "    </tr>\n",
       "  </thead>\n",
       "  <tbody>\n",
       "    <tr>\n",
       "      <th>0</th>\n",
       "      <td>1.1</td>\n",
       "      <td>39343.0</td>\n",
       "      <td>36187.158752</td>\n",
       "    </tr>\n",
       "    <tr>\n",
       "      <th>1</th>\n",
       "      <td>1.3</td>\n",
       "      <td>46205.0</td>\n",
       "      <td>38077.151217</td>\n",
       "    </tr>\n",
       "    <tr>\n",
       "      <th>2</th>\n",
       "      <td>1.5</td>\n",
       "      <td>37731.0</td>\n",
       "      <td>39967.143681</td>\n",
       "    </tr>\n",
       "    <tr>\n",
       "      <th>3</th>\n",
       "      <td>2.0</td>\n",
       "      <td>43525.0</td>\n",
       "      <td>44692.124842</td>\n",
       "    </tr>\n",
       "    <tr>\n",
       "      <th>4</th>\n",
       "      <td>2.2</td>\n",
       "      <td>39891.0</td>\n",
       "      <td>46582.117306</td>\n",
       "    </tr>\n",
       "  </tbody>\n",
       "</table>\n",
       "</div>\n",
       "      <button class=\"colab-df-convert\" onclick=\"convertToInteractive('df-11708878-d08b-4e50-902c-24a7cbfa48be')\"\n",
       "              title=\"Convert this dataframe to an interactive table.\"\n",
       "              style=\"display:none;\">\n",
       "        \n",
       "  <svg xmlns=\"http://www.w3.org/2000/svg\" height=\"24px\"viewBox=\"0 0 24 24\"\n",
       "       width=\"24px\">\n",
       "    <path d=\"M0 0h24v24H0V0z\" fill=\"none\"/>\n",
       "    <path d=\"M18.56 5.44l.94 2.06.94-2.06 2.06-.94-2.06-.94-.94-2.06-.94 2.06-2.06.94zm-11 1L8.5 8.5l.94-2.06 2.06-.94-2.06-.94L8.5 2.5l-.94 2.06-2.06.94zm10 10l.94 2.06.94-2.06 2.06-.94-2.06-.94-.94-2.06-.94 2.06-2.06.94z\"/><path d=\"M17.41 7.96l-1.37-1.37c-.4-.4-.92-.59-1.43-.59-.52 0-1.04.2-1.43.59L10.3 9.45l-7.72 7.72c-.78.78-.78 2.05 0 2.83L4 21.41c.39.39.9.59 1.41.59.51 0 1.02-.2 1.41-.59l7.78-7.78 2.81-2.81c.8-.78.8-2.07 0-2.86zM5.41 20L4 18.59l7.72-7.72 1.47 1.35L5.41 20z\"/>\n",
       "  </svg>\n",
       "      </button>\n",
       "      \n",
       "  <style>\n",
       "    .colab-df-container {\n",
       "      display:flex;\n",
       "      flex-wrap:wrap;\n",
       "      gap: 12px;\n",
       "    }\n",
       "\n",
       "    .colab-df-convert {\n",
       "      background-color: #E8F0FE;\n",
       "      border: none;\n",
       "      border-radius: 50%;\n",
       "      cursor: pointer;\n",
       "      display: none;\n",
       "      fill: #1967D2;\n",
       "      height: 32px;\n",
       "      padding: 0 0 0 0;\n",
       "      width: 32px;\n",
       "    }\n",
       "\n",
       "    .colab-df-convert:hover {\n",
       "      background-color: #E2EBFA;\n",
       "      box-shadow: 0px 1px 2px rgba(60, 64, 67, 0.3), 0px 1px 3px 1px rgba(60, 64, 67, 0.15);\n",
       "      fill: #174EA6;\n",
       "    }\n",
       "\n",
       "    [theme=dark] .colab-df-convert {\n",
       "      background-color: #3B4455;\n",
       "      fill: #D2E3FC;\n",
       "    }\n",
       "\n",
       "    [theme=dark] .colab-df-convert:hover {\n",
       "      background-color: #434B5C;\n",
       "      box-shadow: 0px 1px 3px 1px rgba(0, 0, 0, 0.15);\n",
       "      filter: drop-shadow(0px 1px 2px rgba(0, 0, 0, 0.3));\n",
       "      fill: #FFFFFF;\n",
       "    }\n",
       "  </style>\n",
       "\n",
       "      <script>\n",
       "        const buttonEl =\n",
       "          document.querySelector('#df-11708878-d08b-4e50-902c-24a7cbfa48be button.colab-df-convert');\n",
       "        buttonEl.style.display =\n",
       "          google.colab.kernel.accessAllowed ? 'block' : 'none';\n",
       "\n",
       "        async function convertToInteractive(key) {\n",
       "          const element = document.querySelector('#df-11708878-d08b-4e50-902c-24a7cbfa48be');\n",
       "          const dataTable =\n",
       "            await google.colab.kernel.invokeFunction('convertToInteractive',\n",
       "                                                     [key], {});\n",
       "          if (!dataTable) return;\n",
       "\n",
       "          const docLinkHtml = 'Like what you see? Visit the ' +\n",
       "            '<a target=\"_blank\" href=https://colab.research.google.com/notebooks/data_table.ipynb>data table notebook</a>'\n",
       "            + ' to learn more about interactive tables.';\n",
       "          element.innerHTML = '';\n",
       "          dataTable['output_type'] = 'display_data';\n",
       "          await google.colab.output.renderOutput(dataTable, element);\n",
       "          const docLink = document.createElement('div');\n",
       "          docLink.innerHTML = docLinkHtml;\n",
       "          element.appendChild(docLink);\n",
       "        }\n",
       "      </script>\n",
       "    </div>\n",
       "  </div>\n",
       "  "
      ],
      "text/plain": [
       "   YearsExperience   Salary     predicted\n",
       "0              1.1  39343.0  36187.158752\n",
       "1              1.3  46205.0  38077.151217\n",
       "2              1.5  37731.0  39967.143681\n",
       "3              2.0  43525.0  44692.124842\n",
       "4              2.2  39891.0  46582.117306"
      ]
     },
     "execution_count": 102,
     "metadata": {},
     "output_type": "execute_result"
    }
   ],
   "source": [
    "# manually - Salary = m * YearsExperience + c\n",
    "y_predicted_manually=lReg.coef_*data['YearsExperience']+lReg.intercept_\n",
    "# by built-in function\n",
    "y_predicted=lReg.predict(data['YearsExperience'].values.reshape(-1,1))\n",
    "# compair both\n",
    "print('All same:',np.allclose(y_predicted_manually,y_predicted))\n",
    "# create new column for predicted values\n",
    "data['predicted']=y_predicted\n",
    "# see final results\n",
    "data.head()"
   ]
  },
  {
   "cell_type": "code",
   "execution_count": null,
   "metadata": {
    "id": "o52zxIGswM4n"
   },
   "outputs": [],
   "source": [
    "# see datil\n",
    "data.tail()"
   ]
  },
  {
   "cell_type": "code",
   "execution_count": null,
   "metadata": {
    "colab": {
     "base_uri": "https://localhost:8080/"
    },
    "executionInfo": {
     "elapsed": 675,
     "status": "ok",
     "timestamp": 1666175719411,
     "user": {
      "displayName": "Clash Clans",
      "userId": "00562530571182710236"
     },
     "user_tz": -330
    },
    "id": "OE33CA-kzeru",
    "outputId": "1c520ea5-4d42-415b-b986-ba2a291c1b1d"
   },
   "outputs": [
    {
     "name": "stdout",
     "output_type": "stream",
     "text": [
      "MAE: 4644.2012894435375\n",
      "MSE: 31270951.722280964\n"
     ]
    }
   ],
   "source": [
    "# calcualte error - MSE and MAE\n",
    "from sklearn.metrics import mean_absolute_error, mean_squared_error\n",
    "\n",
    "# print results\n",
    "print('MAE:',mean_absolute_error(data['Salary'],data['predicted']))\n",
    "# print results\n",
    "print('MSE:',mean_squared_error(data['Salary'],data['predicted']))"
   ]
  },
  {
   "cell_type": "code",
   "execution_count": null,
   "metadata": {
    "colab": {
     "base_uri": "https://localhost:8080/"
    },
    "executionInfo": {
     "elapsed": 1100,
     "status": "ok",
     "timestamp": 1666175575894,
     "user": {
      "displayName": "Clash Clans",
      "userId": "00562530571182710236"
     },
     "user_tz": -330
    },
    "id": "zg5I9p6vwMyE",
    "outputId": "2f1711e6-b537-4e81-a3ec-7567f0437679"
   },
   "outputs": [
    {
     "data": {
      "image/png": "[encoded data removed]",
      "text/plain": [
       "<Figure size 432x288 with 1 Axes>"
      ]
     },
     "metadata": {
      "needs_background": "light"
     },
     "output_type": "display_data"
    }
   ],
   "source": [
    "# plot data\n",
    "ax=data.plot.scatter(x='YearsExperience',y='Salary',marker='.',color='r')\n",
    "data.plot(x='YearsExperience',y='predicted',marker='.',color='g',ax=ax)\n",
    "plt.grid(),plt.xlabel('Experience (Years)'),plt.ylabel('Salary')\n",
    "plt.title('Experience vs Salary'),plt.legend(['Predicted','True Salary'])\n",
    "plt.show()"
   ]
  },
  {
   "cell_type": "markdown",
   "metadata": {
    "id": "HpVINUbvioKj"
   },
   "source": [
    "## [Toy Dataset](https://scikit-learn.org/stable/datasets/toy_dataset.html) - [Diabetes Dataset](https://scikit-learn.org/stable/datasets/toy_dataset.html#diabetes-dataset)\n",
    "\n",
    "Ten baseline variables, age, sex, body mass index, average blood pressure, and six blood serum measurements were obtained for each of n = 442 diabetes patients, as well as the response of interest, a quantitative measure of disease progression one year after baseline.\n",
    "\n"
   ]
  },
  {
   "cell_type": "markdown",
   "metadata": {
    "id": "iFbJgMjqKgWB"
   },
   "source": [
    "### load data"
   ]
  },
  {
   "cell_type": "code",
   "execution_count": null,
   "metadata": {
    "colab": {
     "base_uri": "https://localhost:8080/"
    },
    "executionInfo": {
     "elapsed": 6,
     "status": "ok",
     "timestamp": 1669168194716,
     "user": {
      "displayName": "Clash Clans",
      "userId": "00562530571182710236"
     },
     "user_tz": -330
    },
    "id": "MSdqpCCtinyl",
    "outputId": "91f7cb02-9312-438f-9d27-d044cc43a8c5"
   },
   "outputs": [
    {
     "name": "stdout",
     "output_type": "stream",
     "text": [
      ".. _diabetes_dataset:\n",
      "\n",
      "Diabetes dataset\n",
      "----------------\n",
      "\n",
      "Ten baseline variables, age, sex, body mass index, average blood\n",
      "pressure, and six blood serum measurements were obtained for each of n =\n",
      "442 diabetes patients, as well as the response of interest, a\n",
      "quantitative measure of disease progression one year after baseline.\n",
      "\n",
      "**Data Set Characteristics:**\n",
      "\n",
      "  :Number of Instances: 442\n",
      "\n",
      "  :Number of Attributes: First 10 columns are numeric predictive values\n",
      "\n",
      "  :Target: Column 11 is a quantitative measure of disease progression one year after baseline\n",
      "\n",
      "  :Attribute Information:\n",
      "      - age     age in years\n",
      "      - sex\n",
      "      - bmi     body mass index\n",
      "      - bp      average blood pressure\n",
      "      - s1      tc, total serum cholesterol\n",
      "      - s2      ldl, low-density lipoproteins\n",
      "      - s3      hdl, high-density lipoproteins\n",
      "      - s4      tch, total cholesterol / HDL\n",
      "      - s5      ltg, possibly log of serum triglycerides level\n",
      "      - s6      glu, blood sugar level\n",
      "\n",
      "Note: Each of these 10 feature variables have been mean centered and scaled by the standard deviation times `n_samples` (i.e. the sum of squares of each column totals 1).\n",
      "\n",
      "Source URL:\n",
      "https://www4.stat.ncsu.edu/~boos/var.select/diabetes.html\n",
      "\n",
      "For more information see:\n",
      "Bradley Efron, Trevor Hastie, Iain Johnstone and Robert Tibshirani (2004) \"Least Angle Regression,\" Annals of Statistics (with discussion), 407-499.\n",
      "(https://web.stanford.edu/~hastie/Papers/LARS/LeastAngle_2002.pdf)\n"
     ]
    }
   ],
   "source": [
    "# load dataset module\n",
    "from sklearn.datasets import load_diabetes\n",
    "\n",
    "# make load dataset (as bunch)\n",
    "diabetes_dataset=load_diabetes()\n",
    "\n",
    "# see info of dataset\n",
    "print(diabetes_dataset.DESCR)"
   ]
  },
  {
   "cell_type": "code",
   "execution_count": null,
   "metadata": {
    "colab": {
     "base_uri": "https://localhost:8080/"
    },
    "executionInfo": {
     "elapsed": 504,
     "status": "ok",
     "timestamp": 1669090975177,
     "user": {
      "displayName": "Clash Clans",
      "userId": "00562530571182710236"
     },
     "user_tz": -330
    },
    "id": "H9KUudvckBvV",
    "outputId": "fffdcf1e-f70a-4c84-f153-53dc65bcc7f5"
   },
   "outputs": [
    {
     "name": "stdout",
     "output_type": "stream",
     "text": [
      "Data shape (inputs): (442, 10)\n",
      "Column names: ['age', 'sex', 'bmi', 'bp', 's1', 's2', 's3', 's4', 's5', 's6']\n",
      "Target shape (outputs): (442,)\n",
      "Target range: max: 346.0 ; min: 25.0\n"
     ]
    }
   ],
   "source": [
    "# see data shape - inputs / X / independent variables\n",
    "print('Data shape (inputs):',diabetes_dataset.data.shape)# iris_dataset.data -> numpy.ndarray\n",
    "# shape -> 150 rows / sample / instances, 4 - columns / features / attributes\n",
    "# see feature (column) names\n",
    "print('Column names:',diabetes_dataset.feature_names)\n",
    "# see labels shape - outputs / y / dependent variables\n",
    "print('Target shape (outputs):',diabetes_dataset.target.shape)# iris_dataset.target -> numpy.ndarray\n",
    "# see labels names\n",
    "print('Target range: max:',max(diabetes_dataset.target),'; min:',\n",
    "      min(diabetes_dataset.target))"
   ]
  },
  {
   "cell_type": "markdown",
   "metadata": {
    "id": "LKzhTLYnKkZW"
   },
   "source": [
    "### Convert to pandas dataframe"
   ]
  },
  {
   "cell_type": "code",
   "execution_count": null,
   "metadata": {
    "colab": {
     "base_uri": "https://localhost:8080/",
     "height": 206
    },
    "executionInfo": {
     "elapsed": 9,
     "status": "ok",
     "timestamp": 1669168198503,
     "user": {
      "displayName": "Clash Clans",
      "userId": "00562530571182710236"
     },
     "user_tz": -330
    },
    "id": "R4Jl4_D_kEh3",
    "outputId": "4f7af2db-0508-4113-e8ae-44b506ae18d9"
   },
   "outputs": [
    {
     "data": {
      "text/html": [
       "\n",
       "  <div id=\"df-b784fd54-d6f1-4deb-8b1e-862240c9da6d\">\n",
       "    <div class=\"colab-df-container\">\n",
       "      <div>\n",
       "<style scoped>\n",
       "    .dataframe tbody tr th:only-of-type {\n",
       "        vertical-align: middle;\n",
       "    }\n",
       "\n",
       "    .dataframe tbody tr th {\n",
       "        vertical-align: top;\n",
       "    }\n",
       "\n",
       "    .dataframe thead th {\n",
       "        text-align: right;\n",
       "    }\n",
       "</style>\n",
       "<table border=\"1\" class=\"dataframe\">\n",
       "  <thead>\n",
       "    <tr style=\"text-align: right;\">\n",
       "      <th></th>\n",
       "      <th>age</th>\n",
       "      <th>sex</th>\n",
       "      <th>bmi</th>\n",
       "      <th>bp</th>\n",
       "      <th>s1</th>\n",
       "      <th>s2</th>\n",
       "      <th>s3</th>\n",
       "      <th>s4</th>\n",
       "      <th>s5</th>\n",
       "      <th>s6</th>\n",
       "      <th>target</th>\n",
       "    </tr>\n",
       "  </thead>\n",
       "  <tbody>\n",
       "    <tr>\n",
       "      <th>0</th>\n",
       "      <td>0.038076</td>\n",
       "      <td>0.050680</td>\n",
       "      <td>0.061696</td>\n",
       "      <td>0.021872</td>\n",
       "      <td>-0.044223</td>\n",
       "      <td>-0.034821</td>\n",
       "      <td>-0.043401</td>\n",
       "      <td>-0.002592</td>\n",
       "      <td>0.019908</td>\n",
       "      <td>-0.017646</td>\n",
       "      <td>151.0</td>\n",
       "    </tr>\n",
       "    <tr>\n",
       "      <th>1</th>\n",
       "      <td>-0.001882</td>\n",
       "      <td>-0.044642</td>\n",
       "      <td>-0.051474</td>\n",
       "      <td>-0.026328</td>\n",
       "      <td>-0.008449</td>\n",
       "      <td>-0.019163</td>\n",
       "      <td>0.074412</td>\n",
       "      <td>-0.039493</td>\n",
       "      <td>-0.068330</td>\n",
       "      <td>-0.092204</td>\n",
       "      <td>75.0</td>\n",
       "    </tr>\n",
       "    <tr>\n",
       "      <th>2</th>\n",
       "      <td>0.085299</td>\n",
       "      <td>0.050680</td>\n",
       "      <td>0.044451</td>\n",
       "      <td>-0.005671</td>\n",
       "      <td>-0.045599</td>\n",
       "      <td>-0.034194</td>\n",
       "      <td>-0.032356</td>\n",
       "      <td>-0.002592</td>\n",
       "      <td>0.002864</td>\n",
       "      <td>-0.025930</td>\n",
       "      <td>141.0</td>\n",
       "    </tr>\n",
       "    <tr>\n",
       "      <th>3</th>\n",
       "      <td>-0.089063</td>\n",
       "      <td>-0.044642</td>\n",
       "      <td>-0.011595</td>\n",
       "      <td>-0.036656</td>\n",
       "      <td>0.012191</td>\n",
       "      <td>0.024991</td>\n",
       "      <td>-0.036038</td>\n",
       "      <td>0.034309</td>\n",
       "      <td>0.022692</td>\n",
       "      <td>-0.009362</td>\n",
       "      <td>206.0</td>\n",
       "    </tr>\n",
       "    <tr>\n",
       "      <th>4</th>\n",
       "      <td>0.005383</td>\n",
       "      <td>-0.044642</td>\n",
       "      <td>-0.036385</td>\n",
       "      <td>0.021872</td>\n",
       "      <td>0.003935</td>\n",
       "      <td>0.015596</td>\n",
       "      <td>0.008142</td>\n",
       "      <td>-0.002592</td>\n",
       "      <td>-0.031991</td>\n",
       "      <td>-0.046641</td>\n",
       "      <td>135.0</td>\n",
       "    </tr>\n",
       "  </tbody>\n",
       "</table>\n",
       "</div>\n",
       "      <button class=\"colab-df-convert\" onclick=\"convertToInteractive('df-b784fd54-d6f1-4deb-8b1e-862240c9da6d')\"\n",
       "              title=\"Convert this dataframe to an interactive table.\"\n",
       "              style=\"display:none;\">\n",
       "        \n",
       "  <svg xmlns=\"http://www.w3.org/2000/svg\" height=\"24px\"viewBox=\"0 0 24 24\"\n",
       "       width=\"24px\">\n",
       "    <path d=\"M0 0h24v24H0V0z\" fill=\"none\"/>\n",
       "    <path d=\"M18.56 5.44l.94 2.06.94-2.06 2.06-.94-2.06-.94-.94-2.06-.94 2.06-2.06.94zm-11 1L8.5 8.5l.94-2.06 2.06-.94-2.06-.94L8.5 2.5l-.94 2.06-2.06.94zm10 10l.94 2.06.94-2.06 2.06-.94-2.06-.94-.94-2.06-.94 2.06-2.06.94z\"/><path d=\"M17.41 7.96l-1.37-1.37c-.4-.4-.92-.59-1.43-.59-.52 0-1.04.2-1.43.59L10.3 9.45l-7.72 7.72c-.78.78-.78 2.05 0 2.83L4 21.41c.39.39.9.59 1.41.59.51 0 1.02-.2 1.41-.59l7.78-7.78 2.81-2.81c.8-.78.8-2.07 0-2.86zM5.41 20L4 18.59l7.72-7.72 1.47 1.35L5.41 20z\"/>\n",
       "  </svg>\n",
       "      </button>\n",
       "      \n",
       "  <style>\n",
       "    .colab-df-container {\n",
       "      display:flex;\n",
       "      flex-wrap:wrap;\n",
       "      gap: 12px;\n",
       "    }\n",
       "\n",
       "    .colab-df-convert {\n",
       "      background-color: #E8F0FE;\n",
       "      border: none;\n",
       "      border-radius: 50%;\n",
       "      cursor: pointer;\n",
       "      display: none;\n",
       "      fill: #1967D2;\n",
       "      height: 32px;\n",
       "      padding: 0 0 0 0;\n",
       "      width: 32px;\n",
       "    }\n",
       "\n",
       "    .colab-df-convert:hover {\n",
       "      background-color: #E2EBFA;\n",
       "      box-shadow: 0px 1px 2px rgba(60, 64, 67, 0.3), 0px 1px 3px 1px rgba(60, 64, 67, 0.15);\n",
       "      fill: #174EA6;\n",
       "    }\n",
       "\n",
       "    [theme=dark] .colab-df-convert {\n",
       "      background-color: #3B4455;\n",
       "      fill: #D2E3FC;\n",
       "    }\n",
       "\n",
       "    [theme=dark] .colab-df-convert:hover {\n",
       "      background-color: #434B5C;\n",
       "      box-shadow: 0px 1px 3px 1px rgba(0, 0, 0, 0.15);\n",
       "      filter: drop-shadow(0px 1px 2px rgba(0, 0, 0, 0.3));\n",
       "      fill: #FFFFFF;\n",
       "    }\n",
       "  </style>\n",
       "\n",
       "      <script>\n",
       "        const buttonEl =\n",
       "          document.querySelector('#df-b784fd54-d6f1-4deb-8b1e-862240c9da6d button.colab-df-convert');\n",
       "        buttonEl.style.display =\n",
       "          google.colab.kernel.accessAllowed ? 'block' : 'none';\n",
       "\n",
       "        async function convertToInteractive(key) {\n",
       "          const element = document.querySelector('#df-b784fd54-d6f1-4deb-8b1e-862240c9da6d');\n",
       "          const dataTable =\n",
       "            await google.colab.kernel.invokeFunction('convertToInteractive',\n",
       "                                                     [key], {});\n",
       "          if (!dataTable) return;\n",
       "\n",
       "          const docLinkHtml = 'Like what you see? Visit the ' +\n",
       "            '<a target=\"_blank\" href=https://colab.research.google.com/notebooks/data_table.ipynb>data table notebook</a>'\n",
       "            + ' to learn more about interactive tables.';\n",
       "          element.innerHTML = '';\n",
       "          dataTable['output_type'] = 'display_data';\n",
       "          await google.colab.output.renderOutput(dataTable, element);\n",
       "          const docLink = document.createElement('div');\n",
       "          docLink.innerHTML = docLinkHtml;\n",
       "          element.appendChild(docLink);\n",
       "        }\n",
       "      </script>\n",
       "    </div>\n",
       "  </div>\n",
       "  "
      ],
      "text/plain": [
       "        age       sex       bmi        bp        s1        s2        s3  \\\n",
       "0  0.038076  0.050680  0.061696  0.021872 -0.044223 -0.034821 -0.043401   \n",
       "1 -0.001882 -0.044642 -0.051474 -0.026328 -0.008449 -0.019163  0.074412   \n",
       "2  0.085299  0.050680  0.044451 -0.005671 -0.045599 -0.034194 -0.032356   \n",
       "3 -0.089063 -0.044642 -0.011595 -0.036656  0.012191  0.024991 -0.036038   \n",
       "4  0.005383 -0.044642 -0.036385  0.021872  0.003935  0.015596  0.008142   \n",
       "\n",
       "         s4        s5        s6  target  \n",
       "0 -0.002592  0.019908 -0.017646   151.0  \n",
       "1 -0.039493 -0.068330 -0.092204    75.0  \n",
       "2 -0.002592  0.002864 -0.025930   141.0  \n",
       "3  0.034309  0.022692 -0.009362   206.0  \n",
       "4 -0.002592 -0.031991 -0.046641   135.0  "
      ]
     },
     "execution_count": 3,
     "metadata": {},
     "output_type": "execute_result"
    }
   ],
   "source": [
    "# convert dataframe to pandas\n",
    "diabetes_df=pd.DataFrame(data=diabetes_dataset.data,columns=diabetes_dataset.feature_names)\n",
    "# add target values\n",
    "diabetes_df['target']=diabetes_dataset.target\n",
    "# see head\n",
    "diabetes_df.head()"
   ]
  },
  {
   "cell_type": "code",
   "execution_count": null,
   "metadata": {
    "colab": {
     "base_uri": "https://localhost:8080/",
     "height": 206
    },
    "executionInfo": {
     "elapsed": 781,
     "status": "ok",
     "timestamp": 1669168224831,
     "user": {
      "displayName": "Clash Clans",
      "userId": "00562530571182710236"
     },
     "user_tz": -330
    },
    "id": "FI2Z7VWvLZFL",
    "outputId": "6f977fab-b995-409a-ba51-33d79088906e"
   },
   "outputs": [
    {
     "data": {
      "text/html": [
       "\n",
       "  <div id=\"df-8791abfa-79e0-49cb-aeff-2ac725fe7350\">\n",
       "    <div class=\"colab-df-container\">\n",
       "      <div>\n",
       "<style scoped>\n",
       "    .dataframe tbody tr th:only-of-type {\n",
       "        vertical-align: middle;\n",
       "    }\n",
       "\n",
       "    .dataframe tbody tr th {\n",
       "        vertical-align: top;\n",
       "    }\n",
       "\n",
       "    .dataframe thead th {\n",
       "        text-align: right;\n",
       "    }\n",
       "</style>\n",
       "<table border=\"1\" class=\"dataframe\">\n",
       "  <thead>\n",
       "    <tr style=\"text-align: right;\">\n",
       "      <th></th>\n",
       "      <th>age</th>\n",
       "      <th>sex</th>\n",
       "      <th>bmi</th>\n",
       "      <th>bp</th>\n",
       "      <th>s1</th>\n",
       "      <th>s2</th>\n",
       "      <th>s3</th>\n",
       "      <th>s4</th>\n",
       "      <th>s5</th>\n",
       "      <th>s6</th>\n",
       "      <th>target</th>\n",
       "    </tr>\n",
       "  </thead>\n",
       "  <tbody>\n",
       "    <tr>\n",
       "      <th>437</th>\n",
       "      <td>0.041708</td>\n",
       "      <td>0.050680</td>\n",
       "      <td>0.019662</td>\n",
       "      <td>0.059744</td>\n",
       "      <td>-0.005697</td>\n",
       "      <td>-0.002566</td>\n",
       "      <td>-0.028674</td>\n",
       "      <td>-0.002592</td>\n",
       "      <td>0.031193</td>\n",
       "      <td>0.007207</td>\n",
       "      <td>178.0</td>\n",
       "    </tr>\n",
       "    <tr>\n",
       "      <th>438</th>\n",
       "      <td>-0.005515</td>\n",
       "      <td>0.050680</td>\n",
       "      <td>-0.015906</td>\n",
       "      <td>-0.067642</td>\n",
       "      <td>0.049341</td>\n",
       "      <td>0.079165</td>\n",
       "      <td>-0.028674</td>\n",
       "      <td>0.034309</td>\n",
       "      <td>-0.018118</td>\n",
       "      <td>0.044485</td>\n",
       "      <td>104.0</td>\n",
       "    </tr>\n",
       "    <tr>\n",
       "      <th>439</th>\n",
       "      <td>0.041708</td>\n",
       "      <td>0.050680</td>\n",
       "      <td>-0.015906</td>\n",
       "      <td>0.017282</td>\n",
       "      <td>-0.037344</td>\n",
       "      <td>-0.013840</td>\n",
       "      <td>-0.024993</td>\n",
       "      <td>-0.011080</td>\n",
       "      <td>-0.046879</td>\n",
       "      <td>0.015491</td>\n",
       "      <td>132.0</td>\n",
       "    </tr>\n",
       "    <tr>\n",
       "      <th>440</th>\n",
       "      <td>-0.045472</td>\n",
       "      <td>-0.044642</td>\n",
       "      <td>0.039062</td>\n",
       "      <td>0.001215</td>\n",
       "      <td>0.016318</td>\n",
       "      <td>0.015283</td>\n",
       "      <td>-0.028674</td>\n",
       "      <td>0.026560</td>\n",
       "      <td>0.044528</td>\n",
       "      <td>-0.025930</td>\n",
       "      <td>220.0</td>\n",
       "    </tr>\n",
       "    <tr>\n",
       "      <th>441</th>\n",
       "      <td>-0.045472</td>\n",
       "      <td>-0.044642</td>\n",
       "      <td>-0.073030</td>\n",
       "      <td>-0.081414</td>\n",
       "      <td>0.083740</td>\n",
       "      <td>0.027809</td>\n",
       "      <td>0.173816</td>\n",
       "      <td>-0.039493</td>\n",
       "      <td>-0.004220</td>\n",
       "      <td>0.003064</td>\n",
       "      <td>57.0</td>\n",
       "    </tr>\n",
       "  </tbody>\n",
       "</table>\n",
       "</div>\n",
       "      <button class=\"colab-df-convert\" onclick=\"convertToInteractive('df-8791abfa-79e0-49cb-aeff-2ac725fe7350')\"\n",
       "              title=\"Convert this dataframe to an interactive table.\"\n",
       "              style=\"display:none;\">\n",
       "        \n",
       "  <svg xmlns=\"http://www.w3.org/2000/svg\" height=\"24px\"viewBox=\"0 0 24 24\"\n",
       "       width=\"24px\">\n",
       "    <path d=\"M0 0h24v24H0V0z\" fill=\"none\"/>\n",
       "    <path d=\"M18.56 5.44l.94 2.06.94-2.06 2.06-.94-2.06-.94-.94-2.06-.94 2.06-2.06.94zm-11 1L8.5 8.5l.94-2.06 2.06-.94-2.06-.94L8.5 2.5l-.94 2.06-2.06.94zm10 10l.94 2.06.94-2.06 2.06-.94-2.06-.94-.94-2.06-.94 2.06-2.06.94z\"/><path d=\"M17.41 7.96l-1.37-1.37c-.4-.4-.92-.59-1.43-.59-.52 0-1.04.2-1.43.59L10.3 9.45l-7.72 7.72c-.78.78-.78 2.05 0 2.83L4 21.41c.39.39.9.59 1.41.59.51 0 1.02-.2 1.41-.59l7.78-7.78 2.81-2.81c.8-.78.8-2.07 0-2.86zM5.41 20L4 18.59l7.72-7.72 1.47 1.35L5.41 20z\"/>\n",
       "  </svg>\n",
       "      </button>\n",
       "      \n",
       "  <style>\n",
       "    .colab-df-container {\n",
       "      display:flex;\n",
       "      flex-wrap:wrap;\n",
       "      gap: 12px;\n",
       "    }\n",
       "\n",
       "    .colab-df-convert {\n",
       "      background-color: #E8F0FE;\n",
       "      border: none;\n",
       "      border-radius: 50%;\n",
       "      cursor: pointer;\n",
       "      display: none;\n",
       "      fill: #1967D2;\n",
       "      height: 32px;\n",
       "      padding: 0 0 0 0;\n",
       "      width: 32px;\n",
       "    }\n",
       "\n",
       "    .colab-df-convert:hover {\n",
       "      background-color: #E2EBFA;\n",
       "      box-shadow: 0px 1px 2px rgba(60, 64, 67, 0.3), 0px 1px 3px 1px rgba(60, 64, 67, 0.15);\n",
       "      fill: #174EA6;\n",
       "    }\n",
       "\n",
       "    [theme=dark] .colab-df-convert {\n",
       "      background-color: #3B4455;\n",
       "      fill: #D2E3FC;\n",
       "    }\n",
       "\n",
       "    [theme=dark] .colab-df-convert:hover {\n",
       "      background-color: #434B5C;\n",
       "      box-shadow: 0px 1px 3px 1px rgba(0, 0, 0, 0.15);\n",
       "      filter: drop-shadow(0px 1px 2px rgba(0, 0, 0, 0.3));\n",
       "      fill: #FFFFFF;\n",
       "    }\n",
       "  </style>\n",
       "\n",
       "      <script>\n",
       "        const buttonEl =\n",
       "          document.querySelector('#df-8791abfa-79e0-49cb-aeff-2ac725fe7350 button.colab-df-convert');\n",
       "        buttonEl.style.display =\n",
       "          google.colab.kernel.accessAllowed ? 'block' : 'none';\n",
       "\n",
       "        async function convertToInteractive(key) {\n",
       "          const element = document.querySelector('#df-8791abfa-79e0-49cb-aeff-2ac725fe7350');\n",
       "          const dataTable =\n",
       "            await google.colab.kernel.invokeFunction('convertToInteractive',\n",
       "                                                     [key], {});\n",
       "          if (!dataTable) return;\n",
       "\n",
       "          const docLinkHtml = 'Like what you see? Visit the ' +\n",
       "            '<a target=\"_blank\" href=https://colab.research.google.com/notebooks/data_table.ipynb>data table notebook</a>'\n",
       "            + ' to learn more about interactive tables.';\n",
       "          element.innerHTML = '';\n",
       "          dataTable['output_type'] = 'display_data';\n",
       "          await google.colab.output.renderOutput(dataTable, element);\n",
       "          const docLink = document.createElement('div');\n",
       "          docLink.innerHTML = docLinkHtml;\n",
       "          element.appendChild(docLink);\n",
       "        }\n",
       "      </script>\n",
       "    </div>\n",
       "  </div>\n",
       "  "
      ],
      "text/plain": [
       "          age       sex       bmi        bp        s1        s2        s3  \\\n",
       "437  0.041708  0.050680  0.019662  0.059744 -0.005697 -0.002566 -0.028674   \n",
       "438 -0.005515  0.050680 -0.015906 -0.067642  0.049341  0.079165 -0.028674   \n",
       "439  0.041708  0.050680 -0.015906  0.017282 -0.037344 -0.013840 -0.024993   \n",
       "440 -0.045472 -0.044642  0.039062  0.001215  0.016318  0.015283 -0.028674   \n",
       "441 -0.045472 -0.044642 -0.073030 -0.081414  0.083740  0.027809  0.173816   \n",
       "\n",
       "           s4        s5        s6  target  \n",
       "437 -0.002592  0.031193  0.007207   178.0  \n",
       "438  0.034309 -0.018118  0.044485   104.0  \n",
       "439 -0.011080 -0.046879  0.015491   132.0  \n",
       "440  0.026560  0.044528 -0.025930   220.0  \n",
       "441 -0.039493 -0.004220  0.003064    57.0  "
      ]
     },
     "execution_count": 6,
     "metadata": {},
     "output_type": "execute_result"
    }
   ],
   "source": [
    "# see tail\n",
    "diabetes_df.tail()"
   ]
  },
  {
   "cell_type": "code",
   "execution_count": null,
   "metadata": {
    "colab": {
     "base_uri": "https://localhost:8080/"
    },
    "executionInfo": {
     "elapsed": 5,
     "status": "ok",
     "timestamp": 1669168200662,
     "user": {
      "displayName": "Clash Clans",
      "userId": "00562530571182710236"
     },
     "user_tz": -330
    },
    "id": "0JlHwUVkmN7f",
    "outputId": "98376b53-29ef-48ca-e212-20b376c8ff93"
   },
   "outputs": [
    {
     "name": "stdout",
     "output_type": "stream",
     "text": [
      "<class 'pandas.core.frame.DataFrame'>\n",
      "RangeIndex: 442 entries, 0 to 441\n",
      "Data columns (total 11 columns):\n",
      " #   Column  Non-Null Count  Dtype  \n",
      "---  ------  --------------  -----  \n",
      " 0   age     442 non-null    float64\n",
      " 1   sex     442 non-null    float64\n",
      " 2   bmi     442 non-null    float64\n",
      " 3   bp      442 non-null    float64\n",
      " 4   s1      442 non-null    float64\n",
      " 5   s2      442 non-null    float64\n",
      " 6   s3      442 non-null    float64\n",
      " 7   s4      442 non-null    float64\n",
      " 8   s5      442 non-null    float64\n",
      " 9   s6      442 non-null    float64\n",
      " 10  target  442 non-null    float64\n",
      "dtypes: float64(11)\n",
      "memory usage: 38.1 KB\n"
     ]
    }
   ],
   "source": [
    "# see data info\n",
    "diabetes_df.info()"
   ]
  },
  {
   "cell_type": "code",
   "execution_count": null,
   "metadata": {
    "colab": {
     "base_uri": "https://localhost:8080/",
     "height": 300
    },
    "executionInfo": {
     "elapsed": 9,
     "status": "ok",
     "timestamp": 1669168202307,
     "user": {
      "displayName": "Clash Clans",
      "userId": "00562530571182710236"
     },
     "user_tz": -330
    },
    "id": "MREhcIMwnmka",
    "outputId": "f611754f-43eb-4062-e228-0191464aa76e"
   },
   "outputs": [
    {
     "data": {
      "text/html": [
       "\n",
       "  <div id=\"df-a3d5da5e-0e33-43da-8c71-634eabcbb5b4\">\n",
       "    <div class=\"colab-df-container\">\n",
       "      <div>\n",
       "<style scoped>\n",
       "    .dataframe tbody tr th:only-of-type {\n",
       "        vertical-align: middle;\n",
       "    }\n",
       "\n",
       "    .dataframe tbody tr th {\n",
       "        vertical-align: top;\n",
       "    }\n",
       "\n",
       "    .dataframe thead th {\n",
       "        text-align: right;\n",
       "    }\n",
       "</style>\n",
       "<table border=\"1\" class=\"dataframe\">\n",
       "  <thead>\n",
       "    <tr style=\"text-align: right;\">\n",
       "      <th></th>\n",
       "      <th>age</th>\n",
       "      <th>sex</th>\n",
       "      <th>bmi</th>\n",
       "      <th>bp</th>\n",
       "      <th>s1</th>\n",
       "      <th>s2</th>\n",
       "      <th>s3</th>\n",
       "      <th>s4</th>\n",
       "      <th>s5</th>\n",
       "      <th>s6</th>\n",
       "      <th>target</th>\n",
       "    </tr>\n",
       "  </thead>\n",
       "  <tbody>\n",
       "    <tr>\n",
       "      <th>count</th>\n",
       "      <td>4.420000e+02</td>\n",
       "      <td>4.420000e+02</td>\n",
       "      <td>4.420000e+02</td>\n",
       "      <td>4.420000e+02</td>\n",
       "      <td>4.420000e+02</td>\n",
       "      <td>4.420000e+02</td>\n",
       "      <td>4.420000e+02</td>\n",
       "      <td>4.420000e+02</td>\n",
       "      <td>4.420000e+02</td>\n",
       "      <td>4.420000e+02</td>\n",
       "      <td>442.000000</td>\n",
       "    </tr>\n",
       "    <tr>\n",
       "      <th>mean</th>\n",
       "      <td>-3.639623e-16</td>\n",
       "      <td>1.309912e-16</td>\n",
       "      <td>-8.013951e-16</td>\n",
       "      <td>1.289818e-16</td>\n",
       "      <td>-9.042540e-17</td>\n",
       "      <td>1.301121e-16</td>\n",
       "      <td>-4.563971e-16</td>\n",
       "      <td>3.863174e-16</td>\n",
       "      <td>-3.848103e-16</td>\n",
       "      <td>-3.398488e-16</td>\n",
       "      <td>152.133484</td>\n",
       "    </tr>\n",
       "    <tr>\n",
       "      <th>std</th>\n",
       "      <td>4.761905e-02</td>\n",
       "      <td>4.761905e-02</td>\n",
       "      <td>4.761905e-02</td>\n",
       "      <td>4.761905e-02</td>\n",
       "      <td>4.761905e-02</td>\n",
       "      <td>4.761905e-02</td>\n",
       "      <td>4.761905e-02</td>\n",
       "      <td>4.761905e-02</td>\n",
       "      <td>4.761905e-02</td>\n",
       "      <td>4.761905e-02</td>\n",
       "      <td>77.093005</td>\n",
       "    </tr>\n",
       "    <tr>\n",
       "      <th>min</th>\n",
       "      <td>-1.072256e-01</td>\n",
       "      <td>-4.464164e-02</td>\n",
       "      <td>-9.027530e-02</td>\n",
       "      <td>-1.123996e-01</td>\n",
       "      <td>-1.267807e-01</td>\n",
       "      <td>-1.156131e-01</td>\n",
       "      <td>-1.023071e-01</td>\n",
       "      <td>-7.639450e-02</td>\n",
       "      <td>-1.260974e-01</td>\n",
       "      <td>-1.377672e-01</td>\n",
       "      <td>25.000000</td>\n",
       "    </tr>\n",
       "    <tr>\n",
       "      <th>25%</th>\n",
       "      <td>-3.729927e-02</td>\n",
       "      <td>-4.464164e-02</td>\n",
       "      <td>-3.422907e-02</td>\n",
       "      <td>-3.665645e-02</td>\n",
       "      <td>-3.424784e-02</td>\n",
       "      <td>-3.035840e-02</td>\n",
       "      <td>-3.511716e-02</td>\n",
       "      <td>-3.949338e-02</td>\n",
       "      <td>-3.324879e-02</td>\n",
       "      <td>-3.317903e-02</td>\n",
       "      <td>87.000000</td>\n",
       "    </tr>\n",
       "    <tr>\n",
       "      <th>50%</th>\n",
       "      <td>5.383060e-03</td>\n",
       "      <td>-4.464164e-02</td>\n",
       "      <td>-7.283766e-03</td>\n",
       "      <td>-5.670611e-03</td>\n",
       "      <td>-4.320866e-03</td>\n",
       "      <td>-3.819065e-03</td>\n",
       "      <td>-6.584468e-03</td>\n",
       "      <td>-2.592262e-03</td>\n",
       "      <td>-1.947634e-03</td>\n",
       "      <td>-1.077698e-03</td>\n",
       "      <td>140.500000</td>\n",
       "    </tr>\n",
       "    <tr>\n",
       "      <th>75%</th>\n",
       "      <td>3.807591e-02</td>\n",
       "      <td>5.068012e-02</td>\n",
       "      <td>3.124802e-02</td>\n",
       "      <td>3.564384e-02</td>\n",
       "      <td>2.835801e-02</td>\n",
       "      <td>2.984439e-02</td>\n",
       "      <td>2.931150e-02</td>\n",
       "      <td>3.430886e-02</td>\n",
       "      <td>3.243323e-02</td>\n",
       "      <td>2.791705e-02</td>\n",
       "      <td>211.500000</td>\n",
       "    </tr>\n",
       "    <tr>\n",
       "      <th>max</th>\n",
       "      <td>1.107267e-01</td>\n",
       "      <td>5.068012e-02</td>\n",
       "      <td>1.705552e-01</td>\n",
       "      <td>1.320442e-01</td>\n",
       "      <td>1.539137e-01</td>\n",
       "      <td>1.987880e-01</td>\n",
       "      <td>1.811791e-01</td>\n",
       "      <td>1.852344e-01</td>\n",
       "      <td>1.335990e-01</td>\n",
       "      <td>1.356118e-01</td>\n",
       "      <td>346.000000</td>\n",
       "    </tr>\n",
       "  </tbody>\n",
       "</table>\n",
       "</div>\n",
       "      <button class=\"colab-df-convert\" onclick=\"convertToInteractive('df-a3d5da5e-0e33-43da-8c71-634eabcbb5b4')\"\n",
       "              title=\"Convert this dataframe to an interactive table.\"\n",
       "              style=\"display:none;\">\n",
       "        \n",
       "  <svg xmlns=\"http://www.w3.org/2000/svg\" height=\"24px\"viewBox=\"0 0 24 24\"\n",
       "       width=\"24px\">\n",
       "    <path d=\"M0 0h24v24H0V0z\" fill=\"none\"/>\n",
       "    <path d=\"M18.56 5.44l.94 2.06.94-2.06 2.06-.94-2.06-.94-.94-2.06-.94 2.06-2.06.94zm-11 1L8.5 8.5l.94-2.06 2.06-.94-2.06-.94L8.5 2.5l-.94 2.06-2.06.94zm10 10l.94 2.06.94-2.06 2.06-.94-2.06-.94-.94-2.06-.94 2.06-2.06.94z\"/><path d=\"M17.41 7.96l-1.37-1.37c-.4-.4-.92-.59-1.43-.59-.52 0-1.04.2-1.43.59L10.3 9.45l-7.72 7.72c-.78.78-.78 2.05 0 2.83L4 21.41c.39.39.9.59 1.41.59.51 0 1.02-.2 1.41-.59l7.78-7.78 2.81-2.81c.8-.78.8-2.07 0-2.86zM5.41 20L4 18.59l7.72-7.72 1.47 1.35L5.41 20z\"/>\n",
       "  </svg>\n",
       "      </button>\n",
       "      \n",
       "  <style>\n",
       "    .colab-df-container {\n",
       "      display:flex;\n",
       "      flex-wrap:wrap;\n",
       "      gap: 12px;\n",
       "    }\n",
       "\n",
       "    .colab-df-convert {\n",
       "      background-color: #E8F0FE;\n",
       "      border: none;\n",
       "      border-radius: 50%;\n",
       "      cursor: pointer;\n",
       "      display: none;\n",
       "      fill: #1967D2;\n",
       "      height: 32px;\n",
       "      padding: 0 0 0 0;\n",
       "      width: 32px;\n",
       "    }\n",
       "\n",
       "    .colab-df-convert:hover {\n",
       "      background-color: #E2EBFA;\n",
       "      box-shadow: 0px 1px 2px rgba(60, 64, 67, 0.3), 0px 1px 3px 1px rgba(60, 64, 67, 0.15);\n",
       "      fill: #174EA6;\n",
       "    }\n",
       "\n",
       "    [theme=dark] .colab-df-convert {\n",
       "      background-color: #3B4455;\n",
       "      fill: #D2E3FC;\n",
       "    }\n",
       "\n",
       "    [theme=dark] .colab-df-convert:hover {\n",
       "      background-color: #434B5C;\n",
       "      box-shadow: 0px 1px 3px 1px rgba(0, 0, 0, 0.15);\n",
       "      filter: drop-shadow(0px 1px 2px rgba(0, 0, 0, 0.3));\n",
       "      fill: #FFFFFF;\n",
       "    }\n",
       "  </style>\n",
       "\n",
       "      <script>\n",
       "        const buttonEl =\n",
       "          document.querySelector('#df-a3d5da5e-0e33-43da-8c71-634eabcbb5b4 button.colab-df-convert');\n",
       "        buttonEl.style.display =\n",
       "          google.colab.kernel.accessAllowed ? 'block' : 'none';\n",
       "\n",
       "        async function convertToInteractive(key) {\n",
       "          const element = document.querySelector('#df-a3d5da5e-0e33-43da-8c71-634eabcbb5b4');\n",
       "          const dataTable =\n",
       "            await google.colab.kernel.invokeFunction('convertToInteractive',\n",
       "                                                     [key], {});\n",
       "          if (!dataTable) return;\n",
       "\n",
       "          const docLinkHtml = 'Like what you see? Visit the ' +\n",
       "            '<a target=\"_blank\" href=https://colab.research.google.com/notebooks/data_table.ipynb>data table notebook</a>'\n",
       "            + ' to learn more about interactive tables.';\n",
       "          element.innerHTML = '';\n",
       "          dataTable['output_type'] = 'display_data';\n",
       "          await google.colab.output.renderOutput(dataTable, element);\n",
       "          const docLink = document.createElement('div');\n",
       "          docLink.innerHTML = docLinkHtml;\n",
       "          element.appendChild(docLink);\n",
       "        }\n",
       "      </script>\n",
       "    </div>\n",
       "  </div>\n",
       "  "
      ],
      "text/plain": [
       "                age           sex           bmi            bp            s1  \\\n",
       "count  4.420000e+02  4.420000e+02  4.420000e+02  4.420000e+02  4.420000e+02   \n",
       "mean  -3.639623e-16  1.309912e-16 -8.013951e-16  1.289818e-16 -9.042540e-17   \n",
       "std    4.761905e-02  4.761905e-02  4.761905e-02  4.761905e-02  4.761905e-02   \n",
       "min   -1.072256e-01 -4.464164e-02 -9.027530e-02 -1.123996e-01 -1.267807e-01   \n",
       "25%   -3.729927e-02 -4.464164e-02 -3.422907e-02 -3.665645e-02 -3.424784e-02   \n",
       "50%    5.383060e-03 -4.464164e-02 -7.283766e-03 -5.670611e-03 -4.320866e-03   \n",
       "75%    3.807591e-02  5.068012e-02  3.124802e-02  3.564384e-02  2.835801e-02   \n",
       "max    1.107267e-01  5.068012e-02  1.705552e-01  1.320442e-01  1.539137e-01   \n",
       "\n",
       "                 s2            s3            s4            s5            s6  \\\n",
       "count  4.420000e+02  4.420000e+02  4.420000e+02  4.420000e+02  4.420000e+02   \n",
       "mean   1.301121e-16 -4.563971e-16  3.863174e-16 -3.848103e-16 -3.398488e-16   \n",
       "std    4.761905e-02  4.761905e-02  4.761905e-02  4.761905e-02  4.761905e-02   \n",
       "min   -1.156131e-01 -1.023071e-01 -7.639450e-02 -1.260974e-01 -1.377672e-01   \n",
       "25%   -3.035840e-02 -3.511716e-02 -3.949338e-02 -3.324879e-02 -3.317903e-02   \n",
       "50%   -3.819065e-03 -6.584468e-03 -2.592262e-03 -1.947634e-03 -1.077698e-03   \n",
       "75%    2.984439e-02  2.931150e-02  3.430886e-02  3.243323e-02  2.791705e-02   \n",
       "max    1.987880e-01  1.811791e-01  1.852344e-01  1.335990e-01  1.356118e-01   \n",
       "\n",
       "           target  \n",
       "count  442.000000  \n",
       "mean   152.133484  \n",
       "std     77.093005  \n",
       "min     25.000000  \n",
       "25%     87.000000  \n",
       "50%    140.500000  \n",
       "75%    211.500000  \n",
       "max    346.000000  "
      ]
     },
     "execution_count": 5,
     "metadata": {},
     "output_type": "execute_result"
    }
   ],
   "source": [
    "# see data stats\n",
    "diabetes_df.describe()"
   ]
  },
  {
   "cell_type": "code",
   "execution_count": null,
   "metadata": {
    "colab": {
     "base_uri": "https://localhost:8080/"
    },
    "executionInfo": {
     "elapsed": 5,
     "status": "ok",
     "timestamp": 1669168232299,
     "user": {
      "displayName": "Clash Clans",
      "userId": "00562530571182710236"
     },
     "user_tz": -330
    },
    "id": "SNta0VSSLIJA",
    "outputId": "6c1faa62-c71d-4d7f-86e5-8fb2e1b9a144"
   },
   "outputs": [
    {
     "data": {
      "text/plain": [
       "age       0\n",
       "sex       0\n",
       "bmi       0\n",
       "bp        0\n",
       "s1        0\n",
       "s2        0\n",
       "s3        0\n",
       "s4        0\n",
       "s5        0\n",
       "s6        0\n",
       "target    0\n",
       "dtype: int64"
      ]
     },
     "execution_count": 7,
     "metadata": {},
     "output_type": "execute_result"
    }
   ],
   "source": [
    "# count for null values\n",
    "diabetes_df.isna().sum()"
   ]
  },
  {
   "cell_type": "markdown",
   "metadata": {
    "id": "ogE3XJ2VLgf5"
   },
   "source": [
    "### split dataset - [sklearn.model_selection.train_test_split](https://scikit-learn.org/stable/modules/generated/sklearn.model_selection.train_test_split.html)"
   ]
  },
  {
   "cell_type": "code",
   "execution_count": null,
   "metadata": {
    "colab": {
     "base_uri": "https://localhost:8080/"
    },
    "executionInfo": {
     "elapsed": 513,
     "status": "ok",
     "timestamp": 1669168286367,
     "user": {
      "displayName": "Clash Clans",
      "userId": "00562530571182710236"
     },
     "user_tz": -330
    },
    "id": "dWTHQsBlqbM-",
    "outputId": "6e5ed0b9-d65f-4f9c-946b-dd244b6239aa"
   },
   "outputs": [
    {
     "data": {
      "text/plain": [
       "((296, 10), (296,), (146, 10), (146,))"
      ]
     },
     "execution_count": 8,
     "metadata": {},
     "output_type": "execute_result"
    }
   ],
   "source": [
    "# load dataset splitter\n",
    "from sklearn.model_selection import train_test_split\n",
    "\n",
    "# make split data (from numpy array) - (X - 2D numpy.ndarray, y - 1D numpy.array)\n",
    "#Xtrain,Xtest,ytarin,ytest=train_test_split(diabetes_dataset.data,diabetes_dataset.traget,\n",
    "#                                           test_size=0.33)\n",
    "\n",
    "# make split data (from pandas dataframe) - (X - dataframe, y - series)\n",
    "# X - diabetes_df.loc[:,'age':'s6'] (by loc)\n",
    "# X - diabetes_df.iloc[:,[list_of_all_columns]] (by loc)\n",
    "# X - diabetes_df.iloc[:,:-1] (by iloc)\n",
    "# X - diabetes_df[[list_of_all_columns]]\n",
    "# X - diabetes_df.drop(columns='target') (return a copy of data)\n",
    "# y - diabetes_df['target']\n",
    "# y - diabetes_df.loc[:,'target']\n",
    "# y - diabetes_df.iloc[:,-1]\n",
    "Xtrain,Xtest,ytrain,ytest=train_test_split(diabetes_df.drop(columns='target'),\n",
    "                                           diabetes_df['target'],\n",
    "                                           test_size=0.33)\n",
    "# see shapes\n",
    "Xtrain.shape,ytrain.shape,Xtest.shape,ytest.shape"
   ]
  },
  {
   "cell_type": "markdown",
   "metadata": {
    "id": "MZsMya7lLt32"
   },
   "source": [
    "### Regression using Linear Model - LinearRegression (building Model)"
   ]
  },
  {
   "cell_type": "code",
   "execution_count": null,
   "metadata": {
    "colab": {
     "base_uri": "https://localhost:8080/"
    },
    "executionInfo": {
     "elapsed": 930,
     "status": "ok",
     "timestamp": 1669168496498,
     "user": {
      "displayName": "Clash Clans",
      "userId": "00562530571182710236"
     },
     "user_tz": -330
    },
    "id": "4L_J4NdAvncq",
    "outputId": "80ea36ae-cd70-40da-c1fd-c903cb7d01e4"
   },
   "outputs": [
    {
     "name": "stdout",
     "output_type": "stream",
     "text": [
      "Model coefficients (count): 10\n",
      "Model coefficients: [  34.62983349 -227.99818865  543.46787399  360.18765283 -903.51372784\n",
      "  510.83582363  245.27156305  320.34563627  716.24840016   68.01831964]\n",
      "Intercept coefficients: 151.33679976913632\n",
      "Model score (training): 0.5446340196108892\n",
      "Model score (testing): 0.4416734131098591\n"
     ]
    }
   ],
   "source": [
    "# load linear model - Linear Regression\n",
    "from sklearn.linear_model import LinearRegression\n",
    "\n",
    "# make model (object)\n",
    "lReg=LinearRegression()\n",
    "# make model train (calculate (optimized) value for m and c)\n",
    "lReg.fit(Xtrain,ytrain)# equation: y =m1x1 + m2x2 + .... m10x10 + c\n",
    "# see model coefficients (m)\n",
    "print('Model coefficients (count):',len(lReg.coef_))\n",
    "print('Model coefficients:',lReg.coef_)\n",
    "# see model intercept (c)\n",
    "print('Intercept coefficients:',lReg.intercept_)\n",
    "# see model score\n",
    "print('Model score (training):',lReg.score(Xtrain,ytrain))\n",
    "print('Model score (testing):',lReg.score(Xtest,ytest))"
   ]
  },
  {
   "cell_type": "markdown",
   "metadata": {
    "id": "Xffn34yUMAE5"
   },
   "source": [
    "### Model evaluation"
   ]
  },
  {
   "cell_type": "code",
   "execution_count": null,
   "metadata": {
    "colab": {
     "base_uri": "https://localhost:8080/"
    },
    "executionInfo": {
     "elapsed": 615,
     "status": "ok",
     "timestamp": 1669168501920,
     "user": {
      "displayName": "Clash Clans",
      "userId": "00562530571182710236"
     },
     "user_tz": -330
    },
    "id": "dMvmZpR20APE",
    "outputId": "29495863-e3e5-4405-99be-4577ae79ba04"
   },
   "outputs": [
    {
     "name": "stdout",
     "output_type": "stream",
     "text": [
      "Mean Absolute Error (MAE): 46.055835642584626\n",
      "Mean Squared Error (MSE): 3154.8011985589487\n"
     ]
    }
   ],
   "source": [
    "# load errors - Mean Absolute Error and Mean Squared Error\n",
    "from sklearn.metrics import mean_absolute_error,mean_squared_error\n",
    "\n",
    "# prediction on test data\n",
    "predictions=lReg.predict(Xtest)\n",
    "\n",
    "# error evaluation (on test data)\n",
    "print('Mean Absolute Error (MAE):',mean_absolute_error(ytest,predictions))\n",
    "print('Mean Squared Error (MSE):',mean_squared_error(ytest,predictions))"
   ]
  },
  {
   "cell_type": "markdown",
   "metadata": {
    "id": "fE3p2wKZOGB9"
   },
   "source": [
    "### Make Predictions"
   ]
  },
  {
   "cell_type": "code",
   "execution_count": null,
   "metadata": {
    "id": "abuoPDLyOKzA"
   },
   "outputs": [],
   "source": [
    "# make prediction on all data\n",
    "diabetes_df['predictions']=lReg.predict(diabetes_df.drop(columns='target')).astype(int)\n",
    "# see head of data\n",
    "diabetes_df.head()"
   ]
  },
  {
   "cell_type": "code",
   "execution_count": null,
   "metadata": {
    "id": "Z2OZznI3O-xd"
   },
   "outputs": [],
   "source": [
    "# see tail\n",
    "diabetes_df.tail()"
   ]
  },
  {
   "cell_type": "markdown",
   "metadata": {
    "id": "v9pOrV2vPXK3"
   },
   "source": [
    "### plot results (testing)"
   ]
  },
  {
   "cell_type": "code",
   "execution_count": null,
   "metadata": {
    "colab": {
     "base_uri": "https://localhost:8080/",
     "height": 458
    },
    "executionInfo": {
     "elapsed": 8,
     "status": "ok",
     "timestamp": 1669169771479,
     "user": {
      "displayName": "Clash Clans",
      "userId": "00562530571182710236"
     },
     "user_tz": -330
    },
    "id": "kKuBdT3pPakI",
    "outputId": "64cd5f83-303a-4928-cbff-d083e3300b13"
   },
   "outputs": [
    {
     "data": {
      "image/png": "[encoded data removed]",
      "text/plain": [
       "<Figure size 1440x504 with 1 Axes>"
      ]
     },
     "metadata": {
      "needs_background": "light"
     },
     "output_type": "display_data"
    }
   ],
   "source": [
    "# make plot (make figure and set figure size)\n",
    "plt.figure(figsize=(20,7))\n",
    "# plot true values\n",
    "plt.plot(range(ytest.shape[0]),ytest,color='green',marker='1',alpha=0.5,label='y-true')\n",
    "# plot predictions values\n",
    "plt.plot(range(ytest.shape[0]),lReg.predict(Xtest),color='red',marker='*',alpha=0.9,label='y-predicted')\n",
    "# plot axis and labels\n",
    "plt.xlabel('index'),plt.ylabel('diabetes value after one year'),plt.title('Result Evaluation On Testing Data')\n",
    "# add grid and legend\n",
    "plt.grid(),plt.legend()\n",
    "# make plot show\n",
    "plt.show()"
   ]
  },
  {
   "cell_type": "markdown",
   "metadata": {
    "id": "jXH6CkGkkTpf"
   },
   "source": [
    "# What More ?\n",
    "\n",
    "* [Underfitting vs. Overfitting ?](https://scikit-learn.org/stable/auto_examples/model_selection/plot_underfitting_overfitting.html)\n",
    "* More on [Linear Models](https://scikit-learn.org/stable/modules/linear_model.html) - Regularization (penalty) - [Ridge Regression and Classification](https://scikit-learn.org/stable/modules/linear_model.html#ridge-regression-and-classification), and [Lasso Regression](https://scikit-learn.org/stable/modules/linear_model.html#lasso)"
   ]
  },
  {
   "cell_type": "markdown",
   "metadata": {
    "id": "AHBpNjhknJty"
   },
   "source": [
    "# References\n",
    "\n",
    "* [The Python Tutorial](https://docs.python.org/3.10/tutorial/index.html)\n",
    "* [NumPy quickstart](https://numpy.org/doc/stable/user/quickstart.html)\n",
    "* [Matplotlib's Quick start guide](https://matplotlib.org/stable/users/explain/quick_start.html)\n",
    "* [Pyplot tutorial](https://matplotlib.org/stable/tutorials/pyplot.html#sphx-glr-tutorials-pyplot-py)\n",
    "* [Pyplot - image tutorial](https://matplotlib.org/stable/tutorials/images.html#sphx-glr-tutorials-images-py)\n",
    "* [Matplotlib - All Tutorials](https://matplotlib.org/stable/tutorials/index.html)\n",
    "* [10 Minutes to Pandas (Pandas, official tutorial)](https://pandas.pydata.org/docs/user_guide/10min.html)"
   ]
  }
 ],
 "metadata": {
  "colab": {
   "authorship_tag": "ABX9TyPu56QVNt/cBUM5pZ96Aagc",
   "collapsed_sections": [
    "BDR-6t_fBzbY",
    "mMIS4L4ouDTk",
    "KqauM_DADjpm",
    "kanqnZm3dura",
    "Sj49eLnl33Dq",
    "-6FujKDAd2rV",
    "lO4-EG6Xd8H0",
    "MpQ2KpD9ktOQ",
    "HpVINUbvioKj",
    "iFbJgMjqKgWB",
    "LKzhTLYnKkZW",
    "ogE3XJ2VLgf5",
    "MZsMya7lLt32",
    "CyCtnxEsL7U_",
    "Xffn34yUMAE5",
    "fE3p2wKZOGB9",
    "v9pOrV2vPXK3",
    "jXH6CkGkkTpf"
   ],
   "provenance": []
  },
  "kernelspec": {
   "display_name": "Python 3",
   "name": "python3"
  },
  "language_info": {
   "name": "python"
  }
 },
 "nbformat": 4,
 "nbformat_minor": 0
}
