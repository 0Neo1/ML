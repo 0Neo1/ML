{
 "cells": [
  {
   "cell_type": "code",
   "execution_count": 1,
   "metadata": {
    "colab": {
     "base_uri": "https://localhost:8080/"
    },
    "executionInfo": {
     "elapsed": 17,
     "status": "ok",
     "timestamp": 1643341206692,
     "user": {
      "displayName": "Clash Clans",
      "photoUrl": "https://lh3.googleusercontent.com/a/default-user=s64",
      "userId": "00562530571182710236"
     },
     "user_tz": -330
    },
    "id": "sWH9taM4suE2",
    "outputId": "88ba72da-57da-426e-c2a1-ba015a0ce885"
   },
   "outputs": [
    {
     "name": "stdout",
     "output_type": "stream",
     "text": [
      "Python 3.7.12\n"
     ]
    }
   ],
   "source": [
    "!python --version   # Python version\n",
    "\n",
    "# About python:  https://www.python.org/\n",
    "#                Python is powerful... and fast; plays well with others; runs everywhere; is friendly & easy to learn; \n",
    "#                is Open –> https://www.python.org/about/.\n",
    "#     Python docs: https://docs.python.org/3/ (all documentation); \n",
    "#                  https://docs.python.org/3.7/ (Recommended version – 3.7). \n",
    "# The Python Tutorial (python3.7): https://docs.python.org/3.7/tutorial/index.html "
   ]
  },
  {
   "cell_type": "code",
   "execution_count": 2,
   "metadata": {
    "colab": {
     "base_uri": "https://localhost:8080/"
    },
    "executionInfo": {
     "elapsed": 1880,
     "status": "ok",
     "timestamp": 1643341208565,
     "user": {
      "displayName": "Clash Clans",
      "photoUrl": "https://lh3.googleusercontent.com/a/default-user=s64",
      "userId": "00562530571182710236"
     },
     "user_tz": -330
    },
    "id": "MvVDHkLesuBn",
    "outputId": "69d3e8e8-9f32-40a3-86f8-7740c727cfb0"
   },
   "outputs": [
    {
     "name": "stdout",
     "output_type": "stream",
     "text": [
      "numpy version: 1.19.5\n",
      "pandas version:  1.1.5\n",
      "seaborn version: 0.11.2\n",
      "pyplot:  <module 'matplotlib.pyplot' from '/usr/local/lib/python3.7/dist-packages/matplotlib/pyplot.py'>\n"
     ]
    }
   ],
   "source": [
    "import numpy as np, pandas as pd, matplotlib.pyplot as plt, seaborn as sns\n",
    "# NumPy : The fundamental package for scientific computing with Python. NumPy is the fundamental package for scientific \n",
    "#         computing in Python. It is a Python library that provides a multidimensional array object, various derived \n",
    "#         objects (such as masked arrays and matrices), and an assortment of routines for fast operations on arrays, \n",
    "#         including mathematical, logical, shape manipulation, sorting, selecting, I/O, discrete Fourier transforms,\n",
    "#         basic linear algebra, basic statistical operations, random simulation and much more.\n",
    "#     About: https://numpy.org/\n",
    "#     Docs: https://numpy.org/doc/stable/\n",
    "#     NumPy quickstart: https://numpy.org/doc/stable/user/quickstart.html\n",
    "\n",
    "# Pandas: pandas is a fast, powerful, flexible and easy to use open source data analysis and manipulation tool, \n",
    "#         built on top of the Python programming language.\n",
    "#     About: https://pandas.pydata.org/ \n",
    "#     Docs: https://pandas.pydata.org/docs/ \n",
    "#     Getting started: https://pandas.pydata.org/docs/getting_started/index.html \n",
    "#     User Guide: https://pandas.pydata.org/docs/user_guide/index.html#user-guide \n",
    "\n",
    "# Seaborn: Seaborn is a Python data visualization library based on matplotlib. It provides a \n",
    "#          high-level interface for drawing attractive and informative statistical graphics.\n",
    "#   About: https://seaborn.pydata.org/\n",
    "\n",
    "# scipy : SciPy is a collection of mathematical algorithms and convenience functions built on the NumPy extension of Python. \n",
    "#         It adds significant power to the interactive Python session by providing the user with high-level commands and classes \n",
    "#         for manipulating and visualizing data. \n",
    "#   About: https://docs.scipy.org/doc/scipy/index.html \n",
    "#   scipy.stats.norm: A normal continuous random variable -> scipy.stats.norm(x,loc=0,scale=0)\n",
    "#                   : The location (loc) keyword specifies the mean. The scale (scale) keyword specifies the standard deviation.\n",
    "\n",
    "print('numpy version:',np.__version__)\n",
    "print('pandas version: ',pd.__version__)\n",
    "print('seaborn version:',sns.__version__)\n",
    "print('pyplot: ',plt)"
   ]
  },
  {
   "cell_type": "markdown",
   "metadata": {
    "id": "aOg51WRkrzf3"
   },
   "source": [
    "# [Outlier detection with Local Outlier Factor (LOF)](https://scikit-learn.org/stable/auto_examples/neighbors/plot_lof_outlier_detection.html)\n",
    "\n",
    "**Source**: https://scikit-learn.org/stable/auto_examples/neighbors/plot_lof_outlier_detection.html"
   ]
  },
  {
   "cell_type": "markdown",
   "metadata": {
    "id": "PYVFurDCsGtM"
   },
   "source": [
    "## Generate data"
   ]
  },
  {
   "cell_type": "code",
   "execution_count": 3,
   "metadata": {
    "colab": {
     "base_uri": "https://localhost:8080/"
    },
    "executionInfo": {
     "elapsed": 36,
     "status": "ok",
     "timestamp": 1643341208569,
     "user": {
      "displayName": "Clash Clans",
      "photoUrl": "https://lh3.googleusercontent.com/a/default-user=s64",
      "userId": "00562530571182710236"
     },
     "user_tz": -330
    },
    "id": "AwvXVuCIt_Y2",
    "outputId": "e94bf726-3f00-497a-8e68-43ecf4eccbb9"
   },
   "outputs": [
    {
     "name": "stdout",
     "output_type": "stream",
     "text": [
      "Initial shape: (100, 2)\n",
      "Initial max: 2.6643633618262426\n",
      "Initial min: -2.2077356804270627\n",
      "Initial shape: (200, 2)\n",
      "Initial max: 4.664363361826243\n",
      "Initial min: -4.207735680427063\n"
     ]
    }
   ],
   "source": [
    "# fix randomness \n",
    "#np.random.seed(101)\n",
    "# Generate random data \n",
    "data_points=np.random.randn(100,2)\n",
    "# print min and max of data\n",
    "print('Initial shape:',data_points.shape)\n",
    "print('Initial max:',data_points.max())\n",
    "print('Initial min:',data_points.min())\n",
    "data_points=np.r_[data_points+2,data_points-2]\n",
    "# look more into the data \n",
    "print('Initial shape:',data_points.shape)\n",
    "print('Initial max:',data_points.max())\n",
    "print('Initial min:',data_points.min())"
   ]
  },
  {
   "cell_type": "markdown",
   "metadata": {
    "id": "AzA5vmytsNTF"
   },
   "source": [
    "## Add outliers to data"
   ]
  },
  {
   "cell_type": "code",
   "execution_count": 4,
   "metadata": {
    "colab": {
     "base_uri": "https://localhost:8080/"
    },
    "executionInfo": {
     "elapsed": 35,
     "status": "ok",
     "timestamp": 1643341208571,
     "user": {
      "displayName": "Clash Clans",
      "photoUrl": "https://lh3.googleusercontent.com/a/default-user=s64",
      "userId": "00562530571182710236"
     },
     "user_tz": -330
    },
    "id": "6gP5hKTxuXUQ",
    "outputId": "9baf4dc5-02bf-4d98-99a7-fedd0fc80f04"
   },
   "outputs": [
    {
     "name": "stdout",
     "output_type": "stream",
     "text": [
      "Initial shape: (225, 2)\n",
      "Initial max: 4.664363361826243\n",
      "Initial min: -4.207735680427063\n"
     ]
    }
   ],
   "source": [
    "# number of outliers to generate \n",
    "n_outliers_points=25\n",
    "# add outliers to data (generated)\n",
    "data_points_with_outliers=np.random.uniform(low=4,high=-4,size=(n_outliers_points,2))\n",
    "# make final data \n",
    "X=np.r_[data_points,data_points_with_outliers]\n",
    "print('Initial shape:',X.shape)\n",
    "print('Initial max:',X.max())\n",
    "print('Initial min:',X.min())"
   ]
  },
  {
   "cell_type": "markdown",
   "metadata": {
    "id": "TJA46DiGsXoy"
   },
   "source": [
    "## Add labels to data"
   ]
  },
  {
   "cell_type": "code",
   "execution_count": 5,
   "metadata": {
    "executionInfo": {
     "elapsed": 35,
     "status": "ok",
     "timestamp": 1643341208574,
     "user": {
      "displayName": "Clash Clans",
      "photoUrl": "https://lh3.googleusercontent.com/a/default-user=s64",
      "userId": "00562530571182710236"
     },
     "user_tz": -330
    },
    "id": "-4dXyzPduooa"
   },
   "outputs": [],
   "source": [
    "# labels / outliers label\n",
    "y=np.ones(len(X),dtype=int)\n",
    "y[-n_outliers_points:]=-1"
   ]
  },
  {
   "cell_type": "markdown",
   "metadata": {
    "id": "zDUYSsWHsbTn"
   },
   "source": [
    "## Make model - [sklearn.neighbors.LocalOutlierFactor](https://scikit-learn.org/stable/modules/generated/sklearn.neighbors.LocalOutlierFactor.html)"
   ]
  },
  {
   "cell_type": "code",
   "execution_count": 6,
   "metadata": {
    "executionInfo": {
     "elapsed": 36,
     "status": "ok",
     "timestamp": 1643341208576,
     "user": {
      "displayName": "Clash Clans",
      "photoUrl": "https://lh3.googleusercontent.com/a/default-user=s64",
      "userId": "00562530571182710236"
     },
     "user_tz": -330
    },
    "id": "ICdhImkWwwKR"
   },
   "outputs": [],
   "source": [
    "# load LOF \n",
    "from sklearn.neighbors import LocalOutlierFactor\n",
    "# make the model \n",
    "outliers_dectector_=LocalOutlierFactor(n_neighbors=20,contamination=0.1)\n",
    "# train detector and predict outputs / outliers \n",
    "y_predict=outliers_dectector_.fit_predict(X)"
   ]
  },
  {
   "cell_type": "code",
   "execution_count": 7,
   "metadata": {
    "colab": {
     "base_uri": "https://localhost:8080/"
    },
    "executionInfo": {
     "elapsed": 36,
     "status": "ok",
     "timestamp": 1643341208577,
     "user": {
      "displayName": "Clash Clans",
      "photoUrl": "https://lh3.googleusercontent.com/a/default-user=s64",
      "userId": "00562530571182710236"
     },
     "user_tz": -330
    },
    "id": "eb69_6M7xl9n",
    "outputId": "fd1828ce-fe84-4d52-dc5a-bfefcd3dfa54"
   },
   "outputs": [
    {
     "data": {
      "text/plain": [
       "24"
      ]
     },
     "execution_count": 7,
     "metadata": {},
     "output_type": "execute_result"
    }
   ],
   "source": [
    "# count number of error / wrong predictions \n",
    "(y_predict!=y).sum()"
   ]
  },
  {
   "cell_type": "code",
   "execution_count": 8,
   "metadata": {
    "colab": {
     "base_uri": "https://localhost:8080/"
    },
    "executionInfo": {
     "elapsed": 34,
     "status": "ok",
     "timestamp": 1643341208578,
     "user": {
      "displayName": "Clash Clans",
      "photoUrl": "https://lh3.googleusercontent.com/a/default-user=s64",
      "userId": "00562530571182710236"
     },
     "user_tz": -330
    },
    "id": "AF10YNOex8e0",
    "outputId": "41bbffcc-23b0-4541-dae2-8fd97ad24b9b"
   },
   "outputs": [
    {
     "data": {
      "text/plain": [
       "89.33"
      ]
     },
     "execution_count": 8,
     "metadata": {},
     "output_type": "execute_result"
    }
   ],
   "source": [
    "# accuracy (%)\n",
    "round((y_predict==y).sum()/len(y)*100,2)"
   ]
  },
  {
   "cell_type": "markdown",
   "metadata": {
    "id": "9kQ-FX8Ps6PQ"
   },
   "source": [
    "## Plot results "
   ]
  },
  {
   "cell_type": "code",
   "execution_count": 9,
   "metadata": {
    "colab": {
     "base_uri": "https://localhost:8080/"
    },
    "executionInfo": {
     "elapsed": 32,
     "status": "ok",
     "timestamp": 1643341208579,
     "user": {
      "displayName": "Clash Clans",
      "photoUrl": "https://lh3.googleusercontent.com/a/default-user=s64",
      "userId": "00562530571182710236"
     },
     "user_tz": -330
    },
    "id": "K_keFRmQ3yxb",
    "outputId": "f3a12cf7-e35a-46a9-c14f-a9be63ebb03d"
   },
   "outputs": [
    {
     "name": "stdout",
     "output_type": "stream",
     "text": [
      "Scores are in between: 1.0 and 0.0\n"
     ]
    }
   ],
   "source": [
    "# calculate model score for each point \n",
    "scores=outliers_dectector_.negative_outlier_factor_\n",
    "# noramlize the score (between 0 and 1)\n",
    "scores=(scores.max()-scores)/(scores.max()-scores.min())\n",
    "# print range of scores \n",
    "print('Scores are in between:',scores.max(),'and',scores.min())"
   ]
  },
  {
   "cell_type": "code",
   "execution_count": 10,
   "metadata": {
    "colab": {
     "base_uri": "https://localhost:8080/",
     "height": 612
    },
    "executionInfo": {
     "elapsed": 33,
     "status": "ok",
     "timestamp": 1643341208582,
     "user": {
      "displayName": "Clash Clans",
      "photoUrl": "https://lh3.googleusercontent.com/a/default-user=s64",
      "userId": "00562530571182710236"
     },
     "user_tz": -330
    },
    "id": "u9V6fg1UyIvn",
    "outputId": "af56b3bd-50d8-4ca3-8f80-816d29d79047"
   },
   "outputs": [
    {
     "data": {
      "image/png": "[encoded data removed]",
      "text/plain": [
       "<Figure size 1080x720 with 1 Axes>"
      ]
     },
     "metadata": {
      "needs_background": "light"
     },
     "output_type": "display_data"
    }
   ],
   "source": [
    "# make figure \n",
    "plt.figure(figsize=(15,10))\n",
    "# plot grid\n",
    "plt.grid()\n",
    "# make plot of data \n",
    "plt.scatter(X[y==1,0],X[y==1,1],label='Inliers',marker='.',color='green')\n",
    "plt.scatter(X[y==-1,0],X[y==-1,1],label='Outliers',marker='.',color='red')\n",
    "# plot data points scores \n",
    "plt.scatter(X[:,0],X[:,1],s=1000*scores,edgecolors='r',facecolors='none',\n",
    "            label='Outlier Score',alpha=0.4)\n",
    "plt.axis('tight'),plt.xlim((-5,5)),plt.ylim((-5,5)),plt.legend(),plt.axis()\n",
    "plt.show()"
   ]
  },
  {
   "cell_type": "markdown",
   "metadata": {
    "id": "jVsEkYSn9QoY"
   },
   "source": [
    "## Selecting threshold "
   ]
  },
  {
   "cell_type": "markdown",
   "metadata": {
    "id": "j_Rm8BfE_ZVS"
   },
   "source": [
    "### Graphical Method - Box n Whisker Plot "
   ]
  },
  {
   "cell_type": "code",
   "execution_count": 19,
   "metadata": {
    "colab": {
     "base_uri": "https://localhost:8080/",
     "height": 252
    },
    "executionInfo": {
     "elapsed": 1778,
     "status": "ok",
     "timestamp": 1643344798614,
     "user": {
      "displayName": "Clash Clans",
      "photoUrl": "https://lh3.googleusercontent.com/a/default-user=s64",
      "userId": "00562530571182710236"
     },
     "user_tz": -330
    },
    "id": "S93Np-zh93mw",
    "outputId": "7970f32f-997c-4325-e4bc-4a12f8b0acf9"
   },
   "outputs": [
    {
     "data": {
      "image/png": "[encoded data removed]",
      "text/plain": [
       "<Figure size 432x288 with 1 Axes>"
      ]
     },
     "metadata": {
      "needs_background": "light"
     },
     "output_type": "display_data"
    }
   ],
   "source": [
    "# Read here - https://en.wikipedia.org/wiki/Box_plot\n",
    "# make Box plot \n",
    "sns.boxplot(y=outliers_dectector_.negative_outlier_factor_);"
   ]
  },
  {
   "cell_type": "code",
   "execution_count": 22,
   "metadata": {
    "executionInfo": {
     "elapsed": 428,
     "status": "ok",
     "timestamp": 1643344841864,
     "user": {
      "displayName": "Clash Clans",
      "photoUrl": "https://lh3.googleusercontent.com/a/default-user=s64",
      "userId": "00562530571182710236"
     },
     "user_tz": -330
    },
    "id": "tIpyrD779wdW"
   },
   "outputs": [],
   "source": [
    "# scale values \n",
    "from sklearn.preprocessing import StandardScaler\n",
    "\n",
    "# get values \n",
    "factor_=outliers_dectector_.negative_outlier_factor_\n",
    "# make scaler object \n",
    "scaler_=StandardScaler()\n",
    "# fit and transform / make data scale \n",
    "factor_=scaler_.fit_transform(factor_.reshape(-1,1))"
   ]
  },
  {
   "cell_type": "code",
   "execution_count": 23,
   "metadata": {
    "colab": {
     "base_uri": "https://localhost:8080/",
     "height": 254
    },
    "executionInfo": {
     "elapsed": 26,
     "status": "ok",
     "timestamp": 1643344876785,
     "user": {
      "displayName": "Clash Clans",
      "photoUrl": "https://lh3.googleusercontent.com/a/default-user=s64",
      "userId": "00562530571182710236"
     },
     "user_tz": -330
    },
    "id": "I9eJf3Ue94zg",
    "outputId": "e08e27f2-938c-4edf-eb7f-059e69105b92"
   },
   "outputs": [
    {
     "data": {
      "image/png": "[encoded data removed]",
      "text/plain": [
       "<Figure size 432x288 with 1 Axes>"
      ]
     },
     "metadata": {
      "needs_background": "light"
     },
     "output_type": "display_data"
    }
   ],
   "source": [
    "# make Box plot (after scaling)\n",
    "sns.boxplot(y=factor_);"
   ]
  },
  {
   "cell_type": "markdown",
   "metadata": {
    "id": "z2VYz8mZ_byg"
   },
   "source": [
    "### Numerical Method "
   ]
  },
  {
   "cell_type": "code",
   "execution_count": 24,
   "metadata": {
    "colab": {
     "base_uri": "https://localhost:8080/",
     "height": 206
    },
    "executionInfo": {
     "elapsed": 418,
     "status": "ok",
     "timestamp": 1643345144622,
     "user": {
      "displayName": "Clash Clans",
      "photoUrl": "https://lh3.googleusercontent.com/a/default-user=s64",
      "userId": "00562530571182710236"
     },
     "user_tz": -330
    },
    "id": "px88YwYs_Mrt",
    "outputId": "a0200c6d-db25-406f-e056-a93421011c18"
   },
   "outputs": [
    {
     "data": {
      "text/html": [
       "\n",
       "  <div id=\"df-0a3969af-b021-454f-a9f7-7b3874e1353a\">\n",
       "    <div class=\"colab-df-container\">\n",
       "      <div>\n",
       "<style scoped>\n",
       "    .dataframe tbody tr th:only-of-type {\n",
       "        vertical-align: middle;\n",
       "    }\n",
       "\n",
       "    .dataframe tbody tr th {\n",
       "        vertical-align: top;\n",
       "    }\n",
       "\n",
       "    .dataframe thead th {\n",
       "        text-align: right;\n",
       "    }\n",
       "</style>\n",
       "<table border=\"1\" class=\"dataframe\">\n",
       "  <thead>\n",
       "    <tr style=\"text-align: right;\">\n",
       "      <th></th>\n",
       "      <th>factor</th>\n",
       "    </tr>\n",
       "  </thead>\n",
       "  <tbody>\n",
       "    <tr>\n",
       "      <th>0</th>\n",
       "      <td>-1.011058</td>\n",
       "    </tr>\n",
       "    <tr>\n",
       "      <th>1</th>\n",
       "      <td>-1.252660</td>\n",
       "    </tr>\n",
       "    <tr>\n",
       "      <th>2</th>\n",
       "      <td>-0.962436</td>\n",
       "    </tr>\n",
       "    <tr>\n",
       "      <th>3</th>\n",
       "      <td>-1.051571</td>\n",
       "    </tr>\n",
       "    <tr>\n",
       "      <th>4</th>\n",
       "      <td>-0.971579</td>\n",
       "    </tr>\n",
       "  </tbody>\n",
       "</table>\n",
       "</div>\n",
       "      <button class=\"colab-df-convert\" onclick=\"convertToInteractive('df-0a3969af-b021-454f-a9f7-7b3874e1353a')\"\n",
       "              title=\"Convert this dataframe to an interactive table.\"\n",
       "              style=\"display:none;\">\n",
       "        \n",
       "  <svg xmlns=\"http://www.w3.org/2000/svg\" height=\"24px\"viewBox=\"0 0 24 24\"\n",
       "       width=\"24px\">\n",
       "    <path d=\"M0 0h24v24H0V0z\" fill=\"none\"/>\n",
       "    <path d=\"M18.56 5.44l.94 2.06.94-2.06 2.06-.94-2.06-.94-.94-2.06-.94 2.06-2.06.94zm-11 1L8.5 8.5l.94-2.06 2.06-.94-2.06-.94L8.5 2.5l-.94 2.06-2.06.94zm10 10l.94 2.06.94-2.06 2.06-.94-2.06-.94-.94-2.06-.94 2.06-2.06.94z\"/><path d=\"M17.41 7.96l-1.37-1.37c-.4-.4-.92-.59-1.43-.59-.52 0-1.04.2-1.43.59L10.3 9.45l-7.72 7.72c-.78.78-.78 2.05 0 2.83L4 21.41c.39.39.9.59 1.41.59.51 0 1.02-.2 1.41-.59l7.78-7.78 2.81-2.81c.8-.78.8-2.07 0-2.86zM5.41 20L4 18.59l7.72-7.72 1.47 1.35L5.41 20z\"/>\n",
       "  </svg>\n",
       "      </button>\n",
       "      \n",
       "  <style>\n",
       "    .colab-df-container {\n",
       "      display:flex;\n",
       "      flex-wrap:wrap;\n",
       "      gap: 12px;\n",
       "    }\n",
       "\n",
       "    .colab-df-convert {\n",
       "      background-color: #E8F0FE;\n",
       "      border: none;\n",
       "      border-radius: 50%;\n",
       "      cursor: pointer;\n",
       "      display: none;\n",
       "      fill: #1967D2;\n",
       "      height: 32px;\n",
       "      padding: 0 0 0 0;\n",
       "      width: 32px;\n",
       "    }\n",
       "\n",
       "    .colab-df-convert:hover {\n",
       "      background-color: #E2EBFA;\n",
       "      box-shadow: 0px 1px 2px rgba(60, 64, 67, 0.3), 0px 1px 3px 1px rgba(60, 64, 67, 0.15);\n",
       "      fill: #174EA6;\n",
       "    }\n",
       "\n",
       "    [theme=dark] .colab-df-convert {\n",
       "      background-color: #3B4455;\n",
       "      fill: #D2E3FC;\n",
       "    }\n",
       "\n",
       "    [theme=dark] .colab-df-convert:hover {\n",
       "      background-color: #434B5C;\n",
       "      box-shadow: 0px 1px 3px 1px rgba(0, 0, 0, 0.15);\n",
       "      filter: drop-shadow(0px 1px 2px rgba(0, 0, 0, 0.3));\n",
       "      fill: #FFFFFF;\n",
       "    }\n",
       "  </style>\n",
       "\n",
       "      <script>\n",
       "        const buttonEl =\n",
       "          document.querySelector('#df-0a3969af-b021-454f-a9f7-7b3874e1353a button.colab-df-convert');\n",
       "        buttonEl.style.display =\n",
       "          google.colab.kernel.accessAllowed ? 'block' : 'none';\n",
       "\n",
       "        async function convertToInteractive(key) {\n",
       "          const element = document.querySelector('#df-0a3969af-b021-454f-a9f7-7b3874e1353a');\n",
       "          const dataTable =\n",
       "            await google.colab.kernel.invokeFunction('convertToInteractive',\n",
       "                                                     [key], {});\n",
       "          if (!dataTable) return;\n",
       "\n",
       "          const docLinkHtml = 'Like what you see? Visit the ' +\n",
       "            '<a target=\"_blank\" href=https://colab.research.google.com/notebooks/data_table.ipynb>data table notebook</a>'\n",
       "            + ' to learn more about interactive tables.';\n",
       "          element.innerHTML = '';\n",
       "          dataTable['output_type'] = 'display_data';\n",
       "          await google.colab.output.renderOutput(dataTable, element);\n",
       "          const docLink = document.createElement('div');\n",
       "          docLink.innerHTML = docLinkHtml;\n",
       "          element.appendChild(docLink);\n",
       "        }\n",
       "      </script>\n",
       "    </div>\n",
       "  </div>\n",
       "  "
      ],
      "text/plain": [
       "     factor\n",
       "0 -1.011058\n",
       "1 -1.252660\n",
       "2 -0.962436\n",
       "3 -1.051571\n",
       "4 -0.971579"
      ]
     },
     "execution_count": 24,
     "metadata": {},
     "output_type": "execute_result"
    }
   ],
   "source": [
    "# make pandas dataframe of the score \n",
    "factor_=pd.DataFrame(data=outliers_dectector_.negative_outlier_factor_,\n",
    "                     columns=['factor'])\n",
    "# see \n",
    "factor_.head()"
   ]
  },
  {
   "cell_type": "code",
   "execution_count": 25,
   "metadata": {
    "colab": {
     "base_uri": "https://localhost:8080/",
     "height": 300
    },
    "executionInfo": {
     "elapsed": 550,
     "status": "ok",
     "timestamp": 1643345170104,
     "user": {
      "displayName": "Clash Clans",
      "photoUrl": "https://lh3.googleusercontent.com/a/default-user=s64",
      "userId": "00562530571182710236"
     },
     "user_tz": -330
    },
    "id": "-aTFC0MmAObR",
    "outputId": "8347f82f-8a30-4e91-b1f0-546dbbccb6c4"
   },
   "outputs": [
    {
     "data": {
      "text/html": [
       "\n",
       "  <div id=\"df-42fab578-ae5d-415b-b013-9b5606e24839\">\n",
       "    <div class=\"colab-df-container\">\n",
       "      <div>\n",
       "<style scoped>\n",
       "    .dataframe tbody tr th:only-of-type {\n",
       "        vertical-align: middle;\n",
       "    }\n",
       "\n",
       "    .dataframe tbody tr th {\n",
       "        vertical-align: top;\n",
       "    }\n",
       "\n",
       "    .dataframe thead th {\n",
       "        text-align: right;\n",
       "    }\n",
       "</style>\n",
       "<table border=\"1\" class=\"dataframe\">\n",
       "  <thead>\n",
       "    <tr style=\"text-align: right;\">\n",
       "      <th></th>\n",
       "      <th>factor</th>\n",
       "    </tr>\n",
       "  </thead>\n",
       "  <tbody>\n",
       "    <tr>\n",
       "      <th>count</th>\n",
       "      <td>225.000000</td>\n",
       "    </tr>\n",
       "    <tr>\n",
       "      <th>mean</th>\n",
       "      <td>-1.146149</td>\n",
       "    </tr>\n",
       "    <tr>\n",
       "      <th>std</th>\n",
       "      <td>0.289230</td>\n",
       "    </tr>\n",
       "    <tr>\n",
       "      <th>min</th>\n",
       "      <td>-3.069238</td>\n",
       "    </tr>\n",
       "    <tr>\n",
       "      <th>25%</th>\n",
       "      <td>-1.169018</td>\n",
       "    </tr>\n",
       "    <tr>\n",
       "      <th>50%</th>\n",
       "      <td>-1.034157</td>\n",
       "    </tr>\n",
       "    <tr>\n",
       "      <th>75%</th>\n",
       "      <td>-0.985298</td>\n",
       "    </tr>\n",
       "    <tr>\n",
       "      <th>max</th>\n",
       "      <td>-0.930542</td>\n",
       "    </tr>\n",
       "  </tbody>\n",
       "</table>\n",
       "</div>\n",
       "      <button class=\"colab-df-convert\" onclick=\"convertToInteractive('df-42fab578-ae5d-415b-b013-9b5606e24839')\"\n",
       "              title=\"Convert this dataframe to an interactive table.\"\n",
       "              style=\"display:none;\">\n",
       "        \n",
       "  <svg xmlns=\"http://www.w3.org/2000/svg\" height=\"24px\"viewBox=\"0 0 24 24\"\n",
       "       width=\"24px\">\n",
       "    <path d=\"M0 0h24v24H0V0z\" fill=\"none\"/>\n",
       "    <path d=\"M18.56 5.44l.94 2.06.94-2.06 2.06-.94-2.06-.94-.94-2.06-.94 2.06-2.06.94zm-11 1L8.5 8.5l.94-2.06 2.06-.94-2.06-.94L8.5 2.5l-.94 2.06-2.06.94zm10 10l.94 2.06.94-2.06 2.06-.94-2.06-.94-.94-2.06-.94 2.06-2.06.94z\"/><path d=\"M17.41 7.96l-1.37-1.37c-.4-.4-.92-.59-1.43-.59-.52 0-1.04.2-1.43.59L10.3 9.45l-7.72 7.72c-.78.78-.78 2.05 0 2.83L4 21.41c.39.39.9.59 1.41.59.51 0 1.02-.2 1.41-.59l7.78-7.78 2.81-2.81c.8-.78.8-2.07 0-2.86zM5.41 20L4 18.59l7.72-7.72 1.47 1.35L5.41 20z\"/>\n",
       "  </svg>\n",
       "      </button>\n",
       "      \n",
       "  <style>\n",
       "    .colab-df-container {\n",
       "      display:flex;\n",
       "      flex-wrap:wrap;\n",
       "      gap: 12px;\n",
       "    }\n",
       "\n",
       "    .colab-df-convert {\n",
       "      background-color: #E8F0FE;\n",
       "      border: none;\n",
       "      border-radius: 50%;\n",
       "      cursor: pointer;\n",
       "      display: none;\n",
       "      fill: #1967D2;\n",
       "      height: 32px;\n",
       "      padding: 0 0 0 0;\n",
       "      width: 32px;\n",
       "    }\n",
       "\n",
       "    .colab-df-convert:hover {\n",
       "      background-color: #E2EBFA;\n",
       "      box-shadow: 0px 1px 2px rgba(60, 64, 67, 0.3), 0px 1px 3px 1px rgba(60, 64, 67, 0.15);\n",
       "      fill: #174EA6;\n",
       "    }\n",
       "\n",
       "    [theme=dark] .colab-df-convert {\n",
       "      background-color: #3B4455;\n",
       "      fill: #D2E3FC;\n",
       "    }\n",
       "\n",
       "    [theme=dark] .colab-df-convert:hover {\n",
       "      background-color: #434B5C;\n",
       "      box-shadow: 0px 1px 3px 1px rgba(0, 0, 0, 0.15);\n",
       "      filter: drop-shadow(0px 1px 2px rgba(0, 0, 0, 0.3));\n",
       "      fill: #FFFFFF;\n",
       "    }\n",
       "  </style>\n",
       "\n",
       "      <script>\n",
       "        const buttonEl =\n",
       "          document.querySelector('#df-42fab578-ae5d-415b-b013-9b5606e24839 button.colab-df-convert');\n",
       "        buttonEl.style.display =\n",
       "          google.colab.kernel.accessAllowed ? 'block' : 'none';\n",
       "\n",
       "        async function convertToInteractive(key) {\n",
       "          const element = document.querySelector('#df-42fab578-ae5d-415b-b013-9b5606e24839');\n",
       "          const dataTable =\n",
       "            await google.colab.kernel.invokeFunction('convertToInteractive',\n",
       "                                                     [key], {});\n",
       "          if (!dataTable) return;\n",
       "\n",
       "          const docLinkHtml = 'Like what you see? Visit the ' +\n",
       "            '<a target=\"_blank\" href=https://colab.research.google.com/notebooks/data_table.ipynb>data table notebook</a>'\n",
       "            + ' to learn more about interactive tables.';\n",
       "          element.innerHTML = '';\n",
       "          dataTable['output_type'] = 'display_data';\n",
       "          await google.colab.output.renderOutput(dataTable, element);\n",
       "          const docLink = document.createElement('div');\n",
       "          docLink.innerHTML = docLinkHtml;\n",
       "          element.appendChild(docLink);\n",
       "        }\n",
       "      </script>\n",
       "    </div>\n",
       "  </div>\n",
       "  "
      ],
      "text/plain": [
       "           factor\n",
       "count  225.000000\n",
       "mean    -1.146149\n",
       "std      0.289230\n",
       "min     -3.069238\n",
       "25%     -1.169018\n",
       "50%     -1.034157\n",
       "75%     -0.985298\n",
       "max     -0.930542"
      ]
     },
     "execution_count": 25,
     "metadata": {},
     "output_type": "execute_result"
    }
   ],
   "source": [
    "# get stats \n",
    "factor_.describe()"
   ]
  },
  {
   "cell_type": "code",
   "execution_count": 41,
   "metadata": {
    "executionInfo": {
     "elapsed": 426,
     "status": "ok",
     "timestamp": 1643345695117,
     "user": {
      "displayName": "Clash Clans",
      "photoUrl": "https://lh3.googleusercontent.com/a/default-user=s64",
      "userId": "00562530571182710236"
     },
     "user_tz": -330
    },
    "id": "htyXpJO3AUnm"
   },
   "outputs": [],
   "source": [
    "# set threshold value / range \n",
    "threshold_range=factor_.describe().T[['25%','75%']].values[0]\n",
    "# apply threshold range\n",
    "selected_indexs=factor_[(factor_>threshold_range[0])].dropna()[factor_<threshold_range[1]].dropna().index"
   ]
  },
  {
   "cell_type": "code",
   "execution_count": 42,
   "metadata": {
    "colab": {
     "base_uri": "https://localhost:8080/",
     "height": 252
    },
    "executionInfo": {
     "elapsed": 752,
     "status": "ok",
     "timestamp": 1643345750631,
     "user": {
      "displayName": "Clash Clans",
      "photoUrl": "https://lh3.googleusercontent.com/a/default-user=s64",
      "userId": "00562530571182710236"
     },
     "user_tz": -330
    },
    "id": "nS0YRp38BcVu",
    "outputId": "ebf2932d-8f26-443a-ed71-6200e35cbfed"
   },
   "outputs": [
    {
     "data": {
      "image/png": "[encoded data removed]",
      "text/plain": [
       "<Figure size 432x288 with 1 Axes>"
      ]
     },
     "metadata": {
      "needs_background": "light"
     },
     "output_type": "display_data"
    }
   ],
   "source": [
    "# make Box plot (apply filtering)\n",
    "sns.boxplot(y=outliers_dectector_.negative_outlier_factor_[selected_indexs]);"
   ]
  },
  {
   "cell_type": "code",
   "execution_count": 46,
   "metadata": {
    "executionInfo": {
     "elapsed": 419,
     "status": "ok",
     "timestamp": 1643346408531,
     "user": {
      "displayName": "Clash Clans",
      "photoUrl": "https://lh3.googleusercontent.com/a/default-user=s64",
      "userId": "00562530571182710236"
     },
     "user_tz": -330
    },
    "id": "GeWoSXrZDznQ"
   },
   "outputs": [],
   "source": [
    "# IQR \n",
    "IQR=threshold_range[1]-threshold_range[0]\n",
    "# 0-Q and 4th-Q\n",
    "# 0Q = 1Q - 1.5*IQR \n",
    "Q0=threshold_range[0]-1.5*IQR\n",
    "# 4Q = 3Q + 1.5*IQR \n",
    "Q4=threshold_range[1]+1.5*IQR\n",
    "# set extreme threshold value / range\n",
    "xthreshold_range=[Q0,Q4]\n",
    "# apply threshold range\n",
    "selected_x_indexs=factor_[(factor_>xthreshold_range[0])].dropna()[factor_<xthreshold_range[1]].dropna().index"
   ]
  },
  {
   "cell_type": "code",
   "execution_count": 47,
   "metadata": {
    "colab": {
     "base_uri": "https://localhost:8080/",
     "height": 252
    },
    "executionInfo": {
     "elapsed": 480,
     "status": "ok",
     "timestamp": 1643346440486,
     "user": {
      "displayName": "Clash Clans",
      "photoUrl": "https://lh3.googleusercontent.com/a/default-user=s64",
      "userId": "00562530571182710236"
     },
     "user_tz": -330
    },
    "id": "dqo7MYAUBgjC",
    "outputId": "cdfc4165-4ed8-48f5-be34-8e9e4b0f7ca4"
   },
   "outputs": [
    {
     "data": {
      "image/png": "[encoded data removed]",
      "text/plain": [
       "<Figure size 432x288 with 1 Axes>"
      ]
     },
     "metadata": {
      "needs_background": "light"
     },
     "output_type": "display_data"
    }
   ],
   "source": [
    "# make Box plot (apply extreme filtering)\n",
    "sns.boxplot(y=outliers_dectector_.negative_outlier_factor_[selected_x_indexs]);"
   ]
  }
 ],
 "metadata": {
  "colab": {
   "authorship_tag": "ABX9TyMjx12D1KRWl2THzVDoSXzJ",
   "collapsed_sections": [],
   "name": "day_1_january_28_2022_LOF.ipynb",
   "provenance": []
  },
  "kernelspec": {
   "display_name": "Python 3",
   "name": "python3"
  },
  "language_info": {
   "name": "python"
  }
 },
 "nbformat": 4,
 "nbformat_minor": 0
}
